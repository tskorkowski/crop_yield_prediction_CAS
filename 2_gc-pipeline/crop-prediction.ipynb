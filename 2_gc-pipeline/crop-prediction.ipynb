{
 "cells": [
  {
   "cell_type": "code",
   "execution_count": 1,
   "id": "ce6e11ec-c8a5-4339-b4ce-046e98c07e35",
   "metadata": {
    "tags": []
   },
   "outputs": [
    {
     "name": "stdout",
     "output_type": "stream",
     "text": [
      "\u001b[33m  WARNING: Failed to remove contents in a temporary directory '/opt/conda/lib/python3.10/site-packages/~rapt'.\n",
      "  You can safely remove it manually.\u001b[0m\u001b[33m\n",
      "\u001b[0m\u001b[33m  WARNING: Failed to remove contents in a temporary directory '/opt/conda/lib/python3.10/site-packages/~achetools'.\n",
      "  You can safely remove it manually.\u001b[0m\u001b[33m\n",
      "\u001b[0m\u001b[31mERROR: pip's dependency resolver does not currently take into account all the packages that are installed. This behaviour is the source of the following dependency conflicts.\n",
      "cloud-tpu-client 0.10 requires google-api-python-client==1.8.0, but you have google-api-python-client 2.123.0 which is incompatible.\u001b[0m\u001b[31m\n",
      "\u001b[0m"
     ]
    }
   ],
   "source": [
    "# Setup\n",
    "!pip install --quiet --upgrade pip\n",
    "\n",
    "# Install the dependencies.\n",
    "!pip install --quiet -r requirements.txt\n",
    "\n",
    "# Restart the runtime by ending the process.\n",
    "exit()"
   ]
  },
  {
   "cell_type": "code",
   "execution_count": null,
   "id": "fcc5e229-897d-4feb-b640-8d95b6f06081",
   "metadata": {},
   "outputs": [],
   "source": [
    "from __future__ import annotations\n",
    "import os\n",
    "\n",
    "import ee\n",
    "import google.auth\n",
    "\n",
    "import folium\n",
    "from serving import data"
   ]
  },
  {
   "cell_type": "code",
   "execution_count": 2,
   "id": "0cc3b78b-755c-416b-96bc-5da4a67c5098",
   "metadata": {
    "tags": []
   },
   "outputs": [
    {
     "name": "stdout",
     "output_type": "stream",
     "text": [
      "Updated property [core/project].\n"
     ]
    }
   ],
   "source": [
    "# Google cloud parameters\n",
    "project = \"supple-nature-370421\"  # @param {type:\"string\"}\n",
    "bucket = \"vgnn\"  # @param {type:\"string\"}\n",
    "location = \"us-west2-a\"  # @param {type:\"string\"}\n",
    "\n",
    "# Quick input validations.\n",
    "assert project, \"⚠️ Please provide a Google Cloud project ID\"\n",
    "assert bucket, \"⚠️ Please provide a Cloud Storage bucket name\"\n",
    "assert not bucket.startswith(\n",
    "    \"gs://\"\n",
    "), f\"⚠️ Please remove the gs:// prefix from the bucket name: {bucket}\"\n",
    "assert location, \"⚠️ Please provide a Google Cloud location\"\n",
    "\n",
    "# Set GOOGLE_CLOUD_PROJECT for google.auth.default().\n",
    "os.environ[\"GOOGLE_CLOUD_PROJECT\"] = project\n",
    "\n",
    "# Set the gcloud project for other gcloud commands.\n",
    "!gcloud config set project {project}\n",
    "\n",
    "# Initialise goofle earth engine\n",
    "credentials, _ = google.auth.default()\n",
    "ee.Initialize(\n",
    "    credentials.with_quota_project(None),\n",
    "    project=project,\n",
    "    opt_url=\"https://earthengine-highvolume.googleapis.com\",\n",
    ")"
   ]
  },
  {
   "cell_type": "code",
   "execution_count": 4,
   "id": "96112d3a-de96-4414-ac3d-1449f6bdbfad",
   "metadata": {
    "tags": []
   },
   "outputs": [],
   "source": [
    "#CONSTANTS\n",
    "YEAR_START=2017\n",
    "YEAR_END=2023\n",
    "\n",
    "SEASON_START=5\n",
    "SEASON_END=10\n",
    "\n",
    "CROP=1 #Corn"
   ]
  },
  {
   "cell_type": "code",
   "execution_count": null,
   "id": "2c383a23-54e1-4b5f-9f84-bc223064dbb4",
   "metadata": {},
   "outputs": [],
   "source": [
    "# Sample data from gee \n",
    "# random county, corn crop \n",
    "\n",
    "image = data.get_input_image(2020)\n",
    "\n",
    "vis_params = {\n",
    "    \"min\": 0,\n",
    "    \"max\": 3000,\n",
    "    \"bands\": [\"B4\", \"B3\", \"B2\"],\n",
    "}\n",
    "folium.Map(\n",
    "    location=(30.95, -110.29),\n",
    "    zoom_start=13,\n",
    "    tiles=image.getMapId(vis_params)[\"tile_fetcher\"].url_format,\n",
    "    attr='Map Data &copy; <a href=\"https://earthengine.google.com/\">Google Earth Engine</a>',\n",
    ")"
   ]
  }
 ],
 "metadata": {
  "environment": {
   "kernel": "conda-base-py",
   "name": "workbench-notebooks.m125",
   "type": "gcloud",
   "uri": "us-docker.pkg.dev/deeplearning-platform-release/gcr.io/workbench-notebooks:m125"
  },
  "kernelspec": {
   "display_name": "Python 3 (ipykernel) (Local)",
   "language": "python",
   "name": "conda-base-py"
  },
  "language_info": {
   "codemirror_mode": {
    "name": "ipython",
    "version": 3
   },
   "file_extension": ".py",
   "mimetype": "text/x-python",
   "name": "python",
   "nbconvert_exporter": "python",
   "pygments_lexer": "ipython3",
   "version": "3.10.15"
  }
 },
 "nbformat": 4,
 "nbformat_minor": 5
}
