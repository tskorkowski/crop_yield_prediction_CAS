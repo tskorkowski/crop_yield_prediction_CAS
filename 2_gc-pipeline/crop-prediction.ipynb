{
 "cells": [
  {
   "cell_type": "code",
   "execution_count": 3,
   "id": "ce6e11ec-c8a5-4339-b4ce-046e98c07e35",
   "metadata": {
    "tags": []
   },
   "outputs": [],
   "source": [
    "# Setup\n",
    "!pip install --quiet --upgrade pip\n",
    "\n",
    "# Install the dependencies.\n",
    "!pip install --quiet -r requirements.txt\n",
    "\n",
    "# Restart the runtime by ending the process.\n",
    "exit()"
   ]
  },
  {
   "cell_type": "code",
   "execution_count": 1,
   "id": "fcc5e229-897d-4feb-b640-8d95b6f06081",
   "metadata": {},
   "outputs": [],
   "source": [
    "from __future__ import annotations\n",
    "import os\n",
    "\n",
    "import ee\n",
    "import google.auth\n",
    "\n",
    "import folium\n",
    "from serving import data\n",
    "import json\n",
    "from branca.element import Figure\n",
    "from folium import plugins\n",
    "import sys\n",
    "from importlib import reload\n",
    "from serving.data import get_input_image_ee, get_varied_labels\n",
    "from serving.constants import  BUCKET, PROJECT, CROP, SCALE, IMAGE_BATCH\n",
    "import apache_beam as beam\n",
    "from apache_beam.options.pipeline_options import PipelineOptions\n",
    "import pandas as pd\n",
    "from concurrent.futures import ThreadPoolExecutor, as_completed\n",
    "from google.cloud import storage\n",
    "import logging\n",
    "import randomname"
   ]
  },
  {
   "cell_type": "code",
   "execution_count": 2,
   "id": "46671482-ebb1-41b5-b6f9-66f6469fa50e",
   "metadata": {
    "tags": []
   },
   "outputs": [],
   "source": [
    "current_dir = os.getcwd()\n",
    "sys.path.append(current_dir+'/serving')\n",
    "logging.basicConfig(filename=f\"image_processing.log\", level=logging.INFO, format='%(asctime)s - %(levelname)s - %(message)s')"
   ]
  },
  {
   "cell_type": "code",
   "execution_count": 3,
   "id": "0cc3b78b-755c-416b-96bc-5da4a67c5098",
   "metadata": {
    "tags": []
   },
   "outputs": [
    {
     "name": "stdout",
     "output_type": "stream",
     "text": [
      "Updated property [core/project].\n"
     ]
    }
   ],
   "source": [
    "# Google cloud parameters\n",
    "project = PROJECT\n",
    "bucket = BUCKET\n",
    "location = \"us-west2-a\"  # @param {type:\"string\"}\n",
    "\n",
    "# Quick input validations.\n",
    "assert project, \"⚠️ Please provide a Google Cloud project ID\"\n",
    "assert bucket, \"⚠️ Please provide a Cloud Storage bucket name\"\n",
    "assert not bucket.startswith(\n",
    "    \"gs://\"\n",
    "), f\"⚠️ Please remove the gs:// prefix from the bucket name: {bucket}\"\n",
    "assert location, \"⚠️ Please provide a Google Cloud location\"\n",
    "\n",
    "# Set GOOGLE_CLOUD_PROJECT for google.auth.default().\n",
    "os.environ[\"GOOGLE_CLOUD_PROJECT\"] = project\n",
    "\n",
    "# Set the gcloud project for other gcloud commands.\n",
    "!gcloud config set project {project}\n",
    "\n",
    "# Initialise goofle earth engine\n",
    "credentials, _ = google.auth.default()\n",
    "ee.Initialize(\n",
    "    credentials.with_quota_project(None),\n",
    "    project=project,\n",
    "    opt_url=\"https://earthengine-highvolume.googleapis.com\",\n",
    ")"
   ]
  },
  {
   "cell_type": "code",
   "execution_count": 4,
   "id": "96112d3a-de96-4414-ac3d-1449f6bdbfad",
   "metadata": {
    "tags": []
   },
   "outputs": [],
   "source": [
    "#CONSTANTS\n",
    "YEAR_START=2017\n",
    "YEAR_END=2023\n",
    "\n",
    "SEASON_START=5\n",
    "SEASON_END=10\n",
    "\n",
    "CROP=1 #Corn\n",
    "\n",
    "# True vision params\n",
    "vis_params = {\n",
    "    \"min\": 0,\n",
    "    \"max\": 3000,\n",
    "    \"bands\": [\"B4\", \"B3\", \"B2\"],}\n",
    "\n",
    "vis_agro = {\n",
    "     \"min\": 225,\n",
    "    \"max\": 4000,\n",
    "    \"bands\": ['B11', 'B8', 'B3']}"
   ]
  },
  {
   "cell_type": "code",
   "execution_count": 4,
   "id": "f8fb3012-a8ec-4c6f-9a5d-d41772cdb669",
   "metadata": {
    "tags": []
   },
   "outputs": [],
   "source": [
    "reload(data)\n",
    "from serving.data import get_input_image_ee, get_varied_labels"
   ]
  },
  {
   "cell_type": "code",
   "execution_count": 64,
   "id": "5411fb5a-1cab-4917-8f4e-6b02455f4312",
   "metadata": {
    "tags": []
   },
   "outputs": [],
   "source": [
    "# Show sample filter\n",
    "\n",
    "start_year = 2016\n",
    "start_month = 5\n",
    "end_month = 8\n",
    "crop_type = 1 # Corn\n",
    "county = \"Jeff Davis\".capitalize()\n",
    "state_fips = \"13\"\n",
    "county_fips = \"161\"\n",
    "\n",
    "county_geom = (\n",
    "    ee.FeatureCollection(\"TIGER/2018/Counties\")\n",
    "    .filter(ee.Filter.eq(\"COUNTYFP\", \"161\"))\n",
    "    .filter(ee.Filter.eq(\"STATEFP\", state_fips))\n",
    ").geometry()\n",
    "\n",
    "coords = county_geom.centroid().coordinates().getInfo()\n",
    "\n",
    "s2_img_start = get_input_image_ee(county, county_fips, state_fips, crop_type, start_year, start_month)[\"image\"]\n",
    "s2_img_end = get_input_image_ee(county, county_fips, state_fips, crop_type, start_year, end_month)[\"image\"]\n"
   ]
  },
  {
   "cell_type": "code",
   "execution_count": 65,
   "id": "f1df8535-02b8-4ceb-b124-b854882c634a",
   "metadata": {
    "tags": []
   },
   "outputs": [
    {
     "data": {
      "text/html": [
       "<div style=\"width:100%;\"><div style=\"position:relative;width:100%;height:0;padding-bottom:60%;\"><span style=\"color:#565656\">Make this Notebook Trusted to load map: File -> Trust Notebook</span><iframe srcdoc=\"&lt;!DOCTYPE html&gt;\n",
       "&lt;html&gt;\n",
       "&lt;head&gt;\n",
       "    \n",
       "    &lt;meta http-equiv=&quot;content-type&quot; content=&quot;text/html; charset=UTF-8&quot; /&gt;\n",
       "    \n",
       "        &lt;script&gt;\n",
       "            L_NO_TOUCH = false;\n",
       "            L_DISABLE_3D = false;\n",
       "        &lt;/script&gt;\n",
       "    \n",
       "    &lt;style&gt;html, body {width: 100%;height: 100%;margin: 0;padding: 0;}&lt;/style&gt;\n",
       "    &lt;style&gt;#map {position:absolute;top:0;bottom:0;right:0;left:0;}&lt;/style&gt;\n",
       "    &lt;script src=&quot;https://cdn.jsdelivr.net/npm/leaflet@1.9.3/dist/leaflet.js&quot;&gt;&lt;/script&gt;\n",
       "    &lt;script src=&quot;https://code.jquery.com/jquery-3.7.1.min.js&quot;&gt;&lt;/script&gt;\n",
       "    &lt;script src=&quot;https://cdn.jsdelivr.net/npm/bootstrap@5.2.2/dist/js/bootstrap.bundle.min.js&quot;&gt;&lt;/script&gt;\n",
       "    &lt;script src=&quot;https://cdnjs.cloudflare.com/ajax/libs/Leaflet.awesome-markers/2.0.2/leaflet.awesome-markers.js&quot;&gt;&lt;/script&gt;\n",
       "    &lt;link rel=&quot;stylesheet&quot; href=&quot;https://cdn.jsdelivr.net/npm/leaflet@1.9.3/dist/leaflet.css&quot;/&gt;\n",
       "    &lt;link rel=&quot;stylesheet&quot; href=&quot;https://cdn.jsdelivr.net/npm/bootstrap@5.2.2/dist/css/bootstrap.min.css&quot;/&gt;\n",
       "    &lt;link rel=&quot;stylesheet&quot; href=&quot;https://netdna.bootstrapcdn.com/bootstrap/3.0.0/css/bootstrap.min.css&quot;/&gt;\n",
       "    &lt;link rel=&quot;stylesheet&quot; href=&quot;https://cdn.jsdelivr.net/npm/@fortawesome/fontawesome-free@6.2.0/css/all.min.css&quot;/&gt;\n",
       "    &lt;link rel=&quot;stylesheet&quot; href=&quot;https://cdnjs.cloudflare.com/ajax/libs/Leaflet.awesome-markers/2.0.2/leaflet.awesome-markers.css&quot;/&gt;\n",
       "    &lt;link rel=&quot;stylesheet&quot; href=&quot;https://cdn.jsdelivr.net/gh/python-visualization/folium/folium/templates/leaflet.awesome.rotate.min.css&quot;/&gt;\n",
       "    \n",
       "            &lt;meta name=&quot;viewport&quot; content=&quot;width=device-width,\n",
       "                initial-scale=1.0, maximum-scale=1.0, user-scalable=no&quot; /&gt;\n",
       "            &lt;style&gt;\n",
       "                #map_1282bbe84ad8a2a13c30105f9ef7e715 {\n",
       "                    position: relative;\n",
       "                    width: 100.0%;\n",
       "                    height: 100.0%;\n",
       "                    left: 0.0%;\n",
       "                    top: 0.0%;\n",
       "                }\n",
       "                .leaflet-container { font-size: 1rem; }\n",
       "            &lt;/style&gt;\n",
       "        \n",
       "    &lt;script src=&quot;https://cdn.jsdelivr.net/gh/digidem/leaflet-side-by-side@2.0.0/leaflet-side-by-side.min.js&quot;&gt;&lt;/script&gt;\n",
       "&lt;/head&gt;\n",
       "&lt;body&gt;\n",
       "    \n",
       "    \n",
       "            &lt;div class=&quot;folium-map&quot; id=&quot;map_1282bbe84ad8a2a13c30105f9ef7e715&quot; &gt;&lt;/div&gt;\n",
       "        \n",
       "&lt;/body&gt;\n",
       "&lt;script&gt;\n",
       "    \n",
       "    \n",
       "            var map_1282bbe84ad8a2a13c30105f9ef7e715 = L.map(\n",
       "                &quot;map_1282bbe84ad8a2a13c30105f9ef7e715&quot;,\n",
       "                {\n",
       "                    center: [31.805571496291158, -82.63702672212067],\n",
       "                    crs: L.CRS.EPSG3857,\n",
       "                    zoom: 10,\n",
       "                    zoomControl: true,\n",
       "                    preferCanvas: false,\n",
       "                }\n",
       "            );\n",
       "\n",
       "            \n",
       "\n",
       "        \n",
       "    \n",
       "            var tile_layer_4d3f4a9d7ab3e82de112b47e7d9a0c90 = L.tileLayer(\n",
       "                &quot;https://tile.openstreetmap.org/{z}/{x}/{y}.png&quot;,\n",
       "                {&quot;attribution&quot;: &quot;\\u0026copy; \\u003ca href=\\&quot;https://www.openstreetmap.org/copyright\\&quot;\\u003eOpenStreetMap\\u003c/a\\u003e contributors&quot;, &quot;detectRetina&quot;: false, &quot;maxNativeZoom&quot;: 19, &quot;maxZoom&quot;: 19, &quot;minZoom&quot;: 0, &quot;noWrap&quot;: false, &quot;opacity&quot;: 1, &quot;subdomains&quot;: &quot;abc&quot;, &quot;tms&quot;: false}\n",
       "            );\n",
       "        \n",
       "    \n",
       "            tile_layer_4d3f4a9d7ab3e82de112b47e7d9a0c90.addTo(map_1282bbe84ad8a2a13c30105f9ef7e715);\n",
       "        \n",
       "    \n",
       "            var tile_layer_8b9ce63e2f07bce32419c2ba8ca15c63 = L.tileLayer(\n",
       "                &quot;https://earthengine-highvolume.googleapis.com/v1/projects/supple-nature-370421/maps/ca485d34cf1224a242b1688015a50d7c-9fdea24c686ab66bb1d194d77170fc4f/tiles/{z}/{x}/{y}&quot;,\n",
       "                {&quot;attribution&quot;: &quot;Map Data \\u0026copy; \\u003ca href=\\&quot;https://earthengine.google.com/\\&quot;\\u003eGoogle Earth Engine\\u003c/a\\u003e&quot;, &quot;detectRetina&quot;: false, &quot;maxNativeZoom&quot;: 18, &quot;maxZoom&quot;: 18, &quot;minZoom&quot;: 0, &quot;noWrap&quot;: false, &quot;opacity&quot;: 1, &quot;subdomains&quot;: &quot;abc&quot;, &quot;tms&quot;: false}\n",
       "            );\n",
       "        \n",
       "    \n",
       "            tile_layer_8b9ce63e2f07bce32419c2ba8ca15c63.addTo(map_1282bbe84ad8a2a13c30105f9ef7e715);\n",
       "        \n",
       "    \n",
       "            var tile_layer_3fc58aa346d7380c53c2525426d41924 = L.tileLayer(\n",
       "                &quot;https://earthengine-highvolume.googleapis.com/v1/projects/supple-nature-370421/maps/707115a3d9f0cf10f6bb59392da399b9-25f20eac143a09921f411ee327b40d51/tiles/{z}/{x}/{y}&quot;,\n",
       "                {&quot;attribution&quot;: &quot;Map Data \\u0026copy; \\u003ca href=\\&quot;https://earthengine.google.com/\\&quot;\\u003eGoogle Earth Engine\\u003c/a\\u003e&quot;, &quot;detectRetina&quot;: false, &quot;maxNativeZoom&quot;: 18, &quot;maxZoom&quot;: 18, &quot;minZoom&quot;: 0, &quot;noWrap&quot;: false, &quot;opacity&quot;: 1, &quot;subdomains&quot;: &quot;abc&quot;, &quot;tms&quot;: false}\n",
       "            );\n",
       "        \n",
       "    \n",
       "            tile_layer_3fc58aa346d7380c53c2525426d41924.addTo(map_1282bbe84ad8a2a13c30105f9ef7e715);\n",
       "        \n",
       "    \n",
       "            var side_by_side_layers_4eb90bb6aec93c79847b07a9446e4136 = L.control.sideBySide(\n",
       "                tile_layer_8b9ce63e2f07bce32419c2ba8ca15c63, tile_layer_3fc58aa346d7380c53c2525426d41924\n",
       "            ).addTo(map_1282bbe84ad8a2a13c30105f9ef7e715);\n",
       "        \n",
       "&lt;/script&gt;\n",
       "&lt;/html&gt;\" style=\"position:absolute;width:100%;height:100%;left:0;top:0;border:none !important;\" allowfullscreen webkitallowfullscreen mozallowfullscreen></iframe></div></div>"
      ],
      "text/plain": [
       "<folium.folium.Map at 0x7facff9ab580>"
      ]
     },
     "execution_count": 65,
     "metadata": {},
     "output_type": "execute_result"
    }
   ],
   "source": [
    "# Create the map\n",
    "m1 = folium.Map(coords[::-1])\n",
    "\n",
    "# Add the CDL layer\n",
    "layer_left = folium.TileLayer(\n",
    "    tiles=s2_img_start.getMapId(vis_agro)[\"tile_fetcher\"].url_format,\n",
    "    attr='Map Data &copy; <a href=\"https://earthengine.google.com/\">Google Earth Engine</a>',\n",
    "    name='Cropland Data Layer',\n",
    "    overlay=True,\n",
    "    control=True\n",
    ")\n",
    "\n",
    "layer_right = folium.TileLayer(\n",
    "    tiles=s2_img_end.getMapId(vis_agro)[\"tile_fetcher\"].url_format,\n",
    "    attr='Map Data &copy; <a href=\"https://earthengine.google.com/\">Google Earth Engine</a>',\n",
    "    name='Cropland Data Layer',\n",
    "    overlay=True,\n",
    "    control=True,\n",
    ")\n",
    "\n",
    "sbs = plugins.SideBySideLayers(layer_left=layer_left, layer_right=layer_right)\n",
    "\n",
    "layer_left.add_to(m1)\n",
    "layer_right.add_to(m1)\n",
    "sbs.add_to(m1)    \n",
    "\n",
    "# Display the map\n",
    "m1"
   ]
  },
  {
   "cell_type": "code",
   "execution_count": 7,
   "id": "e0cb7290-d76d-41eb-8a67-91e7fdd6e3f4",
   "metadata": {
    "tags": []
   },
   "outputs": [
    {
     "data": {
      "text/plain": [
       "'\\nChanges in crops can be observable in the satellite images. Once can hope that the colour saturation and temporal change would hold predictive power\\n'"
      ]
     },
     "execution_count": 7,
     "metadata": {},
     "output_type": "execute_result"
    }
   ],
   "source": [
    "\"\"\"\n",
    "Changes in crops can be observable in the satellite images. Once can hope that the colour saturation and temporal change would hold predictive power\n",
    "\"\"\""
   ]
  },
  {
   "cell_type": "code",
   "execution_count": null,
   "id": "45c4a748-c615-4ac4-8590-12d6e76738ac",
   "metadata": {},
   "outputs": [],
   "source": [
    "# DATA RETRIVAL"
   ]
  },
  {
   "cell_type": "code",
   "execution_count": 5,
   "id": "98c4c633-bbde-4d55-afcf-7ca85ad1986a",
   "metadata": {
    "tags": []
   },
   "outputs": [
    {
     "name": "stdout",
     "output_type": "stream",
     "text": [
      "Number of items to process: 2616\n"
     ]
    }
   ],
   "source": [
    "def check_blob_prefix_exists(bucket_name, prefix):\n",
    "    storage_client = storage.Client()\n",
    "    bucket = storage_client.bucket(bucket_name)\n",
    "    \n",
    "    blobs = bucket.list_blobs(prefix=prefix, max_results=1)\n",
    "    return any(blobs)\n",
    "\n",
    "def batch_check_blobs(bucket_name, prefixes):\n",
    "    with ThreadPoolExecutor(max_workers=10) as executor:\n",
    "        future_to_prefix = {executor.submit(check_blob_prefix_exists, bucket_name, prefix): prefix for prefix in prefixes}\n",
    "        results = {}\n",
    "        for future in as_completed(future_to_prefix):\n",
    "            prefix = future_to_prefix[future]\n",
    "            results[prefix] = future.result()\n",
    "    return results\n",
    "\n",
    "# Generate all prefixes\n",
    "bucket_name = bucket\n",
    "labels_df = get_varied_labels(IMAGE_BATCH)\n",
    "labels = list(zip(labels_df[\"county_name\"],\n",
    "                  labels_df[\"county_ansi\"],\n",
    "             labels_df[\"state_ansi\"],\n",
    "             labels_df[\"year\"]))\n",
    "months = [5,7,9]\n",
    "\n",
    "prefixes = [f'images/{SCALE}/{county.capitalize()}_{fips}/{year}/{month}-{month+1}' \n",
    "            for county,_, fips, year in labels\n",
    "            for month in months]\n",
    "\n",
    "# Batch check all prefixes\n",
    "results = batch_check_blobs(bucket_name, prefixes)\n",
    "\n",
    "# Generate get_input_img_params based on results\n",
    "get_input_img_params = [\n",
    "    {\"county\": county.capitalize(), \"county_fips\": county_fips, \"state_fips\": fips, \"crop\": CROP, \"year\": year, \"month\": month}\n",
    "            for county, county_fips, fips, year in labels\n",
    "            for month in months\n",
    "            if not results[f'images/{SCALE}/{county.capitalize()}_{fips}/{year}/{month}-{month+1}']\n",
    "]\n",
    "\n",
    "print(f\"Number of items to process: {len(get_input_img_params)}\")"
   ]
  },
  {
   "cell_type": "code",
   "execution_count": 6,
   "id": "dd53d183-d2ae-483d-84d2-0c3b4009038b",
   "metadata": {
    "tags": []
   },
   "outputs": [
    {
     "data": {
      "text/plain": [
       "[{'county': 'Genesee',\n",
       "  'county_fips': '037',\n",
       "  'state_fips': '36',\n",
       "  'crop': 1,\n",
       "  'year': 2016,\n",
       "  'month': 5},\n",
       " {'county': 'Genesee',\n",
       "  'county_fips': '037',\n",
       "  'state_fips': '36',\n",
       "  'crop': 1,\n",
       "  'year': 2016,\n",
       "  'month': 7},\n",
       " {'county': 'Genesee',\n",
       "  'county_fips': '037',\n",
       "  'state_fips': '36',\n",
       "  'crop': 1,\n",
       "  'year': 2016,\n",
       "  'month': 9},\n",
       " {'county': 'Genesee',\n",
       "  'county_fips': '037',\n",
       "  'state_fips': '36',\n",
       "  'crop': 1,\n",
       "  'year': 2017,\n",
       "  'month': 5},\n",
       " {'county': 'Genesee',\n",
       "  'county_fips': '037',\n",
       "  'state_fips': '36',\n",
       "  'crop': 1,\n",
       "  'year': 2017,\n",
       "  'month': 7}]"
      ]
     },
     "execution_count": 6,
     "metadata": {},
     "output_type": "execute_result"
    }
   ],
   "source": [
    "get_input_img_params_small = get_input_img_params[0:1000]\n",
    "get_input_img_params_small[:5]"
   ]
  },
  {
   "cell_type": "code",
   "execution_count": 7,
   "id": "33e441a8-e00a-4d7b-a176-f7a096ae1ffe",
   "metadata": {
    "tags": []
   },
   "outputs": [],
   "source": [
    "job_name = randomname.get_name(adj=('weather',), noun=('food'))\n",
    "\n",
    "def export_img(image:ee.Image, image_name: str, county_geom: ee.geometry):\n",
    "    \n",
    "    image_name = f\"{SCALE}/\" + image_name\n",
    "    img_task = ee.batch.Export.image.toCloudStorage(\n",
    "    image=image,\n",
    "    description=image_name.replace(\"/\",\"-\"),\n",
    "    bucket=bucket,\n",
    "    fileNamePrefix=f\"images/{image_name}\",\n",
    "    scale=SCALE,\n",
    "    region=county_geom,\n",
    "    fileDimensions = 4*2048,\n",
    "    skipEmptyTiles = True,\n",
    "    fileFormat = \"GeoTIFF\",\n",
    "    maxPixels = 1e9\n",
    "    )\n",
    "\n",
    "    img_task.start()\n",
    "    logging.info(f\"{job_name}: Export task started for: {image_name}\")\n",
    "\n",
    "def apply_get_input_image(params):\n",
    "    \n",
    "    return get_input_image_ee(**params)\n",
    "\n",
    "def unpack_for_export(list_input):\n",
    "    county, state_fips = list_input[\"image_name\"].split(\"/\")[0].split(\"_\")\n",
    "    county_geom = (\n",
    "    ee.FeatureCollection(\"TIGER/2018/Counties\")\n",
    "        .filter(ee.Filter.eq(\"NAME\", county.capitalize()))\n",
    "        .filter(ee.Filter.eq(\"STATEFP\", state_fips))\n",
    "        ).geometry()\n",
    "    return export_img(list_input[\"image\"], list_input[\"image_name\"], county_geom)"
   ]
  },
  {
   "cell_type": "code",
   "execution_count": null,
   "id": "7e0ae4b6-7d48-48ea-a460-e388bcdb5d1d",
   "metadata": {
    "tags": []
   },
   "outputs": [
    {
     "data": {
      "application/javascript": [
       "\n",
       "        if (typeof window.interactive_beam_jquery == 'undefined') {\n",
       "          var jqueryScript = document.createElement('script');\n",
       "          jqueryScript.src = 'https://code.jquery.com/jquery-3.4.1.slim.min.js';\n",
       "          jqueryScript.type = 'text/javascript';\n",
       "          jqueryScript.onload = function() {\n",
       "            var datatableScript = document.createElement('script');\n",
       "            datatableScript.src = 'https://cdn.datatables.net/1.10.20/js/jquery.dataTables.min.js';\n",
       "            datatableScript.type = 'text/javascript';\n",
       "            datatableScript.onload = function() {\n",
       "              window.interactive_beam_jquery = jQuery.noConflict(true);\n",
       "              window.interactive_beam_jquery(document).ready(function($){\n",
       "                \n",
       "              });\n",
       "            }\n",
       "            document.head.appendChild(datatableScript);\n",
       "          };\n",
       "          document.head.appendChild(jqueryScript);\n",
       "        } else {\n",
       "          window.interactive_beam_jquery(document).ready(function($){\n",
       "            \n",
       "          });\n",
       "        }"
      ]
     },
     "metadata": {},
     "output_type": "display_data"
    }
   ],
   "source": [
    "logging.info(f\"Job {job_name} started\")\n",
    "with beam.Pipeline() as pipeline:\n",
    "    (\n",
    "        pipeline\n",
    "        |\"Create parameter sets\" >>  beam.Create(get_input_img_params)\n",
    "        | \"Sample counties\" >> beam.Map(apply_get_input_image)\n",
    "        | \"Export image to GCS bucket\" >> beam.Map(unpack_for_export)\n",
    "    )\n",
    "logging.info(f\"Job {job_name} finished\")"
   ]
  }
 ],
 "metadata": {
  "environment": {
   "kernel": "conda-base-py",
   "name": "workbench-notebooks.m125",
   "type": "gcloud",
   "uri": "us-docker.pkg.dev/deeplearning-platform-release/gcr.io/workbench-notebooks:m125"
  },
  "kernelspec": {
   "display_name": "Python 3 (ipykernel) (Local)",
   "language": "python",
   "name": "conda-base-py"
  },
  "language_info": {
   "codemirror_mode": {
    "name": "ipython",
    "version": 3
   },
   "file_extension": ".py",
   "mimetype": "text/x-python",
   "name": "python",
   "nbconvert_exporter": "python",
   "pygments_lexer": "ipython3",
   "version": "3.10.15"
  }
 },
 "nbformat": 4,
 "nbformat_minor": 5
}
