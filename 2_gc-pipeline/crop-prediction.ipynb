{
 "cells": [
  {
   "cell_type": "code",
   "execution_count": 45,
   "id": "ce6e11ec-c8a5-4339-b4ce-046e98c07e35",
   "metadata": {
    "tags": []
   },
   "outputs": [],
   "source": [
    "# Setup\n",
    "!pip install --quiet --upgrade pip\n",
    "\n",
    "# Install the dependencies.\n",
    "!pip install --quiet -r requirements.txt\n",
    "\n",
    "# Restart the runtime by ending the process.\n",
    "exit()"
   ]
  },
  {
   "cell_type": "code",
   "execution_count": 2,
   "id": "fcc5e229-897d-4feb-b640-8d95b6f06081",
   "metadata": {},
   "outputs": [],
   "source": [
    "from __future__ import annotations\n",
    "import os\n",
    "\n",
    "import ee\n",
    "import google.auth\n",
    "\n",
    "import folium\n",
    "from serving import data\n",
    "import json\n",
    "from branca.element import Figure\n",
    "from folium import plugins\n",
    "import sys\n",
    "from importlib import reload\n",
    "from serving.data import get_input_image_ee, get_varied_labels\n",
    "from serving.constants import  BUCKET, PROJECT, CROP, SCALE\n",
    "import apache_beam as beam\n",
    "from apache_beam.options.pipeline_options import PipelineOptions\n",
    "import pandas as pd\n",
    "from concurrent.futures import ThreadPoolExecutor, as_completed\n",
    "from google.cloud import storage\n",
    "import logging"
   ]
  },
  {
   "cell_type": "code",
   "execution_count": 3,
   "id": "46671482-ebb1-41b5-b6f9-66f6469fa50e",
   "metadata": {
    "tags": []
   },
   "outputs": [],
   "source": [
    "current_dir = os.getcwd()\n",
    "sys.path.append(current_dir+'/serving')\n",
    "logging.basicConfig(level=logging.INFO, format='%(asctime)s - %(levelname)s - %(message)s')"
   ]
  },
  {
   "cell_type": "code",
   "execution_count": 4,
   "id": "0cc3b78b-755c-416b-96bc-5da4a67c5098",
   "metadata": {
    "tags": []
   },
   "outputs": [
    {
     "name": "stdout",
     "output_type": "stream",
     "text": [
      "Updated property [core/project].\n"
     ]
    }
   ],
   "source": [
    "# Google cloud parameters\n",
    "project = PROJECT\n",
    "bucket = BUCKET\n",
    "location = \"us-west2-a\"  # @param {type:\"string\"}\n",
    "\n",
    "# Quick input validations.\n",
    "assert project, \"⚠️ Please provide a Google Cloud project ID\"\n",
    "assert bucket, \"⚠️ Please provide a Cloud Storage bucket name\"\n",
    "assert not bucket.startswith(\n",
    "    \"gs://\"\n",
    "), f\"⚠️ Please remove the gs:// prefix from the bucket name: {bucket}\"\n",
    "assert location, \"⚠️ Please provide a Google Cloud location\"\n",
    "\n",
    "# Set GOOGLE_CLOUD_PROJECT for google.auth.default().\n",
    "os.environ[\"GOOGLE_CLOUD_PROJECT\"] = project\n",
    "\n",
    "# Set the gcloud project for other gcloud commands.\n",
    "!gcloud config set project {project}\n",
    "\n",
    "# Initialise goofle earth engine\n",
    "credentials, _ = google.auth.default()\n",
    "ee.Initialize(\n",
    "    credentials.with_quota_project(None),\n",
    "    project=project,\n",
    "    opt_url=\"https://earthengine-highvolume.googleapis.com\",\n",
    ")"
   ]
  },
  {
   "cell_type": "code",
   "execution_count": 5,
   "id": "96112d3a-de96-4414-ac3d-1449f6bdbfad",
   "metadata": {
    "tags": []
   },
   "outputs": [],
   "source": [
    "#CONSTANTS\n",
    "YEAR_START=2017\n",
    "YEAR_END=2023\n",
    "\n",
    "SEASON_START=5\n",
    "SEASON_END=10\n",
    "\n",
    "CROP=1 #Corn\n",
    "\n",
    "# True vision params\n",
    "vis_params = {\n",
    "    \"min\": 0,\n",
    "    \"max\": 3000,\n",
    "    \"bands\": [\"B4\", \"B3\", \"B2\"],}\n",
    "\n",
    "vis_agro = {\n",
    "     \"min\": 225,\n",
    "    \"max\": 4000,\n",
    "    \"bands\": ['B11', 'B8', 'B3']}"
   ]
  },
  {
   "cell_type": "code",
   "execution_count": 28,
   "id": "f8fb3012-a8ec-4c6f-9a5d-d41772cdb669",
   "metadata": {
    "tags": []
   },
   "outputs": [],
   "source": [
    "reload(data)\n",
    "from serving.data import get_input_image_ee, get_varied_labels"
   ]
  },
  {
   "cell_type": "code",
   "execution_count": 56,
   "id": "5411fb5a-1cab-4917-8f4e-6b02455f4312",
   "metadata": {
    "tags": []
   },
   "outputs": [
    {
     "name": "stdout",
     "output_type": "stream",
     "text": [
      "No data found for the specified parameters.\n"
     ]
    },
    {
     "ename": "EEException",
     "evalue": "Element.geometry: Parameter 'feature' is required.",
     "output_type": "error",
     "traceback": [
      "\u001b[0;31m---------------------------------------------------------------------------\u001b[0m",
      "\u001b[0;31mHttpError\u001b[0m                                 Traceback (most recent call last)",
      "File \u001b[0;32m/opt/conda/lib/python3.10/site-packages/ee/data.py:402\u001b[0m, in \u001b[0;36m_execute_cloud_call\u001b[0;34m(call, num_retries)\u001b[0m\n\u001b[1;32m    401\u001b[0m \u001b[38;5;28;01mtry\u001b[39;00m:\n\u001b[0;32m--> 402\u001b[0m   \u001b[38;5;28;01mreturn\u001b[39;00m \u001b[43mcall\u001b[49m\u001b[38;5;241;43m.\u001b[39;49m\u001b[43mexecute\u001b[49m\u001b[43m(\u001b[49m\u001b[43mnum_retries\u001b[49m\u001b[38;5;241;43m=\u001b[39;49m\u001b[43mnum_retries\u001b[49m\u001b[43m)\u001b[49m\n\u001b[1;32m    403\u001b[0m \u001b[38;5;28;01mexcept\u001b[39;00m googleapiclient\u001b[38;5;241m.\u001b[39merrors\u001b[38;5;241m.\u001b[39mHttpError \u001b[38;5;28;01mas\u001b[39;00m e:\n",
      "File \u001b[0;32m/opt/conda/lib/python3.10/site-packages/googleapiclient/_helpers.py:130\u001b[0m, in \u001b[0;36mpositional.<locals>.positional_decorator.<locals>.positional_wrapper\u001b[0;34m(*args, **kwargs)\u001b[0m\n\u001b[1;32m    129\u001b[0m         logger\u001b[38;5;241m.\u001b[39mwarning(message)\n\u001b[0;32m--> 130\u001b[0m \u001b[38;5;28;01mreturn\u001b[39;00m \u001b[43mwrapped\u001b[49m\u001b[43m(\u001b[49m\u001b[38;5;241;43m*\u001b[39;49m\u001b[43margs\u001b[49m\u001b[43m,\u001b[49m\u001b[43m \u001b[49m\u001b[38;5;241;43m*\u001b[39;49m\u001b[38;5;241;43m*\u001b[39;49m\u001b[43mkwargs\u001b[49m\u001b[43m)\u001b[49m\n",
      "File \u001b[0;32m/opt/conda/lib/python3.10/site-packages/googleapiclient/http.py:938\u001b[0m, in \u001b[0;36mHttpRequest.execute\u001b[0;34m(self, http, num_retries)\u001b[0m\n\u001b[1;32m    937\u001b[0m \u001b[38;5;28;01mif\u001b[39;00m resp\u001b[38;5;241m.\u001b[39mstatus \u001b[38;5;241m>\u001b[39m\u001b[38;5;241m=\u001b[39m \u001b[38;5;241m300\u001b[39m:\n\u001b[0;32m--> 938\u001b[0m     \u001b[38;5;28;01mraise\u001b[39;00m HttpError(resp, content, uri\u001b[38;5;241m=\u001b[39m\u001b[38;5;28mself\u001b[39m\u001b[38;5;241m.\u001b[39muri)\n\u001b[1;32m    939\u001b[0m \u001b[38;5;28;01mreturn\u001b[39;00m \u001b[38;5;28mself\u001b[39m\u001b[38;5;241m.\u001b[39mpostproc(resp, content)\n",
      "\u001b[0;31mHttpError\u001b[0m: <HttpError 400 when requesting https://earthengine-highvolume.googleapis.com/v1/projects/supple-nature-370421/value:compute?prettyPrint=false&alt=json returned \"Element.geometry: Parameter 'feature' is required.\". Details: \"Element.geometry: Parameter 'feature' is required.\">",
      "\nDuring handling of the above exception, another exception occurred:\n",
      "\u001b[0;31mEEException\u001b[0m                               Traceback (most recent call last)",
      "Cell \u001b[0;32mIn[56], line 18\u001b[0m\n\u001b[1;32m     10\u001b[0m county_geom \u001b[38;5;241m=\u001b[39m (\n\u001b[1;32m     11\u001b[0m     ee\u001b[38;5;241m.\u001b[39mFeatureCollection(\u001b[38;5;124m\"\u001b[39m\u001b[38;5;124mTIGER/2018/Counties\u001b[39m\u001b[38;5;124m\"\u001b[39m)\n\u001b[1;32m     12\u001b[0m     \u001b[38;5;241m.\u001b[39mfilter(ee\u001b[38;5;241m.\u001b[39mFilter\u001b[38;5;241m.\u001b[39meq(\u001b[38;5;124m\"\u001b[39m\u001b[38;5;124mCOUNTYFP\u001b[39m\u001b[38;5;124m\"\u001b[39m, \u001b[38;5;124m\"\u001b[39m\u001b[38;5;124m161\u001b[39m\u001b[38;5;124m\"\u001b[39m))\n\u001b[1;32m     13\u001b[0m     \u001b[38;5;241m.\u001b[39mfilter(ee\u001b[38;5;241m.\u001b[39mFilter\u001b[38;5;241m.\u001b[39meq(\u001b[38;5;124m\"\u001b[39m\u001b[38;5;124mSTATEFP\u001b[39m\u001b[38;5;124m\"\u001b[39m, state_fips))\n\u001b[1;32m     14\u001b[0m )\u001b[38;5;241m.\u001b[39mgeometry()\n\u001b[1;32m     16\u001b[0m coords \u001b[38;5;241m=\u001b[39m county_geom\u001b[38;5;241m.\u001b[39mcentroid()\u001b[38;5;241m.\u001b[39mcoordinates()\u001b[38;5;241m.\u001b[39mgetInfo()\n\u001b[0;32m---> 18\u001b[0m s2_img_start \u001b[38;5;241m=\u001b[39m \u001b[43mget_input_image_ee\u001b[49m\u001b[43m(\u001b[49m\u001b[43mcounty\u001b[49m\u001b[43m,\u001b[49m\u001b[43m \u001b[49m\u001b[43mstate_fips\u001b[49m\u001b[43m,\u001b[49m\u001b[43m \u001b[49m\u001b[43mcrop_type\u001b[49m\u001b[43m,\u001b[49m\u001b[43m \u001b[49m\u001b[43mstart_year\u001b[49m\u001b[43m,\u001b[49m\u001b[43m \u001b[49m\u001b[43mstart_month\u001b[49m\u001b[43m)\u001b[49m[\u001b[38;5;124m\"\u001b[39m\u001b[38;5;124mimage\u001b[39m\u001b[38;5;124m\"\u001b[39m]\n\u001b[1;32m     19\u001b[0m s2_img_end \u001b[38;5;241m=\u001b[39m get_input_image_ee(county, state_fips, crop_type, start_year, end_month)[\u001b[38;5;124m\"\u001b[39m\u001b[38;5;124mimage\u001b[39m\u001b[38;5;124m\"\u001b[39m]\n\u001b[1;32m     20\u001b[0m image_name \u001b[38;5;241m=\u001b[39m get_input_image_ee(county, state_fips, crop_type, start_year, start_month)[\u001b[38;5;124m\"\u001b[39m\u001b[38;5;124mimage_name\u001b[39m\u001b[38;5;124m\"\u001b[39m]\n",
      "File \u001b[0;32m~/inovation_project/2_gc-pipeline/serving/data.py:109\u001b[0m, in \u001b[0;36mget_input_image_ee\u001b[0;34m(county, state_fips, crop, year, month)\u001b[0m\n\u001b[1;32m    106\u001b[0m     cdl_image \u001b[38;5;241m=\u001b[39m cdl_county_masked\u001b[38;5;241m.\u001b[39mfirst()\n\u001b[1;32m    108\u001b[0m alameda_centroid \u001b[38;5;241m=\u001b[39m county_geom\u001b[38;5;241m.\u001b[39mfirst()\u001b[38;5;241m.\u001b[39mgeometry()\u001b[38;5;241m.\u001b[39mcentroid()\n\u001b[0;32m--> 109\u001b[0m coords \u001b[38;5;241m=\u001b[39m \u001b[43malameda_centroid\u001b[49m\u001b[38;5;241;43m.\u001b[39;49m\u001b[43mcoordinates\u001b[49m\u001b[43m(\u001b[49m\u001b[43m)\u001b[49m\u001b[38;5;241;43m.\u001b[39;49m\u001b[43mgetInfo\u001b[49m\u001b[43m(\u001b[49m\u001b[43m)\u001b[49m\n\u001b[1;32m    111\u001b[0m \u001b[38;5;66;03m# Define visualization parameters\u001b[39;00m\n\u001b[1;32m    112\u001b[0m vis_params_mask \u001b[38;5;241m=\u001b[39m {\n\u001b[1;32m    113\u001b[0m     \u001b[38;5;124m'\u001b[39m\u001b[38;5;124mmin\u001b[39m\u001b[38;5;124m'\u001b[39m: \u001b[38;5;241m0\u001b[39m,\n\u001b[1;32m    114\u001b[0m     \u001b[38;5;124m'\u001b[39m\u001b[38;5;124mmax\u001b[39m\u001b[38;5;124m'\u001b[39m: \u001b[38;5;241m1\u001b[39m,\n\u001b[1;32m    115\u001b[0m     \u001b[38;5;124m'\u001b[39m\u001b[38;5;124mpalette\u001b[39m\u001b[38;5;124m'\u001b[39m: [\u001b[38;5;124m'\u001b[39m\u001b[38;5;124mgreen\u001b[39m\u001b[38;5;124m'\u001b[39m]\n\u001b[1;32m    116\u001b[0m }\n",
      "File \u001b[0;32m/opt/conda/lib/python3.10/site-packages/ee/computedobject.py:107\u001b[0m, in \u001b[0;36mComputedObject.getInfo\u001b[0;34m(self)\u001b[0m\n\u001b[1;32m    101\u001b[0m \u001b[38;5;28;01mdef\u001b[39;00m \u001b[38;5;21mgetInfo\u001b[39m(\u001b[38;5;28mself\u001b[39m) \u001b[38;5;241m-\u001b[39m\u001b[38;5;241m>\u001b[39m Optional[Any]:\n\u001b[1;32m    102\u001b[0m \u001b[38;5;250m  \u001b[39m\u001b[38;5;124;03m\"\"\"Fetch and return information about this object.\u001b[39;00m\n\u001b[1;32m    103\u001b[0m \n\u001b[1;32m    104\u001b[0m \u001b[38;5;124;03m  Returns:\u001b[39;00m\n\u001b[1;32m    105\u001b[0m \u001b[38;5;124;03m    The object can evaluate to anything.\u001b[39;00m\n\u001b[1;32m    106\u001b[0m \u001b[38;5;124;03m  \"\"\"\u001b[39;00m\n\u001b[0;32m--> 107\u001b[0m   \u001b[38;5;28;01mreturn\u001b[39;00m \u001b[43mdata\u001b[49m\u001b[38;5;241;43m.\u001b[39;49m\u001b[43mcomputeValue\u001b[49m\u001b[43m(\u001b[49m\u001b[38;5;28;43mself\u001b[39;49m\u001b[43m)\u001b[49m\n",
      "File \u001b[0;32m/opt/conda/lib/python3.10/site-packages/ee/data.py:1101\u001b[0m, in \u001b[0;36mcomputeValue\u001b[0;34m(obj)\u001b[0m\n\u001b[1;32m   1098\u001b[0m body \u001b[38;5;241m=\u001b[39m {\u001b[38;5;124m'\u001b[39m\u001b[38;5;124mexpression\u001b[39m\u001b[38;5;124m'\u001b[39m: serializer\u001b[38;5;241m.\u001b[39mencode(obj, for_cloud_api\u001b[38;5;241m=\u001b[39m\u001b[38;5;28;01mTrue\u001b[39;00m)}\n\u001b[1;32m   1099\u001b[0m _maybe_populate_workload_tag(body)\n\u001b[0;32m-> 1101\u001b[0m \u001b[38;5;28;01mreturn\u001b[39;00m \u001b[43m_execute_cloud_call\u001b[49m\u001b[43m(\u001b[49m\n\u001b[1;32m   1102\u001b[0m \u001b[43m    \u001b[49m\u001b[43m_get_cloud_projects\u001b[49m\u001b[43m(\u001b[49m\u001b[43m)\u001b[49m\n\u001b[1;32m   1103\u001b[0m \u001b[43m    \u001b[49m\u001b[38;5;241;43m.\u001b[39;49m\u001b[43mvalue\u001b[49m\u001b[43m(\u001b[49m\u001b[43m)\u001b[49m\n\u001b[1;32m   1104\u001b[0m \u001b[43m    \u001b[49m\u001b[38;5;241;43m.\u001b[39;49m\u001b[43mcompute\u001b[49m\u001b[43m(\u001b[49m\u001b[43mbody\u001b[49m\u001b[38;5;241;43m=\u001b[39;49m\u001b[43mbody\u001b[49m\u001b[43m,\u001b[49m\u001b[43m \u001b[49m\u001b[43mproject\u001b[49m\u001b[38;5;241;43m=\u001b[39;49m\u001b[43m_get_projects_path\u001b[49m\u001b[43m(\u001b[49m\u001b[43m)\u001b[49m\u001b[43m,\u001b[49m\u001b[43m \u001b[49m\u001b[43mprettyPrint\u001b[49m\u001b[38;5;241;43m=\u001b[39;49m\u001b[38;5;28;43;01mFalse\u001b[39;49;00m\u001b[43m)\u001b[49m\n\u001b[1;32m   1105\u001b[0m \u001b[43m\u001b[49m\u001b[43m)\u001b[49m[\u001b[38;5;124m'\u001b[39m\u001b[38;5;124mresult\u001b[39m\u001b[38;5;124m'\u001b[39m]\n",
      "File \u001b[0;32m/opt/conda/lib/python3.10/site-packages/ee/data.py:404\u001b[0m, in \u001b[0;36m_execute_cloud_call\u001b[0;34m(call, num_retries)\u001b[0m\n\u001b[1;32m    402\u001b[0m   \u001b[38;5;28;01mreturn\u001b[39;00m call\u001b[38;5;241m.\u001b[39mexecute(num_retries\u001b[38;5;241m=\u001b[39mnum_retries)\n\u001b[1;32m    403\u001b[0m \u001b[38;5;28;01mexcept\u001b[39;00m googleapiclient\u001b[38;5;241m.\u001b[39merrors\u001b[38;5;241m.\u001b[39mHttpError \u001b[38;5;28;01mas\u001b[39;00m e:\n\u001b[0;32m--> 404\u001b[0m   \u001b[38;5;28;01mraise\u001b[39;00m _translate_cloud_exception(e)\n",
      "\u001b[0;31mEEException\u001b[0m: Element.geometry: Parameter 'feature' is required."
     ]
    }
   ],
   "source": [
    "# Show sample filter\n",
    "\n",
    "start_year = 2016\n",
    "start_month = 5\n",
    "end_month = 7\n",
    "crop_type = 1 # Corn\n",
    "county = \"Jeff Davis\".capitalize()\n",
    "state_fips = \"13\"\n",
    "\n",
    "county_geom = (\n",
    "    ee.FeatureCollection(\"TIGER/2018/Counties\")\n",
    "    .filter(ee.Filter.eq(\"COUNTYFP\", \"161\"))\n",
    "    .filter(ee.Filter.eq(\"STATEFP\", state_fips))\n",
    ").geometry()\n",
    "\n",
    "coords = county_geom.centroid().coordinates().getInfo()\n",
    "\n",
    "s2_img_start = get_input_image_ee(county, state_fips, crop_type, start_year, start_month)[\"image\"]\n",
    "s2_img_end = get_input_image_ee(county, state_fips, crop_type, start_year, end_month)[\"image\"]\n",
    "image_name = get_input_image_ee(county, state_fips, crop_type, start_year, start_month)[\"image_name\"]"
   ]
  },
  {
   "cell_type": "code",
   "execution_count": 46,
   "id": "f1df8535-02b8-4ceb-b124-b854882c634a",
   "metadata": {
    "tags": []
   },
   "outputs": [
    {
     "data": {
      "text/html": [
       "<div style=\"width:100%;\"><div style=\"position:relative;width:100%;height:0;padding-bottom:60%;\"><span style=\"color:#565656\">Make this Notebook Trusted to load map: File -> Trust Notebook</span><iframe srcdoc=\"&lt;!DOCTYPE html&gt;\n",
       "&lt;html&gt;\n",
       "&lt;head&gt;\n",
       "    \n",
       "    &lt;meta http-equiv=&quot;content-type&quot; content=&quot;text/html; charset=UTF-8&quot; /&gt;\n",
       "    \n",
       "        &lt;script&gt;\n",
       "            L_NO_TOUCH = false;\n",
       "            L_DISABLE_3D = false;\n",
       "        &lt;/script&gt;\n",
       "    \n",
       "    &lt;style&gt;html, body {width: 100%;height: 100%;margin: 0;padding: 0;}&lt;/style&gt;\n",
       "    &lt;style&gt;#map {position:absolute;top:0;bottom:0;right:0;left:0;}&lt;/style&gt;\n",
       "    &lt;script src=&quot;https://cdn.jsdelivr.net/npm/leaflet@1.9.3/dist/leaflet.js&quot;&gt;&lt;/script&gt;\n",
       "    &lt;script src=&quot;https://code.jquery.com/jquery-3.7.1.min.js&quot;&gt;&lt;/script&gt;\n",
       "    &lt;script src=&quot;https://cdn.jsdelivr.net/npm/bootstrap@5.2.2/dist/js/bootstrap.bundle.min.js&quot;&gt;&lt;/script&gt;\n",
       "    &lt;script src=&quot;https://cdnjs.cloudflare.com/ajax/libs/Leaflet.awesome-markers/2.0.2/leaflet.awesome-markers.js&quot;&gt;&lt;/script&gt;\n",
       "    &lt;link rel=&quot;stylesheet&quot; href=&quot;https://cdn.jsdelivr.net/npm/leaflet@1.9.3/dist/leaflet.css&quot;/&gt;\n",
       "    &lt;link rel=&quot;stylesheet&quot; href=&quot;https://cdn.jsdelivr.net/npm/bootstrap@5.2.2/dist/css/bootstrap.min.css&quot;/&gt;\n",
       "    &lt;link rel=&quot;stylesheet&quot; href=&quot;https://netdna.bootstrapcdn.com/bootstrap/3.0.0/css/bootstrap.min.css&quot;/&gt;\n",
       "    &lt;link rel=&quot;stylesheet&quot; href=&quot;https://cdn.jsdelivr.net/npm/@fortawesome/fontawesome-free@6.2.0/css/all.min.css&quot;/&gt;\n",
       "    &lt;link rel=&quot;stylesheet&quot; href=&quot;https://cdnjs.cloudflare.com/ajax/libs/Leaflet.awesome-markers/2.0.2/leaflet.awesome-markers.css&quot;/&gt;\n",
       "    &lt;link rel=&quot;stylesheet&quot; href=&quot;https://cdn.jsdelivr.net/gh/python-visualization/folium/folium/templates/leaflet.awesome.rotate.min.css&quot;/&gt;\n",
       "    \n",
       "            &lt;meta name=&quot;viewport&quot; content=&quot;width=device-width,\n",
       "                initial-scale=1.0, maximum-scale=1.0, user-scalable=no&quot; /&gt;\n",
       "            &lt;style&gt;\n",
       "                #map_ef5e16f9c525dd8c00674d68683561fb {\n",
       "                    position: relative;\n",
       "                    width: 100.0%;\n",
       "                    height: 100.0%;\n",
       "                    left: 0.0%;\n",
       "                    top: 0.0%;\n",
       "                }\n",
       "                .leaflet-container { font-size: 1rem; }\n",
       "            &lt;/style&gt;\n",
       "        \n",
       "    &lt;script src=&quot;https://cdn.jsdelivr.net/gh/digidem/leaflet-side-by-side@2.0.0/leaflet-side-by-side.min.js&quot;&gt;&lt;/script&gt;\n",
       "&lt;/head&gt;\n",
       "&lt;body&gt;\n",
       "    \n",
       "    \n",
       "            &lt;div class=&quot;folium-map&quot; id=&quot;map_ef5e16f9c525dd8c00674d68683561fb&quot; &gt;&lt;/div&gt;\n",
       "        \n",
       "&lt;/body&gt;\n",
       "&lt;script&gt;\n",
       "    \n",
       "    \n",
       "            var map_ef5e16f9c525dd8c00674d68683561fb = L.map(\n",
       "                &quot;map_ef5e16f9c525dd8c00674d68683561fb&quot;,\n",
       "                {\n",
       "                    center: [35.512703917107466, -84.81364800360777],\n",
       "                    crs: L.CRS.EPSG3857,\n",
       "                    zoom: 10,\n",
       "                    zoomControl: true,\n",
       "                    preferCanvas: false,\n",
       "                }\n",
       "            );\n",
       "\n",
       "            \n",
       "\n",
       "        \n",
       "    \n",
       "            var tile_layer_41c299e3dbdeda91599855289b74fbf8 = L.tileLayer(\n",
       "                &quot;https://tile.openstreetmap.org/{z}/{x}/{y}.png&quot;,\n",
       "                {&quot;attribution&quot;: &quot;\\u0026copy; \\u003ca href=\\&quot;https://www.openstreetmap.org/copyright\\&quot;\\u003eOpenStreetMap\\u003c/a\\u003e contributors&quot;, &quot;detectRetina&quot;: false, &quot;maxNativeZoom&quot;: 19, &quot;maxZoom&quot;: 19, &quot;minZoom&quot;: 0, &quot;noWrap&quot;: false, &quot;opacity&quot;: 1, &quot;subdomains&quot;: &quot;abc&quot;, &quot;tms&quot;: false}\n",
       "            );\n",
       "        \n",
       "    \n",
       "            tile_layer_41c299e3dbdeda91599855289b74fbf8.addTo(map_ef5e16f9c525dd8c00674d68683561fb);\n",
       "        \n",
       "    \n",
       "            var tile_layer_dcd217274a01c1951e2d73ac8203375b = L.tileLayer(\n",
       "                &quot;https://earthengine-highvolume.googleapis.com/v1/projects/supple-nature-370421/maps/917fb2730493c146337f7c3761ebc2de-db7bb3981052272b4a90f788e44293a1/tiles/{z}/{x}/{y}&quot;,\n",
       "                {&quot;attribution&quot;: &quot;Map Data \\u0026copy; \\u003ca href=\\&quot;https://earthengine.google.com/\\&quot;\\u003eGoogle Earth Engine\\u003c/a\\u003e&quot;, &quot;detectRetina&quot;: false, &quot;maxNativeZoom&quot;: 18, &quot;maxZoom&quot;: 18, &quot;minZoom&quot;: 0, &quot;noWrap&quot;: false, &quot;opacity&quot;: 1, &quot;subdomains&quot;: &quot;abc&quot;, &quot;tms&quot;: false}\n",
       "            );\n",
       "        \n",
       "    \n",
       "            tile_layer_dcd217274a01c1951e2d73ac8203375b.addTo(map_ef5e16f9c525dd8c00674d68683561fb);\n",
       "        \n",
       "    \n",
       "            var tile_layer_4c870fdcae5e9a0ac16a2f3ec88f1457 = L.tileLayer(\n",
       "                &quot;https://earthengine-highvolume.googleapis.com/v1/projects/supple-nature-370421/maps/a8c38108ff145cabc2ab95813d1fedb4-bc17b9fab7b5d119214d6eb7a78e116d/tiles/{z}/{x}/{y}&quot;,\n",
       "                {&quot;attribution&quot;: &quot;Map Data \\u0026copy; \\u003ca href=\\&quot;https://earthengine.google.com/\\&quot;\\u003eGoogle Earth Engine\\u003c/a\\u003e&quot;, &quot;detectRetina&quot;: false, &quot;maxNativeZoom&quot;: 18, &quot;maxZoom&quot;: 18, &quot;minZoom&quot;: 0, &quot;noWrap&quot;: false, &quot;opacity&quot;: 1, &quot;subdomains&quot;: &quot;abc&quot;, &quot;tms&quot;: false}\n",
       "            );\n",
       "        \n",
       "    \n",
       "            tile_layer_4c870fdcae5e9a0ac16a2f3ec88f1457.addTo(map_ef5e16f9c525dd8c00674d68683561fb);\n",
       "        \n",
       "    \n",
       "            var side_by_side_layers_60cce0fe7d9d06c2bc7cc4e54c4ed485 = L.control.sideBySide(\n",
       "                tile_layer_dcd217274a01c1951e2d73ac8203375b, tile_layer_4c870fdcae5e9a0ac16a2f3ec88f1457\n",
       "            ).addTo(map_ef5e16f9c525dd8c00674d68683561fb);\n",
       "        \n",
       "&lt;/script&gt;\n",
       "&lt;/html&gt;\" style=\"position:absolute;width:100%;height:100%;left:0;top:0;border:none !important;\" allowfullscreen webkitallowfullscreen mozallowfullscreen></iframe></div></div>"
      ],
      "text/plain": [
       "<folium.folium.Map at 0x7fad30706860>"
      ]
     },
     "execution_count": 46,
     "metadata": {},
     "output_type": "execute_result"
    }
   ],
   "source": [
    "# Create the map\n",
    "m1 = folium.Map(coords[::-1])\n",
    "\n",
    "# Add the CDL layer\n",
    "layer_left = folium.TileLayer(\n",
    "    tiles=s2_img_start.getMapId(vis_agro)[\"tile_fetcher\"].url_format,\n",
    "    attr='Map Data &copy; <a href=\"https://earthengine.google.com/\">Google Earth Engine</a>',\n",
    "    name='Cropland Data Layer',\n",
    "    overlay=True,\n",
    "    control=True\n",
    ")\n",
    "\n",
    "layer_right = folium.TileLayer(\n",
    "    tiles=s2_img_end.getMapId(vis_agro)[\"tile_fetcher\"].url_format,\n",
    "    attr='Map Data &copy; <a href=\"https://earthengine.google.com/\">Google Earth Engine</a>',\n",
    "    name='Cropland Data Layer',\n",
    "    overlay=True,\n",
    "    control=True,\n",
    ")\n",
    "\n",
    "sbs = plugins.SideBySideLayers(layer_left=layer_left, layer_right=layer_right)\n",
    "\n",
    "layer_left.add_to(m1)\n",
    "layer_right.add_to(m1)\n",
    "sbs.add_to(m1)    \n",
    "\n",
    "# Display the map\n",
    "m1"
   ]
  },
  {
   "cell_type": "code",
   "execution_count": 7,
   "id": "e0cb7290-d76d-41eb-8a67-91e7fdd6e3f4",
   "metadata": {
    "tags": []
   },
   "outputs": [
    {
     "data": {
      "text/plain": [
       "'\\nChanges in crops can be observable in the satellite images. Once can hope that the colour saturation and temporal change would hold predictive power\\n'"
      ]
     },
     "execution_count": 7,
     "metadata": {},
     "output_type": "execute_result"
    }
   ],
   "source": [
    "\"\"\"\n",
    "Changes in crops can be observable in the satellite images. Once can hope that the colour saturation and temporal change would hold predictive power\n",
    "\"\"\""
   ]
  },
  {
   "cell_type": "code",
   "execution_count": null,
   "id": "45c4a748-c615-4ac4-8590-12d6e76738ac",
   "metadata": {},
   "outputs": [],
   "source": [
    "# DATA RETRIVAL"
   ]
  },
  {
   "cell_type": "code",
   "execution_count": 35,
   "id": "98c4c633-bbde-4d55-afcf-7ca85ad1986a",
   "metadata": {
    "tags": []
   },
   "outputs": [
    {
     "name": "stdout",
     "output_type": "stream",
     "text": [
      "Number of items to process: 2618\n"
     ]
    }
   ],
   "source": [
    "def check_blob_prefix_exists(bucket_name, prefix):\n",
    "    storage_client = storage.Client()\n",
    "    bucket = storage_client.bucket(bucket_name)\n",
    "    \n",
    "    blobs = bucket.list_blobs(prefix=prefix, max_results=1)\n",
    "    return any(blobs)\n",
    "\n",
    "def batch_check_blobs(bucket_name, prefixes):\n",
    "    with ThreadPoolExecutor(max_workers=10) as executor:\n",
    "        future_to_prefix = {executor.submit(check_blob_prefix_exists, bucket_name, prefix): prefix for prefix in prefixes}\n",
    "        results = {}\n",
    "        for future in as_completed(future_to_prefix):\n",
    "            prefix = future_to_prefix[future]\n",
    "            results[prefix] = future.result()\n",
    "    return results\n",
    "\n",
    "# Generate all prefixes\n",
    "bucket_name = bucket\n",
    "labels_df = get_varied_labels(150)\n",
    "labels = list(zip(labels_df[\"county_name\"],\n",
    "             labels_df[\"state_ansi\"],\n",
    "             labels_df[\"year\"]))\n",
    "months = [5,7,9]\n",
    "\n",
    "prefixes = [f'images/{SCALE}/{county.capitalize()}_{fips}/{year}/{month}-{month+1}' \n",
    "            for county, fips, year in labels\n",
    "            for month in months]\n",
    "\n",
    "# Batch check all prefixes\n",
    "results = batch_check_blobs(bucket_name, prefixes)\n",
    "\n",
    "# Generate get_input_img_params based on results\n",
    "get_input_img_params = [\n",
    "    {\"county\": county.capitalize(), \"state_fips\": fips, \"crop\": CROP, \"year\": year, \"month\": month}\n",
    "            for county, fips, year in labels\n",
    "            for month in months\n",
    "            if not results[f'images/{SCALE}/{county.capitalize()}_{fips}/{year}/{month}-{month+1}']\n",
    "]\n",
    "\n",
    "print(f\"Number of items to process: {len(get_input_img_params)}\")"
   ]
  },
  {
   "cell_type": "code",
   "execution_count": 36,
   "id": "dd53d183-d2ae-483d-84d2-0c3b4009038b",
   "metadata": {
    "tags": []
   },
   "outputs": [],
   "source": [
    "get_input_img_params_small = get_input_img_params[0:100]"
   ]
  },
  {
   "cell_type": "code",
   "execution_count": 37,
   "id": "33e441a8-e00a-4d7b-a176-f7a096ae1ffe",
   "metadata": {
    "tags": []
   },
   "outputs": [],
   "source": [
    "def export_img(image:ee.Image, image_name: str, county_geom: ee.geometry):\n",
    "    \n",
    "    image_name = f\"{SCALE}/\" + image_name\n",
    "    img_task = ee.batch.Export.image.toCloudStorage(\n",
    "    image=image,\n",
    "    description=image_name.replace(\"/\",\"-\"),\n",
    "    bucket=bucket,\n",
    "    fileNamePrefix=f\"images/{image_name}\",\n",
    "    scale=SCALE,\n",
    "    region=county_geom,\n",
    "    fileDimensions = 4*2048,\n",
    "    skipEmptyTiles = True,\n",
    "    fileFormat = \"GeoTIFF\",\n",
    "    maxPixels = 1e9\n",
    "    )\n",
    "\n",
    "    img_task.start()\n",
    "    logging.info(f\"Export task started for: {image_name}\")\n",
    "\n",
    "def apply_get_input_image(params):\n",
    "    \n",
    "    return get_input_image_ee(**params)\n",
    "\n",
    "def unpack_for_export(list_input):\n",
    "    county, state_fips = list_input[\"image_name\"].split(\"/\")[0].split(\"_\")\n",
    "    county_geom = (\n",
    "    ee.FeatureCollection(\"TIGER/2018/Counties\")\n",
    "        .filter(ee.Filter.eq(\"NAME\", county.capitalize()))\n",
    "        .filter(ee.Filter.eq(\"STATEFP\", state_fips))\n",
    "        ).geometry()\n",
    "    return export_img(list_input[\"image\"], list_input[\"image_name\"], county_geom)"
   ]
  },
  {
   "cell_type": "code",
   "execution_count": 22,
   "id": "2482f68a-6bb7-44d4-93c0-dff2bf29882b",
   "metadata": {
    "tags": []
   },
   "outputs": [],
   "source": [
    "from apache_beam.options.pipeline_options import PipelineOptions\n",
    "\n",
    "# Define your pipeline options\n",
    "options = PipelineOptions(\n",
    "    runner='DataflowRunner',  # Specify the runner as 'DataflowRunner'\n",
    "    project=project,  # Replace with your Google Cloud project ID\n",
    "    region='us-west2-a',  # Specify the GCP region, e.g., 'us-central1'\n",
    "    temp_location=f'gs://{BUCKET}/temp',  # GCS bucket for temporary files\n",
    "    staging_location=f'gs://{BUCKET}/staging',  # GCS bucket for staging files\n",
    "    job_name='s2-image-top150',  # Give your job a unique name    \n",
    "    save_main_session=True  # Ensures that all dependencies are available in the workers\n",
    ")"
   ]
  },
  {
   "cell_type": "code",
   "execution_count": 38,
   "id": "7e0ae4b6-7d48-48ea-a460-e388bcdb5d1d",
   "metadata": {
    "tags": []
   },
   "outputs": [
    {
     "name": "stderr",
     "output_type": "stream",
     "text": [
      "2024-10-19 20:06:13,288 - INFO - Missing pipeline option (runner). Executing pipeline using the default runner: DirectRunner.\n",
      "2024-10-19 20:06:13,436 - INFO - Creating state cache with size 104857600\n",
      "2024-10-19 20:06:15,319 - INFO - Export task started for: 60/Floyd_13/2020/7-8\n",
      "2024-10-19 20:06:16,973 - INFO - Export task started for: 60/Floyd_13/2020/9-10\n",
      "2024-10-19 20:06:18,567 - INFO - Export task started for: 60/Meigs_47/2016/5-6\n",
      "2024-10-19 20:06:20,101 - INFO - Export task started for: 60/Meigs_47/2016/7-8\n",
      "2024-10-19 20:06:21,467 - INFO - Export task started for: 60/Meigs_47/2016/9-10\n",
      "2024-10-19 20:06:23,361 - INFO - Export task started for: 60/Meigs_47/2017/5-6\n",
      "2024-10-19 20:06:24,796 - INFO - Export task started for: 60/Meigs_47/2017/7-8\n",
      "2024-10-19 20:06:26,522 - INFO - Export task started for: 60/Meigs_47/2017/9-10\n",
      "2024-10-19 20:06:27,898 - INFO - Export task started for: 60/Meigs_47/2019/5-6\n",
      "2024-10-19 20:06:29,289 - INFO - Export task started for: 60/Meigs_47/2019/7-8\n",
      "2024-10-19 20:06:30,709 - INFO - Export task started for: 60/Meigs_47/2019/9-10\n",
      "2024-10-19 20:06:32,450 - INFO - Export task started for: 60/Meigs_47/2021/5-6\n",
      "2024-10-19 20:06:33,992 - INFO - Export task started for: 60/Meigs_47/2021/7-8\n",
      "2024-10-19 20:06:35,464 - INFO - Export task started for: 60/Meigs_47/2021/9-10\n",
      "2024-10-19 20:06:36,820 - INFO - Export task started for: 60/Meigs_47/2022/5-6\n",
      "2024-10-19 20:06:38,689 - INFO - Export task started for: 60/Meigs_47/2022/7-8\n",
      "2024-10-19 20:06:40,651 - INFO - Export task started for: 60/Meigs_47/2022/9-10\n",
      "2024-10-19 20:06:42,113 - INFO - Export task started for: 60/Bradley_47/2016/5-6\n",
      "2024-10-19 20:06:43,612 - INFO - Export task started for: 60/Bradley_47/2016/7-8\n",
      "2024-10-19 20:06:44,775 - INFO - Export task started for: 60/Bradley_47/2016/9-10\n",
      "2024-10-19 20:06:46,569 - INFO - Export task started for: 60/Bradley_47/2017/5-6\n",
      "2024-10-19 20:06:47,923 - INFO - Export task started for: 60/Bradley_47/2017/7-8\n",
      "2024-10-19 20:06:49,327 - INFO - Export task started for: 60/Bradley_47/2017/9-10\n",
      "2024-10-19 20:06:50,766 - INFO - Export task started for: 60/Bradley_47/2018/5-6\n",
      "2024-10-19 20:06:52,072 - INFO - Export task started for: 60/Bradley_47/2018/7-8\n",
      "2024-10-19 20:06:53,275 - INFO - Export task started for: 60/Bradley_47/2018/9-10\n",
      "2024-10-19 20:06:54,792 - INFO - Export task started for: 60/Bradley_47/2019/5-6\n",
      "2024-10-19 20:06:55,795 - INFO - Export task started for: 60/Bradley_47/2019/7-8\n",
      "2024-10-19 20:06:57,400 - INFO - Export task started for: 60/Bradley_47/2019/9-10\n",
      "2024-10-19 20:06:58,881 - INFO - Export task started for: 60/Bradley_47/2020/5-6\n",
      "2024-10-19 20:07:00,191 - INFO - Export task started for: 60/Bradley_47/2020/7-8\n",
      "2024-10-19 20:07:01,848 - INFO - Export task started for: 60/Bradley_47/2020/9-10\n",
      "2024-10-19 20:07:03,745 - INFO - Export task started for: 60/Hart_13/2016/5-6\n",
      "2024-10-19 20:07:05,099 - INFO - Export task started for: 60/Hart_13/2016/7-8\n",
      "2024-10-19 20:07:06,590 - INFO - Export task started for: 60/Hart_13/2016/9-10\n",
      "2024-10-19 20:07:07,428 - INFO - Export task started for: 60/Hart_13/2018/5-6\n",
      "2024-10-19 20:07:09,331 - INFO - Export task started for: 60/Hart_13/2018/7-8\n",
      "2024-10-19 20:07:11,164 - INFO - Export task started for: 60/Hart_13/2018/9-10\n",
      "2024-10-19 20:07:12,343 - INFO - Export task started for: 60/Hart_13/2020/5-6\n",
      "2024-10-19 20:07:13,883 - INFO - Export task started for: 60/Hart_13/2020/7-8\n",
      "2024-10-19 20:07:15,547 - INFO - Export task started for: 60/Hart_13/2020/9-10\n",
      "2024-10-19 20:07:16,622 - INFO - Export task started for: 60/Hart_13/2021/5-6\n",
      "2024-10-19 20:07:17,939 - INFO - Export task started for: 60/Hart_13/2021/7-8\n",
      "2024-10-19 20:07:19,688 - INFO - Export task started for: 60/Hart_13/2021/9-10\n",
      "2024-10-19 20:07:21,293 - INFO - Export task started for: 60/Hart_13/2022/5-6\n",
      "2024-10-19 20:07:22,594 - INFO - Export task started for: 60/Hart_13/2022/7-8\n",
      "2024-10-19 20:07:24,212 - INFO - Export task started for: 60/Hart_13/2022/9-10\n",
      "2024-10-19 20:07:25,638 - INFO - Export task started for: 60/Gordon_13/2016/5-6\n",
      "2024-10-19 20:07:27,015 - INFO - Export task started for: 60/Gordon_13/2016/7-8\n",
      "2024-10-19 20:07:28,316 - INFO - Export task started for: 60/Gordon_13/2016/9-10\n",
      "2024-10-19 20:07:29,765 - INFO - Export task started for: 60/Gordon_13/2017/5-6\n",
      "2024-10-19 20:07:30,906 - INFO - Export task started for: 60/Gordon_13/2017/7-8\n",
      "2024-10-19 20:07:32,713 - INFO - Export task started for: 60/Gordon_13/2017/9-10\n",
      "2024-10-19 20:07:33,911 - INFO - Export task started for: 60/Gordon_13/2018/5-6\n",
      "2024-10-19 20:07:35,509 - INFO - Export task started for: 60/Gordon_13/2018/7-8\n",
      "2024-10-19 20:07:36,625 - INFO - Export task started for: 60/Gordon_13/2018/9-10\n",
      "2024-10-19 20:07:37,889 - INFO - Export task started for: 60/Gordon_13/2019/5-6\n",
      "2024-10-19 20:07:39,522 - INFO - Export task started for: 60/Gordon_13/2019/7-8\n",
      "2024-10-19 20:07:40,690 - INFO - Export task started for: 60/Gordon_13/2019/9-10\n",
      "2024-10-19 20:07:41,981 - INFO - Export task started for: 60/Gordon_13/2020/5-6\n",
      "2024-10-19 20:07:43,248 - INFO - Export task started for: 60/Gordon_13/2020/7-8\n",
      "2024-10-19 20:07:44,369 - INFO - Export task started for: 60/Gordon_13/2020/9-10\n",
      "2024-10-19 20:07:46,202 - INFO - Export task started for: 60/Gordon_13/2021/5-6\n",
      "2024-10-19 20:07:47,253 - INFO - Export task started for: 60/Gordon_13/2021/7-8\n",
      "2024-10-19 20:07:48,476 - INFO - Export task started for: 60/Gordon_13/2021/9-10\n",
      "2024-10-19 20:07:49,653 - INFO - Export task started for: 60/Gordon_13/2022/5-6\n",
      "2024-10-19 20:07:50,392 - INFO - Export task started for: 60/Gordon_13/2022/7-8\n",
      "2024-10-19 20:07:51,659 - INFO - Export task started for: 60/Gordon_13/2022/9-10\n",
      "2024-10-19 20:07:52,851 - INFO - Export task started for: 60/Anderson_45/2016/5-6\n",
      "2024-10-19 20:07:53,933 - INFO - Export task started for: 60/Anderson_45/2016/7-8\n",
      "2024-10-19 20:07:54,899 - INFO - Export task started for: 60/Anderson_45/2016/9-10\n",
      "2024-10-19 20:07:56,567 - INFO - Export task started for: 60/Anderson_45/2019/5-6\n",
      "2024-10-19 20:07:57,989 - INFO - Export task started for: 60/Anderson_45/2019/7-8\n",
      "2024-10-19 20:07:59,343 - INFO - Export task started for: 60/Anderson_45/2019/9-10\n",
      "2024-10-19 20:08:00,523 - INFO - Export task started for: 60/Anderson_45/2020/5-6\n",
      "2024-10-19 20:08:01,734 - INFO - Export task started for: 60/Anderson_45/2020/7-8\n",
      "2024-10-19 20:08:03,130 - INFO - Export task started for: 60/Anderson_45/2020/9-10\n",
      "2024-10-19 20:08:04,443 - INFO - Export task started for: 60/Anderson_45/2021/5-6\n",
      "2024-10-19 20:08:05,975 - INFO - Export task started for: 60/Anderson_45/2021/7-8\n",
      "2024-10-19 20:08:07,481 - INFO - Export task started for: 60/Anderson_45/2021/9-10\n",
      "2024-10-19 20:08:08,779 - INFO - Export task started for: 60/Anderson_45/2022/5-6\n",
      "2024-10-19 20:08:09,946 - INFO - Export task started for: 60/Anderson_45/2022/7-8\n",
      "2024-10-19 20:08:11,171 - INFO - Export task started for: 60/Anderson_45/2022/9-10\n",
      "2024-10-19 20:08:11,919 - INFO - Export task started for: 60/Ottawa_40/2016/5-6\n",
      "2024-10-19 20:08:13,271 - INFO - Export task started for: 60/Ottawa_40/2016/7-8\n",
      "2024-10-19 20:08:14,200 - INFO - Export task started for: 60/Ottawa_40/2016/9-10\n",
      "2024-10-19 20:08:15,346 - INFO - Export task started for: 60/Ottawa_40/2017/5-6\n",
      "2024-10-19 20:08:16,622 - INFO - Export task started for: 60/Ottawa_40/2017/7-8\n",
      "2024-10-19 20:08:17,811 - INFO - Export task started for: 60/Ottawa_40/2017/9-10\n",
      "2024-10-19 20:08:18,909 - INFO - Export task started for: 60/Ottawa_40/2019/5-6\n",
      "2024-10-19 20:08:20,201 - INFO - Export task started for: 60/Ottawa_40/2019/7-8\n",
      "2024-10-19 20:08:21,766 - INFO - Export task started for: 60/Ottawa_40/2019/9-10\n",
      "2024-10-19 20:08:23,248 - INFO - Export task started for: 60/Ottawa_40/2020/5-6\n",
      "2024-10-19 20:08:24,542 - INFO - Export task started for: 60/Ottawa_40/2020/7-8\n",
      "2024-10-19 20:08:25,748 - INFO - Export task started for: 60/Ottawa_40/2020/9-10\n",
      "2024-10-19 20:08:27,236 - INFO - Export task started for: 60/Ottawa_40/2021/5-6\n",
      "2024-10-19 20:08:28,413 - INFO - Export task started for: 60/Ottawa_40/2021/7-8\n",
      "2024-10-19 20:08:29,805 - INFO - Export task started for: 60/Ottawa_40/2021/9-10\n",
      "2024-10-19 20:08:31,141 - INFO - Export task started for: 60/Ottawa_40/2022/5-6\n",
      "2024-10-19 20:08:31,881 - INFO - Export task started for: 60/Ottawa_40/2022/7-8\n"
     ]
    }
   ],
   "source": [
    "with beam.Pipeline() as pipeline:\n",
    "    (\n",
    "        pipeline\n",
    "        |\"Create parameter sets\" >>  beam.Create(get_input_img_params_small)\n",
    "        | \"Sample counties\" >> beam.Map(apply_get_input_image)\n",
    "        | \"Export image to GCS bucket\" >> beam.Map(unpack_for_export)\n",
    "    )"
   ]
  },
  {
   "cell_type": "code",
   "execution_count": null,
   "id": "3a978cdb-3821-4fb0-9c1a-cdeafca541c1",
   "metadata": {},
   "outputs": [],
   "source": []
  }
 ],
 "metadata": {
  "environment": {
   "kernel": "conda-base-py",
   "name": "workbench-notebooks.m125",
   "type": "gcloud",
   "uri": "us-docker.pkg.dev/deeplearning-platform-release/gcr.io/workbench-notebooks:m125"
  },
  "kernelspec": {
   "display_name": "Python 3 (ipykernel) (Local)",
   "language": "python",
   "name": "conda-base-py"
  },
  "language_info": {
   "codemirror_mode": {
    "name": "ipython",
    "version": 3
   },
   "file_extension": ".py",
   "mimetype": "text/x-python",
   "name": "python",
   "nbconvert_exporter": "python",
   "pygments_lexer": "ipython3",
   "version": "3.10.15"
  }
 },
 "nbformat": 4,
 "nbformat_minor": 5
}
