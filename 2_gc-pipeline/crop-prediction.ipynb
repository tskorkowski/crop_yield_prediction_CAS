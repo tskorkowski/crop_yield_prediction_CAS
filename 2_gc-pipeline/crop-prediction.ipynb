{
 "cells": [
  {
   "cell_type": "code",
   "execution_count": 8,
   "id": "ce6e11ec-c8a5-4339-b4ce-046e98c07e35",
   "metadata": {
    "tags": []
   },
   "outputs": [],
   "source": [
    "# Setup\n",
    "!pip install --quiet --upgrade pip\n",
    "\n",
    "# Install the dependencies.\n",
    "!pip install --quiet -r requirements.txt\n",
    "\n",
    "# Restart the runtime by ending the process.\n",
    "exit()"
   ]
  },
  {
   "cell_type": "code",
   "execution_count": 3,
   "id": "fcc5e229-897d-4feb-b640-8d95b6f06081",
   "metadata": {},
   "outputs": [],
   "source": [
    "from __future__ import annotations\n",
    "import os\n",
    "\n",
    "import ee\n",
    "import google.auth\n",
    "\n",
    "import folium\n",
    "from serving import data\n",
    "import json\n",
    "from branca.element import Figure\n",
    "from folium import plugins\n",
    "import sys\n",
    "from importlib import reload\n",
    "from serving.data import get_input_image_ee, get_varied_labels\n",
    "from serving.constants import  BUCKET, PROJECT, CROP, SCALE, IMAGE_BATCH\n",
    "import apache_beam as beam\n",
    "from apache_beam.options.pipeline_options import PipelineOptions\n",
    "import pandas as pd\n",
    "from concurrent.futures import ThreadPoolExecutor, as_completed\n",
    "from google.cloud import storage\n",
    "import logging\n",
    "import randomname"
   ]
  },
  {
   "cell_type": "code",
   "execution_count": 4,
   "id": "46671482-ebb1-41b5-b6f9-66f6469fa50e",
   "metadata": {
    "tags": []
   },
   "outputs": [],
   "source": [
    "current_dir = os.getcwd()\n",
    "sys.path.append(current_dir+'/serving')\n",
    "logging.basicConfig(filename=f\"image_processing.log\", level=logging.INFO, format='%(asctime)s - %(levelname)s - %(message)s')"
   ]
  },
  {
   "cell_type": "code",
   "execution_count": 5,
   "id": "0cc3b78b-755c-416b-96bc-5da4a67c5098",
   "metadata": {
    "tags": []
   },
   "outputs": [
    {
     "name": "stdout",
     "output_type": "stream",
     "text": [
      "Updated property [core/project].\n",
      "\n",
      "\n",
      "To take a quick anonymous survey, run:\n",
      "  $ gcloud survey\n",
      "\n"
     ]
    }
   ],
   "source": [
    "# Google cloud parameters\n",
    "project = PROJECT\n",
    "bucket = BUCKET\n",
    "location = \"us-west2-a\"  # @param {type:\"string\"}\n",
    "\n",
    "# Quick input validations.\n",
    "assert project, \"⚠️ Please provide a Google Cloud project ID\"\n",
    "assert bucket, \"⚠️ Please provide a Cloud Storage bucket name\"\n",
    "assert not bucket.startswith(\n",
    "    \"gs://\"\n",
    "), f\"⚠️ Please remove the gs:// prefix from the bucket name: {bucket}\"\n",
    "assert location, \"⚠️ Please provide a Google Cloud location\"\n",
    "\n",
    "# Set GOOGLE_CLOUD_PROJECT for google.auth.default().\n",
    "os.environ[\"GOOGLE_CLOUD_PROJECT\"] = project\n",
    "\n",
    "# Set the gcloud project for other gcloud commands.\n",
    "!gcloud config set project {project}\n",
    "\n",
    "# Initialise goofle earth engine\n",
    "credentials, _ = google.auth.default()\n",
    "ee.Initialize(\n",
    "    credentials.with_quota_project(None),\n",
    "    project=project,\n",
    "    opt_url=\"https://earthengine-highvolume.googleapis.com\",\n",
    ")"
   ]
  },
  {
   "cell_type": "code",
   "execution_count": 4,
   "id": "96112d3a-de96-4414-ac3d-1449f6bdbfad",
   "metadata": {
    "tags": []
   },
   "outputs": [],
   "source": [
    "#CONSTANTS\n",
    "YEAR_START=2017\n",
    "YEAR_END=2023\n",
    "\n",
    "SEASON_START=5\n",
    "SEASON_END=10\n",
    "\n",
    "CROP=1 #Corn\n",
    "\n",
    "# True vision params\n",
    "vis_params = {\n",
    "    \"min\": 0,\n",
    "    \"max\": 3000,\n",
    "    \"bands\": [\"B4\", \"B3\", \"B2\"],}\n",
    "\n",
    "vis_agro = {\n",
    "     \"min\": 225,\n",
    "    \"max\": 4000,\n",
    "    \"bands\": ['B11', 'B8', 'B3']}"
   ]
  },
  {
   "cell_type": "code",
   "execution_count": 5,
   "id": "f8fb3012-a8ec-4c6f-9a5d-d41772cdb669",
   "metadata": {
    "tags": []
   },
   "outputs": [],
   "source": [
    "reload(data)\n",
    "from serving.data import get_input_image_ee, get_varied_labels"
   ]
  },
  {
   "cell_type": "code",
   "execution_count": 64,
   "id": "5411fb5a-1cab-4917-8f4e-6b02455f4312",
   "metadata": {
    "tags": []
   },
   "outputs": [],
   "source": [
    "# Show sample filter\n",
    "\n",
    "start_year = 2016\n",
    "start_month = 5\n",
    "end_month = 8\n",
    "crop_type = 1 # Corn\n",
    "county = \"Jeff Davis\".capitalize()\n",
    "state_fips = \"13\"\n",
    "county_fips = \"161\"\n",
    "\n",
    "county_geom = (\n",
    "    ee.FeatureCollection(\"TIGER/2018/Counties\")\n",
    "    .filter(ee.Filter.eq(\"COUNTYFP\", \"161\"))\n",
    "    .filter(ee.Filter.eq(\"STATEFP\", state_fips))\n",
    ").geometry()\n",
    "\n",
    "coords = county_geom.centroid().coordinates().getInfo()\n",
    "\n",
    "s2_img_start = get_input_image_ee(county, county_fips, state_fips, crop_type, start_year, start_month)[\"image\"]\n",
    "s2_img_end = get_input_image_ee(county, county_fips, state_fips, crop_type, start_year, end_month)[\"image\"]\n"
   ]
  },
  {
   "cell_type": "code",
   "execution_count": 65,
   "id": "f1df8535-02b8-4ceb-b124-b854882c634a",
   "metadata": {
    "tags": []
   },
   "outputs": [
    {
     "data": {
      "text/html": [
       "<div style=\"width:100%;\"><div style=\"position:relative;width:100%;height:0;padding-bottom:60%;\"><span style=\"color:#565656\">Make this Notebook Trusted to load map: File -> Trust Notebook</span><iframe srcdoc=\"&lt;!DOCTYPE html&gt;\n",
       "&lt;html&gt;\n",
       "&lt;head&gt;\n",
       "    \n",
       "    &lt;meta http-equiv=&quot;content-type&quot; content=&quot;text/html; charset=UTF-8&quot; /&gt;\n",
       "    \n",
       "        &lt;script&gt;\n",
       "            L_NO_TOUCH = false;\n",
       "            L_DISABLE_3D = false;\n",
       "        &lt;/script&gt;\n",
       "    \n",
       "    &lt;style&gt;html, body {width: 100%;height: 100%;margin: 0;padding: 0;}&lt;/style&gt;\n",
       "    &lt;style&gt;#map {position:absolute;top:0;bottom:0;right:0;left:0;}&lt;/style&gt;\n",
       "    &lt;script src=&quot;https://cdn.jsdelivr.net/npm/leaflet@1.9.3/dist/leaflet.js&quot;&gt;&lt;/script&gt;\n",
       "    &lt;script src=&quot;https://code.jquery.com/jquery-3.7.1.min.js&quot;&gt;&lt;/script&gt;\n",
       "    &lt;script src=&quot;https://cdn.jsdelivr.net/npm/bootstrap@5.2.2/dist/js/bootstrap.bundle.min.js&quot;&gt;&lt;/script&gt;\n",
       "    &lt;script src=&quot;https://cdnjs.cloudflare.com/ajax/libs/Leaflet.awesome-markers/2.0.2/leaflet.awesome-markers.js&quot;&gt;&lt;/script&gt;\n",
       "    &lt;link rel=&quot;stylesheet&quot; href=&quot;https://cdn.jsdelivr.net/npm/leaflet@1.9.3/dist/leaflet.css&quot;/&gt;\n",
       "    &lt;link rel=&quot;stylesheet&quot; href=&quot;https://cdn.jsdelivr.net/npm/bootstrap@5.2.2/dist/css/bootstrap.min.css&quot;/&gt;\n",
       "    &lt;link rel=&quot;stylesheet&quot; href=&quot;https://netdna.bootstrapcdn.com/bootstrap/3.0.0/css/bootstrap.min.css&quot;/&gt;\n",
       "    &lt;link rel=&quot;stylesheet&quot; href=&quot;https://cdn.jsdelivr.net/npm/@fortawesome/fontawesome-free@6.2.0/css/all.min.css&quot;/&gt;\n",
       "    &lt;link rel=&quot;stylesheet&quot; href=&quot;https://cdnjs.cloudflare.com/ajax/libs/Leaflet.awesome-markers/2.0.2/leaflet.awesome-markers.css&quot;/&gt;\n",
       "    &lt;link rel=&quot;stylesheet&quot; href=&quot;https://cdn.jsdelivr.net/gh/python-visualization/folium/folium/templates/leaflet.awesome.rotate.min.css&quot;/&gt;\n",
       "    \n",
       "            &lt;meta name=&quot;viewport&quot; content=&quot;width=device-width,\n",
       "                initial-scale=1.0, maximum-scale=1.0, user-scalable=no&quot; /&gt;\n",
       "            &lt;style&gt;\n",
       "                #map_1282bbe84ad8a2a13c30105f9ef7e715 {\n",
       "                    position: relative;\n",
       "                    width: 100.0%;\n",
       "                    height: 100.0%;\n",
       "                    left: 0.0%;\n",
       "                    top: 0.0%;\n",
       "                }\n",
       "                .leaflet-container { font-size: 1rem; }\n",
       "            &lt;/style&gt;\n",
       "        \n",
       "    &lt;script src=&quot;https://cdn.jsdelivr.net/gh/digidem/leaflet-side-by-side@2.0.0/leaflet-side-by-side.min.js&quot;&gt;&lt;/script&gt;\n",
       "&lt;/head&gt;\n",
       "&lt;body&gt;\n",
       "    \n",
       "    \n",
       "            &lt;div class=&quot;folium-map&quot; id=&quot;map_1282bbe84ad8a2a13c30105f9ef7e715&quot; &gt;&lt;/div&gt;\n",
       "        \n",
       "&lt;/body&gt;\n",
       "&lt;script&gt;\n",
       "    \n",
       "    \n",
       "            var map_1282bbe84ad8a2a13c30105f9ef7e715 = L.map(\n",
       "                &quot;map_1282bbe84ad8a2a13c30105f9ef7e715&quot;,\n",
       "                {\n",
       "                    center: [31.805571496291158, -82.63702672212067],\n",
       "                    crs: L.CRS.EPSG3857,\n",
       "                    zoom: 10,\n",
       "                    zoomControl: true,\n",
       "                    preferCanvas: false,\n",
       "                }\n",
       "            );\n",
       "\n",
       "            \n",
       "\n",
       "        \n",
       "    \n",
       "            var tile_layer_4d3f4a9d7ab3e82de112b47e7d9a0c90 = L.tileLayer(\n",
       "                &quot;https://tile.openstreetmap.org/{z}/{x}/{y}.png&quot;,\n",
       "                {&quot;attribution&quot;: &quot;\\u0026copy; \\u003ca href=\\&quot;https://www.openstreetmap.org/copyright\\&quot;\\u003eOpenStreetMap\\u003c/a\\u003e contributors&quot;, &quot;detectRetina&quot;: false, &quot;maxNativeZoom&quot;: 19, &quot;maxZoom&quot;: 19, &quot;minZoom&quot;: 0, &quot;noWrap&quot;: false, &quot;opacity&quot;: 1, &quot;subdomains&quot;: &quot;abc&quot;, &quot;tms&quot;: false}\n",
       "            );\n",
       "        \n",
       "    \n",
       "            tile_layer_4d3f4a9d7ab3e82de112b47e7d9a0c90.addTo(map_1282bbe84ad8a2a13c30105f9ef7e715);\n",
       "        \n",
       "    \n",
       "            var tile_layer_8b9ce63e2f07bce32419c2ba8ca15c63 = L.tileLayer(\n",
       "                &quot;https://earthengine-highvolume.googleapis.com/v1/projects/supple-nature-370421/maps/ca485d34cf1224a242b1688015a50d7c-9fdea24c686ab66bb1d194d77170fc4f/tiles/{z}/{x}/{y}&quot;,\n",
       "                {&quot;attribution&quot;: &quot;Map Data \\u0026copy; \\u003ca href=\\&quot;https://earthengine.google.com/\\&quot;\\u003eGoogle Earth Engine\\u003c/a\\u003e&quot;, &quot;detectRetina&quot;: false, &quot;maxNativeZoom&quot;: 18, &quot;maxZoom&quot;: 18, &quot;minZoom&quot;: 0, &quot;noWrap&quot;: false, &quot;opacity&quot;: 1, &quot;subdomains&quot;: &quot;abc&quot;, &quot;tms&quot;: false}\n",
       "            );\n",
       "        \n",
       "    \n",
       "            tile_layer_8b9ce63e2f07bce32419c2ba8ca15c63.addTo(map_1282bbe84ad8a2a13c30105f9ef7e715);\n",
       "        \n",
       "    \n",
       "            var tile_layer_3fc58aa346d7380c53c2525426d41924 = L.tileLayer(\n",
       "                &quot;https://earthengine-highvolume.googleapis.com/v1/projects/supple-nature-370421/maps/707115a3d9f0cf10f6bb59392da399b9-25f20eac143a09921f411ee327b40d51/tiles/{z}/{x}/{y}&quot;,\n",
       "                {&quot;attribution&quot;: &quot;Map Data \\u0026copy; \\u003ca href=\\&quot;https://earthengine.google.com/\\&quot;\\u003eGoogle Earth Engine\\u003c/a\\u003e&quot;, &quot;detectRetina&quot;: false, &quot;maxNativeZoom&quot;: 18, &quot;maxZoom&quot;: 18, &quot;minZoom&quot;: 0, &quot;noWrap&quot;: false, &quot;opacity&quot;: 1, &quot;subdomains&quot;: &quot;abc&quot;, &quot;tms&quot;: false}\n",
       "            );\n",
       "        \n",
       "    \n",
       "            tile_layer_3fc58aa346d7380c53c2525426d41924.addTo(map_1282bbe84ad8a2a13c30105f9ef7e715);\n",
       "        \n",
       "    \n",
       "            var side_by_side_layers_4eb90bb6aec93c79847b07a9446e4136 = L.control.sideBySide(\n",
       "                tile_layer_8b9ce63e2f07bce32419c2ba8ca15c63, tile_layer_3fc58aa346d7380c53c2525426d41924\n",
       "            ).addTo(map_1282bbe84ad8a2a13c30105f9ef7e715);\n",
       "        \n",
       "&lt;/script&gt;\n",
       "&lt;/html&gt;\" style=\"position:absolute;width:100%;height:100%;left:0;top:0;border:none !important;\" allowfullscreen webkitallowfullscreen mozallowfullscreen></iframe></div></div>"
      ],
      "text/plain": [
       "<folium.folium.Map at 0x7facff9ab580>"
      ]
     },
     "execution_count": 65,
     "metadata": {},
     "output_type": "execute_result"
    }
   ],
   "source": [
    "# Create the map\n",
    "m1 = folium.Map(coords[::-1])\n",
    "\n",
    "# Add the CDL layer\n",
    "layer_left = folium.TileLayer(\n",
    "    tiles=s2_img_start.getMapId(vis_agro)[\"tile_fetcher\"].url_format,\n",
    "    attr='Map Data &copy; <a href=\"https://earthengine.google.com/\">Google Earth Engine</a>',\n",
    "    name='Cropland Data Layer',\n",
    "    overlay=True,\n",
    "    control=True\n",
    ")\n",
    "\n",
    "layer_right = folium.TileLayer(\n",
    "    tiles=s2_img_end.getMapId(vis_agro)[\"tile_fetcher\"].url_format,\n",
    "    attr='Map Data &copy; <a href=\"https://earthengine.google.com/\">Google Earth Engine</a>',\n",
    "    name='Cropland Data Layer',\n",
    "    overlay=True,\n",
    "    control=True,\n",
    ")\n",
    "\n",
    "sbs = plugins.SideBySideLayers(layer_left=layer_left, layer_right=layer_right)\n",
    "\n",
    "layer_left.add_to(m1)\n",
    "layer_right.add_to(m1)\n",
    "sbs.add_to(m1)    \n",
    "\n",
    "# Display the map\n",
    "m1"
   ]
  },
  {
   "cell_type": "code",
   "execution_count": 7,
   "id": "e0cb7290-d76d-41eb-8a67-91e7fdd6e3f4",
   "metadata": {
    "tags": []
   },
   "outputs": [
    {
     "data": {
      "text/plain": [
       "'\\nChanges in crops can be observable in the satellite images. Once can hope that the colour saturation and temporal change would hold predictive power\\n'"
      ]
     },
     "execution_count": 7,
     "metadata": {},
     "output_type": "execute_result"
    }
   ],
   "source": [
    "\"\"\"\n",
    "Changes in crops can be observable in the satellite images. Once can hope that the colour saturation and temporal change would hold predictive power\n",
    "\"\"\""
   ]
  },
  {
   "cell_type": "code",
   "execution_count": null,
   "id": "45c4a748-c615-4ac4-8590-12d6e76738ac",
   "metadata": {},
   "outputs": [],
   "source": [
    "# DATA RETRIVAL"
   ]
  },
  {
   "cell_type": "code",
   "execution_count": 4,
   "id": "98c4c633-bbde-4d55-afcf-7ca85ad1986a",
   "metadata": {
    "tags": []
   },
   "outputs": [
    {
     "name": "stdout",
     "output_type": "stream",
     "text": [
      "Number of items to process: 3570\n"
     ]
    }
   ],
   "source": [
    "def check_blob_prefix_exists(bucket_name, prefix):\n",
    "    storage_client = storage.Client()\n",
    "    bucket = storage_client.bucket(bucket_name)\n",
    "    \n",
    "    blobs = bucket.list_blobs(prefix=prefix, max_results=1)\n",
    "    return any(blobs)\n",
    "\n",
    "def batch_check_blobs(bucket_name, prefixes):\n",
    "    with ThreadPoolExecutor(max_workers=10) as executor:\n",
    "        future_to_prefix = {executor.submit(check_blob_prefix_exists, bucket_name, prefix): prefix for prefix in prefixes}\n",
    "        results = {}\n",
    "        for future in as_completed(future_to_prefix):\n",
    "            prefix = future_to_prefix[future]\n",
    "            results[prefix] = future.result()\n",
    "    return results\n",
    "\n",
    "# Generate all prefixes\n",
    "bucket_name = bucket\n",
    "labels_df = get_varied_labels(*IMAGE_BATCH)\n",
    "labels = list(zip(labels_df[\"county_name\"],\n",
    "                  labels_df[\"county_ansi\"],\n",
    "             labels_df[\"state_ansi\"],\n",
    "             labels_df[\"year\"]))\n",
    "months = [5,7,9]\n",
    "\n",
    "prefixes = [f'images/{SCALE}/{county.capitalize()}_{fips}/{year}/{month}-{month+1}' \n",
    "            for county,_, fips, year in labels\n",
    "            for month in months]\n",
    "\n",
    "# Batch check all prefixes\n",
    "results = batch_check_blobs(bucket_name, prefixes)\n",
    "\n",
    "# Generate get_input_img_params based on results\n",
    "get_input_img_params = [\n",
    "    {\"county\": county.capitalize(), \"county_fips\": county_fips, \"state_fips\": fips, \"crop\": CROP, \"year\": year, \"month\": month}\n",
    "            for county, county_fips, fips, year in labels\n",
    "            for month in months\n",
    "            if not results[f'images/{SCALE}/{county.capitalize()}_{fips}/{year}/{month}-{month+1}']\n",
    "]\n",
    "\n",
    "print(f\"Number of items to process: {len(get_input_img_params)}\")"
   ]
  },
  {
   "cell_type": "code",
   "execution_count": 5,
   "id": "dd53d183-d2ae-483d-84d2-0c3b4009038b",
   "metadata": {
    "tags": []
   },
   "outputs": [
    {
     "data": {
      "text/plain": [
       "[{'county': 'Schuylkill',\n",
       "  'county_fips': '107',\n",
       "  'state_fips': '42',\n",
       "  'crop': 1,\n",
       "  'year': 2016,\n",
       "  'month': 5},\n",
       " {'county': 'Schuylkill',\n",
       "  'county_fips': '107',\n",
       "  'state_fips': '42',\n",
       "  'crop': 1,\n",
       "  'year': 2016,\n",
       "  'month': 7}]"
      ]
     },
     "execution_count": 5,
     "metadata": {},
     "output_type": "execute_result"
    }
   ],
   "source": [
    "get_input_img_params_small = get_input_img_params[0:1000]\n",
    "get_input_img_params_small[:2]"
   ]
  },
  {
   "cell_type": "code",
   "execution_count": 6,
   "id": "33e441a8-e00a-4d7b-a176-f7a096ae1ffe",
   "metadata": {
    "tags": []
   },
   "outputs": [],
   "source": [
    "job_name = randomname.get_name(adj=('weather',), noun=('food'))\n",
    "\n",
    "def export_img(image:ee.Image, image_name: str, county_geom: ee.geometry):\n",
    "    \n",
    "    image_name = f\"{SCALE}/\" + image_name\n",
    "    img_task = ee.batch.Export.image.toCloudStorage(\n",
    "    image=image,\n",
    "    description=image_name.replace(\"/\",\"-\"),\n",
    "    bucket=bucket,\n",
    "    fileNamePrefix=f\"images/{image_name}\",\n",
    "    scale=SCALE,\n",
    "    region=county_geom,\n",
    "    fileDimensions = 4*2048,\n",
    "    skipEmptyTiles = True,\n",
    "    fileFormat = \"GeoTIFF\",\n",
    "    maxPixels = 1e9\n",
    "    )\n",
    "\n",
    "    img_task.start()\n",
    "    logging.info(f\"{job_name}: Export task started for: {image_name}\")\n",
    "\n",
    "def apply_get_input_image(params):\n",
    "    \n",
    "    return get_input_image_ee(**params)\n",
    "\n",
    "def unpack_for_export(list_input):\n",
    "    county, state_fips = list_input[\"image_name\"].split(\"/\")[0].split(\"_\")\n",
    "    county_geom = (\n",
    "    ee.FeatureCollection(\"TIGER/2018/Counties\")\n",
    "        .filter(ee.Filter.eq(\"NAME\", county.capitalize()))\n",
    "        .filter(ee.Filter.eq(\"STATEFP\", state_fips))\n",
    "        ).geometry()\n",
    "    return export_img(list_input[\"image\"], list_input[\"image_name\"], county_geom)"
   ]
  },
  {
   "cell_type": "code",
   "execution_count": null,
   "id": "7e0ae4b6-7d48-48ea-a460-e388bcdb5d1d",
   "metadata": {
    "tags": []
   },
   "outputs": [
    {
     "data": {
      "application/javascript": [
       "\n",
       "        if (typeof window.interactive_beam_jquery == 'undefined') {\n",
       "          var jqueryScript = document.createElement('script');\n",
       "          jqueryScript.src = 'https://code.jquery.com/jquery-3.4.1.slim.min.js';\n",
       "          jqueryScript.type = 'text/javascript';\n",
       "          jqueryScript.onload = function() {\n",
       "            var datatableScript = document.createElement('script');\n",
       "            datatableScript.src = 'https://cdn.datatables.net/1.10.20/js/jquery.dataTables.min.js';\n",
       "            datatableScript.type = 'text/javascript';\n",
       "            datatableScript.onload = function() {\n",
       "              window.interactive_beam_jquery = jQuery.noConflict(true);\n",
       "              window.interactive_beam_jquery(document).ready(function($){\n",
       "                \n",
       "              });\n",
       "            }\n",
       "            document.head.appendChild(datatableScript);\n",
       "          };\n",
       "          document.head.appendChild(jqueryScript);\n",
       "        } else {\n",
       "          window.interactive_beam_jquery(document).ready(function($){\n",
       "            \n",
       "          });\n",
       "        }"
      ]
     },
     "metadata": {},
     "output_type": "display_data"
    },
    {
     "ename": "EEException",
     "evalue": "Too many tasks already in the queue (3000, limit 3000). [while running '[7]: Export image to GCS bucket']",
     "output_type": "error",
     "traceback": [
      "\u001b[0;31m---------------------------------------------------------------------------\u001b[0m",
      "\u001b[0;31mHttpError\u001b[0m                                 Traceback (most recent call last)",
      "File \u001b[0;32m/opt/conda/lib/python3.10/site-packages/ee/data.py:402\u001b[0m, in \u001b[0;36m_execute_cloud_call\u001b[0;34m(call, num_retries)\u001b[0m\n\u001b[1;32m    401\u001b[0m \u001b[38;5;28;01mtry\u001b[39;00m:\n\u001b[0;32m--> 402\u001b[0m   \u001b[38;5;28;01mreturn\u001b[39;00m \u001b[43mcall\u001b[49m\u001b[38;5;241;43m.\u001b[39;49m\u001b[43mexecute\u001b[49m\u001b[43m(\u001b[49m\u001b[43mnum_retries\u001b[49m\u001b[38;5;241;43m=\u001b[39;49m\u001b[43mnum_retries\u001b[49m\u001b[43m)\u001b[49m\n\u001b[1;32m    403\u001b[0m \u001b[38;5;28;01mexcept\u001b[39;00m googleapiclient\u001b[38;5;241m.\u001b[39merrors\u001b[38;5;241m.\u001b[39mHttpError \u001b[38;5;28;01mas\u001b[39;00m e:\n",
      "File \u001b[0;32m/opt/conda/lib/python3.10/site-packages/googleapiclient/_helpers.py:130\u001b[0m, in \u001b[0;36mpositional.<locals>.positional_decorator.<locals>.positional_wrapper\u001b[0;34m(*args, **kwargs)\u001b[0m\n\u001b[1;32m    129\u001b[0m         logger\u001b[38;5;241m.\u001b[39mwarning(message)\n\u001b[0;32m--> 130\u001b[0m \u001b[38;5;28;01mreturn\u001b[39;00m \u001b[43mwrapped\u001b[49m\u001b[43m(\u001b[49m\u001b[38;5;241;43m*\u001b[39;49m\u001b[43margs\u001b[49m\u001b[43m,\u001b[49m\u001b[43m \u001b[49m\u001b[38;5;241;43m*\u001b[39;49m\u001b[38;5;241;43m*\u001b[39;49m\u001b[43mkwargs\u001b[49m\u001b[43m)\u001b[49m\n",
      "File \u001b[0;32m/opt/conda/lib/python3.10/site-packages/googleapiclient/http.py:938\u001b[0m, in \u001b[0;36mHttpRequest.execute\u001b[0;34m(self, http, num_retries)\u001b[0m\n\u001b[1;32m    937\u001b[0m \u001b[38;5;28;01mif\u001b[39;00m resp\u001b[38;5;241m.\u001b[39mstatus \u001b[38;5;241m>\u001b[39m\u001b[38;5;241m=\u001b[39m \u001b[38;5;241m300\u001b[39m:\n\u001b[0;32m--> 938\u001b[0m     \u001b[38;5;28;01mraise\u001b[39;00m HttpError(resp, content, uri\u001b[38;5;241m=\u001b[39m\u001b[38;5;28mself\u001b[39m\u001b[38;5;241m.\u001b[39muri)\n\u001b[1;32m    939\u001b[0m \u001b[38;5;28;01mreturn\u001b[39;00m \u001b[38;5;28mself\u001b[39m\u001b[38;5;241m.\u001b[39mpostproc(resp, content)\n",
      "\u001b[0;31mHttpError\u001b[0m: <HttpError 400 when requesting https://earthengine-highvolume.googleapis.com/v1/projects/supple-nature-370421/image:export?alt=json returned \"Too many tasks already in the queue (3000, limit 3000).\". Details: \"Too many tasks already in the queue (3000, limit 3000).\">",
      "\nDuring handling of the above exception, another exception occurred:\n",
      "\u001b[0;31mEEException\u001b[0m                               Traceback (most recent call last)",
      "File \u001b[0;32m/opt/conda/lib/python3.10/site-packages/apache_beam/runners/common.py:1495\u001b[0m, in \u001b[0;36mapache_beam.runners.common.DoFnRunner.process\u001b[0;34m()\u001b[0m\n",
      "File \u001b[0;32m/opt/conda/lib/python3.10/site-packages/apache_beam/runners/common.py:688\u001b[0m, in \u001b[0;36mapache_beam.runners.common.SimpleInvoker.invoke_process\u001b[0;34m()\u001b[0m\n",
      "File \u001b[0;32m/opt/conda/lib/python3.10/site-packages/apache_beam/transforms/core.py:2065\u001b[0m, in \u001b[0;36mMap.<locals>.<lambda>\u001b[0;34m(x)\u001b[0m\n\u001b[1;32m   2064\u001b[0m \u001b[38;5;28;01melse\u001b[39;00m:\n\u001b[0;32m-> 2065\u001b[0m   wrapper \u001b[38;5;241m=\u001b[39m \u001b[38;5;28;01mlambda\u001b[39;00m x: [\u001b[43mfn\u001b[49m\u001b[43m(\u001b[49m\u001b[43mx\u001b[49m\u001b[43m)\u001b[49m]\n\u001b[1;32m   2067\u001b[0m label \u001b[38;5;241m=\u001b[39m \u001b[38;5;124m'\u001b[39m\u001b[38;5;124mMap(\u001b[39m\u001b[38;5;132;01m%s\u001b[39;00m\u001b[38;5;124m)\u001b[39m\u001b[38;5;124m'\u001b[39m \u001b[38;5;241m%\u001b[39m ptransform\u001b[38;5;241m.\u001b[39mlabel_from_callable(fn)\n",
      "Cell \u001b[0;32mIn[6], line 33\u001b[0m, in \u001b[0;36munpack_for_export\u001b[0;34m(list_input)\u001b[0m\n\u001b[1;32m     28\u001b[0m county_geom \u001b[38;5;241m=\u001b[39m (\n\u001b[1;32m     29\u001b[0m ee\u001b[38;5;241m.\u001b[39mFeatureCollection(\u001b[38;5;124m\"\u001b[39m\u001b[38;5;124mTIGER/2018/Counties\u001b[39m\u001b[38;5;124m\"\u001b[39m)\n\u001b[1;32m     30\u001b[0m     \u001b[38;5;241m.\u001b[39mfilter(ee\u001b[38;5;241m.\u001b[39mFilter\u001b[38;5;241m.\u001b[39meq(\u001b[38;5;124m\"\u001b[39m\u001b[38;5;124mNAME\u001b[39m\u001b[38;5;124m\"\u001b[39m, county\u001b[38;5;241m.\u001b[39mcapitalize()))\n\u001b[1;32m     31\u001b[0m     \u001b[38;5;241m.\u001b[39mfilter(ee\u001b[38;5;241m.\u001b[39mFilter\u001b[38;5;241m.\u001b[39meq(\u001b[38;5;124m\"\u001b[39m\u001b[38;5;124mSTATEFP\u001b[39m\u001b[38;5;124m\"\u001b[39m, state_fips))\n\u001b[1;32m     32\u001b[0m     )\u001b[38;5;241m.\u001b[39mgeometry()\n\u001b[0;32m---> 33\u001b[0m \u001b[38;5;28;01mreturn\u001b[39;00m \u001b[43mexport_img\u001b[49m\u001b[43m(\u001b[49m\u001b[43mlist_input\u001b[49m\u001b[43m[\u001b[49m\u001b[38;5;124;43m\"\u001b[39;49m\u001b[38;5;124;43mimage\u001b[39;49m\u001b[38;5;124;43m\"\u001b[39;49m\u001b[43m]\u001b[49m\u001b[43m,\u001b[49m\u001b[43m \u001b[49m\u001b[43mlist_input\u001b[49m\u001b[43m[\u001b[49m\u001b[38;5;124;43m\"\u001b[39;49m\u001b[38;5;124;43mimage_name\u001b[39;49m\u001b[38;5;124;43m\"\u001b[39;49m\u001b[43m]\u001b[49m\u001b[43m,\u001b[49m\u001b[43m \u001b[49m\u001b[43mcounty_geom\u001b[49m\u001b[43m)\u001b[49m\n",
      "Cell \u001b[0;32mIn[6], line 19\u001b[0m, in \u001b[0;36mexport_img\u001b[0;34m(image, image_name, county_geom)\u001b[0m\n\u001b[1;32m      6\u001b[0m img_task \u001b[38;5;241m=\u001b[39m ee\u001b[38;5;241m.\u001b[39mbatch\u001b[38;5;241m.\u001b[39mExport\u001b[38;5;241m.\u001b[39mimage\u001b[38;5;241m.\u001b[39mtoCloudStorage(\n\u001b[1;32m      7\u001b[0m image\u001b[38;5;241m=\u001b[39mimage,\n\u001b[1;32m      8\u001b[0m description\u001b[38;5;241m=\u001b[39mimage_name\u001b[38;5;241m.\u001b[39mreplace(\u001b[38;5;124m\"\u001b[39m\u001b[38;5;124m/\u001b[39m\u001b[38;5;124m\"\u001b[39m,\u001b[38;5;124m\"\u001b[39m\u001b[38;5;124m-\u001b[39m\u001b[38;5;124m\"\u001b[39m),\n\u001b[0;32m   (...)\u001b[0m\n\u001b[1;32m     16\u001b[0m maxPixels \u001b[38;5;241m=\u001b[39m \u001b[38;5;241m1e9\u001b[39m\n\u001b[1;32m     17\u001b[0m )\n\u001b[0;32m---> 19\u001b[0m \u001b[43mimg_task\u001b[49m\u001b[38;5;241;43m.\u001b[39;49m\u001b[43mstart\u001b[49m\u001b[43m(\u001b[49m\u001b[43m)\u001b[49m\n\u001b[1;32m     20\u001b[0m logging\u001b[38;5;241m.\u001b[39minfo(\u001b[38;5;124mf\u001b[39m\u001b[38;5;124m\"\u001b[39m\u001b[38;5;132;01m{\u001b[39;00mjob_name\u001b[38;5;132;01m}\u001b[39;00m\u001b[38;5;124m: Export task started for: \u001b[39m\u001b[38;5;132;01m{\u001b[39;00mimage_name\u001b[38;5;132;01m}\u001b[39;00m\u001b[38;5;124m\"\u001b[39m)\n",
      "File \u001b[0;32m/opt/conda/lib/python3.10/site-packages/ee/batch.py:125\u001b[0m, in \u001b[0;36mTask.start\u001b[0;34m(self)\u001b[0m\n\u001b[1;32m    124\u001b[0m \u001b[38;5;28;01mif\u001b[39;00m \u001b[38;5;28mself\u001b[39m\u001b[38;5;241m.\u001b[39mtask_type \u001b[38;5;241m==\u001b[39m Task\u001b[38;5;241m.\u001b[39mType\u001b[38;5;241m.\u001b[39mEXPORT_IMAGE:\n\u001b[0;32m--> 125\u001b[0m   result \u001b[38;5;241m=\u001b[39m \u001b[43mdata\u001b[49m\u001b[38;5;241;43m.\u001b[39;49m\u001b[43mexportImage\u001b[49m\u001b[43m(\u001b[49m\u001b[38;5;28;43mself\u001b[39;49m\u001b[38;5;241;43m.\u001b[39;49m\u001b[43m_request_id\u001b[49m\u001b[43m,\u001b[49m\u001b[43m \u001b[49m\u001b[38;5;28;43mself\u001b[39;49m\u001b[38;5;241;43m.\u001b[39;49m\u001b[43mconfig\u001b[49m\u001b[43m)\u001b[49m\n\u001b[1;32m    126\u001b[0m \u001b[38;5;28;01melif\u001b[39;00m \u001b[38;5;28mself\u001b[39m\u001b[38;5;241m.\u001b[39mtask_type \u001b[38;5;241m==\u001b[39m Task\u001b[38;5;241m.\u001b[39mType\u001b[38;5;241m.\u001b[39mEXPORT_MAP:\n",
      "File \u001b[0;32m/opt/conda/lib/python3.10/site-packages/ee/data.py:1720\u001b[0m, in \u001b[0;36mexportImage\u001b[0;34m(request_id, params)\u001b[0m\n\u001b[1;32m   1719\u001b[0m params \u001b[38;5;241m=\u001b[39m params\u001b[38;5;241m.\u001b[39mcopy()\n\u001b[0;32m-> 1720\u001b[0m \u001b[38;5;28;01mreturn\u001b[39;00m \u001b[43m_prepare_and_run_export\u001b[49m\u001b[43m(\u001b[49m\n\u001b[1;32m   1721\u001b[0m \u001b[43m    \u001b[49m\u001b[43mrequest_id\u001b[49m\u001b[43m,\u001b[49m\u001b[43m \u001b[49m\u001b[43mparams\u001b[49m\u001b[43m,\u001b[49m\u001b[43m \u001b[49m\u001b[43m_get_cloud_projects\u001b[49m\u001b[43m(\u001b[49m\u001b[43m)\u001b[49m\u001b[38;5;241;43m.\u001b[39;49m\u001b[43mimage\u001b[49m\u001b[43m(\u001b[49m\u001b[43m)\u001b[49m\u001b[38;5;241;43m.\u001b[39;49m\u001b[43mexport\u001b[49m\n\u001b[1;32m   1722\u001b[0m \u001b[43m\u001b[49m\u001b[43m)\u001b[49m\n",
      "File \u001b[0;32m/opt/conda/lib/python3.10/site-packages/ee/data.py:1864\u001b[0m, in \u001b[0;36m_prepare_and_run_export\u001b[0;34m(request_id, params, export_endpoint)\u001b[0m\n\u001b[1;32m   1863\u001b[0m num_retries \u001b[38;5;241m=\u001b[39m MAX_RETRIES \u001b[38;5;28;01mif\u001b[39;00m request_id \u001b[38;5;28;01melse\u001b[39;00m \u001b[38;5;241m0\u001b[39m\n\u001b[0;32m-> 1864\u001b[0m \u001b[38;5;28;01mreturn\u001b[39;00m \u001b[43m_execute_cloud_call\u001b[49m\u001b[43m(\u001b[49m\n\u001b[1;32m   1865\u001b[0m \u001b[43m    \u001b[49m\u001b[43mexport_endpoint\u001b[49m\u001b[43m(\u001b[49m\u001b[43mproject\u001b[49m\u001b[38;5;241;43m=\u001b[39;49m\u001b[43m_get_projects_path\u001b[49m\u001b[43m(\u001b[49m\u001b[43m)\u001b[49m\u001b[43m,\u001b[49m\u001b[43m \u001b[49m\u001b[43mbody\u001b[49m\u001b[38;5;241;43m=\u001b[39;49m\u001b[43mparams\u001b[49m\u001b[43m)\u001b[49m\u001b[43m,\u001b[49m\n\u001b[1;32m   1866\u001b[0m \u001b[43m    \u001b[49m\u001b[43mnum_retries\u001b[49m\u001b[38;5;241;43m=\u001b[39;49m\u001b[43mnum_retries\u001b[49m\u001b[43m)\u001b[49m\n",
      "File \u001b[0;32m/opt/conda/lib/python3.10/site-packages/ee/data.py:404\u001b[0m, in \u001b[0;36m_execute_cloud_call\u001b[0;34m(call, num_retries)\u001b[0m\n\u001b[1;32m    403\u001b[0m \u001b[38;5;28;01mexcept\u001b[39;00m googleapiclient\u001b[38;5;241m.\u001b[39merrors\u001b[38;5;241m.\u001b[39mHttpError \u001b[38;5;28;01mas\u001b[39;00m e:\n\u001b[0;32m--> 404\u001b[0m   \u001b[38;5;28;01mraise\u001b[39;00m _translate_cloud_exception(e)\n",
      "\u001b[0;31mEEException\u001b[0m: Too many tasks already in the queue (3000, limit 3000).",
      "\nDuring handling of the above exception, another exception occurred:\n",
      "\u001b[0;31mEEException\u001b[0m                               Traceback (most recent call last)",
      "Cell \u001b[0;32mIn[7], line 2\u001b[0m\n\u001b[1;32m      1\u001b[0m logging\u001b[38;5;241m.\u001b[39minfo(\u001b[38;5;124mf\u001b[39m\u001b[38;5;124m\"\u001b[39m\u001b[38;5;124mJob \u001b[39m\u001b[38;5;132;01m{\u001b[39;00mjob_name\u001b[38;5;132;01m}\u001b[39;00m\u001b[38;5;124m started\u001b[39m\u001b[38;5;124m\"\u001b[39m)\n\u001b[0;32m----> 2\u001b[0m \u001b[38;5;28;01mwith\u001b[39;00m beam\u001b[38;5;241m.\u001b[39mPipeline() \u001b[38;5;28;01mas\u001b[39;00m pipeline:\n\u001b[1;32m      3\u001b[0m     (\n\u001b[1;32m      4\u001b[0m         pipeline\n\u001b[1;32m      5\u001b[0m         \u001b[38;5;241m|\u001b[39m\u001b[38;5;124m\"\u001b[39m\u001b[38;5;124mCreate parameter sets\u001b[39m\u001b[38;5;124m\"\u001b[39m \u001b[38;5;241m>>\u001b[39m  beam\u001b[38;5;241m.\u001b[39mCreate(get_input_img_params)\n\u001b[1;32m      6\u001b[0m         \u001b[38;5;241m|\u001b[39m \u001b[38;5;124m\"\u001b[39m\u001b[38;5;124mSample counties\u001b[39m\u001b[38;5;124m\"\u001b[39m \u001b[38;5;241m>>\u001b[39m beam\u001b[38;5;241m.\u001b[39mMap(apply_get_input_image)\n\u001b[1;32m      7\u001b[0m         \u001b[38;5;241m|\u001b[39m \u001b[38;5;124m\"\u001b[39m\u001b[38;5;124mExport image to GCS bucket\u001b[39m\u001b[38;5;124m\"\u001b[39m \u001b[38;5;241m>>\u001b[39m beam\u001b[38;5;241m.\u001b[39mMap(unpack_for_export)\n\u001b[1;32m      8\u001b[0m     )\n\u001b[1;32m      9\u001b[0m logging\u001b[38;5;241m.\u001b[39minfo(\u001b[38;5;124mf\u001b[39m\u001b[38;5;124m\"\u001b[39m\u001b[38;5;124mJob \u001b[39m\u001b[38;5;132;01m{\u001b[39;00mjob_name\u001b[38;5;132;01m}\u001b[39;00m\u001b[38;5;124m finished\u001b[39m\u001b[38;5;124m\"\u001b[39m)\n",
      "File \u001b[0;32m/opt/conda/lib/python3.10/site-packages/apache_beam/pipeline.py:620\u001b[0m, in \u001b[0;36mPipeline.__exit__\u001b[0;34m(self, exc_type, exc_val, exc_tb)\u001b[0m\n\u001b[1;32m    618\u001b[0m \u001b[38;5;28;01mtry\u001b[39;00m:\n\u001b[1;32m    619\u001b[0m   \u001b[38;5;28;01mif\u001b[39;00m \u001b[38;5;129;01mnot\u001b[39;00m exc_type:\n\u001b[0;32m--> 620\u001b[0m     \u001b[38;5;28mself\u001b[39m\u001b[38;5;241m.\u001b[39mresult \u001b[38;5;241m=\u001b[39m \u001b[38;5;28;43mself\u001b[39;49m\u001b[38;5;241;43m.\u001b[39;49m\u001b[43mrun\u001b[49m\u001b[43m(\u001b[49m\u001b[43m)\u001b[49m\n\u001b[1;32m    621\u001b[0m     \u001b[38;5;28mself\u001b[39m\u001b[38;5;241m.\u001b[39mresult\u001b[38;5;241m.\u001b[39mwait_until_finish()\n\u001b[1;32m    622\u001b[0m \u001b[38;5;28;01mfinally\u001b[39;00m:\n",
      "File \u001b[0;32m/opt/conda/lib/python3.10/site-packages/apache_beam/pipeline.py:594\u001b[0m, in \u001b[0;36mPipeline.run\u001b[0;34m(self, test_runner_api)\u001b[0m\n\u001b[1;32m    592\u001b[0m     \u001b[38;5;28;01mfinally\u001b[39;00m:\n\u001b[1;32m    593\u001b[0m       shutil\u001b[38;5;241m.\u001b[39mrmtree(tmpdir)\n\u001b[0;32m--> 594\u001b[0m   \u001b[38;5;28;01mreturn\u001b[39;00m \u001b[38;5;28;43mself\u001b[39;49m\u001b[38;5;241;43m.\u001b[39;49m\u001b[43mrunner\u001b[49m\u001b[38;5;241;43m.\u001b[39;49m\u001b[43mrun_pipeline\u001b[49m\u001b[43m(\u001b[49m\u001b[38;5;28;43mself\u001b[39;49m\u001b[43m,\u001b[49m\u001b[43m \u001b[49m\u001b[38;5;28;43mself\u001b[39;49m\u001b[38;5;241;43m.\u001b[39;49m\u001b[43m_options\u001b[49m\u001b[43m)\u001b[49m\n\u001b[1;32m    595\u001b[0m \u001b[38;5;28;01mfinally\u001b[39;00m:\n\u001b[1;32m    596\u001b[0m   \u001b[38;5;28;01mif\u001b[39;00m \u001b[38;5;129;01mnot\u001b[39;00m is_in_ipython():\n",
      "File \u001b[0;32m/opt/conda/lib/python3.10/site-packages/apache_beam/runners/direct/direct_runner.py:128\u001b[0m, in \u001b[0;36mSwitchingDirectRunner.run_pipeline\u001b[0;34m(self, pipeline, options)\u001b[0m\n\u001b[1;32m    125\u001b[0m \u001b[38;5;28;01melse\u001b[39;00m:\n\u001b[1;32m    126\u001b[0m   runner \u001b[38;5;241m=\u001b[39m BundleBasedDirectRunner()\n\u001b[0;32m--> 128\u001b[0m \u001b[38;5;28;01mreturn\u001b[39;00m \u001b[43mrunner\u001b[49m\u001b[38;5;241;43m.\u001b[39;49m\u001b[43mrun_pipeline\u001b[49m\u001b[43m(\u001b[49m\u001b[43mpipeline\u001b[49m\u001b[43m,\u001b[49m\u001b[43m \u001b[49m\u001b[43moptions\u001b[49m\u001b[43m)\u001b[49m\n",
      "File \u001b[0;32m/opt/conda/lib/python3.10/site-packages/apache_beam/runners/portability/fn_api_runner/fn_runner.py:195\u001b[0m, in \u001b[0;36mFnApiRunner.run_pipeline\u001b[0;34m(self, pipeline, options)\u001b[0m\n\u001b[1;32m    184\u001b[0m   _LOGGER\u001b[38;5;241m.\u001b[39mwarning(\n\u001b[1;32m    185\u001b[0m       \u001b[38;5;124m'\u001b[39m\u001b[38;5;124mIf direct_num_workers is not equal to 1, direct_running_mode \u001b[39m\u001b[38;5;124m'\u001b[39m\n\u001b[1;32m    186\u001b[0m       \u001b[38;5;124m'\u001b[39m\u001b[38;5;124mshould be `multi_processing` or `multi_threading` instead of \u001b[39m\u001b[38;5;124m'\u001b[39m\n\u001b[0;32m   (...)\u001b[0m\n\u001b[1;32m    189\u001b[0m       \u001b[38;5;28mself\u001b[39m\u001b[38;5;241m.\u001b[39m_num_workers,\n\u001b[1;32m    190\u001b[0m       running_mode)\n\u001b[1;32m    192\u001b[0m \u001b[38;5;28mself\u001b[39m\u001b[38;5;241m.\u001b[39m_profiler_factory \u001b[38;5;241m=\u001b[39m Profile\u001b[38;5;241m.\u001b[39mfactory_from_options(\n\u001b[1;32m    193\u001b[0m     options\u001b[38;5;241m.\u001b[39mview_as(pipeline_options\u001b[38;5;241m.\u001b[39mProfilingOptions))\n\u001b[0;32m--> 195\u001b[0m \u001b[38;5;28mself\u001b[39m\u001b[38;5;241m.\u001b[39m_latest_run_result \u001b[38;5;241m=\u001b[39m \u001b[38;5;28;43mself\u001b[39;49m\u001b[38;5;241;43m.\u001b[39;49m\u001b[43mrun_via_runner_api\u001b[49m\u001b[43m(\u001b[49m\n\u001b[1;32m    196\u001b[0m \u001b[43m    \u001b[49m\u001b[43mpipeline\u001b[49m\u001b[38;5;241;43m.\u001b[39;49m\u001b[43mto_runner_api\u001b[49m\u001b[43m(\u001b[49m\u001b[43mdefault_environment\u001b[49m\u001b[38;5;241;43m=\u001b[39;49m\u001b[38;5;28;43mself\u001b[39;49m\u001b[38;5;241;43m.\u001b[39;49m\u001b[43m_default_environment\u001b[49m\u001b[43m)\u001b[49m\u001b[43m,\u001b[49m\n\u001b[1;32m    197\u001b[0m \u001b[43m    \u001b[49m\u001b[43moptions\u001b[49m\u001b[43m)\u001b[49m\n\u001b[1;32m    198\u001b[0m \u001b[38;5;28;01mreturn\u001b[39;00m \u001b[38;5;28mself\u001b[39m\u001b[38;5;241m.\u001b[39m_latest_run_result\n",
      "File \u001b[0;32m/opt/conda/lib/python3.10/site-packages/apache_beam/runners/portability/fn_api_runner/fn_runner.py:221\u001b[0m, in \u001b[0;36mFnApiRunner.run_via_runner_api\u001b[0;34m(self, pipeline_proto, options)\u001b[0m\n\u001b[1;32m    218\u001b[0m pipeline_proto \u001b[38;5;241m=\u001b[39m merge_common_environments(\n\u001b[1;32m    219\u001b[0m     \u001b[38;5;28mself\u001b[39m\u001b[38;5;241m.\u001b[39mresolve_any_environments(pipeline_proto))\n\u001b[1;32m    220\u001b[0m stage_context, stages \u001b[38;5;241m=\u001b[39m \u001b[38;5;28mself\u001b[39m\u001b[38;5;241m.\u001b[39mcreate_stages(pipeline_proto)\n\u001b[0;32m--> 221\u001b[0m \u001b[38;5;28;01mreturn\u001b[39;00m \u001b[38;5;28;43mself\u001b[39;49m\u001b[38;5;241;43m.\u001b[39;49m\u001b[43mrun_stages\u001b[49m\u001b[43m(\u001b[49m\u001b[43mstage_context\u001b[49m\u001b[43m,\u001b[49m\u001b[43m \u001b[49m\u001b[43mstages\u001b[49m\u001b[43m)\u001b[49m\n",
      "File \u001b[0;32m/opt/conda/lib/python3.10/site-packages/apache_beam/runners/portability/fn_api_runner/fn_runner.py:468\u001b[0m, in \u001b[0;36mFnApiRunner.run_stages\u001b[0;34m(self, stage_context, stages)\u001b[0m\n\u001b[1;32m    465\u001b[0m \u001b[38;5;28;01massert\u001b[39;00m consuming_stage_name \u001b[38;5;241m==\u001b[39m bundle_context_manager\u001b[38;5;241m.\u001b[39mstage\u001b[38;5;241m.\u001b[39mname\n\u001b[1;32m    467\u001b[0m bundle_counter \u001b[38;5;241m+\u001b[39m\u001b[38;5;241m=\u001b[39m \u001b[38;5;241m1\u001b[39m\n\u001b[0;32m--> 468\u001b[0m bundle_results \u001b[38;5;241m=\u001b[39m \u001b[38;5;28;43mself\u001b[39;49m\u001b[38;5;241;43m.\u001b[39;49m\u001b[43m_execute_bundle\u001b[49m\u001b[43m(\u001b[49m\n\u001b[1;32m    469\u001b[0m \u001b[43m    \u001b[49m\u001b[43mrunner_execution_context\u001b[49m\u001b[43m,\u001b[49m\u001b[43m \u001b[49m\u001b[43mbundle_context_manager\u001b[49m\u001b[43m,\u001b[49m\u001b[43m \u001b[49m\u001b[43mbundle_input\u001b[49m\u001b[43m)\u001b[49m\n\u001b[1;32m    471\u001b[0m \u001b[38;5;28;01mif\u001b[39;00m consuming_stage_name \u001b[38;5;129;01min\u001b[39;00m monitoring_infos_by_stage:\n\u001b[1;32m    472\u001b[0m   monitoring_infos_by_stage[\n\u001b[1;32m    473\u001b[0m       consuming_stage_name] \u001b[38;5;241m=\u001b[39m consolidate_monitoring_infos(\n\u001b[1;32m    474\u001b[0m           itertools\u001b[38;5;241m.\u001b[39mchain(\n\u001b[1;32m    475\u001b[0m               bundle_results\u001b[38;5;241m.\u001b[39mprocess_bundle\u001b[38;5;241m.\u001b[39mmonitoring_infos,\n\u001b[1;32m    476\u001b[0m               monitoring_infos_by_stage[consuming_stage_name]))\n",
      "File \u001b[0;32m/opt/conda/lib/python3.10/site-packages/apache_beam/runners/portability/fn_api_runner/fn_runner.py:793\u001b[0m, in \u001b[0;36mFnApiRunner._execute_bundle\u001b[0;34m(self, runner_execution_context, bundle_context_manager, bundle_input)\u001b[0m\n\u001b[1;32m    788\u001b[0m \u001b[38;5;66;03m# We create the bundle manager here, as it can be reused for bundles of\u001b[39;00m\n\u001b[1;32m    789\u001b[0m \u001b[38;5;66;03m# the same stage, but it may have to be created by-bundle later on.\u001b[39;00m\n\u001b[1;32m    790\u001b[0m bundle_manager \u001b[38;5;241m=\u001b[39m \u001b[38;5;28mself\u001b[39m\u001b[38;5;241m.\u001b[39m_get_bundle_manager(bundle_context_manager)\n\u001b[1;32m    792\u001b[0m last_result, deferred_inputs, newly_set_timers, watermark_updates \u001b[38;5;241m=\u001b[39m (\n\u001b[0;32m--> 793\u001b[0m     \u001b[38;5;28;43mself\u001b[39;49m\u001b[38;5;241;43m.\u001b[39;49m\u001b[43m_run_bundle\u001b[49m\u001b[43m(\u001b[49m\n\u001b[1;32m    794\u001b[0m \u001b[43m        \u001b[49m\u001b[43mrunner_execution_context\u001b[49m\u001b[43m,\u001b[49m\n\u001b[1;32m    795\u001b[0m \u001b[43m        \u001b[49m\u001b[43mbundle_context_manager\u001b[49m\u001b[43m,\u001b[49m\n\u001b[1;32m    796\u001b[0m \u001b[43m        \u001b[49m\u001b[43mbundle_input\u001b[49m\u001b[43m,\u001b[49m\n\u001b[1;32m    797\u001b[0m \u001b[43m        \u001b[49m\u001b[43mbundle_context_manager\u001b[49m\u001b[38;5;241;43m.\u001b[39;49m\u001b[43mstage_data_outputs\u001b[49m\u001b[43m,\u001b[49m\n\u001b[1;32m    798\u001b[0m \u001b[43m        \u001b[49m\u001b[43mbundle_context_manager\u001b[49m\u001b[38;5;241;43m.\u001b[39;49m\u001b[43mstage_timer_outputs\u001b[49m\u001b[43m,\u001b[49m\n\u001b[1;32m    799\u001b[0m \u001b[43m        \u001b[49m\u001b[43mbundle_manager\u001b[49m\u001b[43m)\u001b[49m)\n\u001b[1;32m    801\u001b[0m \u001b[38;5;28;01mfor\u001b[39;00m pc_name, watermark \u001b[38;5;129;01min\u001b[39;00m watermark_updates\u001b[38;5;241m.\u001b[39mitems():\n\u001b[1;32m    802\u001b[0m   _BUNDLE_LOGGER\u001b[38;5;241m.\u001b[39mdebug(\u001b[38;5;124m'\u001b[39m\u001b[38;5;124mUpdate: \u001b[39m\u001b[38;5;132;01m%s\u001b[39;00m\u001b[38;5;124m \u001b[39m\u001b[38;5;132;01m%s\u001b[39;00m\u001b[38;5;124m'\u001b[39m, pc_name, watermark)\n",
      "File \u001b[0;32m/opt/conda/lib/python3.10/site-packages/apache_beam/runners/portability/fn_api_runner/fn_runner.py:1032\u001b[0m, in \u001b[0;36mFnApiRunner._run_bundle\u001b[0;34m(self, runner_execution_context, bundle_context_manager, bundle_input, data_output, expected_timer_output, bundle_manager)\u001b[0m\n\u001b[1;32m   1023\u001b[0m input_timers \u001b[38;5;241m=\u001b[39m bundle_input\u001b[38;5;241m.\u001b[39mtimers\n\u001b[1;32m   1024\u001b[0m \u001b[38;5;28mself\u001b[39m\u001b[38;5;241m.\u001b[39m_run_bundle_multiple_times_for_testing(\n\u001b[1;32m   1025\u001b[0m     runner_execution_context,\n\u001b[1;32m   1026\u001b[0m     bundle_manager,\n\u001b[0;32m   (...)\u001b[0m\n\u001b[1;32m   1029\u001b[0m     input_timers,\n\u001b[1;32m   1030\u001b[0m     expected_timer_output)\n\u001b[0;32m-> 1032\u001b[0m result, splits \u001b[38;5;241m=\u001b[39m \u001b[43mbundle_manager\u001b[49m\u001b[38;5;241;43m.\u001b[39;49m\u001b[43mprocess_bundle\u001b[49m\u001b[43m(\u001b[49m\n\u001b[1;32m   1033\u001b[0m \u001b[43m    \u001b[49m\u001b[43mdata_input\u001b[49m\u001b[43m,\u001b[49m\u001b[43m \u001b[49m\u001b[43mdata_output\u001b[49m\u001b[43m,\u001b[49m\u001b[43m \u001b[49m\u001b[43minput_timers\u001b[49m\u001b[43m,\u001b[49m\u001b[43m \u001b[49m\u001b[43mexpected_timer_output\u001b[49m\u001b[43m)\u001b[49m\n\u001b[1;32m   1034\u001b[0m \u001b[38;5;66;03m# Now we collect all the deferred inputs remaining from bundle execution.\u001b[39;00m\n\u001b[1;32m   1035\u001b[0m \u001b[38;5;66;03m# Deferred inputs can be:\u001b[39;00m\n\u001b[1;32m   1036\u001b[0m \u001b[38;5;66;03m# - timers\u001b[39;00m\n\u001b[1;32m   1037\u001b[0m \u001b[38;5;66;03m# - SDK-initiated deferred applications of root elements\u001b[39;00m\n\u001b[1;32m   1038\u001b[0m \u001b[38;5;66;03m# - Runner-initiated deferred applications of root elements\u001b[39;00m\n\u001b[1;32m   1039\u001b[0m deferred_inputs: Dict[\u001b[38;5;28mstr\u001b[39m, execution\u001b[38;5;241m.\u001b[39mPartitionableBuffer] \u001b[38;5;241m=\u001b[39m {}\n",
      "File \u001b[0;32m/opt/conda/lib/python3.10/site-packages/apache_beam/runners/portability/fn_api_runner/fn_runner.py:1358\u001b[0m, in \u001b[0;36mBundleManager.process_bundle\u001b[0;34m(self, inputs, expected_outputs, fired_timers, expected_output_timers, dry_run)\u001b[0m\n\u001b[1;32m   1351\u001b[0m \u001b[38;5;66;03m# Actually start the bundle.\u001b[39;00m\n\u001b[1;32m   1352\u001b[0m process_bundle_req \u001b[38;5;241m=\u001b[39m beam_fn_api_pb2\u001b[38;5;241m.\u001b[39mInstructionRequest(\n\u001b[1;32m   1353\u001b[0m     instruction_id\u001b[38;5;241m=\u001b[39mprocess_bundle_id,\n\u001b[1;32m   1354\u001b[0m     process_bundle\u001b[38;5;241m=\u001b[39mbeam_fn_api_pb2\u001b[38;5;241m.\u001b[39mProcessBundleRequest(\n\u001b[1;32m   1355\u001b[0m         process_bundle_descriptor_id\u001b[38;5;241m=\u001b[39m\u001b[38;5;28mself\u001b[39m\u001b[38;5;241m.\u001b[39mbundle_context_manager\u001b[38;5;241m.\u001b[39m\n\u001b[1;32m   1356\u001b[0m         process_bundle_descriptor\u001b[38;5;241m.\u001b[39mid,\n\u001b[1;32m   1357\u001b[0m         cache_tokens\u001b[38;5;241m=\u001b[39m[\u001b[38;5;28mnext\u001b[39m(\u001b[38;5;28mself\u001b[39m\u001b[38;5;241m.\u001b[39m_cache_token_generator)]))\n\u001b[0;32m-> 1358\u001b[0m result_future \u001b[38;5;241m=\u001b[39m \u001b[38;5;28;43mself\u001b[39;49m\u001b[38;5;241;43m.\u001b[39;49m\u001b[43m_worker_handler\u001b[49m\u001b[38;5;241;43m.\u001b[39;49m\u001b[43mcontrol_conn\u001b[49m\u001b[38;5;241;43m.\u001b[39;49m\u001b[43mpush\u001b[49m\u001b[43m(\u001b[49m\u001b[43mprocess_bundle_req\u001b[49m\u001b[43m)\u001b[49m\n\u001b[1;32m   1360\u001b[0m split_results: List[beam_fn_api_pb2\u001b[38;5;241m.\u001b[39mProcessBundleSplitResponse] \u001b[38;5;241m=\u001b[39m []\n\u001b[1;32m   1361\u001b[0m \u001b[38;5;28;01mwith\u001b[39;00m ProgressRequester(\u001b[38;5;28mself\u001b[39m\u001b[38;5;241m.\u001b[39m_worker_handler,\n\u001b[1;32m   1362\u001b[0m                        process_bundle_id,\n\u001b[1;32m   1363\u001b[0m                        \u001b[38;5;28mself\u001b[39m\u001b[38;5;241m.\u001b[39m_progress_frequency):\n",
      "File \u001b[0;32m/opt/conda/lib/python3.10/site-packages/apache_beam/runners/portability/fn_api_runner/worker_handlers.py:384\u001b[0m, in \u001b[0;36mEmbeddedWorkerHandler.push\u001b[0;34m(self, request)\u001b[0m\n\u001b[1;32m    382\u001b[0m   \u001b[38;5;28mself\u001b[39m\u001b[38;5;241m.\u001b[39m_uid_counter \u001b[38;5;241m+\u001b[39m\u001b[38;5;241m=\u001b[39m \u001b[38;5;241m1\u001b[39m\n\u001b[1;32m    383\u001b[0m   request\u001b[38;5;241m.\u001b[39minstruction_id \u001b[38;5;241m=\u001b[39m \u001b[38;5;124m'\u001b[39m\u001b[38;5;124mcontrol_\u001b[39m\u001b[38;5;132;01m%s\u001b[39;00m\u001b[38;5;124m'\u001b[39m \u001b[38;5;241m%\u001b[39m \u001b[38;5;28mself\u001b[39m\u001b[38;5;241m.\u001b[39m_uid_counter\n\u001b[0;32m--> 384\u001b[0m response \u001b[38;5;241m=\u001b[39m \u001b[38;5;28;43mself\u001b[39;49m\u001b[38;5;241;43m.\u001b[39;49m\u001b[43mworker\u001b[49m\u001b[38;5;241;43m.\u001b[39;49m\u001b[43mdo_instruction\u001b[49m\u001b[43m(\u001b[49m\u001b[43mrequest\u001b[49m\u001b[43m)\u001b[49m\n\u001b[1;32m    385\u001b[0m \u001b[38;5;28;01mreturn\u001b[39;00m ControlFuture(request\u001b[38;5;241m.\u001b[39minstruction_id, response)\n",
      "File \u001b[0;32m/opt/conda/lib/python3.10/site-packages/apache_beam/runners/worker/sdk_worker.py:656\u001b[0m, in \u001b[0;36mSdkWorker.do_instruction\u001b[0;34m(self, request)\u001b[0m\n\u001b[1;32m    653\u001b[0m request_type \u001b[38;5;241m=\u001b[39m request\u001b[38;5;241m.\u001b[39mWhichOneof(\u001b[38;5;124m'\u001b[39m\u001b[38;5;124mrequest\u001b[39m\u001b[38;5;124m'\u001b[39m)\n\u001b[1;32m    654\u001b[0m \u001b[38;5;28;01mif\u001b[39;00m request_type:\n\u001b[1;32m    655\u001b[0m   \u001b[38;5;66;03m# E.g. if register is set, this will call self.register(request.register))\u001b[39;00m\n\u001b[0;32m--> 656\u001b[0m   \u001b[38;5;28;01mreturn\u001b[39;00m \u001b[38;5;28;43mgetattr\u001b[39;49m\u001b[43m(\u001b[49m\u001b[38;5;28;43mself\u001b[39;49m\u001b[43m,\u001b[49m\u001b[43m \u001b[49m\u001b[43mrequest_type\u001b[49m\u001b[43m)\u001b[49m\u001b[43m(\u001b[49m\n\u001b[1;32m    657\u001b[0m \u001b[43m      \u001b[49m\u001b[38;5;28;43mgetattr\u001b[39;49m\u001b[43m(\u001b[49m\u001b[43mrequest\u001b[49m\u001b[43m,\u001b[49m\u001b[43m \u001b[49m\u001b[43mrequest_type\u001b[49m\u001b[43m)\u001b[49m\u001b[43m,\u001b[49m\u001b[43m \u001b[49m\u001b[43mrequest\u001b[49m\u001b[38;5;241;43m.\u001b[39;49m\u001b[43minstruction_id\u001b[49m\u001b[43m)\u001b[49m\n\u001b[1;32m    658\u001b[0m \u001b[38;5;28;01melse\u001b[39;00m:\n\u001b[1;32m    659\u001b[0m   \u001b[38;5;28;01mraise\u001b[39;00m \u001b[38;5;167;01mNotImplementedError\u001b[39;00m\n",
      "File \u001b[0;32m/opt/conda/lib/python3.10/site-packages/apache_beam/runners/worker/sdk_worker.py:694\u001b[0m, in \u001b[0;36mSdkWorker.process_bundle\u001b[0;34m(self, request, instruction_id)\u001b[0m\n\u001b[1;32m    690\u001b[0m \u001b[38;5;28;01mwith\u001b[39;00m bundle_processor\u001b[38;5;241m.\u001b[39mstate_handler\u001b[38;5;241m.\u001b[39mprocess_instruction_id(\n\u001b[1;32m    691\u001b[0m     instruction_id, request\u001b[38;5;241m.\u001b[39mcache_tokens):\n\u001b[1;32m    692\u001b[0m   \u001b[38;5;28;01mwith\u001b[39;00m \u001b[38;5;28mself\u001b[39m\u001b[38;5;241m.\u001b[39mmaybe_profile(instruction_id):\n\u001b[1;32m    693\u001b[0m     delayed_applications, requests_finalization \u001b[38;5;241m=\u001b[39m (\n\u001b[0;32m--> 694\u001b[0m         \u001b[43mbundle_processor\u001b[49m\u001b[38;5;241;43m.\u001b[39;49m\u001b[43mprocess_bundle\u001b[49m\u001b[43m(\u001b[49m\u001b[43minstruction_id\u001b[49m\u001b[43m)\u001b[49m)\n\u001b[1;32m    695\u001b[0m     monitoring_infos \u001b[38;5;241m=\u001b[39m bundle_processor\u001b[38;5;241m.\u001b[39mmonitoring_infos()\n\u001b[1;32m    696\u001b[0m     response \u001b[38;5;241m=\u001b[39m beam_fn_api_pb2\u001b[38;5;241m.\u001b[39mInstructionResponse(\n\u001b[1;32m    697\u001b[0m         instruction_id\u001b[38;5;241m=\u001b[39minstruction_id,\n\u001b[1;32m    698\u001b[0m         process_bundle\u001b[38;5;241m=\u001b[39mbeam_fn_api_pb2\u001b[38;5;241m.\u001b[39mProcessBundleResponse(\n\u001b[0;32m   (...)\u001b[0m\n\u001b[1;32m    704\u001b[0m             },\n\u001b[1;32m    705\u001b[0m             requires_finalization\u001b[38;5;241m=\u001b[39mrequests_finalization))\n",
      "File \u001b[0;32m/opt/conda/lib/python3.10/site-packages/apache_beam/runners/worker/bundle_processor.py:1119\u001b[0m, in \u001b[0;36mBundleProcessor.process_bundle\u001b[0;34m(self, instruction_id)\u001b[0m\n\u001b[1;32m   1116\u001b[0m     \u001b[38;5;28mself\u001b[39m\u001b[38;5;241m.\u001b[39mops[element\u001b[38;5;241m.\u001b[39mtransform_id]\u001b[38;5;241m.\u001b[39mprocess_timer(\n\u001b[1;32m   1117\u001b[0m         element\u001b[38;5;241m.\u001b[39mtimer_family_id, timer_data)\n\u001b[1;32m   1118\u001b[0m \u001b[38;5;28;01melif\u001b[39;00m \u001b[38;5;28misinstance\u001b[39m(element, beam_fn_api_pb2\u001b[38;5;241m.\u001b[39mElements\u001b[38;5;241m.\u001b[39mData):\n\u001b[0;32m-> 1119\u001b[0m   \u001b[43minput_op_by_transform_id\u001b[49m\u001b[43m[\u001b[49m\u001b[43melement\u001b[49m\u001b[38;5;241;43m.\u001b[39;49m\u001b[43mtransform_id\u001b[49m\u001b[43m]\u001b[49m\u001b[38;5;241;43m.\u001b[39;49m\u001b[43mprocess_encoded\u001b[49m\u001b[43m(\u001b[49m\n\u001b[1;32m   1120\u001b[0m \u001b[43m      \u001b[49m\u001b[43melement\u001b[49m\u001b[38;5;241;43m.\u001b[39;49m\u001b[43mdata\u001b[49m\u001b[43m)\u001b[49m\n\u001b[1;32m   1121\u001b[0m \u001b[38;5;66;03m# We are done consuming the set of elements.\u001b[39;00m\n\u001b[1;32m   1122\u001b[0m \u001b[38;5;28mself\u001b[39m\u001b[38;5;241m.\u001b[39mconsuming_received_data \u001b[38;5;241m=\u001b[39m \u001b[38;5;28;01mFalse\u001b[39;00m\n",
      "File \u001b[0;32m/opt/conda/lib/python3.10/site-packages/apache_beam/runners/worker/bundle_processor.py:237\u001b[0m, in \u001b[0;36mDataInputOperation.process_encoded\u001b[0;34m(self, encoded_windowed_values)\u001b[0m\n\u001b[1;32m    233\u001b[0m \u001b[38;5;28;01mexcept\u001b[39;00m \u001b[38;5;167;01mException\u001b[39;00m \u001b[38;5;28;01mas\u001b[39;00m exn:\n\u001b[1;32m    234\u001b[0m   \u001b[38;5;28;01mraise\u001b[39;00m \u001b[38;5;167;01mValueError\u001b[39;00m(\n\u001b[1;32m    235\u001b[0m       \u001b[38;5;124m\"\u001b[39m\u001b[38;5;124mError decoding input stream with coder \u001b[39m\u001b[38;5;124m\"\u001b[39m \u001b[38;5;241m+\u001b[39m\n\u001b[1;32m    236\u001b[0m       \u001b[38;5;28mstr\u001b[39m(\u001b[38;5;28mself\u001b[39m\u001b[38;5;241m.\u001b[39mwindowed_coder)) \u001b[38;5;28;01mfrom\u001b[39;00m \u001b[38;5;21;01mexn\u001b[39;00m\n\u001b[0;32m--> 237\u001b[0m \u001b[38;5;28;43mself\u001b[39;49m\u001b[38;5;241;43m.\u001b[39;49m\u001b[43moutput\u001b[49m\u001b[43m(\u001b[49m\u001b[43mdecoded_value\u001b[49m\u001b[43m)\u001b[49m\n",
      "File \u001b[0;32m/opt/conda/lib/python3.10/site-packages/apache_beam/runners/worker/operations.py:567\u001b[0m, in \u001b[0;36mapache_beam.runners.worker.operations.Operation.output\u001b[0;34m()\u001b[0m\n",
      "File \u001b[0;32m/opt/conda/lib/python3.10/site-packages/apache_beam/runners/worker/operations.py:569\u001b[0m, in \u001b[0;36mapache_beam.runners.worker.operations.Operation.output\u001b[0;34m()\u001b[0m\n",
      "File \u001b[0;32m/opt/conda/lib/python3.10/site-packages/apache_beam/runners/worker/operations.py:260\u001b[0m, in \u001b[0;36mapache_beam.runners.worker.operations.SingletonElementConsumerSet.receive\u001b[0;34m()\u001b[0m\n",
      "File \u001b[0;32m/opt/conda/lib/python3.10/site-packages/apache_beam/runners/worker/operations.py:263\u001b[0m, in \u001b[0;36mapache_beam.runners.worker.operations.SingletonElementConsumerSet.receive\u001b[0;34m()\u001b[0m\n",
      "File \u001b[0;32m/opt/conda/lib/python3.10/site-packages/apache_beam/runners/worker/operations.py:950\u001b[0m, in \u001b[0;36mapache_beam.runners.worker.operations.DoOperation.process\u001b[0;34m()\u001b[0m\n",
      "File \u001b[0;32m/opt/conda/lib/python3.10/site-packages/apache_beam/runners/worker/operations.py:951\u001b[0m, in \u001b[0;36mapache_beam.runners.worker.operations.DoOperation.process\u001b[0;34m()\u001b[0m\n",
      "File \u001b[0;32m/opt/conda/lib/python3.10/site-packages/apache_beam/runners/common.py:1497\u001b[0m, in \u001b[0;36mapache_beam.runners.common.DoFnRunner.process\u001b[0;34m()\u001b[0m\n",
      "File \u001b[0;32m/opt/conda/lib/python3.10/site-packages/apache_beam/runners/common.py:1586\u001b[0m, in \u001b[0;36mapache_beam.runners.common.DoFnRunner._reraise_augmented\u001b[0;34m()\u001b[0m\n",
      "File \u001b[0;32m/opt/conda/lib/python3.10/site-packages/apache_beam/runners/common.py:1495\u001b[0m, in \u001b[0;36mapache_beam.runners.common.DoFnRunner.process\u001b[0;34m()\u001b[0m\n",
      "File \u001b[0;32m/opt/conda/lib/python3.10/site-packages/apache_beam/runners/common.py:687\u001b[0m, in \u001b[0;36mapache_beam.runners.common.SimpleInvoker.invoke_process\u001b[0;34m()\u001b[0m\n",
      "File \u001b[0;32m/opt/conda/lib/python3.10/site-packages/apache_beam/runners/common.py:1681\u001b[0m, in \u001b[0;36mapache_beam.runners.common._OutputHandler.handle_process_outputs\u001b[0;34m()\u001b[0m\n",
      "File \u001b[0;32m/opt/conda/lib/python3.10/site-packages/apache_beam/runners/common.py:1794\u001b[0m, in \u001b[0;36mapache_beam.runners.common._OutputHandler._write_value_to_tag\u001b[0;34m()\u001b[0m\n",
      "File \u001b[0;32m/opt/conda/lib/python3.10/site-packages/apache_beam/runners/worker/operations.py:263\u001b[0m, in \u001b[0;36mapache_beam.runners.worker.operations.SingletonElementConsumerSet.receive\u001b[0;34m()\u001b[0m\n",
      "File \u001b[0;32m/opt/conda/lib/python3.10/site-packages/apache_beam/runners/worker/operations.py:950\u001b[0m, in \u001b[0;36mapache_beam.runners.worker.operations.DoOperation.process\u001b[0;34m()\u001b[0m\n",
      "File \u001b[0;32m/opt/conda/lib/python3.10/site-packages/apache_beam/runners/worker/operations.py:951\u001b[0m, in \u001b[0;36mapache_beam.runners.worker.operations.DoOperation.process\u001b[0;34m()\u001b[0m\n",
      "File \u001b[0;32m/opt/conda/lib/python3.10/site-packages/apache_beam/runners/common.py:1497\u001b[0m, in \u001b[0;36mapache_beam.runners.common.DoFnRunner.process\u001b[0;34m()\u001b[0m\n",
      "File \u001b[0;32m/opt/conda/lib/python3.10/site-packages/apache_beam/runners/common.py:1586\u001b[0m, in \u001b[0;36mapache_beam.runners.common.DoFnRunner._reraise_augmented\u001b[0;34m()\u001b[0m\n",
      "File \u001b[0;32m/opt/conda/lib/python3.10/site-packages/apache_beam/runners/common.py:1495\u001b[0m, in \u001b[0;36mapache_beam.runners.common.DoFnRunner.process\u001b[0;34m()\u001b[0m\n",
      "File \u001b[0;32m/opt/conda/lib/python3.10/site-packages/apache_beam/runners/common.py:687\u001b[0m, in \u001b[0;36mapache_beam.runners.common.SimpleInvoker.invoke_process\u001b[0;34m()\u001b[0m\n",
      "File \u001b[0;32m/opt/conda/lib/python3.10/site-packages/apache_beam/runners/common.py:1681\u001b[0m, in \u001b[0;36mapache_beam.runners.common._OutputHandler.handle_process_outputs\u001b[0;34m()\u001b[0m\n",
      "File \u001b[0;32m/opt/conda/lib/python3.10/site-packages/apache_beam/runners/common.py:1794\u001b[0m, in \u001b[0;36mapache_beam.runners.common._OutputHandler._write_value_to_tag\u001b[0;34m()\u001b[0m\n",
      "    \u001b[0;31m[... skipping similar frames: apache_beam.runners.common.DoFnRunner.process at line 1497 (2 times), apache_beam.runners.worker.operations.DoOperation.process at line 950 (2 times), apache_beam.runners.worker.operations.DoOperation.process at line 951 (2 times), apache_beam.runners.worker.operations.SingletonElementConsumerSet.receive at line 263 (2 times), apache_beam.runners.common.DoFnRunner._reraise_augmented at line 1586 (1 times), apache_beam.runners.common.DoFnRunner.process at line 1495 (1 times), apache_beam.runners.common.SimpleInvoker.invoke_process at line 687 (1 times), apache_beam.runners.common._OutputHandler._write_value_to_tag at line 1794 (1 times), apache_beam.runners.common._OutputHandler.handle_process_outputs at line 1681 (1 times)]\u001b[0m\n",
      "File \u001b[0;32m/opt/conda/lib/python3.10/site-packages/apache_beam/runners/common.py:1586\u001b[0m, in \u001b[0;36mapache_beam.runners.common.DoFnRunner._reraise_augmented\u001b[0;34m()\u001b[0m\n",
      "File \u001b[0;32m/opt/conda/lib/python3.10/site-packages/apache_beam/runners/common.py:1495\u001b[0m, in \u001b[0;36mapache_beam.runners.common.DoFnRunner.process\u001b[0;34m()\u001b[0m\n",
      "File \u001b[0;32m/opt/conda/lib/python3.10/site-packages/apache_beam/runners/common.py:687\u001b[0m, in \u001b[0;36mapache_beam.runners.common.SimpleInvoker.invoke_process\u001b[0;34m()\u001b[0m\n",
      "File \u001b[0;32m/opt/conda/lib/python3.10/site-packages/apache_beam/runners/common.py:1681\u001b[0m, in \u001b[0;36mapache_beam.runners.common._OutputHandler.handle_process_outputs\u001b[0;34m()\u001b[0m\n",
      "File \u001b[0;32m/opt/conda/lib/python3.10/site-packages/apache_beam/runners/common.py:1794\u001b[0m, in \u001b[0;36mapache_beam.runners.common._OutputHandler._write_value_to_tag\u001b[0;34m()\u001b[0m\n",
      "File \u001b[0;32m/opt/conda/lib/python3.10/site-packages/apache_beam/runners/worker/operations.py:263\u001b[0m, in \u001b[0;36mapache_beam.runners.worker.operations.SingletonElementConsumerSet.receive\u001b[0;34m()\u001b[0m\n",
      "File \u001b[0;32m/opt/conda/lib/python3.10/site-packages/apache_beam/runners/worker/operations.py:950\u001b[0m, in \u001b[0;36mapache_beam.runners.worker.operations.DoOperation.process\u001b[0;34m()\u001b[0m\n",
      "File \u001b[0;32m/opt/conda/lib/python3.10/site-packages/apache_beam/runners/worker/operations.py:951\u001b[0m, in \u001b[0;36mapache_beam.runners.worker.operations.DoOperation.process\u001b[0;34m()\u001b[0m\n",
      "File \u001b[0;32m/opt/conda/lib/python3.10/site-packages/apache_beam/runners/common.py:1497\u001b[0m, in \u001b[0;36mapache_beam.runners.common.DoFnRunner.process\u001b[0;34m()\u001b[0m\n",
      "File \u001b[0;32m/opt/conda/lib/python3.10/site-packages/apache_beam/runners/common.py:1607\u001b[0m, in \u001b[0;36mapache_beam.runners.common.DoFnRunner._reraise_augmented\u001b[0;34m()\u001b[0m\n",
      "File \u001b[0;32m/opt/conda/lib/python3.10/site-packages/apache_beam/runners/common.py:1495\u001b[0m, in \u001b[0;36mapache_beam.runners.common.DoFnRunner.process\u001b[0;34m()\u001b[0m\n",
      "File \u001b[0;32m/opt/conda/lib/python3.10/site-packages/apache_beam/runners/common.py:688\u001b[0m, in \u001b[0;36mapache_beam.runners.common.SimpleInvoker.invoke_process\u001b[0;34m()\u001b[0m\n",
      "File \u001b[0;32m/opt/conda/lib/python3.10/site-packages/apache_beam/transforms/core.py:2065\u001b[0m, in \u001b[0;36mMap.<locals>.<lambda>\u001b[0;34m(x)\u001b[0m\n\u001b[1;32m   2063\u001b[0m   wrapper \u001b[38;5;241m=\u001b[39m \u001b[38;5;28;01mlambda\u001b[39;00m x, \u001b[38;5;241m*\u001b[39margs, \u001b[38;5;241m*\u001b[39m\u001b[38;5;241m*\u001b[39mkwargs: [fn(x, \u001b[38;5;241m*\u001b[39margs, \u001b[38;5;241m*\u001b[39m\u001b[38;5;241m*\u001b[39mkwargs)]\n\u001b[1;32m   2064\u001b[0m \u001b[38;5;28;01melse\u001b[39;00m:\n\u001b[0;32m-> 2065\u001b[0m   wrapper \u001b[38;5;241m=\u001b[39m \u001b[38;5;28;01mlambda\u001b[39;00m x: [\u001b[43mfn\u001b[49m\u001b[43m(\u001b[49m\u001b[43mx\u001b[49m\u001b[43m)\u001b[49m]\n\u001b[1;32m   2067\u001b[0m label \u001b[38;5;241m=\u001b[39m \u001b[38;5;124m'\u001b[39m\u001b[38;5;124mMap(\u001b[39m\u001b[38;5;132;01m%s\u001b[39;00m\u001b[38;5;124m)\u001b[39m\u001b[38;5;124m'\u001b[39m \u001b[38;5;241m%\u001b[39m ptransform\u001b[38;5;241m.\u001b[39mlabel_from_callable(fn)\n\u001b[1;32m   2069\u001b[0m \u001b[38;5;66;03m# TODO. What about callable classes?\u001b[39;00m\n",
      "Cell \u001b[0;32mIn[6], line 33\u001b[0m, in \u001b[0;36munpack_for_export\u001b[0;34m(list_input)\u001b[0m\n\u001b[1;32m     27\u001b[0m county, state_fips \u001b[38;5;241m=\u001b[39m list_input[\u001b[38;5;124m\"\u001b[39m\u001b[38;5;124mimage_name\u001b[39m\u001b[38;5;124m\"\u001b[39m]\u001b[38;5;241m.\u001b[39msplit(\u001b[38;5;124m\"\u001b[39m\u001b[38;5;124m/\u001b[39m\u001b[38;5;124m\"\u001b[39m)[\u001b[38;5;241m0\u001b[39m]\u001b[38;5;241m.\u001b[39msplit(\u001b[38;5;124m\"\u001b[39m\u001b[38;5;124m_\u001b[39m\u001b[38;5;124m\"\u001b[39m)\n\u001b[1;32m     28\u001b[0m county_geom \u001b[38;5;241m=\u001b[39m (\n\u001b[1;32m     29\u001b[0m ee\u001b[38;5;241m.\u001b[39mFeatureCollection(\u001b[38;5;124m\"\u001b[39m\u001b[38;5;124mTIGER/2018/Counties\u001b[39m\u001b[38;5;124m\"\u001b[39m)\n\u001b[1;32m     30\u001b[0m     \u001b[38;5;241m.\u001b[39mfilter(ee\u001b[38;5;241m.\u001b[39mFilter\u001b[38;5;241m.\u001b[39meq(\u001b[38;5;124m\"\u001b[39m\u001b[38;5;124mNAME\u001b[39m\u001b[38;5;124m\"\u001b[39m, county\u001b[38;5;241m.\u001b[39mcapitalize()))\n\u001b[1;32m     31\u001b[0m     \u001b[38;5;241m.\u001b[39mfilter(ee\u001b[38;5;241m.\u001b[39mFilter\u001b[38;5;241m.\u001b[39meq(\u001b[38;5;124m\"\u001b[39m\u001b[38;5;124mSTATEFP\u001b[39m\u001b[38;5;124m\"\u001b[39m, state_fips))\n\u001b[1;32m     32\u001b[0m     )\u001b[38;5;241m.\u001b[39mgeometry()\n\u001b[0;32m---> 33\u001b[0m \u001b[38;5;28;01mreturn\u001b[39;00m \u001b[43mexport_img\u001b[49m\u001b[43m(\u001b[49m\u001b[43mlist_input\u001b[49m\u001b[43m[\u001b[49m\u001b[38;5;124;43m\"\u001b[39;49m\u001b[38;5;124;43mimage\u001b[39;49m\u001b[38;5;124;43m\"\u001b[39;49m\u001b[43m]\u001b[49m\u001b[43m,\u001b[49m\u001b[43m \u001b[49m\u001b[43mlist_input\u001b[49m\u001b[43m[\u001b[49m\u001b[38;5;124;43m\"\u001b[39;49m\u001b[38;5;124;43mimage_name\u001b[39;49m\u001b[38;5;124;43m\"\u001b[39;49m\u001b[43m]\u001b[49m\u001b[43m,\u001b[49m\u001b[43m \u001b[49m\u001b[43mcounty_geom\u001b[49m\u001b[43m)\u001b[49m\n",
      "Cell \u001b[0;32mIn[6], line 19\u001b[0m, in \u001b[0;36mexport_img\u001b[0;34m(image, image_name, county_geom)\u001b[0m\n\u001b[1;32m      5\u001b[0m image_name \u001b[38;5;241m=\u001b[39m \u001b[38;5;124mf\u001b[39m\u001b[38;5;124m\"\u001b[39m\u001b[38;5;132;01m{\u001b[39;00mSCALE\u001b[38;5;132;01m}\u001b[39;00m\u001b[38;5;124m/\u001b[39m\u001b[38;5;124m\"\u001b[39m \u001b[38;5;241m+\u001b[39m image_name\n\u001b[1;32m      6\u001b[0m img_task \u001b[38;5;241m=\u001b[39m ee\u001b[38;5;241m.\u001b[39mbatch\u001b[38;5;241m.\u001b[39mExport\u001b[38;5;241m.\u001b[39mimage\u001b[38;5;241m.\u001b[39mtoCloudStorage(\n\u001b[1;32m      7\u001b[0m image\u001b[38;5;241m=\u001b[39mimage,\n\u001b[1;32m      8\u001b[0m description\u001b[38;5;241m=\u001b[39mimage_name\u001b[38;5;241m.\u001b[39mreplace(\u001b[38;5;124m\"\u001b[39m\u001b[38;5;124m/\u001b[39m\u001b[38;5;124m\"\u001b[39m,\u001b[38;5;124m\"\u001b[39m\u001b[38;5;124m-\u001b[39m\u001b[38;5;124m\"\u001b[39m),\n\u001b[0;32m   (...)\u001b[0m\n\u001b[1;32m     16\u001b[0m maxPixels \u001b[38;5;241m=\u001b[39m \u001b[38;5;241m1e9\u001b[39m\n\u001b[1;32m     17\u001b[0m )\n\u001b[0;32m---> 19\u001b[0m \u001b[43mimg_task\u001b[49m\u001b[38;5;241;43m.\u001b[39;49m\u001b[43mstart\u001b[49m\u001b[43m(\u001b[49m\u001b[43m)\u001b[49m\n\u001b[1;32m     20\u001b[0m logging\u001b[38;5;241m.\u001b[39minfo(\u001b[38;5;124mf\u001b[39m\u001b[38;5;124m\"\u001b[39m\u001b[38;5;132;01m{\u001b[39;00mjob_name\u001b[38;5;132;01m}\u001b[39;00m\u001b[38;5;124m: Export task started for: \u001b[39m\u001b[38;5;132;01m{\u001b[39;00mimage_name\u001b[38;5;132;01m}\u001b[39;00m\u001b[38;5;124m\"\u001b[39m)\n",
      "File \u001b[0;32m/opt/conda/lib/python3.10/site-packages/ee/batch.py:125\u001b[0m, in \u001b[0;36mTask.start\u001b[0;34m(self)\u001b[0m\n\u001b[1;32m    122\u001b[0m   \u001b[38;5;28mself\u001b[39m\u001b[38;5;241m.\u001b[39mconfig[\u001b[38;5;124m'\u001b[39m\u001b[38;5;124mworkloadTag\u001b[39m\u001b[38;5;124m'\u001b[39m] \u001b[38;5;241m=\u001b[39m \u001b[38;5;28mself\u001b[39m\u001b[38;5;241m.\u001b[39mworkload_tag\n\u001b[1;32m    124\u001b[0m \u001b[38;5;28;01mif\u001b[39;00m \u001b[38;5;28mself\u001b[39m\u001b[38;5;241m.\u001b[39mtask_type \u001b[38;5;241m==\u001b[39m Task\u001b[38;5;241m.\u001b[39mType\u001b[38;5;241m.\u001b[39mEXPORT_IMAGE:\n\u001b[0;32m--> 125\u001b[0m   result \u001b[38;5;241m=\u001b[39m \u001b[43mdata\u001b[49m\u001b[38;5;241;43m.\u001b[39;49m\u001b[43mexportImage\u001b[49m\u001b[43m(\u001b[49m\u001b[38;5;28;43mself\u001b[39;49m\u001b[38;5;241;43m.\u001b[39;49m\u001b[43m_request_id\u001b[49m\u001b[43m,\u001b[49m\u001b[43m \u001b[49m\u001b[38;5;28;43mself\u001b[39;49m\u001b[38;5;241;43m.\u001b[39;49m\u001b[43mconfig\u001b[49m\u001b[43m)\u001b[49m\n\u001b[1;32m    126\u001b[0m \u001b[38;5;28;01melif\u001b[39;00m \u001b[38;5;28mself\u001b[39m\u001b[38;5;241m.\u001b[39mtask_type \u001b[38;5;241m==\u001b[39m Task\u001b[38;5;241m.\u001b[39mType\u001b[38;5;241m.\u001b[39mEXPORT_MAP:\n\u001b[1;32m    127\u001b[0m   result \u001b[38;5;241m=\u001b[39m data\u001b[38;5;241m.\u001b[39mexportMap(\u001b[38;5;28mself\u001b[39m\u001b[38;5;241m.\u001b[39m_request_id, \u001b[38;5;28mself\u001b[39m\u001b[38;5;241m.\u001b[39mconfig)\n",
      "File \u001b[0;32m/opt/conda/lib/python3.10/site-packages/ee/data.py:1720\u001b[0m, in \u001b[0;36mexportImage\u001b[0;34m(request_id, params)\u001b[0m\n\u001b[1;32m   1699\u001b[0m \u001b[38;5;250m\u001b[39m\u001b[38;5;124;03m\"\"\"Starts an image export task running.\u001b[39;00m\n\u001b[1;32m   1700\u001b[0m \n\u001b[1;32m   1701\u001b[0m \u001b[38;5;124;03mThis is a low-level method. The higher-level ee.batch.Export.image object\u001b[39;00m\n\u001b[0;32m   (...)\u001b[0m\n\u001b[1;32m   1717\u001b[0m \u001b[38;5;124;03m  If you are using the cloud API, this will be an Operation.\u001b[39;00m\n\u001b[1;32m   1718\u001b[0m \u001b[38;5;124;03m\"\"\"\u001b[39;00m\n\u001b[1;32m   1719\u001b[0m params \u001b[38;5;241m=\u001b[39m params\u001b[38;5;241m.\u001b[39mcopy()\n\u001b[0;32m-> 1720\u001b[0m \u001b[38;5;28;01mreturn\u001b[39;00m \u001b[43m_prepare_and_run_export\u001b[49m\u001b[43m(\u001b[49m\n\u001b[1;32m   1721\u001b[0m \u001b[43m    \u001b[49m\u001b[43mrequest_id\u001b[49m\u001b[43m,\u001b[49m\u001b[43m \u001b[49m\u001b[43mparams\u001b[49m\u001b[43m,\u001b[49m\u001b[43m \u001b[49m\u001b[43m_get_cloud_projects\u001b[49m\u001b[43m(\u001b[49m\u001b[43m)\u001b[49m\u001b[38;5;241;43m.\u001b[39;49m\u001b[43mimage\u001b[49m\u001b[43m(\u001b[49m\u001b[43m)\u001b[49m\u001b[38;5;241;43m.\u001b[39;49m\u001b[43mexport\u001b[49m\n\u001b[1;32m   1722\u001b[0m \u001b[43m\u001b[49m\u001b[43m)\u001b[49m\n",
      "File \u001b[0;32m/opt/conda/lib/python3.10/site-packages/ee/data.py:1864\u001b[0m, in \u001b[0;36m_prepare_and_run_export\u001b[0;34m(request_id, params, export_endpoint)\u001b[0m\n\u001b[1;32m   1861\u001b[0m   params[\u001b[38;5;124m'\u001b[39m\u001b[38;5;124mexpression\u001b[39m\u001b[38;5;124m'\u001b[39m] \u001b[38;5;241m=\u001b[39m serializer\u001b[38;5;241m.\u001b[39mencode(\n\u001b[1;32m   1862\u001b[0m       params[\u001b[38;5;124m'\u001b[39m\u001b[38;5;124mexpression\u001b[39m\u001b[38;5;124m'\u001b[39m], for_cloud_api\u001b[38;5;241m=\u001b[39m\u001b[38;5;28;01mTrue\u001b[39;00m)\n\u001b[1;32m   1863\u001b[0m num_retries \u001b[38;5;241m=\u001b[39m MAX_RETRIES \u001b[38;5;28;01mif\u001b[39;00m request_id \u001b[38;5;28;01melse\u001b[39;00m \u001b[38;5;241m0\u001b[39m\n\u001b[0;32m-> 1864\u001b[0m \u001b[38;5;28;01mreturn\u001b[39;00m \u001b[43m_execute_cloud_call\u001b[49m\u001b[43m(\u001b[49m\n\u001b[1;32m   1865\u001b[0m \u001b[43m    \u001b[49m\u001b[43mexport_endpoint\u001b[49m\u001b[43m(\u001b[49m\u001b[43mproject\u001b[49m\u001b[38;5;241;43m=\u001b[39;49m\u001b[43m_get_projects_path\u001b[49m\u001b[43m(\u001b[49m\u001b[43m)\u001b[49m\u001b[43m,\u001b[49m\u001b[43m \u001b[49m\u001b[43mbody\u001b[49m\u001b[38;5;241;43m=\u001b[39;49m\u001b[43mparams\u001b[49m\u001b[43m)\u001b[49m\u001b[43m,\u001b[49m\n\u001b[1;32m   1866\u001b[0m \u001b[43m    \u001b[49m\u001b[43mnum_retries\u001b[49m\u001b[38;5;241;43m=\u001b[39;49m\u001b[43mnum_retries\u001b[49m\u001b[43m)\u001b[49m\n",
      "File \u001b[0;32m/opt/conda/lib/python3.10/site-packages/ee/data.py:404\u001b[0m, in \u001b[0;36m_execute_cloud_call\u001b[0;34m(call, num_retries)\u001b[0m\n\u001b[1;32m    402\u001b[0m   \u001b[38;5;28;01mreturn\u001b[39;00m call\u001b[38;5;241m.\u001b[39mexecute(num_retries\u001b[38;5;241m=\u001b[39mnum_retries)\n\u001b[1;32m    403\u001b[0m \u001b[38;5;28;01mexcept\u001b[39;00m googleapiclient\u001b[38;5;241m.\u001b[39merrors\u001b[38;5;241m.\u001b[39mHttpError \u001b[38;5;28;01mas\u001b[39;00m e:\n\u001b[0;32m--> 404\u001b[0m   \u001b[38;5;28;01mraise\u001b[39;00m _translate_cloud_exception(e)\n",
      "\u001b[0;31mEEException\u001b[0m: Too many tasks already in the queue (3000, limit 3000). [while running '[7]: Export image to GCS bucket']"
     ]
    }
   ],
   "source": [
    "logging.info(f\"Job {job_name} started\")\n",
    "with beam.Pipeline() as pipeline:\n",
    "    (\n",
    "        pipeline\n",
    "        |\"Create parameter sets\" >>  beam.Create(get_input_img_params)\n",
    "        | \"Sample counties\" >> beam.Map(apply_get_input_image)\n",
    "        | \"Export image to GCS bucket\" >> beam.Map(unpack_for_export)\n",
    "    )\n",
    "logging.info(f\"Job {job_name} finished\")"
   ]
  },
  {
   "cell_type": "code",
   "execution_count": null,
   "id": "e47fd443-c817-4e2a-87ca-8bb08b8880e3",
   "metadata": {},
   "outputs": [],
   "source": []
  }
 ],
 "metadata": {
  "environment": {
   "kernel": "conda-base-py",
   "name": "workbench-notebooks.m125",
   "type": "gcloud",
   "uri": "us-docker.pkg.dev/deeplearning-platform-release/gcr.io/workbench-notebooks:m125"
  },
  "kernelspec": {
   "display_name": "Python 3 (ipykernel) (Local)",
   "language": "python",
   "name": "conda-base-py"
  },
  "language_info": {
   "codemirror_mode": {
    "name": "ipython",
    "version": 3
   },
   "file_extension": ".py",
   "mimetype": "text/x-python",
   "name": "python",
   "nbconvert_exporter": "python",
   "pygments_lexer": "ipython3",
   "version": "3.10.15"
  }
 },
 "nbformat": 4,
 "nbformat_minor": 5
}
