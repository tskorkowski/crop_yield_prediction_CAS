{
 "cells": [
  {
   "cell_type": "code",
   "execution_count": 3,
   "id": "ce6e11ec-c8a5-4339-b4ce-046e98c07e35",
   "metadata": {
    "tags": []
   },
   "outputs": [],
   "source": [
    "# Setup\n",
    "!pip install --quiet --upgrade pip\n",
    "\n",
    "# Install the dependencies.\n",
    "!pip install --quiet -r requirements.txt\n",
    "\n",
    "# Restart the runtime by ending the process.\n",
    "exit()"
   ]
  },
  {
   "cell_type": "code",
   "execution_count": 1,
   "id": "fcc5e229-897d-4feb-b640-8d95b6f06081",
   "metadata": {},
   "outputs": [],
   "source": [
    "from __future__ import annotations\n",
    "import os\n",
    "\n",
    "import ee\n",
    "import google.auth\n",
    "\n",
    "import folium\n",
    "from serving import data\n",
    "import json\n",
    "from branca.element import Figure\n",
    "from folium import plugins\n",
    "import sys\n",
    "from serving.data import get_input_image_ee, SCALE\n",
    "from utils.constants import  BUCKET, PROJECT\n",
    "import apache_beam as beam\n",
    "from apache_beam.options.pipeline_options import PipelineOptions\n",
    "from importlib import reload\n",
    "import pandas as pd\n",
    "from concurrent.futures import ThreadPoolExecutor, as_completed\n",
    "from google.cloud import storage\n",
    "import logging"
   ]
  },
  {
   "cell_type": "code",
   "execution_count": 2,
   "id": "46671482-ebb1-41b5-b6f9-66f6469fa50e",
   "metadata": {
    "tags": []
   },
   "outputs": [],
   "source": [
    "current_dir = os.getcwd()\n",
    "sys.path.append(current_dir+'/serving')\n",
    "logging.basicConfig(level=logging.INFO, format='%(asctime)s - %(levelname)s - %(message)s')"
   ]
  },
  {
   "cell_type": "code",
   "execution_count": 2,
   "id": "0cc3b78b-755c-416b-96bc-5da4a67c5098",
   "metadata": {
    "tags": []
   },
   "outputs": [
    {
     "name": "stdout",
     "output_type": "stream",
     "text": [
      "Updated property [core/project].\n"
     ]
    }
   ],
   "source": [
    "# Google cloud parameters\n",
    "project = PROJECT\n",
    "bucket = BUCKET\n",
    "location = \"us-west2-a\"  # @param {type:\"string\"}\n",
    "\n",
    "# Quick input validations.\n",
    "assert project, \"⚠️ Please provide a Google Cloud project ID\"\n",
    "assert bucket, \"⚠️ Please provide a Cloud Storage bucket name\"\n",
    "assert not bucket.startswith(\n",
    "    \"gs://\"\n",
    "), f\"⚠️ Please remove the gs:// prefix from the bucket name: {bucket}\"\n",
    "assert location, \"⚠️ Please provide a Google Cloud location\"\n",
    "\n",
    "# Set GOOGLE_CLOUD_PROJECT for google.auth.default().\n",
    "os.environ[\"GOOGLE_CLOUD_PROJECT\"] = project\n",
    "\n",
    "# Set the gcloud project for other gcloud commands.\n",
    "!gcloud config set project {project}\n",
    "\n",
    "# Initialise goofle earth engine\n",
    "credentials, _ = google.auth.default()\n",
    "ee.Initialize(\n",
    "    credentials.with_quota_project(None),\n",
    "    project=project,\n",
    "    opt_url=\"https://earthengine-highvolume.googleapis.com\",\n",
    ")"
   ]
  },
  {
   "cell_type": "code",
   "execution_count": 5,
   "id": "96112d3a-de96-4414-ac3d-1449f6bdbfad",
   "metadata": {
    "tags": []
   },
   "outputs": [],
   "source": [
    "#CONSTANTS\n",
    "YEAR_START=2017\n",
    "YEAR_END=2023\n",
    "\n",
    "SEASON_START=5\n",
    "SEASON_END=10\n",
    "\n",
    "CROP=1 #Corn\n",
    "\n",
    "# True vision params\n",
    "vis_params = {\n",
    "    \"min\": 0,\n",
    "    \"max\": 3000,\n",
    "    \"bands\": [\"B4\", \"B3\", \"B2\"],}"
   ]
  },
  {
   "cell_type": "code",
   "execution_count": 5,
   "id": "5411fb5a-1cab-4917-8f4e-6b02455f4312",
   "metadata": {
    "tags": []
   },
   "outputs": [],
   "source": [
    "# reload(data)\n",
    "\n",
    "# Show sample filter\n",
    "\n",
    "start_year = 2017\n",
    "start_month = 4\n",
    "end_month = 7\n",
    "crop_type = 1 # Corn\n",
    "county = \"Lancaster\"\n",
    "\n",
    "county_geom = (\n",
    "    ee.FeatureCollection(\"TIGER/2018/Counties\")\n",
    "    .filter(ee.Filter.eq(\"NAME\", county))\n",
    ").geometry()\n",
    "\n",
    "coords = county_geom.centroid().coordinates().getInfo()\n",
    "\n",
    "s2_img_start = get_input_image_ee(county, crop_type, start_year, start_month)[\"image\"]\n",
    "s2_img_end = get_input_image_ee(county, crop_type, start_year, end_month)[\"image\"]"
   ]
  },
  {
   "cell_type": "code",
   "execution_count": 6,
   "id": "f1df8535-02b8-4ceb-b124-b854882c634a",
   "metadata": {
    "tags": []
   },
   "outputs": [
    {
     "data": {
      "text/html": [
       "<div style=\"width:100%;\"><div style=\"position:relative;width:100%;height:0;padding-bottom:60%;\"><span style=\"color:#565656\">Make this Notebook Trusted to load map: File -> Trust Notebook</span><iframe srcdoc=\"&lt;!DOCTYPE html&gt;\n",
       "&lt;html&gt;\n",
       "&lt;head&gt;\n",
       "    \n",
       "    &lt;meta http-equiv=&quot;content-type&quot; content=&quot;text/html; charset=UTF-8&quot; /&gt;\n",
       "    \n",
       "        &lt;script&gt;\n",
       "            L_NO_TOUCH = false;\n",
       "            L_DISABLE_3D = false;\n",
       "        &lt;/script&gt;\n",
       "    \n",
       "    &lt;style&gt;html, body {width: 100%;height: 100%;margin: 0;padding: 0;}&lt;/style&gt;\n",
       "    &lt;style&gt;#map {position:absolute;top:0;bottom:0;right:0;left:0;}&lt;/style&gt;\n",
       "    &lt;script src=&quot;https://cdn.jsdelivr.net/npm/leaflet@1.9.3/dist/leaflet.js&quot;&gt;&lt;/script&gt;\n",
       "    &lt;script src=&quot;https://code.jquery.com/jquery-3.7.1.min.js&quot;&gt;&lt;/script&gt;\n",
       "    &lt;script src=&quot;https://cdn.jsdelivr.net/npm/bootstrap@5.2.2/dist/js/bootstrap.bundle.min.js&quot;&gt;&lt;/script&gt;\n",
       "    &lt;script src=&quot;https://cdnjs.cloudflare.com/ajax/libs/Leaflet.awesome-markers/2.0.2/leaflet.awesome-markers.js&quot;&gt;&lt;/script&gt;\n",
       "    &lt;link rel=&quot;stylesheet&quot; href=&quot;https://cdn.jsdelivr.net/npm/leaflet@1.9.3/dist/leaflet.css&quot;/&gt;\n",
       "    &lt;link rel=&quot;stylesheet&quot; href=&quot;https://cdn.jsdelivr.net/npm/bootstrap@5.2.2/dist/css/bootstrap.min.css&quot;/&gt;\n",
       "    &lt;link rel=&quot;stylesheet&quot; href=&quot;https://netdna.bootstrapcdn.com/bootstrap/3.0.0/css/bootstrap.min.css&quot;/&gt;\n",
       "    &lt;link rel=&quot;stylesheet&quot; href=&quot;https://cdn.jsdelivr.net/npm/@fortawesome/fontawesome-free@6.2.0/css/all.min.css&quot;/&gt;\n",
       "    &lt;link rel=&quot;stylesheet&quot; href=&quot;https://cdnjs.cloudflare.com/ajax/libs/Leaflet.awesome-markers/2.0.2/leaflet.awesome-markers.css&quot;/&gt;\n",
       "    &lt;link rel=&quot;stylesheet&quot; href=&quot;https://cdn.jsdelivr.net/gh/python-visualization/folium/folium/templates/leaflet.awesome.rotate.min.css&quot;/&gt;\n",
       "    \n",
       "            &lt;meta name=&quot;viewport&quot; content=&quot;width=device-width,\n",
       "                initial-scale=1.0, maximum-scale=1.0, user-scalable=no&quot; /&gt;\n",
       "            &lt;style&gt;\n",
       "                #map_acc7e5b4d5ef6950ae03966e7a9a88b3 {\n",
       "                    position: relative;\n",
       "                    width: 100.0%;\n",
       "                    height: 100.0%;\n",
       "                    left: 0.0%;\n",
       "                    top: 0.0%;\n",
       "                }\n",
       "                .leaflet-container { font-size: 1rem; }\n",
       "            &lt;/style&gt;\n",
       "        \n",
       "    &lt;script src=&quot;https://cdn.jsdelivr.net/gh/digidem/leaflet-side-by-side@2.0.0/leaflet-side-by-side.min.js&quot;&gt;&lt;/script&gt;\n",
       "&lt;/head&gt;\n",
       "&lt;body&gt;\n",
       "    \n",
       "    \n",
       "            &lt;div class=&quot;folium-map&quot; id=&quot;map_acc7e5b4d5ef6950ae03966e7a9a88b3&quot; &gt;&lt;/div&gt;\n",
       "        \n",
       "&lt;/body&gt;\n",
       "&lt;script&gt;\n",
       "    \n",
       "    \n",
       "            var map_acc7e5b4d5ef6950ae03966e7a9a88b3 = L.map(\n",
       "                &quot;map_acc7e5b4d5ef6950ae03966e7a9a88b3&quot;,\n",
       "                {\n",
       "                    center: [39.2833623426595, -83.6780916917151],\n",
       "                    crs: L.CRS.EPSG3857,\n",
       "                    zoom: 10,\n",
       "                    zoomControl: true,\n",
       "                    preferCanvas: false,\n",
       "                }\n",
       "            );\n",
       "\n",
       "            \n",
       "\n",
       "        \n",
       "    \n",
       "            var tile_layer_b04fa761ad0018e38f0bd8564b488d27 = L.tileLayer(\n",
       "                &quot;https://tile.openstreetmap.org/{z}/{x}/{y}.png&quot;,\n",
       "                {&quot;attribution&quot;: &quot;\\u0026copy; \\u003ca href=\\&quot;https://www.openstreetmap.org/copyright\\&quot;\\u003eOpenStreetMap\\u003c/a\\u003e contributors&quot;, &quot;detectRetina&quot;: false, &quot;maxNativeZoom&quot;: 19, &quot;maxZoom&quot;: 19, &quot;minZoom&quot;: 0, &quot;noWrap&quot;: false, &quot;opacity&quot;: 1, &quot;subdomains&quot;: &quot;abc&quot;, &quot;tms&quot;: false}\n",
       "            );\n",
       "        \n",
       "    \n",
       "            tile_layer_b04fa761ad0018e38f0bd8564b488d27.addTo(map_acc7e5b4d5ef6950ae03966e7a9a88b3);\n",
       "        \n",
       "    \n",
       "            var tile_layer_781a5b5369438bc98046e6286ee5a336 = L.tileLayer(\n",
       "                &quot;https://earthengine-highvolume.googleapis.com/v1/projects/supple-nature-370421/maps/dc880c0ab7866bba7abd5d9af8581516-29713cec5ee4e2bd86b65b8696f6400f/tiles/{z}/{x}/{y}&quot;,\n",
       "                {&quot;attribution&quot;: &quot;Map Data \\u0026copy; \\u003ca href=\\&quot;https://earthengine.google.com/\\&quot;\\u003eGoogle Earth Engine\\u003c/a\\u003e&quot;, &quot;detectRetina&quot;: false, &quot;maxNativeZoom&quot;: 18, &quot;maxZoom&quot;: 18, &quot;minZoom&quot;: 0, &quot;noWrap&quot;: false, &quot;opacity&quot;: 1, &quot;subdomains&quot;: &quot;abc&quot;, &quot;tms&quot;: false}\n",
       "            );\n",
       "        \n",
       "    \n",
       "            tile_layer_781a5b5369438bc98046e6286ee5a336.addTo(map_acc7e5b4d5ef6950ae03966e7a9a88b3);\n",
       "        \n",
       "    \n",
       "            var tile_layer_cea75a7004226ee199b065d9ff28febd = L.tileLayer(\n",
       "                &quot;https://earthengine-highvolume.googleapis.com/v1/projects/supple-nature-370421/maps/40d32c451e502e34fba5be8ae6c747ff-3f233505060645706f9013340c37901f/tiles/{z}/{x}/{y}&quot;,\n",
       "                {&quot;attribution&quot;: &quot;Map Data \\u0026copy; \\u003ca href=\\&quot;https://earthengine.google.com/\\&quot;\\u003eGoogle Earth Engine\\u003c/a\\u003e&quot;, &quot;detectRetina&quot;: false, &quot;maxNativeZoom&quot;: 18, &quot;maxZoom&quot;: 18, &quot;minZoom&quot;: 0, &quot;noWrap&quot;: false, &quot;opacity&quot;: 1, &quot;subdomains&quot;: &quot;abc&quot;, &quot;tms&quot;: false}\n",
       "            );\n",
       "        \n",
       "    \n",
       "            tile_layer_cea75a7004226ee199b065d9ff28febd.addTo(map_acc7e5b4d5ef6950ae03966e7a9a88b3);\n",
       "        \n",
       "    \n",
       "            var side_by_side_layers_a18485d2f4f12576eed56cad0fb6ec00 = L.control.sideBySide(\n",
       "                tile_layer_781a5b5369438bc98046e6286ee5a336, tile_layer_cea75a7004226ee199b065d9ff28febd\n",
       "            ).addTo(map_acc7e5b4d5ef6950ae03966e7a9a88b3);\n",
       "        \n",
       "&lt;/script&gt;\n",
       "&lt;/html&gt;\" style=\"position:absolute;width:100%;height:100%;left:0;top:0;border:none !important;\" allowfullscreen webkitallowfullscreen mozallowfullscreen></iframe></div></div>"
      ],
      "text/plain": [
       "<folium.folium.Map at 0x7f1716591ba0>"
      ]
     },
     "execution_count": 6,
     "metadata": {},
     "output_type": "execute_result"
    }
   ],
   "source": [
    "# Create the map\n",
    "m1 = folium.Map(coords[::-1])\n",
    "\n",
    "# Add the CDL layer\n",
    "layer_left = folium.TileLayer(\n",
    "    tiles=s2_img_start.getMapId(vis_params)[\"tile_fetcher\"].url_format,\n",
    "    attr='Map Data &copy; <a href=\"https://earthengine.google.com/\">Google Earth Engine</a>',\n",
    "    name='Cropland Data Layer',\n",
    "    overlay=True,\n",
    "    control=True\n",
    ")\n",
    "\n",
    "layer_right = folium.TileLayer(\n",
    "    tiles=s2_img_end.getMapId(vis_params)[\"tile_fetcher\"].url_format,\n",
    "    attr='Map Data &copy; <a href=\"https://earthengine.google.com/\">Google Earth Engine</a>',\n",
    "    name='Cropland Data Layer',\n",
    "    overlay=True,\n",
    "    control=True,\n",
    ")\n",
    "\n",
    "sbs = plugins.SideBySideLayers(layer_left=layer_left, layer_right=layer_right)\n",
    "\n",
    "layer_left.add_to(m1)\n",
    "layer_right.add_to(m1)\n",
    "sbs.add_to(m1)    \n",
    "\n",
    "# Display the map\n",
    "m1"
   ]
  },
  {
   "cell_type": "code",
   "execution_count": 7,
   "id": "e0cb7290-d76d-41eb-8a67-91e7fdd6e3f4",
   "metadata": {
    "tags": []
   },
   "outputs": [
    {
     "data": {
      "text/plain": [
       "'\\nChanges in crops can be observable in the satellite images. Once can hope that the colour saturation and temporal change would hold predictive power\\n'"
      ]
     },
     "execution_count": 7,
     "metadata": {},
     "output_type": "execute_result"
    }
   ],
   "source": [
    "\"\"\"\n",
    "Changes in crops can be observable in the satellite images. Once can hope that the colour saturation and temporal change would hold predictive power\n",
    "\"\"\""
   ]
  },
  {
   "cell_type": "code",
   "execution_count": null,
   "id": "45c4a748-c615-4ac4-8590-12d6e76738ac",
   "metadata": {},
   "outputs": [],
   "source": [
    "# DATA RETRIVAL"
   ]
  },
  {
   "cell_type": "code",
   "execution_count": 33,
   "id": "7682273c-0b86-4195-bf4c-8eecfc278a0f",
   "metadata": {},
   "outputs": [],
   "source": [
    "#BE super careful not to retrive the same images more than once\n",
    "# Checking for existance is quite expensive\n",
    "counties = [\"Lancaster\", \"Crawford\", \"Orleans\", \"Tulare\", \"Wharton\", \"Story\", \"Canyon\", \"Kit Carson\"]\n",
    "# years = range(2018,2023)\n",
    "years = range(2017,2019)\n",
    "months = [5,7,9]\n",
    "\n",
    "get_input_img_params = [{\"county\": county,\n",
    "                         \"crop\": CROP,\n",
    "                        \"year\": year,\n",
    "                        \"month\": month} for county in counties\n",
    "                                       for year in years\n",
    "                                       for month in months\n",
    "                       ]\n"
   ]
  },
  {
   "cell_type": "code",
   "execution_count": 13,
   "id": "98c4c633-bbde-4d55-afcf-7ca85ad1986a",
   "metadata": {
    "tags": []
   },
   "outputs": [
    {
     "name": "stdout",
     "output_type": "stream",
     "text": [
      "Number of items to process: 0\n"
     ]
    }
   ],
   "source": [
    "\n",
    "def check_blob_prefix_exists(bucket_name, prefix):\n",
    "    storage_client = storage.Client()\n",
    "    bucket = storage_client.bucket(bucket_name)\n",
    "    \n",
    "    blobs = bucket.list_blobs(prefix=prefix, max_results=1)\n",
    "    return any(blobs)\n",
    "\n",
    "def batch_check_blobs(bucket_name, prefixes):\n",
    "    with ThreadPoolExecutor(max_workers=10) as executor:\n",
    "        future_to_prefix = {executor.submit(check_blob_prefix_exists, bucket_name, prefix): prefix for prefix in prefixes}\n",
    "        results = {}\n",
    "        for future in as_completed(future_to_prefix):\n",
    "            prefix = future_to_prefix[future]\n",
    "            results[prefix] = future.result()\n",
    "    return results\n",
    "\n",
    "# Generate all prefixes\n",
    "bucket_name = bucket\n",
    "counties = [\"Lancaster\", \"Crawford\", \"Orleans\", \"Tulare\", \"Wharton\", \"Story\", \"Canyon\", \"Kit Carson\"]\n",
    "years = range(2017, 2019)\n",
    "months = [5, 7, 9]\n",
    "\n",
    "prefixes = [f'images/{county}_{year}_{month}-{month+1}_{SCALE}' \n",
    "            for county in counties\n",
    "            for year in years\n",
    "            for month in months]\n",
    "\n",
    "# Batch check all prefixes\n",
    "results = batch_check_blobs(bucket_name, prefixes)\n",
    "\n",
    "# Generate get_input_img_params based on results\n",
    "get_input_img_params = [\n",
    "    {\"county\": county, \"crop\": CROP, \"year\": year, \"month\": month}\n",
    "    for county in counties\n",
    "    for year in years\n",
    "    for month in months\n",
    "    if not results[f'images/{county}_{year}_{month}-{month+1}_{SCALE}']\n",
    "]\n",
    "\n",
    "print(f\"Number of items to process: {len(get_input_img_params)}\")"
   ]
  },
  {
   "cell_type": "code",
   "execution_count": 11,
   "id": "dd53d183-d2ae-483d-84d2-0c3b4009038b",
   "metadata": {
    "tags": []
   },
   "outputs": [
    {
     "data": {
      "text/plain": [
       "[]"
      ]
     },
     "execution_count": 11,
     "metadata": {},
     "output_type": "execute_result"
    }
   ],
   "source": [
    "get_input_img_params"
   ]
  },
  {
   "cell_type": "code",
   "execution_count": 3,
   "id": "33e441a8-e00a-4d7b-a176-f7a096ae1ffe",
   "metadata": {
    "tags": []
   },
   "outputs": [],
   "source": [
    "def export_img(image:ee.Image, image_name: str, county_geom: ee.geometry):\n",
    "    \n",
    "    image_name += f\"_{SCALE}_\"\n",
    "    img_task = ee.batch.Export.image.toCloudStorage(\n",
    "    image=image,\n",
    "    description=image_name,\n",
    "    bucket=bucket,\n",
    "    fileNamePrefix=f\"images/{image_name}\",\n",
    "    scale=SCALE,\n",
    "    region=county_geom,\n",
    "    fileDimensions = 4*2048,\n",
    "    skipEmptyTiles = True,\n",
    "    fileFormat = \"GeoTIFF\",\n",
    "    maxPixels = 1e9\n",
    "    )\n",
    "\n",
    "    img_task.start()\n",
    "    logging.info(f\"Export task started for: {image_name}\")\n",
    "\n",
    "def apply_get_input_image(params):\n",
    "    \n",
    "    return get_input_image_ee(**params)\n",
    "\n",
    "def unpack_for_export(list_input):\n",
    "    county = list_input[\"image_name\"].split(\"_\")[0]\n",
    "    county_geom = (\n",
    "    ee.FeatureCollection(\"TIGER/2018/Counties\")\n",
    "    .filter(ee.Filter.eq(\"NAME\", county))\n",
    "        ).geometry()\n",
    "    \n",
    "    return export_img(list_input[\"image\"], list_input[\"image_name\"], county_geom)"
   ]
  },
  {
   "cell_type": "code",
   "execution_count": 10,
   "id": "7e0ae4b6-7d48-48ea-a460-e388bcdb5d1d",
   "metadata": {
    "tags": []
   },
   "outputs": [
    {
     "data": {
      "application/javascript": [
       "\n",
       "        if (typeof window.interactive_beam_jquery == 'undefined') {\n",
       "          var jqueryScript = document.createElement('script');\n",
       "          jqueryScript.src = 'https://code.jquery.com/jquery-3.4.1.slim.min.js';\n",
       "          jqueryScript.type = 'text/javascript';\n",
       "          jqueryScript.onload = function() {\n",
       "            var datatableScript = document.createElement('script');\n",
       "            datatableScript.src = 'https://cdn.datatables.net/1.10.20/js/jquery.dataTables.min.js';\n",
       "            datatableScript.type = 'text/javascript';\n",
       "            datatableScript.onload = function() {\n",
       "              window.interactive_beam_jquery = jQuery.noConflict(true);\n",
       "              window.interactive_beam_jquery(document).ready(function($){\n",
       "                \n",
       "              });\n",
       "            }\n",
       "            document.head.appendChild(datatableScript);\n",
       "          };\n",
       "          document.head.appendChild(jqueryScript);\n",
       "        } else {\n",
       "          window.interactive_beam_jquery(document).ready(function($){\n",
       "            \n",
       "          });\n",
       "        }"
      ]
     },
     "metadata": {},
     "output_type": "display_data"
    }
   ],
   "source": [
    "with beam.Pipeline() as pipeline:\n",
    "    (\n",
    "        pipeline\n",
    "        |\"Create parameter sets\" >>  beam.Create(get_input_img_params)\n",
    "        | \"Sample counties\" >> beam.Map(apply_get_input_image)\n",
    "        | \"Export image to GCS bucket\" >> beam.Map(unpack_for_export)\n",
    "    )"
   ]
  },
  {
   "cell_type": "code",
   "execution_count": 67,
   "id": "354bdf65-c866-4590-b2e1-0507228ac029",
   "metadata": {},
   "outputs": [
    {
     "data": {
      "text/plain": [
       "[{'county': 'Lancaster', 'crop': 1, 'year': 2022, 'month': 9},\n",
       " {'county': 'Crawford', 'crop': 1, 'year': 2022, 'month': 9},\n",
       " {'county': 'Orleans', 'crop': 1, 'year': 2022, 'month': 9},\n",
       " {'county': 'Tulare', 'crop': 1, 'year': 2022, 'month': 9}]"
      ]
     },
     "execution_count": 67,
     "metadata": {},
     "output_type": "execute_result"
    }
   ],
   "source": [
    "get_input_img_params"
   ]
  },
  {
   "cell_type": "code",
   "execution_count": 8,
   "id": "e20af419-a569-4d87-8af8-21f7f159f3f5",
   "metadata": {},
   "outputs": [
    {
     "name": "stdout",
     "output_type": "stream",
     "text": [
      "images/Orleans_2017_5-6_100_0000000000-0000008192.tif\n",
      "images/Orleans_2017_5-6_100_0000000000-0000016384.tif\n",
      "images/Orleans_2017_5-6_100_0000016384-0000000000.tif\n",
      "images/Orleans_2017_7-8_100_0000000000-0000008192.tif\n",
      "images/Orleans_2017_7-8_100_0000000000-0000016384.tif\n",
      "images/Orleans_2017_7-8_100_0000016384-0000000000.tif\n",
      "images/Orleans_2017_9-10_100_0000000000-0000008192.tif\n",
      "images/Orleans_2017_9-10_100_0000000000-0000016384.tif\n",
      "images/Orleans_2017_9-10_100_0000016384-0000000000.tif\n",
      "images/Orleans_2018_5-6_100_0000000000-0000008192.tif\n",
      "images/Orleans_2018_5-6_100_0000000000-0000016384.tif\n",
      "images/Orleans_2018_7-8_100_0000000000-0000008192.tif\n",
      "images/Orleans_2018_7-8_100_0000000000-0000016384.tif\n",
      "images/Orleans_2018_9-10_100_0000000000-0000008192.tif\n",
      "images/Orleans_2018_9-10_100_0000000000-0000016384.tif\n",
      "Operation took 0.0665 seconds\n",
      "images/Orleans_2017_5-6_100_0000000000-0000008192.tif\n",
      "images/Orleans_2017_5-6_100_0000000000-0000016384.tif\n",
      "images/Orleans_2017_5-6_100_0000016384-0000000000.tif\n",
      "images/Orleans_2017_7-8_100_0000000000-0000008192.tif\n",
      "images/Orleans_2017_7-8_100_0000000000-0000016384.tif\n",
      "images/Orleans_2017_7-8_100_0000016384-0000000000.tif\n",
      "images/Orleans_2017_9-10_100_0000000000-0000008192.tif\n",
      "images/Orleans_2017_9-10_100_0000000000-0000016384.tif\n",
      "images/Orleans_2017_9-10_100_0000016384-0000000000.tif\n",
      "Operation took 0.0675 seconds\n",
      "Operation took 0.0610 seconds\n"
     ]
    }
   ],
   "source": [
    "from google.cloud import storage\n",
    "import time\n",
    "import re\n",
    "\n",
    "def time_operation(func):\n",
    "    def wrapper(*args, **kwargs):\n",
    "        start_time = time.time()\n",
    "        result = func(*args, **kwargs)\n",
    "        end_time = time.time()\n",
    "        print(f\"Operation took {end_time - start_time:.4f} seconds\")\n",
    "        return result\n",
    "    return wrapper\n",
    "\n",
    "@time_operation\n",
    "def list_blobs_with_prefix(bucket_name, prefix):\n",
    "    storage_client = storage.Client()\n",
    "    bucket = storage_client.bucket(bucket_name)\n",
    "    \n",
    "    # This operation is very efficient\n",
    "    blobs = bucket.list_blobs(prefix=prefix)\n",
    "    \n",
    "    for blob in blobs:\n",
    "        print(blob.name)\n",
    "\n",
    "# Usage examples\n",
    "bucket_name = bucket\n",
    "image_name = 'images/'\n",
    "# List all files from 2023\n",
    "image_name += \"Orleans\"\n",
    "list_blobs_with_prefix(bucket_name, image_name)\n",
    "\n",
    "# List all files from March 2023\n",
    "image_name += \"_2017\"\n",
    "list_blobs_with_prefix(bucket_name, image_name)\n",
    "\n",
    "# List all files from March 15, 2023\n",
    "image_name += \"_9_10_100\"\n",
    "list_blobs_with_prefix(bucket_name, image_name)"
   ]
  },
  {
   "cell_type": "code",
   "execution_count": null,
   "id": "c1ef16c2-0dc0-4c13-9bec-cc77bb2a7c4b",
   "metadata": {},
   "outputs": [],
   "source": []
  }
 ],
 "metadata": {
  "environment": {
   "kernel": "conda-base-py",
   "name": "workbench-notebooks.m125",
   "type": "gcloud",
   "uri": "us-docker.pkg.dev/deeplearning-platform-release/gcr.io/workbench-notebooks:m125"
  },
  "kernelspec": {
   "display_name": "Python 3 (ipykernel) (Local)",
   "language": "python",
   "name": "conda-base-py"
  },
  "language_info": {
   "codemirror_mode": {
    "name": "ipython",
    "version": 3
   },
   "file_extension": ".py",
   "mimetype": "text/x-python",
   "name": "python",
   "nbconvert_exporter": "python",
   "pygments_lexer": "ipython3",
   "version": "3.10.15"
  }
 },
 "nbformat": 4,
 "nbformat_minor": 5
}
