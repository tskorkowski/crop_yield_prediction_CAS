{
 "cells": [
  {
   "cell_type": "markdown",
   "id": "ca643993",
   "metadata": {},
   "source": [
    "### Histogram creatinon and save"
   ]
  },
  {
   "cell_type": "code",
   "execution_count": 3,
   "id": "bfd8f97a-2d94-4054-94ea-83653ea50636",
   "metadata": {
    "tags": []
   },
   "outputs": [
    {
     "ename": "ModuleNotFoundError",
     "evalue": "No module named 'osgeo'",
     "output_type": "error",
     "traceback": [
      "\u001b[0;31m---------------------------------------------------------------------------\u001b[0m",
      "\u001b[0;31mModuleNotFoundError\u001b[0m                       Traceback (most recent call last)",
      "Cell \u001b[0;32mIn[3], line 39\u001b[0m\n\u001b[1;32m     37\u001b[0m \u001b[38;5;28;01mfrom\u001b[39;00m \u001b[38;5;21;01mgoogle\u001b[39;00m\u001b[38;5;21;01m.\u001b[39;00m\u001b[38;5;21;01mcloud\u001b[39;00m \u001b[38;5;28;01mimport\u001b[39;00m storage\n\u001b[1;32m     38\u001b[0m \u001b[38;5;28;01mfrom\u001b[39;00m \u001b[38;5;21;01mnumpy\u001b[39;00m\u001b[38;5;21;01m.\u001b[39;00m\u001b[38;5;21;01mlib\u001b[39;00m\u001b[38;5;21;01m.\u001b[39;00m\u001b[38;5;21;01mrecfunctions\u001b[39;00m \u001b[38;5;28;01mimport\u001b[39;00m structured_to_unstructured\n\u001b[0;32m---> 39\u001b[0m \u001b[38;5;28;01mfrom\u001b[39;00m \u001b[38;5;21;01mosgeo\u001b[39;00m \u001b[38;5;28;01mimport\u001b[39;00m gdal\n\u001b[1;32m     40\u001b[0m \u001b[38;5;28;01mfrom\u001b[39;00m \u001b[38;5;21;01mrasterio\u001b[39;00m\u001b[38;5;21;01m.\u001b[39;00m\u001b[38;5;21;01mio\u001b[39;00m \u001b[38;5;28;01mimport\u001b[39;00m MemoryFile\n\u001b[1;32m     41\u001b[0m \u001b[38;5;28;01mfrom\u001b[39;00m \u001b[38;5;21;01mserving\u001b[39;00m\u001b[38;5;21;01m.\u001b[39;00m\u001b[38;5;21;01mcommon\u001b[39;00m \u001b[38;5;28;01mimport\u001b[39;00m list_blobs_with_prefix\n",
      "\u001b[0;31mModuleNotFoundError\u001b[0m: No module named 'osgeo'"
     ]
    }
   ],
   "source": [
    "\"\"\"Data utilities to grab data from google cloud bucket.\n",
    "\n",
    "Meant to be used for both training and prediction so the model is\n",
    "trained on exactly the same data that will be used for predictions.\n",
    "\"\"\"\n",
    "\n",
    "from __future__ import annotations\n",
    "\n",
    "import io\n",
    "import logging\n",
    "import os\n",
    "import re\n",
    "import tempfile\n",
    "import time\n",
    "from concurrent.futures import ThreadPoolExecutor, as_completed\n",
    "from typing import Dict\n",
    "\n",
    "import google.auth\n",
    "import matplotlib.pyplot as plt\n",
    "import numpy as np\n",
    "import rasterio\n",
    "import requests\n",
    "from serving.constants import (\n",
    "    BUCKET,\n",
    "    HIST_BINS_LIST,\n",
    "    HIST_DEST_PREFIX,\n",
    "    IMG_SOURCE_PREFIX,\n",
    "    SELECTED_BANDS,\n",
    "    PROJECT,\n",
    "    PIX_COUNT,\n",
    "    REFLECTANCE_CONST,\n",
    "    NUM_BINS,\n",
    "    MAP_NAN,\n",
    "    NORMALIZE\n",
    ")\n",
    "from google.api_core import exceptions, retry\n",
    "from google.cloud import storage\n",
    "from numpy.lib.recfunctions import structured_to_unstructured\n",
    "from osgeo import gdal\n",
    "from rasterio.io import MemoryFile\n",
    "from serving.common import list_blobs_with_prefix\n",
    "\n",
    "logging.basicConfig(\n",
    "    filename=\"hist.log\",\n",
    "    level=logging.INFO,\n",
    "    format=\"%(asctime)s - %(levelname)s - %(message)s\",\n",
    ")\n",
    "\n",
    "\n",
    "def hist_init():\n",
    "    \"\"\"Authenticate and initialize Earth Engine with the default credentials.\"\"\"\n",
    "    # Use the Earth Engine High Volume endpoint.\n",
    "    #   https://developers.google.com/earth-engine/cloud/highvolume\n",
    "    credentials, project = google.auth.default()\n",
    "\n",
    "def process_band(bucket, blob_name, band, bins, skip_nan, normalise):\n",
    "\n",
    "    storage_client = storage.Client()\n",
    "    blob = storage_client.bucket(bucket).blob(blob_name)\n",
    "\n",
    "    with blob.open(\"rb\") as f:\n",
    "        with rasterio.open(f) as src:\n",
    "\n",
    "            data = src.read(band).flatten()\n",
    "            na_mask = np.isnan(data)\n",
    "            \n",
    "            if skip_nan == False:\n",
    "                data[na_mask] = 0.0\n",
    "                valid_data = data\n",
    "            else:\n",
    "                valid_data = data[~na_mask]\n",
    "                \n",
    "            if normalise:\n",
    "                valid_data = valid_data / REFLECTANCE_CONST\n",
    "                bins = bins / REFLECTANCE_CONST\n",
    "                \n",
    "            valid_max = np.max(valid_data)\n",
    "            valid_min = np.min(valid_data)\n",
    "\n",
    "            if valid_max > bins[-1]:\n",
    "                logging.warning(\n",
    "                    f\"image: {blob_name}, band: {band}, {valid_max} value is larger than assumed possible values for this band: {bins[-1]}\"\n",
    "                )\n",
    "            elif valid_min < bins[0]:\n",
    "                logging.warning(\n",
    "                    f\"image: {blob_name}, band: {band}, {valid_min} value is smaller than assumed possible values for this band {bins[0]}\"\n",
    "                )\n",
    "            \n",
    "            if valid_data.size > 0:\n",
    "                total_sum = np.sum(valid_data)\n",
    "                total_count = valid_data.size\n",
    "                mean = total_sum / total_count\n",
    "                hist, _ = np.histogram(valid_data, bins=bins, density=False)\n",
    "            else:\n",
    "                logging.error(f\"image: {blob_name}, band: {band} has 0 valid pixels. Investigate\")\n",
    "                mean = np.nan\n",
    "                hist = np.zeros_like(\n",
    "                    bins[:-1]\n",
    "                )  # histogram will have one less element than bins\n",
    "\n",
    "    return hist\n",
    "\n",
    "\n",
    "def process_tiff(bucket, blob_name, bin_list, selected_bands, skip_nan, normalise, max_workers=6):\n",
    "    with ThreadPoolExecutor(max_workers=max_workers) as executor:\n",
    "        future_to_band = {\n",
    "            executor.submit(\n",
    "                process_band, bucket, blob_name, band, bins, skip_nan, normalise\n",
    "            ): band\n",
    "            for band, bins in zip(selected_bands, bin_list)\n",
    "        }\n",
    "        results = []\n",
    "\n",
    "        for future in as_completed(future_to_band):\n",
    "            band = future_to_band[future]\n",
    "            try:\n",
    "                result = future.result()\n",
    "                results.append(result)\n",
    "                logging.info(f\"Processed band {band} successfully\")\n",
    "            except Exception as exc:\n",
    "                logging.exception(f\"Band {band} generated an exception: {exc}\")\n",
    "\n",
    "    sorted_results = sorted(results, key=lambda x: x[0])\n",
    "    return np.array(sorted_results).flatten()  # one long array instead of bands\n",
    "\n",
    "\n",
    "def recombine_image(bucket, core_image_name, bin_list, selected_bands, skip_nan=False, normalise=False):\n",
    "    start_time = time.time()\n",
    "\n",
    "    hist_per_blob = []\n",
    "    blobs = list_blobs_with_prefix(core_image_name)\n",
    "    for blob in blobs:\n",
    "        results = process_tiff(bucket, blob.name, bin_list, selected_bands, skip_nan, normalise)\n",
    "        hist_per_blob.append(results)\n",
    "\n",
    "    combined_hist = np.sum(np.array(hist_per_blob), axis=0)\n",
    "\n",
    "    end_time = time.time()\n",
    "    execution_time = end_time - start_time\n",
    "    logging.info(\n",
    "        f\"Image {core_image_name} has been processed in {execution_time/60:.4f} minuntes\"\n",
    "    )\n",
    "\n",
    "    return combined_hist\n",
    "\n",
    "def write_histogram_to_gcs(histogram, bucket_name, blob_name):\n",
    "    \"\"\"\n",
    "    Write a NumPy array (histogram) to Google Cloud Storage.\n",
    "\n",
    "    Args:\n",
    "    histogram (np.array): The histogram to save.\n",
    "    bucket_name (str): The name of the GCS bucket.\n",
    "    blob_name (str): The name to give the file in GCS (including any 'path').\n",
    "\n",
    "    Returns:\n",
    "    str: The public URL of the uploaded file.\n",
    "    \"\"\"\n",
    "    # Ensure the blob_name ends with .npy\n",
    "    if not blob_name.endswith('.npy'):\n",
    "        blob_name += '.npy'\n",
    "\n",
    "    # Create a GCS client\n",
    "    client = storage.Client()\n",
    "\n",
    "    # Get the bucket\n",
    "    bucket = client.bucket(bucket_name)\n",
    "\n",
    "    # Create a blob\n",
    "    blob = bucket.blob(blob_name)\n",
    "\n",
    "    # Convert the numpy array to bytes\n",
    "    array_bytes = io.BytesIO()\n",
    "    np.save(array_bytes, histogram)\n",
    "    array_bytes.seek(0)\n",
    "\n",
    "    # Upload the bytes to GCS\n",
    "    blob.upload_from_file(array_bytes, content_type='application/octet-stream')\n",
    "\n",
    "    logging.info(f\"Histogram uploaded to gs://{bucket_name}/{blob_name}\")\n",
    "\n"
   ]
  },
  {
   "cell_type": "markdown",
   "id": "cb853562",
   "metadata": {},
   "source": [
    "#### Single histogram creation and save"
   ]
  },
  {
   "cell_type": "code",
   "execution_count": 2,
   "id": "50936547-d113-41e2-ad62-5524a415e110",
   "metadata": {
    "tags": []
   },
   "outputs": [],
   "source": [
    "image_name=\"images/60/Bailey_48/2016/7-8\"\n",
    "file_name=\"histograms/nan_map_True/norm_True/8_buckets_3_bands/60/Bailey_48/2016/7-8.npy\""
   ]
  },
  {
   "cell_type": "code",
   "execution_count": 3,
   "id": "57bfd5f9-29ef-40c3-8a49-3e6ff54951ee",
   "metadata": {
    "tags": []
   },
   "outputs": [],
   "source": [
    "hist_post = recombine_image(BUCKET, image_name, HIST_BINS_LIST, SELECTED_BANDS, MAP_NAN, NORMALIZE)"
   ]
  },
  {
   "cell_type": "code",
   "execution_count": 4,
   "id": "fbefd41a-ddc5-4323-b70e-bdc649b73487",
   "metadata": {
    "tags": []
   },
   "outputs": [
    {
     "data": {
      "text/plain": [
       "array([], dtype=float64)"
      ]
     },
     "execution_count": 4,
     "metadata": {},
     "output_type": "execute_result"
    }
   ],
   "source": [
    "hist_post"
   ]
  },
  {
   "cell_type": "code",
   "execution_count": 5,
   "id": "241e67d2-8ba6-465d-9ec0-fe0cbec82e42",
   "metadata": {
    "tags": []
   },
   "outputs": [],
   "source": [
    "client = storage.Client()\n",
    "bucket = client.get_bucket(BUCKET)\n",
    "hist_blob = bucket.blob(file_name)\n",
    "content = hist_blob.download_as_bytes()\n",
    "binary_data = io.BytesIO(content)\n",
    "array = np.load(binary_data)"
   ]
  },
  {
   "cell_type": "code",
   "execution_count": 6,
   "id": "8c79f65a-dc4f-4046-8689-ff31708baf00",
   "metadata": {
    "tags": []
   },
   "outputs": [
    {
     "data": {
      "text/plain": [
       "array([    0,    13,    23,   660,  5679, 11719,  7287,  1266,     0,\n",
       "          19,    22,  1045,  7486, 12781,  4855,   488,     0,    15,\n",
       "          19,    95,  2379,  8653, 11293,  3763], dtype=int64)"
      ]
     },
     "execution_count": 6,
     "metadata": {},
     "output_type": "execute_result"
    }
   ],
   "source": [
    "array"
   ]
  },
  {
   "cell_type": "code",
   "execution_count": 7,
   "id": "e9bcd8c3-6127-4e56-b858-23e5d2ffe1ac",
   "metadata": {
    "tags": []
   },
   "outputs": [
    {
     "data": {
      "text/plain": [
       "array([[    0,    13,    23,   660,  5679, 11719,  7287,  1266],\n",
       "       [    0,    19,    22,  1045,  7486, 12781,  4855,   488],\n",
       "       [    0,    15,    19,    95,  2379,  8653, 11293,  3763]],\n",
       "      dtype=int64)"
      ]
     },
     "execution_count": 7,
     "metadata": {},
     "output_type": "execute_result"
    }
   ],
   "source": [
    "lstm_hist = array.reshape(len(HIST_BINS_LIST),NUM_BINS)\n",
    "lstm_hist"
   ]
  },
  {
   "cell_type": "code",
   "execution_count": 8,
   "id": "c4f6e876-f7ff-4308-8df9-1d85269ba35c",
   "metadata": {
    "tags": []
   },
   "outputs": [
    {
     "data": {
      "image/png": "[encoded data removed]",
      "text/plain": [
       "<Figure size 640x480 with 1 Axes>"
      ]
     },
     "metadata": {},
     "output_type": "display_data"
    }
   ],
   "source": [
    "for y in lstm_hist:\n",
    "    plt.plot(y)\n",
    "plt.show()"
   ]
  },
  {
   "cell_type": "code",
   "execution_count": 9,
   "id": "c67bd073-b0de-4fa2-af75-d39d768c1285",
   "metadata": {
    "tags": []
   },
   "outputs": [
    {
     "data": {
      "text/plain": [
       "(3, 8)"
      ]
     },
     "execution_count": 9,
     "metadata": {},
     "output_type": "execute_result"
    }
   ],
   "source": [
    "lstm_hist.shape"
   ]
  },
  {
   "cell_type": "code",
   "execution_count": null,
   "id": "82599b45-3dc3-46a1-9607-3376249efe3f",
   "metadata": {
    "tags": []
   },
   "outputs": [],
   "source": [
    "skip_nan = True\n",
    "normalise = True\n",
    "idx = 0\n",
    "bins = HIST_BINS_LIST[idx]\n",
    "blob_name = image_name + \".tif\"\n",
    "storage_client = storage.Client()\n",
    "blob = storage_client.bucket(BUCKET).blob(blob_name)\n",
    "band = SELECTED_BANDS[idx]\n",
    "with blob.open(\"rb\") as f:\n",
    "    with rasterio.open(f) as src:\n",
    "\n",
    "        data = src.read(band).flatten()\n",
    "        na_mask = np.isnan(data)\n",
    "\n",
    "        if skip_nan == False:\n",
    "            data[na_mask] = 0.0\n",
    "            valid_data = data\n",
    "        else:\n",
    "            valid_data = data[~na_mask]\n",
    "\n",
    "        if normalise:\n",
    "            valid_data = valid_data / REFLECTANCE_CONST\n",
    "            bins = bins / REFLECTANCE_CONST\n",
    "\n",
    "        valid_max = np.max(valid_data)\n",
    "        valid_min = np.min(valid_data)\n",
    "\n",
    "        if valid_max > bins[-1]:\n",
    "            logging.warning(\n",
    "                f\"image: {blob_name}, band: {band}, {valid_max} value is larger than assumed possible values for this band: {bins[-1]}\"\n",
    "            )\n",
    "        elif valid_min < bins[0]:\n",
    "            logging.warning(\n",
    "                f\"image: {blob_name}, band: {band}, {valid_min} value is smaller than assumed possible values for this band {bins[0]}\"\n",
    "            )\n",
    "\n",
    "        if valid_data.size > 0:\n",
    "            total_sum = np.sum(valid_data)\n",
    "            total_count = valid_data.size\n",
    "            mean = total_sum / total_count\n",
    "            hist, _ = np.histogram(valid_data, bins=bins, density=False)\n",
    "        else:\n",
    "            logging.error(f\"image: {blob_name}, band: {band} has 0 valid pixels. Investigate\")\n",
    "            mean = np.nan\n",
    "            hist = np.zeros_like(\n",
    "                bins[:-1]\n",
    "            ) "
   ]
  },
  {
   "cell_type": "code",
   "execution_count": 39,
   "id": "69f11e75-5579-40d2-b194-5c6157ab01d9",
   "metadata": {
    "tags": []
   },
   "outputs": [
    {
     "data": {
      "text/plain": [
       "array([    0,    13,    23,   660,  5679, 11719,  7287,  1266,     0,\n",
       "          19,    22,  1045,  7486, 12781,  4855,   488,     0,    15,\n",
       "          19,    95,  2379,  8653, 11293,  3763])"
      ]
     },
     "execution_count": 39,
     "metadata": {},
     "output_type": "execute_result"
    }
   ],
   "source": [
    "array"
   ]
  },
  {
   "cell_type": "markdown",
   "id": "6e89fc47",
   "metadata": {},
   "source": [
    "#### List of histograms combined into one"
   ]
  },
  {
   "cell_type": "code",
   "execution_count": 2,
   "id": "2ecd880b",
   "metadata": {
    "tags": []
   },
   "outputs": [
    {
     "ename": "NameError",
     "evalue": "name 'storage' is not defined",
     "output_type": "error",
     "traceback": [
      "\u001b[0;31m---------------------------------------------------------------------------\u001b[0m",
      "\u001b[0;31mNameError\u001b[0m                                 Traceback (most recent call last)",
      "Cell \u001b[0;32mIn[2], line 5\u001b[0m\n\u001b[1;32m      1\u001b[0m file_names \u001b[38;5;241m=\u001b[39m [\u001b[38;5;124m\"\u001b[39m\u001b[38;5;124mhistograms/nan_map_True/norm_True/8_buckets_3_bands/60/Bailey_48/2016/5-6.npy\u001b[39m\u001b[38;5;124m\"\u001b[39m,\n\u001b[1;32m      2\u001b[0m              \u001b[38;5;124m\"\u001b[39m\u001b[38;5;124mhistograms/nan_map_True/norm_True/8_buckets_3_bands/60/Bailey_48/2016/7-8.npy\u001b[39m\u001b[38;5;124m\"\u001b[39m,\n\u001b[1;32m      3\u001b[0m              \u001b[38;5;124m\"\u001b[39m\u001b[38;5;124mhistograms/nan_map_True/norm_True/8_buckets_3_bands/60/Bailey_48/2016/9-10.npy\u001b[39m\u001b[38;5;124m\"\u001b[39m]\n\u001b[0;32m----> 5\u001b[0m client \u001b[38;5;241m=\u001b[39m \u001b[43mstorage\u001b[49m\u001b[38;5;241m.\u001b[39mClient()\n\u001b[1;32m      6\u001b[0m bucket \u001b[38;5;241m=\u001b[39m client\u001b[38;5;241m.\u001b[39mget_bucket(BUCKET)\n",
      "\u001b[0;31mNameError\u001b[0m: name 'storage' is not defined"
     ]
    }
   ],
   "source": [
    "file_names = [\"histograms/nan_map_True/norm_True/8_buckets_3_bands/60/Bailey_48/2016/5-6.npy\",\n",
    "             \"histograms/nan_map_True/norm_True/8_buckets_3_bands/60/Bailey_48/2016/7-8.npy\",\n",
    "             \"histograms/nan_map_True/norm_True/8_buckets_3_bands/60/Bailey_48/2016/9-10.npy\"]\n",
    "\n",
    "client = storage.Client()\n",
    "bucket = client.get_bucket(BUCKET)"
   ]
  },
  {
   "cell_type": "code",
   "execution_count": 10,
   "id": "332be329",
   "metadata": {},
   "outputs": [],
   "source": [
    "hist_per_blob = []\n",
    "\n",
    "for file_name in file_names:\n",
    "    hist_blob = bucket.blob(file_name)\n",
    "    content = hist_blob.download_as_bytes()\n",
    "    binary_data = io.BytesIO(content)\n",
    "    array = np.load(binary_data)\n",
    "    hist_per_blob.append(array)\n"
   ]
  },
  {
   "cell_type": "code",
   "execution_count": 1,
   "id": "17d5b933",
   "metadata": {
    "tags": []
   },
   "outputs": [
    {
     "ename": "NameError",
     "evalue": "name 'np' is not defined",
     "output_type": "error",
     "traceback": [
      "\u001b[0;31m---------------------------------------------------------------------------\u001b[0m",
      "\u001b[0;31mNameError\u001b[0m                                 Traceback (most recent call last)",
      "Cell \u001b[0;32mIn[1], line 1\u001b[0m\n\u001b[0;32m----> 1\u001b[0m hist_per_blob \u001b[38;5;241m=\u001b[39m \u001b[43mnp\u001b[49m\u001b[38;5;241m.\u001b[39marray(hist_per_blob)\n\u001b[1;32m      2\u001b[0m hist_per_blob\u001b[38;5;241m.\u001b[39mshape\n",
      "\u001b[0;31mNameError\u001b[0m: name 'np' is not defined"
     ]
    }
   ],
   "source": [
    "hist_per_blob = np.array(hist_per_blob)\n",
    "hist_per_blob.shape"
   ]
  },
  {
   "cell_type": "code",
   "execution_count": 17,
   "id": "9203ccf6",
   "metadata": {},
   "outputs": [
    {
     "data": {
      "text/plain": [
       "array([[    1,   117,   231,   832,  5365, 14727,  4987,   413,     2,\n",
       "          120,   428,  1928, 12437, 10440,  1238,   137,     2,   125,\n",
       "          460,  2036, 13586,  9566,   861,   122],\n",
       "       [    0,    13,    23,   660,  5679, 11719,  7287,  1266,     0,\n",
       "           19,    22,  1045,  7486, 12781,  4855,   488,     0,    15,\n",
       "           19,    95,  2379,  8653, 11293,  3763],\n",
       "       [    1,     3,  1898,  8255, 11133,  4814,   491,   105,     2,\n",
       "            3,  2078,  8476, 11367,  4334,   364,   112,     2,     1,\n",
       "          689,  5198, 10252,  8798,  1518,   192]], dtype=int64)"
      ]
     },
     "execution_count": 17,
     "metadata": {},
     "output_type": "execute_result"
    }
   ],
   "source": [
    "hist_per_blob\n"
   ]
  },
  {
   "cell_type": "code",
   "execution_count": 20,
   "id": "26685994",
   "metadata": {},
   "outputs": [
    {
     "data": {
      "text/plain": [
       "array([    2,   133,  2152,  9747, 22177, 31260, 12765,  1784,     4,\n",
       "         142,  2528, 11449, 31290, 27555,  6457,   737,     4,   141,\n",
       "        1168,  7329, 26217, 27017, 13672,  4077], dtype=int64)"
      ]
     },
     "execution_count": 20,
     "metadata": {},
     "output_type": "execute_result"
    }
   ],
   "source": [
    "# case when one histogram is split into multiple files\n",
    "np.sum(hist_per_blob, axis=0)"
   ]
  },
  {
   "cell_type": "markdown",
   "id": "2e71a747",
   "metadata": {},
   "source": [
    "### Numpy array to dataset"
   ]
  },
  {
   "cell_type": "markdown",
   "id": "2c3bf8ce",
   "metadata": {},
   "source": []
  }
 ],
 "metadata": {
  "environment": {
   "kernel": "conda-base-py",
   "name": "workbench-notebooks.m125",
   "type": "gcloud",
   "uri": "us-docker.pkg.dev/deeplearning-platform-release/gcr.io/workbench-notebooks:m125"
  },
  "kernelspec": {
   "display_name": "Python 3 (ipykernel) (Local)",
   "language": "python",
   "name": "conda-base-py"
  },
  "language_info": {
   "codemirror_mode": {
    "name": "ipython",
    "version": 3
   },
   "file_extension": ".py",
   "mimetype": "text/x-python",
   "name": "python",
   "nbconvert_exporter": "python",
   "pygments_lexer": "ipython3",
   "version": "3.10.15"
  }
 },
 "nbformat": 4,
 "nbformat_minor": 5
}
