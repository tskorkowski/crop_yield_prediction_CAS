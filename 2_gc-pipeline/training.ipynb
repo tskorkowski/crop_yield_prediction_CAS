{
 "cells": [
  {
   "cell_type": "code",
   "execution_count": 9,
   "id": "ea876282-7e0d-4a5e-be56-0b31f49f3992",
   "metadata": {
    "tags": []
   },
   "outputs": [],
   "source": [
    "# Setup\n",
    "!pip install --quiet --upgrade pip\n",
    "\n",
    "# Install the dependencies.\n",
    "!pip install --quiet -r requirements_tf.txt\n",
    "\n",
    "# Restart the runtime by ending the process.\n",
    "exit()"
   ]
  },
  {
   "cell_type": "code",
   "execution_count": 1,
   "id": "e5d9bc1e-c419-4350-a556-1a76cb21ab39",
   "metadata": {
    "tags": []
   },
   "outputs": [],
   "source": [
    "import os\n",
    "import matplotlib.pyplot as plt\n",
    "\n",
    "os.environ['TF_CPP_MIN_LOG_LEVEL'] = '2'  # 0 = all messages, 1 = INFO, 2 = WARNING, 3 = ERROR\n",
    "import numpy as np\n",
    "import pandas as pd\n",
    "import tensorflow as tf\n",
    "from google.cloud import storage\n",
    "import google.auth\n",
    "from importlib import reload\n",
    "from serving.constants import  BUCKET, IMG_SOURCE_PREFIX, HIST_DEST_PREFIX, NUM_BANDS, HIST_BINS_LIST, SCALE, CROP, MONTHS, IMAGE_BATCH, NUM_BINS\n",
    "from serving.common import list_blobs_with_prefix\n",
    "from serving.hist_training import create_hist_dataset, create_data_sample, get_labels, LstmModel, load_dataset_from_gcp, save_dataset_to_gcp\n",
    "from serving.data import check_blob_prefix_exists, batch_check_blobs, get_varied_labels\n",
    "import logging\n",
    "import io\n",
    "import itertools\n",
    "from google.cloud import storage\n",
    "import google.auth\n",
    "import time\n",
    "\n",
    "from keras.layers import LSTM, Dense, Dropout, Input\n",
    "from tensorflow.keras.optimizers import Adam, Nadam, RMSprop\n",
    "\n",
    "from tensorflow.keras.models import Model\n",
    "from tensorflow.keras.callbacks import EarlyStopping\n",
    "import mlflow\n",
    "import mlflow.keras\n",
    "import matplotlib.pyplot as plt"
   ]
  },
  {
   "cell_type": "code",
   "execution_count": 2,
   "id": "7c83aac7-7acf-435f-8cc9-e24d51bf3a5b",
   "metadata": {
    "tags": []
   },
   "outputs": [],
   "source": [
    "# SETUP\n",
    "\n",
    "#####\n",
    "CREATE_DATASET = False\n",
    "#####\n",
    "\n",
    "start_time = time.perf_counter()\n",
    "credentials, _ = google.auth.default()\n",
    "bucket_name = BUCKET\n",
    "directory_prefix = IMG_SOURCE_PREFIX\n",
    "output_prefix = HIST_DEST_PREFIX\n",
    "labels_data = \"labels_combined.npy\"\n",
    "labels_header = \"labels_header.npy\"\n",
    "batch_size = 32\n",
    "\n",
    "client = storage.Client()\n",
    "bucket = client.get_bucket(bucket_name)\n",
    "num_bins = 128\n",
    "\n",
    "\n",
    "\n",
    "# Create a directory for MLflow artifacts\n",
    "mlflow_artifacts_dir = os.path.abspath('mlflow_artifacts')\n",
    "os.makedirs(mlflow_artifacts_dir, exist_ok=True)\n",
    "\n",
    "# Set MLflow tracking URI to the local directory\n",
    "mlflow.set_tracking_uri(f\"file:{mlflow_artifacts_dir}\")         "
   ]
  },
  {
   "cell_type": "code",
   "execution_count": 3,
   "id": "8cfcac68-58ca-4b85-9ac5-5fd97d9f5476",
   "metadata": {
    "tags": []
   },
   "outputs": [
    {
     "name": "stdout",
     "output_type": "stream",
     "text": [
      "Dataset loaded\n"
     ]
    }
   ],
   "source": [
    "file_name = f\"{num_bins}_buckets_training_test\" #\"hist_dataset_medium\" #\n",
    "#dataset_suffix = r\".tfrecords\"\n",
    "\n",
    "#file_name += dataset_suffix\n",
    "\n",
    "\n",
    "if CREATE_DATASET:\n",
    "    # Generate all prefixes\n",
    "    start_time = time.perf_counter()\n",
    "    \n",
    "    labels_df = get_varied_labels(0,600)\n",
    "    labels = list(zip(labels_df[\"county_name\"],\n",
    "                      labels_df[\"county_ansi\"],\n",
    "                 labels_df[\"state_ansi\"],\n",
    "                 labels_df[\"year\"]))\n",
    "\n",
    "\n",
    "    prefixes_hist = [f'histograms/{num_bins}_buckets/{SCALE}/{county.capitalize()}_{fips}/{year}' \n",
    "                for county,_, fips, year in labels]\n",
    "\n",
    "    # Batch check all prefixes\n",
    "    results_hist = batch_check_blobs(bucket_name, prefixes_hist)\n",
    "\n",
    "    # Generate get_input_img_params based on results\n",
    "    get_input_img_params = [(county.capitalize(), fips, year)\n",
    "                for county, county_fips, fips, year in labels\n",
    "                if results_hist[f'histograms/{num_bins}_buckets/{SCALE}/{county.capitalize()}_{fips}/{year}']\n",
    "    ]\n",
    "\n",
    "    print(f\"Number of items to process: {len(get_input_img_params)}\")\n",
    "    \n",
    "    end_time_dataset_info = time.perf_counter()\n",
    "    print(f\"Collecting dataset information: {end_time_dataset_info-start_time}\")\n",
    "    \n",
    "    dataset, input_shape = create_hist_dataset(get_input_img_params, \"labels_combined.npy\", \"labels_header.npy\", num_bins=num_bins)\n",
    "    end_time_dataset = time.perf_counter()\n",
    "    \n",
    "    print(f\"Building dataset: {(end_time_dataset - end_time_dataset_info)/60:.02} minutes\")\n",
    "    \n",
    "    # Save dataset\n",
    "    save_dataset_to_gcp(dataset, file_name = file_name)\n",
    "    print(\"Dataset created\")\n",
    "    CREATE_DATASET = False\n",
    "else:\n",
    "    dataset = load_dataset_from_gcp(file_name=file_name)\n",
    "    for features, label in dataset.take(1):\n",
    "        input_shape = tuple(features.shape)\n",
    "        label_shape = label.shape\n",
    "    print(\"Dataset loaded\")"
   ]
  },
  {
   "cell_type": "code",
   "execution_count": 4,
   "id": "f0a26a19-410d-4e78-8e7c-ead300283a65",
   "metadata": {
    "tags": []
   },
   "outputs": [
    {
     "data": {
      "text/html": [
       "<div>\n",
       "<style scoped>\n",
       "    .dataframe tbody tr th:only-of-type {\n",
       "        vertical-align: middle;\n",
       "    }\n",
       "\n",
       "    .dataframe tbody tr th {\n",
       "        vertical-align: top;\n",
       "    }\n",
       "\n",
       "    .dataframe thead th {\n",
       "        text-align: right;\n",
       "    }\n",
       "</style>\n",
       "<table border=\"1\" class=\"dataframe\">\n",
       "  <thead>\n",
       "    <tr style=\"text-align: right;\">\n",
       "      <th></th>\n",
       "      <th>commodity_desc</th>\n",
       "      <th>reference_period_desc</th>\n",
       "      <th>year</th>\n",
       "      <th>state_ansi</th>\n",
       "      <th>state_name</th>\n",
       "      <th>county_ansi</th>\n",
       "      <th>county_name</th>\n",
       "      <th>target</th>\n",
       "      <th>source_file</th>\n",
       "    </tr>\n",
       "  </thead>\n",
       "  <tbody>\n",
       "    <tr>\n",
       "      <th>66</th>\n",
       "      <td>CORN</td>\n",
       "      <td>YEAR</td>\n",
       "      <td>2016</td>\n",
       "      <td>06</td>\n",
       "      <td>CALIFORNIA</td>\n",
       "      <td>101</td>\n",
       "      <td>SUTTER</td>\n",
       "      <td>264.1</td>\n",
       "      <td>USDA_Corn_County_2016.csv</td>\n",
       "    </tr>\n",
       "    <tr>\n",
       "      <th>3045</th>\n",
       "      <td>CORN</td>\n",
       "      <td>YEAR</td>\n",
       "      <td>2018</td>\n",
       "      <td>06</td>\n",
       "      <td>CALIFORNIA</td>\n",
       "      <td>101</td>\n",
       "      <td>SUTTER</td>\n",
       "      <td>210.0</td>\n",
       "      <td>USDA_Corn_County_2018.csv</td>\n",
       "    </tr>\n",
       "    <tr>\n",
       "      <th>4389</th>\n",
       "      <td>CORN</td>\n",
       "      <td>YEAR</td>\n",
       "      <td>2019</td>\n",
       "      <td>06</td>\n",
       "      <td>CALIFORNIA</td>\n",
       "      <td>101</td>\n",
       "      <td>SUTTER</td>\n",
       "      <td>147.1</td>\n",
       "      <td>USDA_Corn_County_2019.csv</td>\n",
       "    </tr>\n",
       "    <tr>\n",
       "      <th>7314</th>\n",
       "      <td>CORN</td>\n",
       "      <td>YEAR</td>\n",
       "      <td>2021</td>\n",
       "      <td>06</td>\n",
       "      <td>CALIFORNIA</td>\n",
       "      <td>101</td>\n",
       "      <td>SUTTER</td>\n",
       "      <td>169.9</td>\n",
       "      <td>USDA_Corn_County_2021.csv</td>\n",
       "    </tr>\n",
       "    <tr>\n",
       "      <th>8791</th>\n",
       "      <td>CORN</td>\n",
       "      <td>YEAR</td>\n",
       "      <td>2022</td>\n",
       "      <td>06</td>\n",
       "      <td>CALIFORNIA</td>\n",
       "      <td>101</td>\n",
       "      <td>SUTTER</td>\n",
       "      <td>133.8</td>\n",
       "      <td>USDA_Corn_County_2022.csv</td>\n",
       "    </tr>\n",
       "  </tbody>\n",
       "</table>\n",
       "</div>"
      ],
      "text/plain": [
       "     commodity_desc reference_period_desc  year state_ansi  state_name  \\\n",
       "66             CORN                  YEAR  2016         06  CALIFORNIA   \n",
       "3045           CORN                  YEAR  2018         06  CALIFORNIA   \n",
       "4389           CORN                  YEAR  2019         06  CALIFORNIA   \n",
       "7314           CORN                  YEAR  2021         06  CALIFORNIA   \n",
       "8791           CORN                  YEAR  2022         06  CALIFORNIA   \n",
       "\n",
       "     county_ansi county_name target                source_file  \n",
       "66           101      SUTTER  264.1  USDA_Corn_County_2016.csv  \n",
       "3045         101      SUTTER  210.0  USDA_Corn_County_2018.csv  \n",
       "4389         101      SUTTER  147.1  USDA_Corn_County_2019.csv  \n",
       "7314         101      SUTTER  169.9  USDA_Corn_County_2021.csv  \n",
       "8791         101      SUTTER  133.8  USDA_Corn_County_2022.csv  "
      ]
     },
     "execution_count": 4,
     "metadata": {},
     "output_type": "execute_result"
    }
   ],
   "source": [
    "# Sample labels\n",
    "label_data = np.load(labels_data, allow_pickle=True)\n",
    "label_header = np.load(labels_header, allow_pickle=True)\n",
    "label_df = pd.DataFrame(label_data, columns=label_header)\n",
    "label_df[label_df[\"county_name\"]=='Sutter'.upper()]"
   ]
  },
  {
   "cell_type": "code",
   "execution_count": 5,
   "id": "83a12278-010a-4b9f-881d-99afc573a007",
   "metadata": {
    "tags": []
   },
   "outputs": [
    {
     "name": "stdout",
     "output_type": "stream",
     "text": [
      "146.14682\n",
      "Epoch 1/5\n",
      "92/92 [==============================] - 12s 120ms/step - loss: 17572.0508 - val_loss: 12101.3828\n",
      "Epoch 2/5\n",
      "92/92 [==============================] - 12s 126ms/step - loss: 9291.2607 - val_loss: 6445.5220\n",
      "Epoch 3/5\n",
      "92/92 [==============================] - 13s 138ms/step - loss: 4803.3008 - val_loss: 3466.7246\n",
      "Epoch 4/5\n",
      "92/92 [==============================] - 13s 142ms/step - loss: 2733.4297 - val_loss: 2322.0698\n",
      "Epoch 5/5\n",
      "92/92 [==============================] - 13s 135ms/step - loss: 1936.8724 - val_loss: 1629.1840\n"
     ]
    },
    {
     "data": {
      "image/png": "[encoded data removed]",
      "text/plain": [
       "<Figure size 1200x400 with 1 Axes>"
      ]
     },
     "metadata": {},
     "output_type": "display_data"
    },
    {
     "name": "stdout",
     "output_type": "stream",
     "text": [
      "7/7 [==============================] - 1s 56ms/step - loss: 1720.1981\n"
     ]
    }
   ],
   "source": [
    "responses = []\n",
    "for _, response in dataset:\n",
    "    responses.append(response.numpy())\n",
    "mean_response = np.mean(responses)\n",
    "print(mean_response)\n",
    "\n",
    "model = LstmModel(input_shape=input_shape, lstm_layers=4, no_units=2, mean_response=0)\n",
    "model.compile(optimizer='nadam', learning_rate = 0.5)\n",
    "history = model.fit(dataset, epochs=5, batch_size=batch_size)"
   ]
  },
  {
   "cell_type": "code",
   "execution_count": 7,
   "id": "31ffa0b6",
   "metadata": {},
   "outputs": [
    {
     "name": "stdout",
     "output_type": "stream",
     "text": [
      "Model: \"lstm_model\"\n",
      "_________________________________________________________________\n",
      " Layer (type)                Output Shape              Param #   \n",
      "=================================================================\n",
      " lstm (LSTM)                 multiple                  13336     \n",
      "                                                                 \n",
      " lstm_1 (LSTM)               multiple                  40        \n",
      "                                                                 \n",
      " lstm_2 (LSTM)               multiple                  40        \n",
      "                                                                 \n",
      " lstm_3 (LSTM)               multiple                  40        \n",
      "                                                                 \n",
      " dense (Dense)               multiple                  3         \n",
      "                                                                 \n",
      "=================================================================\n",
      "Total params: 13,459\n",
      "Trainable params: 13,459\n",
      "Non-trainable params: 0\n",
      "_________________________________________________________________\n",
      "1456.4299\n"
     ]
    }
   ],
   "source": [
    "model.summary()\n",
    "print(model.naive_loss)"
   ]
  }
 ],
 "metadata": {
  "environment": {
   "kernel": "conda-base-py",
   "name": "workbench-notebooks.m125",
   "type": "gcloud",
   "uri": "us-docker.pkg.dev/deeplearning-platform-release/gcr.io/workbench-notebooks:m125"
  },
  "kernelspec": {
   "display_name": "Python 3 (ipykernel) (Local)",
   "language": "python",
   "name": "conda-base-py"
  },
  "language_info": {
   "codemirror_mode": {
    "name": "ipython",
    "version": 3
   },
   "file_extension": ".py",
   "mimetype": "text/x-python",
   "name": "python",
   "nbconvert_exporter": "python",
   "pygments_lexer": "ipython3",
   "version": "3.10.15"
  }
 },
 "nbformat": 4,
 "nbformat_minor": 5
}
