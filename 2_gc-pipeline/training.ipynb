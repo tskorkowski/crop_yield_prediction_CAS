{
 "cells": [
  {
   "cell_type": "code",
   "execution_count": 8,
   "id": "ea876282-7e0d-4a5e-be56-0b31f49f3992",
   "metadata": {
    "tags": []
   },
   "outputs": [],
   "source": [
    "# Setup\n",
    "!pip install --quiet --upgrade pip\n",
    "\n",
    "# Install the dependencies.\n",
    "!pip install --quiet -r requirements_tf.txt\n",
    "\n",
    "# Restart the runtime by ending the process.\n",
    "exit()"
   ]
  },
  {
   "cell_type": "code",
   "execution_count": 1,
   "id": "e5d9bc1e-c419-4350-a556-1a76cb21ab39",
   "metadata": {
    "tags": []
   },
   "outputs": [],
   "source": [
    "import os\n",
    "import matplotlib.pyplot as plt\n",
    "\n",
    "os.environ['TF_CPP_MIN_LOG_LEVEL'] = '2'  # 0 = all messages, 1 = INFO, 2 = WARNING, 3 = ERROR\n",
    "import numpy as np\n",
    "import pandas as pd\n",
    "import tensorflow as tf\n",
    "from google.cloud import storage\n",
    "import google.auth\n",
    "from importlib import reload\n",
    "from serving.constants import  BUCKET, IMG_SOURCE_PREFIX, HIST_DEST_PREFIX, NUM_BANDS, HIST_BINS_LIST, SCALE, CROP, MONTHS, IMAGE_BATCH, NUM_BINS\n",
    "from serving.common import list_blobs_with_prefix\n",
    "from serving.hist_training import create_hist_dataset, create_data_sample, get_labels, LstmModel, load_dataset_from_gcp, save_dataset_to_gcp, TimeDependentDenseLstmModel\n",
    "from serving.data import check_blob_prefix_exists, batch_check_blobs, get_varied_labels\n",
    "import logging\n",
    "import io\n",
    "import itertools\n",
    "from google.cloud import storage\n",
    "import google.auth\n",
    "import time\n",
    "\n",
    "from keras.layers import LSTM, Dense, Dropout, Input\n",
    "from tensorflow.keras.optimizers import Adam, Nadam, RMSprop\n",
    "\n",
    "from tensorflow.keras.models import Model\n",
    "from tensorflow.keras.callbacks import EarlyStopping\n",
    "import mlflow\n",
    "import mlflow.keras\n",
    "import matplotlib.pyplot as plt"
   ]
  },
  {
   "cell_type": "code",
   "execution_count": 2,
   "id": "7c83aac7-7acf-435f-8cc9-e24d51bf3a5b",
   "metadata": {
    "tags": []
   },
   "outputs": [],
   "source": [
    "# SETUP\n",
    "\n",
    "#####\n",
    "CREATE_DATASET = False\n",
    "#####\n",
    "\n",
    "start_time = time.perf_counter()\n",
    "credentials, _ = google.auth.default()\n",
    "bucket_name = BUCKET\n",
    "directory_prefix = IMG_SOURCE_PREFIX\n",
    "output_prefix = HIST_DEST_PREFIX\n",
    "labels_data = \"labels_combined.npy\"\n",
    "labels_header = \"labels_header.npy\"\n",
    "batch_size = 32\n",
    "\n",
    "client = storage.Client()\n",
    "bucket = client.get_bucket(bucket_name)\n",
    "num_bins = 128 * 2\n",
    "img_range = [0,2500]"
   ]
  },
  {
   "cell_type": "code",
   "execution_count": 3,
   "id": "8cfcac68-58ca-4b85-9ac5-5fd97d9f5476",
   "metadata": {
    "tags": []
   },
   "outputs": [
    {
     "name": "stdout",
     "output_type": "stream",
     "text": [
      "Dataset loaded\n"
     ]
    }
   ],
   "source": [
    "file_name = f\"{num_bins}_buckets_training_test\" #\"hist_dataset_medium\" #\n",
    "dataset_suffix = r\".tfrecords\"\n",
    "\n",
    "file_name += dataset_suffix\n",
    "\n",
    "\n",
    "if CREATE_DATASET:\n",
    "    # Generate all prefixes\n",
    "    start_time = time.perf_counter()\n",
    "    \n",
    "    labels_df = get_varied_labels(*img_range)\n",
    "    labels = list(zip(labels_df[\"county_name\"],\n",
    "                      labels_df[\"county_ansi\"],\n",
    "                 labels_df[\"state_ansi\"],\n",
    "                 labels_df[\"year\"]))\n",
    "\n",
    "\n",
    "    prefixes_hist = [f'histograms/{num_bins}_buckets/{SCALE}/{county.capitalize()}_{fips}/{year}' \n",
    "                for county,_, fips, year in labels]\n",
    "\n",
    "    # Batch check all prefixes\n",
    "    results_hist = batch_check_blobs(bucket_name, prefixes_hist)\n",
    "\n",
    "    # Generate get_input_img_params based on results\n",
    "    get_input_img_params = [(county.capitalize(), fips, year)\n",
    "                for county, county_fips, fips, year in labels\n",
    "                if results_hist[f'histograms/{num_bins}_buckets/{SCALE}/{county.capitalize()}_{fips}/{year}']\n",
    "    ]\n",
    "\n",
    "    print(f\"Number of items to process: {len(get_input_img_params)}\")\n",
    "    \n",
    "    end_time_dataset_info = time.perf_counter()\n",
    "    print(f\"Collecting dataset information: {end_time_dataset_info-start_time}\")\n",
    "    \n",
    "    dataset, input_shape = create_hist_dataset(get_input_img_params, \"labels_combined.npy\", \"labels_header.npy\", num_bins=num_bins)\n",
    "    end_time_dataset = time.perf_counter()\n",
    "    \n",
    "    print(f\"Building dataset: {(end_time_dataset - end_time_dataset_info)/60:.02} minutes\")\n",
    "    \n",
    "    # Save dataset\n",
    "    save_dataset_to_gcp(dataset, file_name = file_name)\n",
    "    print(\"Dataset created\")\n",
    "    CREATE_DATASET = False\n",
    "else:\n",
    "    dataset = load_dataset_from_gcp(file_name=file_name)\n",
    "    for features, label in dataset.take(1):\n",
    "        input_shape = tuple(features.shape)\n",
    "        label_shape = label.shape\n",
    "    print(\"Dataset loaded\")"
   ]
  },
  {
   "cell_type": "code",
   "execution_count": 4,
   "id": "f0a26a19-410d-4e78-8e7c-ead300283a65",
   "metadata": {
    "tags": []
   },
   "outputs": [
    {
     "data": {
      "text/html": [
       "<div>\n",
       "<style scoped>\n",
       "    .dataframe tbody tr th:only-of-type {\n",
       "        vertical-align: middle;\n",
       "    }\n",
       "\n",
       "    .dataframe tbody tr th {\n",
       "        vertical-align: top;\n",
       "    }\n",
       "\n",
       "    .dataframe thead th {\n",
       "        text-align: right;\n",
       "    }\n",
       "</style>\n",
       "<table border=\"1\" class=\"dataframe\">\n",
       "  <thead>\n",
       "    <tr style=\"text-align: right;\">\n",
       "      <th></th>\n",
       "      <th>commodity_desc</th>\n",
       "      <th>reference_period_desc</th>\n",
       "      <th>year</th>\n",
       "      <th>state_ansi</th>\n",
       "      <th>state_name</th>\n",
       "      <th>county_ansi</th>\n",
       "      <th>county_name</th>\n",
       "      <th>target</th>\n",
       "      <th>source_file</th>\n",
       "    </tr>\n",
       "  </thead>\n",
       "  <tbody>\n",
       "    <tr>\n",
       "      <th>66</th>\n",
       "      <td>CORN</td>\n",
       "      <td>YEAR</td>\n",
       "      <td>2016</td>\n",
       "      <td>06</td>\n",
       "      <td>CALIFORNIA</td>\n",
       "      <td>101</td>\n",
       "      <td>SUTTER</td>\n",
       "      <td>264.1</td>\n",
       "      <td>USDA_Corn_County_2016.csv</td>\n",
       "    </tr>\n",
       "    <tr>\n",
       "      <th>3045</th>\n",
       "      <td>CORN</td>\n",
       "      <td>YEAR</td>\n",
       "      <td>2018</td>\n",
       "      <td>06</td>\n",
       "      <td>CALIFORNIA</td>\n",
       "      <td>101</td>\n",
       "      <td>SUTTER</td>\n",
       "      <td>210.0</td>\n",
       "      <td>USDA_Corn_County_2018.csv</td>\n",
       "    </tr>\n",
       "    <tr>\n",
       "      <th>4389</th>\n",
       "      <td>CORN</td>\n",
       "      <td>YEAR</td>\n",
       "      <td>2019</td>\n",
       "      <td>06</td>\n",
       "      <td>CALIFORNIA</td>\n",
       "      <td>101</td>\n",
       "      <td>SUTTER</td>\n",
       "      <td>147.1</td>\n",
       "      <td>USDA_Corn_County_2019.csv</td>\n",
       "    </tr>\n",
       "    <tr>\n",
       "      <th>7314</th>\n",
       "      <td>CORN</td>\n",
       "      <td>YEAR</td>\n",
       "      <td>2021</td>\n",
       "      <td>06</td>\n",
       "      <td>CALIFORNIA</td>\n",
       "      <td>101</td>\n",
       "      <td>SUTTER</td>\n",
       "      <td>169.9</td>\n",
       "      <td>USDA_Corn_County_2021.csv</td>\n",
       "    </tr>\n",
       "    <tr>\n",
       "      <th>8791</th>\n",
       "      <td>CORN</td>\n",
       "      <td>YEAR</td>\n",
       "      <td>2022</td>\n",
       "      <td>06</td>\n",
       "      <td>CALIFORNIA</td>\n",
       "      <td>101</td>\n",
       "      <td>SUTTER</td>\n",
       "      <td>133.8</td>\n",
       "      <td>USDA_Corn_County_2022.csv</td>\n",
       "    </tr>\n",
       "  </tbody>\n",
       "</table>\n",
       "</div>"
      ],
      "text/plain": [
       "     commodity_desc reference_period_desc  year state_ansi  state_name  \\\n",
       "66             CORN                  YEAR  2016         06  CALIFORNIA   \n",
       "3045           CORN                  YEAR  2018         06  CALIFORNIA   \n",
       "4389           CORN                  YEAR  2019         06  CALIFORNIA   \n",
       "7314           CORN                  YEAR  2021         06  CALIFORNIA   \n",
       "8791           CORN                  YEAR  2022         06  CALIFORNIA   \n",
       "\n",
       "     county_ansi county_name target                source_file  \n",
       "66           101      SUTTER  264.1  USDA_Corn_County_2016.csv  \n",
       "3045         101      SUTTER  210.0  USDA_Corn_County_2018.csv  \n",
       "4389         101      SUTTER  147.1  USDA_Corn_County_2019.csv  \n",
       "7314         101      SUTTER  169.9  USDA_Corn_County_2021.csv  \n",
       "8791         101      SUTTER  133.8  USDA_Corn_County_2022.csv  "
      ]
     },
     "execution_count": 4,
     "metadata": {},
     "output_type": "execute_result"
    }
   ],
   "source": [
    "# Sample labels\n",
    "label_data = np.load(labels_data, allow_pickle=True)\n",
    "label_header = np.load(labels_header, allow_pickle=True)\n",
    "label_df = pd.DataFrame(label_data, columns=label_header)\n",
    "label_df[label_df[\"county_name\"]=='Sutter'.upper()]"
   ]
  },
  {
   "cell_type": "code",
   "execution_count": null,
   "id": "cb244cf1-4d9e-4473-bc57-54c8efc4af5b",
   "metadata": {
    "tags": []
   },
   "outputs": [
    {
     "name": "stdout",
     "output_type": "stream",
     "text": [
      "Epoch 1/30\n",
      "113/113 [==============================] - 28s 241ms/step - loss: 20613.9688 - mae: 137.8386 - val_loss: 18499.5820 - val_mae: 130.1965\n",
      "Epoch 2/30\n",
      "113/113 [==============================] - 27s 229ms/step - loss: 16287.7490 - mae: 121.1423 - val_loss: 15413.9424 - val_mae: 117.9286\n",
      "Epoch 3/30\n",
      "113/113 [==============================] - 27s 231ms/step - loss: 12818.6387 - mae: 105.9756 - val_loss: 11464.2109 - val_mae: 99.7005\n",
      "Epoch 4/30\n",
      "113/113 [==============================] - 27s 230ms/step - loss: 10053.4170 - mae: 92.2128 - val_loss: 8759.1689 - val_mae: 84.7326\n",
      "Epoch 5/30\n",
      "113/113 [==============================] - 27s 233ms/step - loss: 7817.4771 - mae: 79.7606 - val_loss: 6764.5229 - val_mae: 73.5505\n",
      "Epoch 6/30\n",
      "113/113 [==============================] - 27s 230ms/step - loss: 6099.8350 - mae: 69.0544 - val_loss: 5446.6558 - val_mae: 64.1096\n",
      "Epoch 7/30\n",
      "113/113 [==============================] - 27s 234ms/step - loss: 4759.6724 - mae: 59.7851 - val_loss: 4152.7817 - val_mae: 55.0911\n",
      "Epoch 8/30\n",
      "113/113 [==============================] - 28s 236ms/step - loss: 3756.3479 - mae: 52.3971 - val_loss: 3335.3911 - val_mae: 49.7664\n",
      "Epoch 9/30\n",
      "113/113 [==============================] - 28s 238ms/step - loss: 3067.6580 - mae: 46.9213 - val_loss: 2808.8101 - val_mae: 45.1768\n",
      "Epoch 10/30\n",
      "113/113 [==============================] - 29s 244ms/step - loss: 2544.7844 - mae: 42.3779 - val_loss: 2117.5759 - val_mae: 38.7017\n",
      "Epoch 11/30\n",
      "113/113 [==============================] - 29s 244ms/step - loss: 2199.9214 - mae: 39.3126 - val_loss: 1873.7906 - val_mae: 36.3963\n",
      "Epoch 12/30\n",
      "113/113 [==============================] - 29s 244ms/step - loss: 1944.2787 - mae: 36.8685 - val_loss: 1858.1035 - val_mae: 36.3164\n",
      "Epoch 13/30\n",
      " 80/113 [====================>.........] - ETA: 6s - loss: 1773.8875 - mae: 35.1975"
     ]
    }
   ],
   "source": [
    "model = TimeDependentDenseLstmModel(input_shape=input_shape, lstm_layers=4, dense_layers_per_step=4, no_units=2, mean_response=0)\n",
    "model.compile(optimizer='nadam', learning_rate = 0.05)\n",
    "history = model.fit(dataset, epochs=30, batch_size=batch_size)"
   ]
  },
  {
   "cell_type": "code",
   "execution_count": 4,
   "id": "83a12278-010a-4b9f-881d-99afc573a007",
   "metadata": {
    "tags": []
   },
   "outputs": [
    {
     "name": "stdout",
     "output_type": "stream",
     "text": [
      "147.03702\n",
      "Epoch 1/25\n",
      "113/113 [==============================] - 13s 107ms/step - loss: 16752.9277 - mae: 122.3050 - val_loss: 10554.4043 - val_mae: 96.5848\n",
      "Epoch 2/25\n",
      "113/113 [==============================] - 13s 107ms/step - loss: 7539.3271 - mae: 77.5996 - val_loss: 5025.3560 - val_mae: 59.7328\n",
      "Epoch 3/25\n",
      "113/113 [==============================] - 13s 106ms/step - loss: 3477.4360 - mae: 49.9933 - val_loss: 2354.9373 - val_mae: 40.5966\n",
      "Epoch 4/25\n",
      "113/113 [==============================] - 13s 108ms/step - loss: 2059.9534 - mae: 37.9667 - val_loss: 1901.4015 - val_mae: 37.1905\n",
      "Epoch 5/25\n",
      "113/113 [==============================] - 13s 107ms/step - loss: 1681.9325 - mae: 34.1315 - val_loss: 1574.7385 - val_mae: 32.4935\n",
      "Epoch 6/25\n",
      "113/113 [==============================] - 13s 108ms/step - loss: 1605.1124 - mae: 33.0721 - val_loss: 1603.8984 - val_mae: 32.2412\n",
      "Epoch 7/25\n",
      "113/113 [==============================] - 13s 108ms/step - loss: 1603.5938 - mae: 32.9379 - val_loss: 1538.4626 - val_mae: 32.0242\n",
      "Epoch 8/25\n",
      "113/113 [==============================] - 13s 108ms/step - loss: 1595.4073 - mae: 32.7168 - val_loss: 1640.9423 - val_mae: 32.8272\n",
      "Epoch 9/25\n",
      "113/113 [==============================] - 13s 107ms/step - loss: 1590.2234 - mae: 32.6644 - val_loss: 1446.7743 - val_mae: 31.2887\n",
      "Epoch 10/25\n",
      "113/113 [==============================] - 13s 107ms/step - loss: 1618.0531 - mae: 32.9665 - val_loss: 1585.7557 - val_mae: 32.2531\n",
      "Epoch 11/25\n",
      "113/113 [==============================] - 13s 109ms/step - loss: 1594.6274 - mae: 32.7997 - val_loss: 1796.8723 - val_mae: 34.9765\n",
      "Epoch 12/25\n",
      "113/113 [==============================] - 13s 107ms/step - loss: 1602.7806 - mae: 32.7966 - val_loss: 1924.2899 - val_mae: 35.5681\n",
      "Epoch 13/25\n",
      "113/113 [==============================] - 13s 107ms/step - loss: 1599.3853 - mae: 32.8078 - val_loss: 1387.2797 - val_mae: 31.1299\n",
      "Epoch 14/25\n",
      "113/113 [==============================] - 13s 107ms/step - loss: 1596.6410 - mae: 32.7377 - val_loss: 1883.6716 - val_mae: 35.4956\n",
      "Epoch 15/25\n",
      "113/113 [==============================] - 13s 108ms/step - loss: 1587.9811 - mae: 32.6856 - val_loss: 1785.3040 - val_mae: 34.6976\n",
      "Epoch 16/25\n",
      "113/113 [==============================] - 13s 111ms/step - loss: 1591.3793 - mae: 32.7382 - val_loss: 1651.2129 - val_mae: 33.3047\n",
      "Epoch 17/25\n",
      "113/113 [==============================] - 13s 108ms/step - loss: 1591.3998 - mae: 32.7227 - val_loss: 1684.6943 - val_mae: 33.3375\n",
      "Epoch 18/25\n",
      "113/113 [==============================] - 13s 109ms/step - loss: 1597.8297 - mae: 32.7078 - val_loss: 1655.3229 - val_mae: 33.3252\n",
      "Epoch 19/25\n",
      "113/113 [==============================] - 13s 108ms/step - loss: 1590.6848 - mae: 32.6971 - val_loss: 1758.2633 - val_mae: 33.8426\n",
      "Epoch 20/25\n",
      "113/113 [==============================] - 13s 109ms/step - loss: 1598.7635 - mae: 32.7224 - val_loss: 1545.4851 - val_mae: 32.7206\n",
      "Epoch 21/25\n",
      "113/113 [==============================] - 13s 109ms/step - loss: 1595.2457 - mae: 32.7546 - val_loss: 1492.4707 - val_mae: 31.6514\n",
      "Epoch 22/25\n",
      "113/113 [==============================] - 13s 108ms/step - loss: 1588.1257 - mae: 32.6423 - val_loss: 1655.9280 - val_mae: 32.9368\n",
      "Epoch 23/25\n",
      "113/113 [==============================] - 13s 108ms/step - loss: 1584.3151 - mae: 32.6071 - val_loss: 1513.1282 - val_mae: 32.3911\n"
     ]
    },
    {
     "data": {
      "image/png": "[encoded data removed]",
      "text/plain": [
       "<Figure size 1200x400 with 1 Axes>"
      ]
     },
     "metadata": {},
     "output_type": "display_data"
    },
    {
     "name": "stdout",
     "output_type": "stream",
     "text": [
      "7/7 [==============================] - 1s 37ms/step - loss: 1586.1229 - mae: 32.4257\n"
     ]
    }
   ],
   "source": [
    "responses = []\n",
    "for _, response in dataset:\n",
    "    responses.append(response.numpy())\n",
    "mean_response = np.mean(responses)\n",
    "print(mean_response)\n",
    "\n",
    "model = LstmModel(input_shape=input_shape, lstm_layers=4, no_units=2, mean_response=0)\n",
    "model.compile(optimizer='nadam', learning_rate = 0.5)\n",
    "history = model.fit(dataset, epochs=25, batch_size=batch_size)"
   ]
  },
  {
   "cell_type": "code",
   "execution_count": 5,
   "id": "fddbe97b-84e9-4619-bb89-983c52a32073",
   "metadata": {
    "tags": []
   },
   "outputs": [
    {
     "name": "stdout",
     "output_type": "stream",
     "text": [
      "1636.5499\n"
     ]
    }
   ],
   "source": [
    "print(model.naive_loss)"
   ]
  },
  {
   "cell_type": "code",
   "execution_count": 7,
   "id": "31ffa0b6",
   "metadata": {},
   "outputs": [
    {
     "name": "stdout",
     "output_type": "stream",
     "text": [
      "The tensorboard extension is already loaded. To reload it, use:\n",
      "  %reload_ext tensorboard\n"
     ]
    },
    {
     "data": {
      "text/html": [
       "\n",
       "      <iframe id=\"tensorboard-frame-88341b0224f8d991\" width=\"100%\" height=\"800\" frameborder=\"0\">\n",
       "      </iframe>\n",
       "      <script>\n",
       "        (function() {\n",
       "          const frame = document.getElementById(\"tensorboard-frame-88341b0224f8d991\");\n",
       "          const url = new URL(\"/proxy/6006/\", window.location);\n",
       "          const port = 0;\n",
       "          if (port) {\n",
       "            url.port = port;\n",
       "          }\n",
       "          frame.src = url;\n",
       "        })();\n",
       "      </script>\n",
       "    "
      ],
      "text/plain": [
       "<IPython.core.display.HTML object>"
      ]
     },
     "metadata": {},
     "output_type": "display_data"
    }
   ],
   "source": [
    "%load_ext tensorboard\n",
    "%tensorboard --logdir gs://vgnn/tensorboard-artifacts/logs/fit/\n"
   ]
  },
  {
   "cell_type": "code",
   "execution_count": 6,
   "id": "a27339d0-a003-438d-9b01-0a1b6cb81e3f",
   "metadata": {},
   "outputs": [],
   "source": [
    " %reload_ext tensorboard"
   ]
  },
  {
   "cell_type": "code",
   "execution_count": null,
   "id": "89c767d0-7185-4c9b-8e65-8f6c9f5ee6b0",
   "metadata": {},
   "outputs": [],
   "source": []
  }
 ],
 "metadata": {
  "environment": {
   "kernel": "conda-base-py",
   "name": "workbench-notebooks.m125",
   "type": "gcloud",
   "uri": "us-docker.pkg.dev/deeplearning-platform-release/gcr.io/workbench-notebooks:m125"
  },
  "kernelspec": {
   "display_name": "Python 3 (ipykernel) (Local)",
   "language": "python",
   "name": "conda-base-py"
  },
  "language_info": {
   "codemirror_mode": {
    "name": "ipython",
    "version": 3
   },
   "file_extension": ".py",
   "mimetype": "text/x-python",
   "name": "python",
   "nbconvert_exporter": "python",
   "pygments_lexer": "ipython3",
   "version": "3.10.15"
  }
 },
 "nbformat": 4,
 "nbformat_minor": 5
}
