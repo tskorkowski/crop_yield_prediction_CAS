{
 "cells": [
  {
   "cell_type": "code",
   "execution_count": 5,
   "id": "ea876282-7e0d-4a5e-be56-0b31f49f3992",
   "metadata": {
    "tags": []
   },
   "outputs": [],
   "source": [
    "# Setup\n",
    "!pip install --quiet --upgrade pip\n",
    "\n",
    "# Install the dependencies.\n",
    "!pip install --quiet -r gdal_req.txt\n",
    "\n",
    "# Restart the runtime by ending the process.\n",
    "exit()"
   ]
  },
  {
   "cell_type": "code",
   "execution_count": 6,
   "id": "e5d9bc1e-c419-4350-a556-1a76cb21ab39",
   "metadata": {
    "tags": []
   },
   "outputs": [],
   "source": [
    "import numpy as np\n",
    "import tensorflow as tf\n",
    "from google.cloud import storage\n",
    "import google.auth\n",
    "from serving.constants import  BUCKET, IMG_SOURCE_PREFIX, HIST_DEST_PREFIX, NUM_BANDS, HIST_BINS_LIST, SCALE, CROP\n",
    "from serving.common import list_blobs_with_prefix\n",
    "import logging\n",
    "import io"
   ]
  },
  {
   "cell_type": "code",
   "execution_count": 8,
   "id": "7c83aac7-7acf-435f-8cc9-e24d51bf3a5b",
   "metadata": {
    "tags": []
   },
   "outputs": [],
   "source": [
    "# SETUP\n",
    "credentials, _ = google.auth.default()\n",
    "bucket_name = BUCKET\n",
    "directory_prefix = IMG_SOURCE_PREFIX\n",
    "output_prefix = HIST_DEST_PREFIX\n",
    "\n",
    "client = storage.Client()\n",
    "bucket = client.get_bucket(bucket_name)\n",
    "\n",
    "logging.basicConfig(filename=\"cerate_dataset.log\",level=logging.INFO, format='%(asctime)s - %(levelname)s - %(message)s')\n",
    "\n",
    "counties = [\"Lancaster\", \"Crawford\", \"Orleans\", \"Tulare\", \"Wharton\", \"Story\", \"Canyon\", \"Kit Carson\"]\n",
    "years = range(2017,2019)\n",
    "months = [5,7,9]"
   ]
  },
  {
   "cell_type": "code",
   "execution_count": null,
   "id": "f0a26a19-410d-4e78-8e7c-ead300283a65",
   "metadata": {},
   "outputs": [],
   "source": []
  },
  {
   "cell_type": "code",
   "execution_count": 40,
   "id": "93587274-a638-45d6-9057-aca2336ac81d",
   "metadata": {
    "tags": []
   },
   "outputs": [
    {
     "name": "stdout",
     "output_type": "stream",
     "text": [
      "<Blob: vgnn, histograms/Tulare/2017/5-6/100/hist.npy, None>\n",
      "<Blob: vgnn, histograms/Tulare/2017/7-8/100/hist.npy, None>\n",
      "<Blob: vgnn, histograms/Tulare/2017/9-10/100/hist.npy, None>\n"
     ]
    }
   ],
   "source": [
    "year = 2017\n",
    "county = \"Tulare\"\n",
    "hist_name_base = f\"{HIST_DEST_PREFIX}{county}/{year}\"\n",
    "\n",
    "arrays = {}\n",
    "for month in months:\n",
    "    file_name = f\"{hist_name_base}/{month}-{month+1}/{SCALE}/hist.npy\"\n",
    "    hist_blob = bucket.blob(file_name)    \n",
    "    print(hist_blob)\n",
    "    if hist_blob.name.endswith('.npy'):\n",
    "            # Download the content of the blob\n",
    "            content = hist_blob.download_as_bytes()\n",
    "\n",
    "            # Use BytesIO to create a file-like object in memory\n",
    "            binary_data = io.BytesIO(content)\n",
    "\n",
    "            # Load the NumPy array from the binary data\n",
    "            array = np.load(binary_data)\n",
    "            tensor = tf.convert_to_tensor(array)\n",
    "\n",
    "            # Store in our dictionary\n",
    "            arrays[hist_blob.name] = tensor"
   ]
  },
  {
   "cell_type": "code",
   "execution_count": 34,
   "id": "a75570de-0610-4f7d-af5d-f4d83627b032",
   "metadata": {
    "tags": []
   },
   "outputs": [
    {
     "data": {
      "text/plain": [
       "(416,)"
      ]
     },
     "execution_count": 34,
     "metadata": {},
     "output_type": "execute_result"
    }
   ],
   "source": [
    "arrays[\"histograms/Tulare/2017/5-6/100/hist.npy\"].shape"
   ]
  },
  {
   "cell_type": "code",
   "execution_count": 47,
   "id": "48ff692e-0afd-46f9-895d-5d2a830e8689",
   "metadata": {
    "tags": []
   },
   "outputs": [
    {
     "data": {
      "text/plain": [
       "[<tf.Tensor: shape=(416,), dtype=int64, numpy=\n",
       " array([   0,    0,    0,    2, 2369, 1048,  380,  270,  150,   76,   52,\n",
       "           7,    2,    0,    0,    0,    0,    0,    0,    0,    0,    0,\n",
       "           0,    0,    0,    0,    0,    0,    0,    0,    0,    0,    0,\n",
       "           0,    0,    0,    0, 3095,  632,  329,  193,   89,   15,    3,\n",
       "           0,    0,    0,    0,    0,    0,    0,    0,    0,    0,    0,\n",
       "           0,    0,    0,    0,    0,    0,    0,    0,    0,    0,    0,\n",
       "         545, 2352,  464,  292,  169,  173,  142,   78,   41,   37,   50,\n",
       "           7,    5,    1,    0,    0,    0,    0,    0,    0,    0,    0,\n",
       "           0,    0,    0,    0,    0,    0,    0,    0,    0,    0,    0,\n",
       "           0,    0,    0,  463, 3139,  452,  260,   39,    1,    2,    0,\n",
       "           0,    0,    0,    0,    0,    0,    0,    0,    0,    0,    0,\n",
       "           0,    0,    0,    0,    0,    0,    0,    0,    8,    5,    7,\n",
       "           3,    3,    4,    3,   15,   62,   36,   27,   37,  102,  179,\n",
       "         252,  381,  648,  809,  679,  556,  381,  122,   21,   15,    1,\n",
       "           0,    0,    0,    0,    0,    0,    0,   10,    6,    6,    3,\n",
       "           2,    3,    4,   15,   63,   38,   26,   49,  116,  216,  292,\n",
       "         497,  728,  770,  694,  449,  299,   47,   19,    4,    0,    0,\n",
       "           0,    0,    0,    0,    0,    0,    0,    6,  172, 2404,  652,\n",
       "         349,  198,  185,  145,   90,   51,   31,   57,    7,    8,    0,\n",
       "           1,    0,    0,    0,    0,    0,    0,    0,    0,    0,    0,\n",
       "           0,    0,    0,    0,    0,    8,    6,    6,    5,    4,    3,\n",
       "          16,   68,   62,  233, 1064, 1561, 1020,  238,   43,   19,    0,\n",
       "           0,    0,    0,    0,    0,    0,    0,    0,    0,    0,    0,\n",
       "           0,    0,    0,    0,    9,    8,    3,    4,    3,    3,    2,\n",
       "           4,   13,   47,   47,   28,   37,   84,  166,  231,  350,  553,\n",
       "         757,  654,  626,  400,  267,   40,   16,    4,    0,    0,    0,\n",
       "           0,    0,    0,  641, 3422,  293,    0,    0,    0,    0,    0,\n",
       "           0,    0,    0,    0,    0,    0,    0,    0,    0,    0,    0,\n",
       "           0,    0,    0,    0,    0,    0,    0,    0,    0,    0,    0,\n",
       "           0,    0,   10,    5,    7,    2,    5,    2,    2,   12,   11,\n",
       "          69,   56,   74,  205,  483,  849, 1000,  790,  505,  227,   29,\n",
       "          13,    0,    0,    0,    0,    0,    0,    0,    0,    0,    0,\n",
       "           6,    7,    7,    5,    1,    9,  614, 1440,  784,  398,  233,\n",
       "         180,   93,   94,   88,   92,   86,   69,   49,   34,   17,   22,\n",
       "          23,    2,    2,    1,    0,    0,    0,    0,    0,    0,    9,\n",
       "           8, 1386, 1260,  409,  280,  209,  149,   88,   91,   68,   78,\n",
       "          84,   65,   60,   42,   27,   20,   17,    5,    1,    0,    0,\n",
       "           0,    0,    0,    0,    0,    0,    0,    0,    0])>,\n",
       " <tf.Tensor: shape=(416,), dtype=int64, numpy=\n",
       " array([   0,    0,    0,    0,    0,    0,    0,  176, 1183, 2175,  762,\n",
       "          58,    2,    0,    0,    0,    0,    0,    0,    0,    0,    0,\n",
       "           0,    0,    0,    0,    0,    0,    0,    0,    0,    0,    0,\n",
       "           0,    0,  110,  139,  194,  353,  594,  547,  724,  777,  541,\n",
       "         260,   91,   19,    6,    1,    0,    0,    0,    0,    0,    0,\n",
       "           0,    0,    0,    0,    0,    0,    0,    0,    0,    0,    0,\n",
       "           0,    0,   35,  223,  647,  993, 1183,  882,  304,   84,    5,\n",
       "           0,    0,    0,    0,    0,    0,    0,    0,    0,    0,    0,\n",
       "           0,    0,    0,    0,    0,    0,    0,    0,    0,    0,    0,\n",
       "           0,    0,   66,  392, 1107, 1543, 1025,  211,   12,    0,    0,\n",
       "           0,    0,    0,    0,    0,    0,    0,    0,    0,    0,    0,\n",
       "           0,    0,    0,    0,    0,    0,    0,    0,    0,    0,    0,\n",
       "         112,  124,  281,  431,  698,  645,  871,  627,  362,  141,   48,\n",
       "           9,    7,    0,    0,    0,    0,    0,    0,    0,    0,    0,\n",
       "           0,    0,    0,    0,    0,    0,    0,    0,    0,    0,    1,\n",
       "           3,    4,  108,  407, 1101, 1507,  778,  310,   86,   33,   14,\n",
       "           4,    0,    0,    0,    0,    0,    0,    0,    0,    0,    0,\n",
       "           0,    0,    0,    0,    0,    0,    0,    0,    0,    0,    1,\n",
       "           2,    3,   48,  120,  510,  713,  983,  879,  620,  307,  113,\n",
       "          37,    9,    6,    2,    3,    0,    0,    0,    0,    0,    0,\n",
       "           0,    0,    0,    0,    0,    0,    0,    0,    1,    1,    2,\n",
       "           8,   58,  215,  630,  819, 1024,  810,  516,  174,   67,   20,\n",
       "           6,    1,    4,    0,    0,    0,    0,    0,    0,    0,    0,\n",
       "           0,    0,    0,    0,    0,    0,    0,    1,    0,    1,    2,\n",
       "           2,   45,   68,  311,  615,  763,  910,  732,  548,  213,   91,\n",
       "          31,   11,    8,    1,    3,    0,    0,    0,    0,    0,    0,\n",
       "           0,    0,    0,    1,    1,    1,   34,  170,  949, 1927, 1118,\n",
       "         132,   17,    4,    2,    0,    0,    0,    0,    0,    0,    0,\n",
       "           0,    0,    0,    0,    0,    0,    0,    0,    0,    0,    0,\n",
       "           0,    0,  131, 3744,  481,    0,    0,    0,    0,    0,    0,\n",
       "           0,    0,    0,    0,    0,    0,    0,    0,    0,    0,    0,\n",
       "           0,    0,    0,    0,    0,    0,    0,    0,    0,    0,    0,\n",
       "           0,    0,    2,    0,    2,    1,   26,   65,  102,   76,   61,\n",
       "         116,  174,  309,  254,  317,  306,  372,  507,  438,  482,  333,\n",
       "         213,  133,   52,   10,    2,    2,    1,    0,    0,    0,    0,\n",
       "           2,   42,  132,   75,   54,   80,   93,  201,  239,  378,  278,\n",
       "         259,  266,  346,  498,  472,  448,  322,  129,   29,    7,    3,\n",
       "           1,    1,    1,    0,    0,    0,    0,    0,    0])>,\n",
       " <tf.Tensor: shape=(416,), dtype=int64, numpy=\n",
       " array([   0,    0,    0,    0,    0,    0,    0,    1,  166, 2401, 1681,\n",
       "         106,    1,    0,    0,    0,    0,    0,    0,    0,    0,    0,\n",
       "           0,    0,    0,    0,    0,    0,    0,    0,    0,    0,    0,\n",
       "           0,    0,    0,    7,   11,   70,  343,  581, 1016, 1140,  817,\n",
       "         259,   73,   35,    4,    0,    0,    0,    0,    0,    0,    0,\n",
       "           0,    0,    0,    0,    0,    0,    0,    0,    0,    0,    0,\n",
       "           0,    0,    0,    0,   67,  343, 1910, 1696,  323,   16,    1,\n",
       "           0,    0,    0,    0,    0,    0,    0,    0,    0,    0,    0,\n",
       "           0,    0,    0,    0,    0,    0,    0,    0,    0,    0,    0,\n",
       "           0,    0,   11,  244,  762, 1617, 1290,  364,   63,    5,    0,\n",
       "           0,    0,    0,    0,    0,    0,    0,    0,    0,    0,    0,\n",
       "           0,    0,    0,    0,    0,    0,    0,    0,    0,    0,    0,\n",
       "           0,    1,   25,  220,  456,  794, 1147,  971,  510,  164,   42,\n",
       "          20,    6,    0,    0,    0,    0,    0,    0,    0,    0,    0,\n",
       "           0,    0,    0,    0,    0,    0,    0,    0,    0,    0,    0,\n",
       "           9,  225,  400,  837, 1208, 1023,  455,  115,   57,   16,    9,\n",
       "           2,    0,    0,    0,    0,    0,    0,    0,    0,    0,    0,\n",
       "           0,    0,    0,    0,    0,    0,    0,    0,    0,    0,    4,\n",
       "          67,  230,  407,  846, 1098,  889,  505,  197,   63,   26,    5,\n",
       "          15,    2,    1,    1,    0,    0,    0,    0,    0,    0,    0,\n",
       "           0,    0,    0,    0,    0,    0,    0,    0,    0,    0,   63,\n",
       "         226,  382,  747, 1082,  915,  586,  228,   69,   29,   13,    8,\n",
       "           6,    0,    1,    1,    0,    0,    0,    0,    0,    0,    0,\n",
       "           0,    0,    0,    0,    0,    0,    0,    1,    2,    2,   73,\n",
       "         198,  330,  683,  986,  852,  676,  346,  106,   54,   19,    7,\n",
       "           8,    8,    3,    2,    0,    0,    0,    0,    0,    0,    0,\n",
       "           0,    0,    0,    2,    1,    0,    0,   76,  380,  910, 1517,\n",
       "        1041,  306,   86,   29,    7,    0,    1,    0,    0,    0,    0,\n",
       "           0,    0,    0,    0,    0,    0,    0,    0,    0,    0,    0,\n",
       "           0,    0,    2,  635, 3719,    0,    0,    0,    0,    0,    0,\n",
       "           0,    0,    0,    0,    0,    0,    0,    0,    0,    0,    0,\n",
       "           0,    0,    0,    0,    0,    0,    0,    0,    0,    0,    0,\n",
       "           2,    1,    0,    0,    0,    0,    0,    0,    2,    3,    7,\n",
       "          29,   82,   97,  134,  245,  482,  724,  658,  609,  555,  429,\n",
       "         148,  102,   33,    9,    5,    0,    0,    0,    0,    0,    3,\n",
       "           0,    0,    1,    1,    8,    5,    7,    6,   35,  136,  180,\n",
       "         202,  397,  621,  753,  698,  618,  409,  138,   74,   45,   12,\n",
       "           5,    2,    0,    0,    0,    0,    0,    0,    0])>]"
      ]
     },
     "execution_count": 47,
     "metadata": {},
     "output_type": "execute_result"
    }
   ],
   "source": [
    "list(arrays.values())"
   ]
  },
  {
   "cell_type": "code",
   "execution_count": 53,
   "id": "11938b8f-c878-44f6-b67c-80ef6c31870a",
   "metadata": {
    "tags": []
   },
   "outputs": [],
   "source": [
    "big_tensor = tf.concat(list(arrays.values()), axis=0)"
   ]
  },
  {
   "cell_type": "code",
   "execution_count": 59,
   "id": "6e6ea0cc-be2d-4d54-9bc9-48d81e42b721",
   "metadata": {
    "tags": []
   },
   "outputs": [],
   "source": [
    "final_tensor = tf.reshape(big_tensor, [1,3,-1])"
   ]
  },
  {
   "cell_type": "code",
   "execution_count": 62,
   "id": "52ed9e85-aadd-4bde-ac0e-383f1a8e2920",
   "metadata": {
    "tags": []
   },
   "outputs": [
    {
     "data": {
      "text/plain": [
       "<tf.Tensor: shape=(416,), dtype=int64, numpy=\n",
       "array([   0,    0,    0,    2, 2369, 1048,  380,  270,  150,   76,   52,\n",
       "          7,    2,    0,    0,    0,    0,    0,    0,    0,    0,    0,\n",
       "          0,    0,    0,    0,    0,    0,    0,    0,    0,    0,    0,\n",
       "          0,    0,    0,    0, 3095,  632,  329,  193,   89,   15,    3,\n",
       "          0,    0,    0,    0,    0,    0,    0,    0,    0,    0,    0,\n",
       "          0,    0,    0,    0,    0,    0,    0,    0,    0,    0,    0,\n",
       "        545, 2352,  464,  292,  169,  173,  142,   78,   41,   37,   50,\n",
       "          7,    5,    1,    0,    0,    0,    0,    0,    0,    0,    0,\n",
       "          0,    0,    0,    0,    0,    0,    0,    0,    0,    0,    0,\n",
       "          0,    0,    0,  463, 3139,  452,  260,   39,    1,    2,    0,\n",
       "          0,    0,    0,    0,    0,    0,    0,    0,    0,    0,    0,\n",
       "          0,    0,    0,    0,    0,    0,    0,    0,    8,    5,    7,\n",
       "          3,    3,    4,    3,   15,   62,   36,   27,   37,  102,  179,\n",
       "        252,  381,  648,  809,  679,  556,  381,  122,   21,   15,    1,\n",
       "          0,    0,    0,    0,    0,    0,    0,   10,    6,    6,    3,\n",
       "          2,    3,    4,   15,   63,   38,   26,   49,  116,  216,  292,\n",
       "        497,  728,  770,  694,  449,  299,   47,   19,    4,    0,    0,\n",
       "          0,    0,    0,    0,    0,    0,    0,    6,  172, 2404,  652,\n",
       "        349,  198,  185,  145,   90,   51,   31,   57,    7,    8,    0,\n",
       "          1,    0,    0,    0,    0,    0,    0,    0,    0,    0,    0,\n",
       "          0,    0,    0,    0,    0,    8,    6,    6,    5,    4,    3,\n",
       "         16,   68,   62,  233, 1064, 1561, 1020,  238,   43,   19,    0,\n",
       "          0,    0,    0,    0,    0,    0,    0,    0,    0,    0,    0,\n",
       "          0,    0,    0,    0,    9,    8,    3,    4,    3,    3,    2,\n",
       "          4,   13,   47,   47,   28,   37,   84,  166,  231,  350,  553,\n",
       "        757,  654,  626,  400,  267,   40,   16,    4,    0,    0,    0,\n",
       "          0,    0,    0,  641, 3422,  293,    0,    0,    0,    0,    0,\n",
       "          0,    0,    0,    0,    0,    0,    0,    0,    0,    0,    0,\n",
       "          0,    0,    0,    0,    0,    0,    0,    0,    0,    0,    0,\n",
       "          0,    0,   10,    5,    7,    2,    5,    2,    2,   12,   11,\n",
       "         69,   56,   74,  205,  483,  849, 1000,  790,  505,  227,   29,\n",
       "         13,    0,    0,    0,    0,    0,    0,    0,    0,    0,    0,\n",
       "          6,    7,    7,    5,    1,    9,  614, 1440,  784,  398,  233,\n",
       "        180,   93,   94,   88,   92,   86,   69,   49,   34,   17,   22,\n",
       "         23,    2,    2,    1,    0,    0,    0,    0,    0,    0,    9,\n",
       "          8, 1386, 1260,  409,  280,  209,  149,   88,   91,   68,   78,\n",
       "         84,   65,   60,   42,   27,   20,   17,    5,    1,    0,    0,\n",
       "          0,    0,    0,    0,    0,    0,    0,    0,    0])>"
      ]
     },
     "execution_count": 62,
     "metadata": {},
     "output_type": "execute_result"
    }
   ],
   "source": [
    "final_tensor[0,0,:]"
   ]
  },
  {
   "cell_type": "code",
   "execution_count": null,
   "id": "20420276-24cf-44ac-b797-e4920d764833",
   "metadata": {},
   "outputs": [],
   "source": []
  }
 ],
 "metadata": {
  "environment": {
   "kernel": "conda-env-tensorflow-tensorflow",
   "name": "workbench-notebooks.m125",
   "type": "gcloud",
   "uri": "us-docker.pkg.dev/deeplearning-platform-release/gcr.io/workbench-notebooks:m125"
  },
  "kernelspec": {
   "display_name": "TensorFlow 2-11 (Local)",
   "language": "python",
   "name": "conda-env-tensorflow-tensorflow"
  },
  "language_info": {
   "codemirror_mode": {
    "name": "ipython",
    "version": 3
   },
   "file_extension": ".py",
   "mimetype": "text/x-python",
   "name": "python",
   "nbconvert_exporter": "python",
   "pygments_lexer": "ipython3",
   "version": "3.10.15"
  }
 },
 "nbformat": 4,
 "nbformat_minor": 5
}
