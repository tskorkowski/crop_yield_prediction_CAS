{
 "cells": [
  {
   "cell_type": "code",
   "execution_count": 10,
   "id": "ea876282-7e0d-4a5e-be56-0b31f49f3992",
   "metadata": {
    "tags": []
   },
   "outputs": [],
   "source": [
    "# Setup\n",
    "!pip install --quiet --upgrade pip\n",
    "\n",
    "# Install the dependencies.\n",
    "!pip install --quiet -r requirements.txt\n",
    "\n",
    "# Restart the runtime by ending the process.\n",
    "exit()"
   ]
  },
  {
   "cell_type": "code",
   "execution_count": 1,
   "id": "e5d9bc1e-c419-4350-a556-1a76cb21ab39",
   "metadata": {
    "tags": []
   },
   "outputs": [
    {
     "name": "stderr",
     "output_type": "stream",
     "text": [
      "2024-10-20 23:39:44.231298: I tensorflow/core/util/port.cc:110] oneDNN custom operations are on. You may see slightly different numerical results due to floating-point round-off errors from different computation orders. To turn them off, set the environment variable `TF_ENABLE_ONEDNN_OPTS=0`.\n",
      "2024-10-20 23:39:44.283040: I tensorflow/core/platform/cpu_feature_guard.cc:182] This TensorFlow binary is optimized to use available CPU instructions in performance-critical operations.\n",
      "To enable the following instructions: AVX2 AVX512F AVX512_VNNI FMA, in other operations, rebuild TensorFlow with the appropriate compiler flags.\n"
     ]
    }
   ],
   "source": [
    "import numpy as np\n",
    "import pandas as pd\n",
    "import tensorflow as tf\n",
    "from google.cloud import storage\n",
    "import google.auth\n",
    "from importlib import reload\n",
    "from serving.constants import  BUCKET, IMG_SOURCE_PREFIX, HIST_DEST_PREFIX, NUM_BANDS, HIST_BINS_LIST, SCALE, CROP, MONTHS, IMAGE_BATCH\n",
    "from serving.common import list_blobs_with_prefix\n",
    "from serving.hist_training import create_hist_dataset, LstmModel, train_and_evaluate, create_data_sample, get_labels\n",
    "from serving.data import check_blob_prefix_exists, batch_check_blobs, get_varied_labels\n",
    "import logging\n",
    "import io\n",
    "import itertools\n",
    "from google.cloud import storage\n",
    "import google.auth\n",
    "import time\n",
    "import os\n",
    "import matplotlib.pyplot as plt"
   ]
  },
  {
   "cell_type": "code",
   "execution_count": 2,
   "id": "77d0c01e-1906-4f98-9840-bd8e7ac5a307",
   "metadata": {
    "tags": []
   },
   "outputs": [],
   "source": [
    "def _bytes_feature(value):\n",
    "    \"\"\"Returns a bytes_list from a string / byte.\"\"\"\n",
    "    if isinstance(value, type(tf.constant(0))):\n",
    "        value = value.numpy() # BytesList won't unpack a string from an EagerTensor.\n",
    "    return tf.train.Feature(bytes_list=tf.train.BytesList(value=[value]))\n",
    "\n",
    "def _float_feature(value):\n",
    "    \"\"\"Returns a float_list from a float / double.\"\"\"\n",
    "    return tf.train.Feature(float_list=tf.train.FloatList(value=[value]))\n",
    "\n",
    "def _int64_feature(value):\n",
    "    \"\"\"Returns an int64_list from a bool / enum / int / uint.\"\"\"\n",
    "    return tf.train.Feature(int64_list=tf.train.Int64List(value=[value]))\n",
    "\n",
    "def serialize_example(feature, label):\n",
    "    \"\"\"\n",
    "    Creates a tf.train.Example message ready to be written to a file.\n",
    "    \"\"\"\n",
    "    # Create a dictionary mapping the feature name to the tf.train.Example-compatible\n",
    "    # data type.\n",
    "    feature = {\n",
    "        'feature': _bytes_feature(tf.io.serialize_tensor(feature)),\n",
    "        'label': _float_feature(label),\n",
    "    }\n",
    "    # Create a Features message using tf.train.Example.\n",
    "    example_proto = tf.train.Example(features=tf.train.Features(feature=feature))\n",
    "    return example_proto.SerializeToString()\n",
    "\n",
    "def save_dataset_to_gcp(dataset, bucket_name='vgnn', file_name='hist_dataset_medium.tfrecords'):\n",
    "    # Initialize GCP client\n",
    "    client = storage.Client()\n",
    "    bucket = client.bucket(bucket_name)\n",
    "\n",
    "    # Create a local temporary file\n",
    "    local_file_name = 'temp_' + file_name\n",
    "    \n",
    "    # Write the dataset to the local file\n",
    "    with tf.io.TFRecordWriter(local_file_name) as writer:\n",
    "        for features, label in dataset:\n",
    "            example = serialize_example(features, label)\n",
    "            writer.write(example)\n",
    "    \n",
    "    # Upload the local file to GCS\n",
    "    blob = bucket.blob(f\"dataset/{file_name}\")\n",
    "    blob.upload_from_filename(local_file_name)\n",
    "\n",
    "    # Remove the local temporary file\n",
    "    os.remove(local_file_name)\n",
    "\n",
    "    print(f\"Dataset saved to gs://{bucket_name}/dataset/{file_name}\")\n",
    "    \n",
    "def parse_tfrecord_fn(example_proto):\n",
    "    # Define the features dictionary that matches the structure used when saving\n",
    "    feature_description = {\n",
    "        'feature': tf.io.FixedLenFeature([], tf.string),\n",
    "        'label': tf.io.FixedLenFeature([], tf.float32)\n",
    "    }\n",
    "    \n",
    "    # Parse the input tf.Example proto using the feature description\n",
    "    parsed_features = tf.io.parse_single_example(example_proto, feature_description)\n",
    "    \n",
    "    # Decode the feature from the parsed example\n",
    "    feature = tf.io.parse_tensor(parsed_features['feature'], out_type=tf.float32)\n",
    "    label = parsed_features['label']\n",
    "    \n",
    "    return feature, label\n",
    "\n",
    "def load_dataset_from_gcp(bucket_name='vgnn', file_name='hist_dataset_medium.tfrecords'):\n",
    "    # Construct the full GCS path\n",
    "    gcs_path = f\"gs://{bucket_name}/dataset/{file_name}\"\n",
    "    \n",
    "    # Create a TFRecordDataset\n",
    "    dataset = tf.data.TFRecordDataset(gcs_path)\n",
    "    \n",
    "    # Parse the TFRecords\n",
    "    parsed_dataset = dataset.map(parse_tfrecord_fn)\n",
    "    \n",
    "    return parsed_dataset    "
   ]
  },
  {
   "cell_type": "code",
   "execution_count": 3,
   "id": "7c83aac7-7acf-435f-8cc9-e24d51bf3a5b",
   "metadata": {
    "tags": []
   },
   "outputs": [],
   "source": [
    "# SETUP\n",
    "\n",
    "CREATE_DATASET = False\n",
    "\n",
    "start_time = time.perf_counter()\n",
    "credentials, _ = google.auth.default()\n",
    "bucket_name = BUCKET\n",
    "directory_prefix = IMG_SOURCE_PREFIX\n",
    "output_prefix = HIST_DEST_PREFIX\n",
    "labels_data = \"labels_combined.npy\"\n",
    "labels_header = \"labels_header.npy\"\n",
    "batch_size = 30\n",
    "\n",
    "client = storage.Client()\n",
    "bucket = client.get_bucket(bucket_name)\n",
    "\n"
   ]
  },
  {
   "cell_type": "code",
   "execution_count": 4,
   "id": "8cfcac68-58ca-4b85-9ac5-5fd97d9f5476",
   "metadata": {
    "tags": []
   },
   "outputs": [
    {
     "name": "stdout",
     "output_type": "stream",
     "text": [
      "Dataset loaded\n"
     ]
    },
    {
     "name": "stderr",
     "output_type": "stream",
     "text": [
      "2024-10-20 23:39:47.045040: I tensorflow/core/common_runtime/executor.cc:1197] [/device:CPU:0] (DEBUG INFO) Executor start aborting (this does not indicate an error and you can ignore this message): INVALID_ARGUMENT: You must feed a value for placeholder tensor 'Placeholder/_0' with dtype string and shape [1]\n",
      "\t [[{{node Placeholder/_0}}]]\n"
     ]
    }
   ],
   "source": [
    "if CREATE_DATASET:\n",
    "    # Generate all prefixes\n",
    "    start_time = time.perf_counter()\n",
    "    \n",
    "    labels_df = get_varied_labels(IMAGE_BATCH)\n",
    "    labels = list(zip(labels_df[\"county_name\"],\n",
    "                      labels_df[\"county_ansi\"],\n",
    "                 labels_df[\"state_ansi\"],\n",
    "                 labels_df[\"year\"]))\n",
    "\n",
    "    prefixes = [f'histograms/{SCALE}/{county.capitalize()}_{fips}/{year}' \n",
    "                for county,_, fips, year in labels]\n",
    "\n",
    "    prefixes_hist = [f'histograms/{SCALE}/{county.capitalize()}_{fips}/{year}' \n",
    "                for county,_, fips, year in labels]\n",
    "\n",
    "    # Batch check all prefixes\n",
    "    results_hist = batch_check_blobs(bucket_name, prefixes)\n",
    "\n",
    "    # Generate get_input_img_params based on results\n",
    "    get_input_img_params = [(county.capitalize(), fips, year)\n",
    "                for county, county_fips, fips, year in labels\n",
    "                if results_hist[f'histograms/{SCALE}/{county.capitalize()}_{fips}/{year}']\n",
    "    ]\n",
    "\n",
    "    print(f\"Number of items to process: {len(get_input_img_params)} seconds\")\n",
    "    \n",
    "    end_time_dataset_info = time.perf_counter()\n",
    "    print(f\"Collecting dataset information: {end_time_dataset_info-start_time}\")\n",
    "    \n",
    "    dataset, input_shape = create_hist_dataset(get_input_img_params, \"labels_combined.npy\", \"labels_header.npy\")\n",
    "    end_time_dataset = time.perf_counter()\n",
    "    \n",
    "    print(f\"Building dataset: {end_time_dataset_info - end_time_dataset:.0} seconds\")\n",
    "    \n",
    "    # Save dataset\n",
    "    save_dataset_to_gcp(dataset)\n",
    "    print(\"Dataset created\")\n",
    "else:\n",
    "    dataset = load_dataset_from_gcp()\n",
    "    for features, label in dataset.take(1):\n",
    "        input_shape = tuple(features.shape)\n",
    "    print(\"Dataset loaded\")"
   ]
  },
  {
   "cell_type": "code",
   "execution_count": 5,
   "id": "5b5819d1-9cc4-4695-8524-7a129d184249",
   "metadata": {
    "tags": []
   },
   "outputs": [
    {
     "data": {
      "text/plain": [
       "(3, 416)"
      ]
     },
     "execution_count": 5,
     "metadata": {},
     "output_type": "execute_result"
    }
   ],
   "source": [
    "input_shape"
   ]
  },
  {
   "cell_type": "code",
   "execution_count": 6,
   "id": "f0a26a19-410d-4e78-8e7c-ead300283a65",
   "metadata": {},
   "outputs": [
    {
     "data": {
      "text/html": [
       "<div>\n",
       "<style scoped>\n",
       "    .dataframe tbody tr th:only-of-type {\n",
       "        vertical-align: middle;\n",
       "    }\n",
       "\n",
       "    .dataframe tbody tr th {\n",
       "        vertical-align: top;\n",
       "    }\n",
       "\n",
       "    .dataframe thead th {\n",
       "        text-align: right;\n",
       "    }\n",
       "</style>\n",
       "<table border=\"1\" class=\"dataframe\">\n",
       "  <thead>\n",
       "    <tr style=\"text-align: right;\">\n",
       "      <th></th>\n",
       "      <th>commodity_desc</th>\n",
       "      <th>reference_period_desc</th>\n",
       "      <th>year</th>\n",
       "      <th>state_ansi</th>\n",
       "      <th>state_name</th>\n",
       "      <th>county_ansi</th>\n",
       "      <th>county_name</th>\n",
       "      <th>target</th>\n",
       "      <th>source_file</th>\n",
       "    </tr>\n",
       "  </thead>\n",
       "  <tbody>\n",
       "    <tr>\n",
       "      <th>66</th>\n",
       "      <td>CORN</td>\n",
       "      <td>YEAR</td>\n",
       "      <td>2016</td>\n",
       "      <td>06</td>\n",
       "      <td>CALIFORNIA</td>\n",
       "      <td>101</td>\n",
       "      <td>SUTTER</td>\n",
       "      <td>264.1</td>\n",
       "      <td>USDA_Corn_County_2016.csv</td>\n",
       "    </tr>\n",
       "    <tr>\n",
       "      <th>3045</th>\n",
       "      <td>CORN</td>\n",
       "      <td>YEAR</td>\n",
       "      <td>2018</td>\n",
       "      <td>06</td>\n",
       "      <td>CALIFORNIA</td>\n",
       "      <td>101</td>\n",
       "      <td>SUTTER</td>\n",
       "      <td>210.0</td>\n",
       "      <td>USDA_Corn_County_2018.csv</td>\n",
       "    </tr>\n",
       "    <tr>\n",
       "      <th>4389</th>\n",
       "      <td>CORN</td>\n",
       "      <td>YEAR</td>\n",
       "      <td>2019</td>\n",
       "      <td>06</td>\n",
       "      <td>CALIFORNIA</td>\n",
       "      <td>101</td>\n",
       "      <td>SUTTER</td>\n",
       "      <td>147.1</td>\n",
       "      <td>USDA_Corn_County_2019.csv</td>\n",
       "    </tr>\n",
       "    <tr>\n",
       "      <th>7314</th>\n",
       "      <td>CORN</td>\n",
       "      <td>YEAR</td>\n",
       "      <td>2021</td>\n",
       "      <td>06</td>\n",
       "      <td>CALIFORNIA</td>\n",
       "      <td>101</td>\n",
       "      <td>SUTTER</td>\n",
       "      <td>169.9</td>\n",
       "      <td>USDA_Corn_County_2021.csv</td>\n",
       "    </tr>\n",
       "    <tr>\n",
       "      <th>8791</th>\n",
       "      <td>CORN</td>\n",
       "      <td>YEAR</td>\n",
       "      <td>2022</td>\n",
       "      <td>06</td>\n",
       "      <td>CALIFORNIA</td>\n",
       "      <td>101</td>\n",
       "      <td>SUTTER</td>\n",
       "      <td>133.8</td>\n",
       "      <td>USDA_Corn_County_2022.csv</td>\n",
       "    </tr>\n",
       "  </tbody>\n",
       "</table>\n",
       "</div>"
      ],
      "text/plain": [
       "     commodity_desc reference_period_desc  year state_ansi  state_name  \\\n",
       "66             CORN                  YEAR  2016         06  CALIFORNIA   \n",
       "3045           CORN                  YEAR  2018         06  CALIFORNIA   \n",
       "4389           CORN                  YEAR  2019         06  CALIFORNIA   \n",
       "7314           CORN                  YEAR  2021         06  CALIFORNIA   \n",
       "8791           CORN                  YEAR  2022         06  CALIFORNIA   \n",
       "\n",
       "     county_ansi county_name target                source_file  \n",
       "66           101      SUTTER  264.1  USDA_Corn_County_2016.csv  \n",
       "3045         101      SUTTER  210.0  USDA_Corn_County_2018.csv  \n",
       "4389         101      SUTTER  147.1  USDA_Corn_County_2019.csv  \n",
       "7314         101      SUTTER  169.9  USDA_Corn_County_2021.csv  \n",
       "8791         101      SUTTER  133.8  USDA_Corn_County_2022.csv  "
      ]
     },
     "execution_count": 6,
     "metadata": {},
     "output_type": "execute_result"
    }
   ],
   "source": [
    "label_data = np.load(labels_data, allow_pickle=True)\n",
    "label_header = np.load(labels_header, allow_pickle=True)\n",
    "label_df = pd.DataFrame(label_data, columns=label_header)\n",
    "label_df[label_df[\"county_name\"]=='Sutter'.upper()]"
   ]
  },
  {
   "cell_type": "code",
   "execution_count": 7,
   "id": "83a12278-010a-4b9f-881d-99afc573a007",
   "metadata": {
    "tags": []
   },
   "outputs": [
    {
     "name": "stderr",
     "output_type": "stream",
     "text": [
      "2024-10-20 23:39:47.451262: I tensorflow/core/common_runtime/executor.cc:1197] [/device:CPU:0] (DEBUG INFO) Executor start aborting (this does not indicate an error and you can ignore this message): INVALID_ARGUMENT: You must feed a value for placeholder tensor 'gradients/split_2_grad/concat/split_2/split_dim' with dtype int32\n",
      "\t [[{{node gradients/split_2_grad/concat/split_2/split_dim}}]]\n",
      "2024-10-20 23:39:47.453302: I tensorflow/core/common_runtime/executor.cc:1197] [/device:CPU:0] (DEBUG INFO) Executor start aborting (this does not indicate an error and you can ignore this message): INVALID_ARGUMENT: You must feed a value for placeholder tensor 'gradients/split_grad/concat/split/split_dim' with dtype int32\n",
      "\t [[{{node gradients/split_grad/concat/split/split_dim}}]]\n",
      "2024-10-20 23:39:47.454705: I tensorflow/core/common_runtime/executor.cc:1197] [/device:CPU:0] (DEBUG INFO) Executor start aborting (this does not indicate an error and you can ignore this message): INVALID_ARGUMENT: You must feed a value for placeholder tensor 'gradients/split_1_grad/concat/split_1/split_dim' with dtype int32\n",
      "\t [[{{node gradients/split_1_grad/concat/split_1/split_dim}}]]\n",
      "2024-10-20 23:39:47.659652: I tensorflow/core/common_runtime/executor.cc:1197] [/device:CPU:0] (DEBUG INFO) Executor start aborting (this does not indicate an error and you can ignore this message): INVALID_ARGUMENT: You must feed a value for placeholder tensor 'gradients/split_2_grad/concat/split_2/split_dim' with dtype int32\n",
      "\t [[{{node gradients/split_2_grad/concat/split_2/split_dim}}]]\n",
      "2024-10-20 23:39:47.662098: I tensorflow/core/common_runtime/executor.cc:1197] [/device:CPU:0] (DEBUG INFO) Executor start aborting (this does not indicate an error and you can ignore this message): INVALID_ARGUMENT: You must feed a value for placeholder tensor 'gradients/split_grad/concat/split/split_dim' with dtype int32\n",
      "\t [[{{node gradients/split_grad/concat/split/split_dim}}]]\n",
      "2024-10-20 23:39:47.663611: I tensorflow/core/common_runtime/executor.cc:1197] [/device:CPU:0] (DEBUG INFO) Executor start aborting (this does not indicate an error and you can ignore this message): INVALID_ARGUMENT: You must feed a value for placeholder tensor 'gradients/split_1_grad/concat/split_1/split_dim' with dtype int32\n",
      "\t [[{{node gradients/split_1_grad/concat/split_1/split_dim}}]]\n",
      "2024-10-20 23:39:47.889453: I tensorflow/core/common_runtime/executor.cc:1197] [/device:CPU:0] (DEBUG INFO) Executor start aborting (this does not indicate an error and you can ignore this message): INVALID_ARGUMENT: You must feed a value for placeholder tensor 'gradients/split_2_grad/concat/split_2/split_dim' with dtype int32\n",
      "\t [[{{node gradients/split_2_grad/concat/split_2/split_dim}}]]\n",
      "2024-10-20 23:39:47.891379: I tensorflow/core/common_runtime/executor.cc:1197] [/device:CPU:0] (DEBUG INFO) Executor start aborting (this does not indicate an error and you can ignore this message): INVALID_ARGUMENT: You must feed a value for placeholder tensor 'gradients/split_grad/concat/split/split_dim' with dtype int32\n",
      "\t [[{{node gradients/split_grad/concat/split/split_dim}}]]\n",
      "2024-10-20 23:39:47.892901: I tensorflow/core/common_runtime/executor.cc:1197] [/device:CPU:0] (DEBUG INFO) Executor start aborting (this does not indicate an error and you can ignore this message): INVALID_ARGUMENT: You must feed a value for placeholder tensor 'gradients/split_1_grad/concat/split_1/split_dim' with dtype int32\n",
      "\t [[{{node gradients/split_1_grad/concat/split_1/split_dim}}]]\n",
      "2024-10-20 23:39:47.965985: I tensorflow/core/common_runtime/executor.cc:1197] [/device:CPU:0] (DEBUG INFO) Executor start aborting (this does not indicate an error and you can ignore this message): INVALID_ARGUMENT: You must feed a value for placeholder tensor 'Placeholder/_0' with dtype string and shape [1]\n",
      "\t [[{{node Placeholder/_0}}]]\n",
      "2024-10-20 23:39:47.966214: I tensorflow/core/common_runtime/executor.cc:1197] [/device:CPU:0] (DEBUG INFO) Executor start aborting (this does not indicate an error and you can ignore this message): INVALID_ARGUMENT: You must feed a value for placeholder tensor 'Placeholder/_0' with dtype string and shape [1]\n",
      "\t [[{{node Placeholder/_0}}]]\n"
     ]
    },
    {
     "name": "stdout",
     "output_type": "stream",
     "text": [
      "Epoch 1/20\n"
     ]
    },
    {
     "name": "stderr",
     "output_type": "stream",
     "text": [
      "2024-10-20 23:39:48.150952: I tensorflow/core/common_runtime/executor.cc:1197] [/device:CPU:0] (DEBUG INFO) Executor start aborting (this does not indicate an error and you can ignore this message): INVALID_ARGUMENT: You must feed a value for placeholder tensor 'Placeholder/_0' with dtype string and shape [1]\n",
      "\t [[{{node Placeholder/_0}}]]\n",
      "2024-10-20 23:39:48.151310: I tensorflow/core/common_runtime/executor.cc:1197] [/device:CPU:0] (DEBUG INFO) Executor start aborting (this does not indicate an error and you can ignore this message): INVALID_ARGUMENT: You must feed a value for placeholder tensor 'Placeholder/_0' with dtype string and shape [1]\n",
      "\t [[{{node Placeholder/_0}}]]\n",
      "2024-10-20 23:39:48.404174: I tensorflow/core/common_runtime/executor.cc:1197] [/device:CPU:0] (DEBUG INFO) Executor start aborting (this does not indicate an error and you can ignore this message): INVALID_ARGUMENT: You must feed a value for placeholder tensor 'gradients/split_2_grad/concat/split_2/split_dim' with dtype int32\n",
      "\t [[{{node gradients/split_2_grad/concat/split_2/split_dim}}]]\n",
      "2024-10-20 23:39:48.406632: I tensorflow/core/common_runtime/executor.cc:1197] [/device:CPU:0] (DEBUG INFO) Executor start aborting (this does not indicate an error and you can ignore this message): INVALID_ARGUMENT: You must feed a value for placeholder tensor 'gradients/split_grad/concat/split/split_dim' with dtype int32\n",
      "\t [[{{node gradients/split_grad/concat/split/split_dim}}]]\n",
      "2024-10-20 23:39:48.408314: I tensorflow/core/common_runtime/executor.cc:1197] [/device:CPU:0] (DEBUG INFO) Executor start aborting (this does not indicate an error and you can ignore this message): INVALID_ARGUMENT: You must feed a value for placeholder tensor 'gradients/split_1_grad/concat/split_1/split_dim' with dtype int32\n",
      "\t [[{{node gradients/split_1_grad/concat/split_1/split_dim}}]]\n",
      "2024-10-20 23:39:48.621072: I tensorflow/core/common_runtime/executor.cc:1197] [/device:CPU:0] (DEBUG INFO) Executor start aborting (this does not indicate an error and you can ignore this message): INVALID_ARGUMENT: You must feed a value for placeholder tensor 'gradients/split_2_grad/concat/split_2/split_dim' with dtype int32\n",
      "\t [[{{node gradients/split_2_grad/concat/split_2/split_dim}}]]\n",
      "2024-10-20 23:39:48.623174: I tensorflow/core/common_runtime/executor.cc:1197] [/device:CPU:0] (DEBUG INFO) Executor start aborting (this does not indicate an error and you can ignore this message): INVALID_ARGUMENT: You must feed a value for placeholder tensor 'gradients/split_grad/concat/split/split_dim' with dtype int32\n",
      "\t [[{{node gradients/split_grad/concat/split/split_dim}}]]\n",
      "2024-10-20 23:39:48.624816: I tensorflow/core/common_runtime/executor.cc:1197] [/device:CPU:0] (DEBUG INFO) Executor start aborting (this does not indicate an error and you can ignore this message): INVALID_ARGUMENT: You must feed a value for placeholder tensor 'gradients/split_1_grad/concat/split_1/split_dim' with dtype int32\n",
      "\t [[{{node gradients/split_1_grad/concat/split_1/split_dim}}]]\n",
      "2024-10-20 23:39:48.838592: I tensorflow/core/common_runtime/executor.cc:1197] [/device:CPU:0] (DEBUG INFO) Executor start aborting (this does not indicate an error and you can ignore this message): INVALID_ARGUMENT: You must feed a value for placeholder tensor 'gradients/split_2_grad/concat/split_2/split_dim' with dtype int32\n",
      "\t [[{{node gradients/split_2_grad/concat/split_2/split_dim}}]]\n",
      "2024-10-20 23:39:48.840720: I tensorflow/core/common_runtime/executor.cc:1197] [/device:CPU:0] (DEBUG INFO) Executor start aborting (this does not indicate an error and you can ignore this message): INVALID_ARGUMENT: You must feed a value for placeholder tensor 'gradients/split_grad/concat/split/split_dim' with dtype int32\n",
      "\t [[{{node gradients/split_grad/concat/split/split_dim}}]]\n",
      "2024-10-20 23:39:48.842374: I tensorflow/core/common_runtime/executor.cc:1197] [/device:CPU:0] (DEBUG INFO) Executor start aborting (this does not indicate an error and you can ignore this message): INVALID_ARGUMENT: You must feed a value for placeholder tensor 'gradients/split_1_grad/concat/split_1/split_dim' with dtype int32\n",
      "\t [[{{node gradients/split_1_grad/concat/split_1/split_dim}}]]\n",
      "2024-10-20 23:39:49.195763: I tensorflow/core/common_runtime/executor.cc:1197] [/device:CPU:0] (DEBUG INFO) Executor start aborting (this does not indicate an error and you can ignore this message): INVALID_ARGUMENT: You must feed a value for placeholder tensor 'gradients/model/lstm_2/PartitionedCall_grad/model/lstm_2/PartitionedCall' with dtype float and shape [1,?,2]\n",
      "\t [[{{node gradients/model/lstm_2/PartitionedCall_grad/model/lstm_2/PartitionedCall}}]]\n",
      "2024-10-20 23:39:49.195916: I tensorflow/core/common_runtime/executor.cc:1197] [/device:CPU:0] (DEBUG INFO) Executor start aborting (this does not indicate an error and you can ignore this message): INVALID_ARGUMENT: You must feed a value for placeholder tensor 'gradients/model/lstm_2/PartitionedCall_grad/model/lstm_2/PartitionedCall_1' with dtype int32 and shape [3]\n",
      "\t [[{{node gradients/model/lstm_2/PartitionedCall_grad/model/lstm_2/PartitionedCall_1}}]]\n",
      "2024-10-20 23:39:49.196007: I tensorflow/core/common_runtime/executor.cc:1197] [/device:CPU:0] (DEBUG INFO) Executor start aborting (this does not indicate an error and you can ignore this message): INVALID_ARGUMENT: You must feed a value for placeholder tensor 'gradients/model/lstm_2/PartitionedCall_grad/model/lstm_2/PartitionedCall_30' with dtype float and shape [3,?,2]\n",
      "\t [[{{node gradients/model/lstm_2/PartitionedCall_grad/model/lstm_2/PartitionedCall_30}}]]\n",
      "2024-10-20 23:39:49.196079: I tensorflow/core/common_runtime/executor.cc:1197] [/device:CPU:0] (DEBUG INFO) Executor start aborting (this does not indicate an error and you can ignore this message): INVALID_ARGUMENT: You must feed a value for placeholder tensor 'gradients/model/lstm_2/PartitionedCall_grad/model/lstm_2/PartitionedCall_31' with dtype int32 and shape [3]\n",
      "\t [[{{node gradients/model/lstm_2/PartitionedCall_grad/model/lstm_2/PartitionedCall_31}}]]\n",
      "2024-10-20 23:39:49.446205: I tensorflow/core/common_runtime/executor.cc:1197] [/device:CPU:0] (DEBUG INFO) Executor start aborting (this does not indicate an error and you can ignore this message): INVALID_ARGUMENT: You must feed a value for placeholder tensor 'gradients/model/lstm_1/PartitionedCall_grad/model/lstm_1/PartitionedCall' with dtype float and shape [3,?,2]\n",
      "\t [[{{node gradients/model/lstm_1/PartitionedCall_grad/model/lstm_1/PartitionedCall}}]]\n",
      "2024-10-20 23:39:49.446311: I tensorflow/core/common_runtime/executor.cc:1197] [/device:CPU:0] (DEBUG INFO) Executor start aborting (this does not indicate an error and you can ignore this message): INVALID_ARGUMENT: You must feed a value for placeholder tensor 'gradients/model/lstm_1/PartitionedCall_grad/model/lstm_1/PartitionedCall_1' with dtype int32 and shape [3]\n",
      "\t [[{{node gradients/model/lstm_1/PartitionedCall_grad/model/lstm_1/PartitionedCall_1}}]]\n",
      "2024-10-20 23:39:49.446363: I tensorflow/core/common_runtime/executor.cc:1197] [/device:CPU:0] (DEBUG INFO) Executor start aborting (this does not indicate an error and you can ignore this message): INVALID_ARGUMENT: You must feed a value for placeholder tensor 'gradients/model/lstm_1/PartitionedCall_grad/model/lstm_1/PartitionedCall_30' with dtype float and shape [3,?,2]\n",
      "\t [[{{node gradients/model/lstm_1/PartitionedCall_grad/model/lstm_1/PartitionedCall_30}}]]\n",
      "2024-10-20 23:39:49.446436: I tensorflow/core/common_runtime/executor.cc:1197] [/device:CPU:0] (DEBUG INFO) Executor start aborting (this does not indicate an error and you can ignore this message): INVALID_ARGUMENT: You must feed a value for placeholder tensor 'gradients/model/lstm_1/PartitionedCall_grad/model/lstm_1/PartitionedCall_31' with dtype int32 and shape [3]\n",
      "\t [[{{node gradients/model/lstm_1/PartitionedCall_grad/model/lstm_1/PartitionedCall_31}}]]\n",
      "2024-10-20 23:39:49.710675: I tensorflow/core/common_runtime/executor.cc:1197] [/device:CPU:0] (DEBUG INFO) Executor start aborting (this does not indicate an error and you can ignore this message): INVALID_ARGUMENT: You must feed a value for placeholder tensor 'gradients/model/lstm/PartitionedCall_grad/model/lstm/PartitionedCall' with dtype float and shape [3,?,2]\n",
      "\t [[{{node gradients/model/lstm/PartitionedCall_grad/model/lstm/PartitionedCall}}]]\n",
      "2024-10-20 23:39:49.710842: I tensorflow/core/common_runtime/executor.cc:1197] [/device:CPU:0] (DEBUG INFO) Executor start aborting (this does not indicate an error and you can ignore this message): INVALID_ARGUMENT: You must feed a value for placeholder tensor 'gradients/model/lstm/PartitionedCall_grad/model/lstm/PartitionedCall_1' with dtype int32 and shape [3]\n",
      "\t [[{{node gradients/model/lstm/PartitionedCall_grad/model/lstm/PartitionedCall_1}}]]\n",
      "2024-10-20 23:39:49.710958: I tensorflow/core/common_runtime/executor.cc:1197] [/device:CPU:0] (DEBUG INFO) Executor start aborting (this does not indicate an error and you can ignore this message): INVALID_ARGUMENT: You must feed a value for placeholder tensor 'gradients/model/lstm/PartitionedCall_grad/model/lstm/PartitionedCall_30' with dtype float and shape [3,?,416]\n",
      "\t [[{{node gradients/model/lstm/PartitionedCall_grad/model/lstm/PartitionedCall_30}}]]\n",
      "2024-10-20 23:39:49.711062: I tensorflow/core/common_runtime/executor.cc:1197] [/device:CPU:0] (DEBUG INFO) Executor start aborting (this does not indicate an error and you can ignore this message): INVALID_ARGUMENT: You must feed a value for placeholder tensor 'gradients/model/lstm/PartitionedCall_grad/model/lstm/PartitionedCall_31' with dtype int32 and shape [3]\n",
      "\t [[{{node gradients/model/lstm/PartitionedCall_grad/model/lstm/PartitionedCall_31}}]]\n"
     ]
    },
    {
     "name": "stdout",
     "output_type": "stream",
     "text": [
      "     17/Unknown - 4s 6ms/step - loss: 6381.9321"
     ]
    },
    {
     "name": "stderr",
     "output_type": "stream",
     "text": [
      "2024-10-20 23:39:52.000336: I tensorflow/core/common_runtime/executor.cc:1197] [/device:CPU:0] (DEBUG INFO) Executor start aborting (this does not indicate an error and you can ignore this message): INVALID_ARGUMENT: You must feed a value for placeholder tensor 'Placeholder/_0' with dtype string and shape [1]\n",
      "\t [[{{node Placeholder/_0}}]]\n",
      "2024-10-20 23:39:52.000692: I tensorflow/core/common_runtime/executor.cc:1197] [/device:CPU:0] (DEBUG INFO) Executor start aborting (this does not indicate an error and you can ignore this message): INVALID_ARGUMENT: You must feed a value for placeholder tensor 'Placeholder/_0' with dtype string and shape [1]\n",
      "\t [[{{node Placeholder/_0}}]]\n",
      "2024-10-20 23:39:52.219283: I tensorflow/core/common_runtime/executor.cc:1197] [/device:CPU:0] (DEBUG INFO) Executor start aborting (this does not indicate an error and you can ignore this message): INVALID_ARGUMENT: You must feed a value for placeholder tensor 'gradients/split_2_grad/concat/split_2/split_dim' with dtype int32\n",
      "\t [[{{node gradients/split_2_grad/concat/split_2/split_dim}}]]\n",
      "2024-10-20 23:39:52.221370: I tensorflow/core/common_runtime/executor.cc:1197] [/device:CPU:0] (DEBUG INFO) Executor start aborting (this does not indicate an error and you can ignore this message): INVALID_ARGUMENT: You must feed a value for placeholder tensor 'gradients/split_grad/concat/split/split_dim' with dtype int32\n",
      "\t [[{{node gradients/split_grad/concat/split/split_dim}}]]\n",
      "2024-10-20 23:39:52.222925: I tensorflow/core/common_runtime/executor.cc:1197] [/device:CPU:0] (DEBUG INFO) Executor start aborting (this does not indicate an error and you can ignore this message): INVALID_ARGUMENT: You must feed a value for placeholder tensor 'gradients/split_1_grad/concat/split_1/split_dim' with dtype int32\n",
      "\t [[{{node gradients/split_1_grad/concat/split_1/split_dim}}]]\n",
      "2024-10-20 23:39:52.419361: I tensorflow/core/common_runtime/executor.cc:1197] [/device:CPU:0] (DEBUG INFO) Executor start aborting (this does not indicate an error and you can ignore this message): INVALID_ARGUMENT: You must feed a value for placeholder tensor 'gradients/split_2_grad/concat/split_2/split_dim' with dtype int32\n",
      "\t [[{{node gradients/split_2_grad/concat/split_2/split_dim}}]]\n",
      "2024-10-20 23:39:52.421589: I tensorflow/core/common_runtime/executor.cc:1197] [/device:CPU:0] (DEBUG INFO) Executor start aborting (this does not indicate an error and you can ignore this message): INVALID_ARGUMENT: You must feed a value for placeholder tensor 'gradients/split_grad/concat/split/split_dim' with dtype int32\n",
      "\t [[{{node gradients/split_grad/concat/split/split_dim}}]]\n",
      "2024-10-20 23:39:52.423527: I tensorflow/core/common_runtime/executor.cc:1197] [/device:CPU:0] (DEBUG INFO) Executor start aborting (this does not indicate an error and you can ignore this message): INVALID_ARGUMENT: You must feed a value for placeholder tensor 'gradients/split_1_grad/concat/split_1/split_dim' with dtype int32\n",
      "\t [[{{node gradients/split_1_grad/concat/split_1/split_dim}}]]\n",
      "2024-10-20 23:39:52.616841: I tensorflow/core/common_runtime/executor.cc:1197] [/device:CPU:0] (DEBUG INFO) Executor start aborting (this does not indicate an error and you can ignore this message): INVALID_ARGUMENT: You must feed a value for placeholder tensor 'gradients/split_2_grad/concat/split_2/split_dim' with dtype int32\n",
      "\t [[{{node gradients/split_2_grad/concat/split_2/split_dim}}]]\n",
      "2024-10-20 23:39:52.618418: I tensorflow/core/common_runtime/executor.cc:1197] [/device:CPU:0] (DEBUG INFO) Executor start aborting (this does not indicate an error and you can ignore this message): INVALID_ARGUMENT: You must feed a value for placeholder tensor 'gradients/split_grad/concat/split/split_dim' with dtype int32\n",
      "\t [[{{node gradients/split_grad/concat/split/split_dim}}]]\n",
      "2024-10-20 23:39:52.620455: I tensorflow/core/common_runtime/executor.cc:1197] [/device:CPU:0] (DEBUG INFO) Executor start aborting (this does not indicate an error and you can ignore this message): INVALID_ARGUMENT: You must feed a value for placeholder tensor 'gradients/split_1_grad/concat/split_1/split_dim' with dtype int32\n",
      "\t [[{{node gradients/split_1_grad/concat/split_1/split_dim}}]]\n"
     ]
    },
    {
     "name": "stdout",
     "output_type": "stream",
     "text": [
      "20/20 [==============================] - 5s 83ms/step - loss: 6021.5615 - val_loss: 2049.9277\n",
      "Epoch 2/20\n",
      "20/20 [==============================] - 0s 16ms/step - loss: 2556.2664 - val_loss: 2040.6656\n",
      "Epoch 3/20\n",
      "20/20 [==============================] - 0s 15ms/step - loss: 2077.9924 - val_loss: 1736.9641\n",
      "Epoch 4/20\n",
      "20/20 [==============================] - 0s 15ms/step - loss: 1837.0092 - val_loss: 1923.3700\n",
      "Epoch 5/20\n",
      "20/20 [==============================] - 0s 15ms/step - loss: 1877.8552 - val_loss: 1809.0082\n",
      "Epoch 6/20\n",
      "20/20 [==============================] - 0s 16ms/step - loss: 1811.8289 - val_loss: 1940.3762\n",
      "Epoch 7/20\n",
      "20/20 [==============================] - 0s 16ms/step - loss: 1747.4319 - val_loss: 1740.8083\n",
      "Epoch 8/20\n",
      "20/20 [==============================] - 0s 16ms/step - loss: 1877.9941 - val_loss: 1892.3909\n",
      "Epoch 9/20\n",
      "20/20 [==============================] - 0s 17ms/step - loss: 1849.2872 - val_loss: 2139.6292\n",
      "Epoch 10/20\n",
      "20/20 [==============================] - 0s 15ms/step - loss: 1927.0273 - val_loss: 1557.0417\n",
      "Epoch 11/20\n",
      "20/20 [==============================] - 0s 16ms/step - loss: 1866.2513 - val_loss: 1653.1725\n",
      "Epoch 12/20\n",
      "20/20 [==============================] - 0s 16ms/step - loss: 1866.1676 - val_loss: 1985.3748\n",
      "Epoch 13/20\n",
      "20/20 [==============================] - 0s 16ms/step - loss: 1862.6893 - val_loss: 1852.6454\n",
      "Epoch 14/20\n",
      "20/20 [==============================] - 0s 17ms/step - loss: 1917.7715 - val_loss: 1983.4340\n",
      "Epoch 15/20\n",
      "20/20 [==============================] - 0s 15ms/step - loss: 1806.0854 - val_loss: 1797.2338\n",
      "Epoch 16/20\n",
      "20/20 [==============================] - 0s 16ms/step - loss: 1894.8589 - val_loss: 2111.9529\n",
      "Epoch 17/20\n",
      "20/20 [==============================] - 0s 16ms/step - loss: 1812.3527 - val_loss: 2110.5405\n",
      "Epoch 18/20\n",
      "20/20 [==============================] - 0s 15ms/step - loss: 1849.0084 - val_loss: 1875.3328\n",
      "Epoch 19/20\n",
      "20/20 [==============================] - 0s 16ms/step - loss: 1821.4346 - val_loss: 1568.5819\n",
      "Epoch 20/20\n",
      "14/20 [====================>.........] - ETA: 0s - loss: 1928.8540Restoring model weights from the end of the best epoch: 10.\n",
      "20/20 [==============================] - 1s 18ms/step - loss: 1853.1639 - val_loss: 1983.6763\n",
      "Epoch 20: early stopping\n"
     ]
    }
   ],
   "source": [
    "model = LstmModel(input_shape=(3, 416), lstm_layers=3, no_units=2,)\n",
    "trained_model, history = train_and_evaluate(model, dataset, epochs=20, initial_learning_rate=10.1, batch_size=batch_size)"
   ]
  },
  {
   "cell_type": "code",
   "execution_count": 8,
   "id": "1f6f956d-ca74-46df-8375-ce6865465031",
   "metadata": {
    "tags": []
   },
   "outputs": [
    {
     "data": {
      "image/png": "[encoded data removed]",
      "text/plain": [
       "<Figure size 1000x500 with 1 Axes>"
      ]
     },
     "metadata": {},
     "output_type": "display_data"
    }
   ],
   "source": [
    "plt.ion()\n",
    "plt.figure(figsize=(10, 5))\n",
    "plt.plot(history.history[\"loss\"], label=\"Training Loss\", color=\"blue\")\n",
    "plt.plot(history.history[\"val_loss\"], label=\"Validation Loss\", color=\"orange\")\n",
    "plt.title(\"Training and Validation Loss\")\n",
    "plt.xlabel(\"Epochs\")\n",
    "plt.ylabel(\"Loss\")\n",
    "plt.legend()\n",
    "plt.grid()\n",
    "plt.show()"
   ]
  },
  {
   "cell_type": "code",
   "execution_count": 9,
   "id": "af11a9e8-2362-47b6-b39d-c41f7dce86c4",
   "metadata": {},
   "outputs": [
    {
     "name": "stdout",
     "output_type": "stream",
     "text": [
      "2.12.0\n",
      "2.12.0\n"
     ]
    }
   ],
   "source": [
    "print(tf.__version__)\n",
    "print(tf.keras.__version__)"
   ]
  },
  {
   "cell_type": "code",
   "execution_count": null,
   "id": "bcfebe20-d1cc-4809-9c0f-60bc13c70670",
   "metadata": {},
   "outputs": [],
   "source": []
  }
 ],
 "metadata": {
  "environment": {
   "kernel": "conda-base-py",
   "name": "workbench-notebooks.m125",
   "type": "gcloud",
   "uri": "us-docker.pkg.dev/deeplearning-platform-release/gcr.io/workbench-notebooks:m125"
  },
  "kernelspec": {
   "display_name": "Python 3 (ipykernel) (Local)",
   "language": "python",
   "name": "conda-base-py"
  },
  "language_info": {
   "codemirror_mode": {
    "name": "ipython",
    "version": 3
   },
   "file_extension": ".py",
   "mimetype": "text/x-python",
   "name": "python",
   "nbconvert_exporter": "python",
   "pygments_lexer": "ipython3",
   "version": "3.10.15"
  }
 },
 "nbformat": 4,
 "nbformat_minor": 5
}
