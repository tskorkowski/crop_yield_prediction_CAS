{
 "cells": [
  {
   "cell_type": "code",
   "execution_count": 15,
   "id": "ea876282-7e0d-4a5e-be56-0b31f49f3992",
   "metadata": {
    "tags": []
   },
   "outputs": [],
   "source": [
    "# Setup\n",
    "!pip install --quiet --upgrade pip\n",
    "\n",
    "# Install the dependencies.\n",
    "!pip install --quiet -r requirements.txt\n",
    "\n",
    "# Restart the runtime by ending the process.\n",
    "exit()"
   ]
  },
  {
   "cell_type": "code",
   "execution_count": 1,
   "id": "e5d9bc1e-c419-4350-a556-1a76cb21ab39",
   "metadata": {
    "tags": []
   },
   "outputs": [
    {
     "name": "stderr",
     "output_type": "stream",
     "text": [
      "2024-10-20 20:45:35.826480: I tensorflow/core/util/port.cc:110] oneDNN custom operations are on. You may see slightly different numerical results due to floating-point round-off errors from different computation orders. To turn them off, set the environment variable `TF_ENABLE_ONEDNN_OPTS=0`.\n",
      "2024-10-20 20:45:35.878980: I tensorflow/core/platform/cpu_feature_guard.cc:182] This TensorFlow binary is optimized to use available CPU instructions in performance-critical operations.\n",
      "To enable the following instructions: AVX2 AVX512F AVX512_VNNI FMA, in other operations, rebuild TensorFlow with the appropriate compiler flags.\n"
     ]
    }
   ],
   "source": [
    "import numpy as np\n",
    "import pandas as pd\n",
    "import tensorflow as tf\n",
    "from google.cloud import storage\n",
    "import google.auth\n",
    "from importlib import reload\n",
    "from serving.constants import  BUCKET, IMG_SOURCE_PREFIX, HIST_DEST_PREFIX, NUM_BANDS, HIST_BINS_LIST, SCALE, CROP, MONTHS\n",
    "from serving.common import list_blobs_with_prefix\n",
    "from serving.hist_training import create_hist_dataset, LstmModel, train_and_evaluate, create_data_sample, get_labels\n",
    "from serving.data import check_blob_prefix_exists, batch_check_blobs, get_varied_labels\n",
    "import logging\n",
    "import io\n",
    "import itertools\n",
    "from google.cloud import storage\n",
    "import google.auth\n",
    "import time\n",
    "import os\n",
    "import matplotlib.pyplot as plt"
   ]
  },
  {
   "cell_type": "code",
   "execution_count": 2,
   "id": "7c83aac7-7acf-435f-8cc9-e24d51bf3a5b",
   "metadata": {
    "tags": []
   },
   "outputs": [],
   "source": [
    "# SETUP\n",
    "\n",
    "CREATE_DATASET = False\n",
    "\n",
    "start_time = time.perf_counter()\n",
    "credentials, _ = google.auth.default()\n",
    "bucket_name = BUCKET\n",
    "directory_prefix = IMG_SOURCE_PREFIX\n",
    "output_prefix = HIST_DEST_PREFIX\n",
    "labels_data = \"labels_combined.npy\"\n",
    "labels_header = \"labels_header.npy\"\n",
    "batch_size = 30\n",
    "\n",
    "client = storage.Client()\n",
    "bucket = client.get_bucket(bucket_name)\n",
    "\n"
   ]
  },
  {
   "cell_type": "code",
   "execution_count": 3,
   "id": "f0a26a19-410d-4e78-8e7c-ead300283a65",
   "metadata": {},
   "outputs": [
    {
     "data": {
      "text/html": [
       "<div>\n",
       "<style scoped>\n",
       "    .dataframe tbody tr th:only-of-type {\n",
       "        vertical-align: middle;\n",
       "    }\n",
       "\n",
       "    .dataframe tbody tr th {\n",
       "        vertical-align: top;\n",
       "    }\n",
       "\n",
       "    .dataframe thead th {\n",
       "        text-align: right;\n",
       "    }\n",
       "</style>\n",
       "<table border=\"1\" class=\"dataframe\">\n",
       "  <thead>\n",
       "    <tr style=\"text-align: right;\">\n",
       "      <th></th>\n",
       "      <th>commodity_desc</th>\n",
       "      <th>reference_period_desc</th>\n",
       "      <th>year</th>\n",
       "      <th>state_ansi</th>\n",
       "      <th>state_name</th>\n",
       "      <th>county_ansi</th>\n",
       "      <th>county_name</th>\n",
       "      <th>target</th>\n",
       "      <th>source_file</th>\n",
       "    </tr>\n",
       "  </thead>\n",
       "  <tbody>\n",
       "    <tr>\n",
       "      <th>0</th>\n",
       "      <td>CORN</td>\n",
       "      <td>YEAR</td>\n",
       "      <td>2016</td>\n",
       "      <td>01</td>\n",
       "      <td>ALABAMA</td>\n",
       "      <td>003</td>\n",
       "      <td>BALDWIN</td>\n",
       "      <td>152.9</td>\n",
       "      <td>USDA_Corn_County_2016.csv</td>\n",
       "    </tr>\n",
       "    <tr>\n",
       "      <th>1</th>\n",
       "      <td>CORN</td>\n",
       "      <td>YEAR</td>\n",
       "      <td>2016</td>\n",
       "      <td>01</td>\n",
       "      <td>ALABAMA</td>\n",
       "      <td>005</td>\n",
       "      <td>BARBOUR</td>\n",
       "      <td>188.9</td>\n",
       "      <td>USDA_Corn_County_2016.csv</td>\n",
       "    </tr>\n",
       "    <tr>\n",
       "      <th>2</th>\n",
       "      <td>CORN</td>\n",
       "      <td>YEAR</td>\n",
       "      <td>2016</td>\n",
       "      <td>01</td>\n",
       "      <td>ALABAMA</td>\n",
       "      <td>019</td>\n",
       "      <td>CHEROKEE</td>\n",
       "      <td>92.3</td>\n",
       "      <td>USDA_Corn_County_2016.csv</td>\n",
       "    </tr>\n",
       "    <tr>\n",
       "      <th>3</th>\n",
       "      <td>CORN</td>\n",
       "      <td>YEAR</td>\n",
       "      <td>2016</td>\n",
       "      <td>01</td>\n",
       "      <td>ALABAMA</td>\n",
       "      <td>029</td>\n",
       "      <td>CLEBURNE</td>\n",
       "      <td>125.0</td>\n",
       "      <td>USDA_Corn_County_2016.csv</td>\n",
       "    </tr>\n",
       "    <tr>\n",
       "      <th>4</th>\n",
       "      <td>CORN</td>\n",
       "      <td>YEAR</td>\n",
       "      <td>2016</td>\n",
       "      <td>01</td>\n",
       "      <td>ALABAMA</td>\n",
       "      <td>031</td>\n",
       "      <td>COFFEE</td>\n",
       "      <td>104.5</td>\n",
       "      <td>USDA_Corn_County_2016.csv</td>\n",
       "    </tr>\n",
       "    <tr>\n",
       "      <th>5</th>\n",
       "      <td>CORN</td>\n",
       "      <td>YEAR</td>\n",
       "      <td>2016</td>\n",
       "      <td>01</td>\n",
       "      <td>ALABAMA</td>\n",
       "      <td>033</td>\n",
       "      <td>COLBERT</td>\n",
       "      <td>126.2</td>\n",
       "      <td>USDA_Corn_County_2016.csv</td>\n",
       "    </tr>\n",
       "    <tr>\n",
       "      <th>6</th>\n",
       "      <td>CORN</td>\n",
       "      <td>YEAR</td>\n",
       "      <td>2016</td>\n",
       "      <td>01</td>\n",
       "      <td>ALABAMA</td>\n",
       "      <td>035</td>\n",
       "      <td>CONECUH</td>\n",
       "      <td>116.7</td>\n",
       "      <td>USDA_Corn_County_2016.csv</td>\n",
       "    </tr>\n",
       "    <tr>\n",
       "      <th>7</th>\n",
       "      <td>CORN</td>\n",
       "      <td>YEAR</td>\n",
       "      <td>2016</td>\n",
       "      <td>01</td>\n",
       "      <td>ALABAMA</td>\n",
       "      <td>039</td>\n",
       "      <td>COVINGTON</td>\n",
       "      <td>108.1</td>\n",
       "      <td>USDA_Corn_County_2016.csv</td>\n",
       "    </tr>\n",
       "    <tr>\n",
       "      <th>8</th>\n",
       "      <td>CORN</td>\n",
       "      <td>YEAR</td>\n",
       "      <td>2016</td>\n",
       "      <td>01</td>\n",
       "      <td>ALABAMA</td>\n",
       "      <td>043</td>\n",
       "      <td>CULLMAN</td>\n",
       "      <td>117.2</td>\n",
       "      <td>USDA_Corn_County_2016.csv</td>\n",
       "    </tr>\n",
       "    <tr>\n",
       "      <th>9</th>\n",
       "      <td>CORN</td>\n",
       "      <td>YEAR</td>\n",
       "      <td>2016</td>\n",
       "      <td>01</td>\n",
       "      <td>ALABAMA</td>\n",
       "      <td>045</td>\n",
       "      <td>DALE</td>\n",
       "      <td>145.0</td>\n",
       "      <td>USDA_Corn_County_2016.csv</td>\n",
       "    </tr>\n",
       "  </tbody>\n",
       "</table>\n",
       "</div>"
      ],
      "text/plain": [
       "  commodity_desc reference_period_desc  year state_ansi state_name  \\\n",
       "0           CORN                  YEAR  2016         01    ALABAMA   \n",
       "1           CORN                  YEAR  2016         01    ALABAMA   \n",
       "2           CORN                  YEAR  2016         01    ALABAMA   \n",
       "3           CORN                  YEAR  2016         01    ALABAMA   \n",
       "4           CORN                  YEAR  2016         01    ALABAMA   \n",
       "5           CORN                  YEAR  2016         01    ALABAMA   \n",
       "6           CORN                  YEAR  2016         01    ALABAMA   \n",
       "7           CORN                  YEAR  2016         01    ALABAMA   \n",
       "8           CORN                  YEAR  2016         01    ALABAMA   \n",
       "9           CORN                  YEAR  2016         01    ALABAMA   \n",
       "\n",
       "  county_ansi county_name target                source_file  \n",
       "0         003     BALDWIN  152.9  USDA_Corn_County_2016.csv  \n",
       "1         005     BARBOUR  188.9  USDA_Corn_County_2016.csv  \n",
       "2         019    CHEROKEE   92.3  USDA_Corn_County_2016.csv  \n",
       "3         029    CLEBURNE  125.0  USDA_Corn_County_2016.csv  \n",
       "4         031      COFFEE  104.5  USDA_Corn_County_2016.csv  \n",
       "5         033     COLBERT  126.2  USDA_Corn_County_2016.csv  \n",
       "6         035     CONECUH  116.7  USDA_Corn_County_2016.csv  \n",
       "7         039   COVINGTON  108.1  USDA_Corn_County_2016.csv  \n",
       "8         043     CULLMAN  117.2  USDA_Corn_County_2016.csv  \n",
       "9         045        DALE  145.0  USDA_Corn_County_2016.csv  "
      ]
     },
     "execution_count": 3,
     "metadata": {},
     "output_type": "execute_result"
    }
   ],
   "source": [
    "label_data = np.load(labels, allow_pickle=True)\n",
    "label_header = np.load(\"labels_header.npy\", allow_pickle=True)\n",
    "label_df = pd.DataFrame(label_data, columns=label_header)\n",
    "label_df.head(10)"
   ]
  },
  {
   "cell_type": "code",
   "execution_count": 4,
   "id": "77d0c01e-1906-4f98-9840-bd8e7ac5a307",
   "metadata": {
    "tags": []
   },
   "outputs": [],
   "source": [
    "def _bytes_feature(value):\n",
    "    \"\"\"Returns a bytes_list from a string / byte.\"\"\"\n",
    "    if isinstance(value, type(tf.constant(0))):\n",
    "        value = value.numpy() # BytesList won't unpack a string from an EagerTensor.\n",
    "    return tf.train.Feature(bytes_list=tf.train.BytesList(value=[value]))\n",
    "\n",
    "def _float_feature(value):\n",
    "    \"\"\"Returns a float_list from a float / double.\"\"\"\n",
    "    return tf.train.Feature(float_list=tf.train.FloatList(value=[value]))\n",
    "\n",
    "def _int64_feature(value):\n",
    "    \"\"\"Returns an int64_list from a bool / enum / int / uint.\"\"\"\n",
    "    return tf.train.Feature(int64_list=tf.train.Int64List(value=[value]))\n",
    "\n",
    "def serialize_example(feature, label):\n",
    "    \"\"\"\n",
    "    Creates a tf.train.Example message ready to be written to a file.\n",
    "    \"\"\"\n",
    "    # Create a dictionary mapping the feature name to the tf.train.Example-compatible\n",
    "    # data type.\n",
    "    feature = {\n",
    "        'feature': _bytes_feature(tf.io.serialize_tensor(feature)),\n",
    "        'label': _float_feature(label),\n",
    "    }\n",
    "    # Create a Features message using tf.train.Example.\n",
    "    example_proto = tf.train.Example(features=tf.train.Features(feature=feature))\n",
    "    return example_proto.SerializeToString()\n",
    "\n",
    "def save_dataset_to_gcp(dataset, bucket_name='vgnn', file_name='hist_dataset_medium.tfrecords'):\n",
    "    # Initialize GCP client\n",
    "    client = storage.Client()\n",
    "    bucket = client.bucket(bucket_name)\n",
    "\n",
    "    # Create a local temporary file\n",
    "    local_file_name = 'temp_' + file_name\n",
    "    \n",
    "    # Write the dataset to the local file\n",
    "    with tf.io.TFRecordWriter(local_file_name) as writer:\n",
    "        for features, label in dataset:\n",
    "            example = serialize_example(features, label)\n",
    "            writer.write(example)\n",
    "    \n",
    "    # Upload the local file to GCS\n",
    "    blob = bucket.blob(f\"dataset/{file_name}\")\n",
    "    blob.upload_from_filename(local_file_name)\n",
    "\n",
    "    # Remove the local temporary file\n",
    "    os.remove(local_file_name)\n",
    "\n",
    "    print(f\"Dataset saved to gs://{bucket_name}/dataset/{file_name}\")\n",
    "    \n",
    "def parse_tfrecord_fn(example_proto):\n",
    "    # Define the features dictionary that matches the structure used when saving\n",
    "    feature_description = {\n",
    "        'feature': tf.io.FixedLenFeature([], tf.string),\n",
    "        'label': tf.io.FixedLenFeature([], tf.float32)\n",
    "    }\n",
    "    \n",
    "    # Parse the input tf.Example proto using the feature description\n",
    "    parsed_features = tf.io.parse_single_example(example_proto, feature_description)\n",
    "    \n",
    "    # Decode the feature from the parsed example\n",
    "    feature = tf.io.parse_tensor(parsed_features['feature'], out_type=tf.float32)\n",
    "    label = parsed_features['label']\n",
    "    \n",
    "    return feature, label\n",
    "\n",
    "def load_dataset_from_gcp(bucket_name='vgnn', file_name='hist_dataset_medium.tfrecords'):\n",
    "    # Construct the full GCS path\n",
    "    gcs_path = f\"gs://{bucket_name}/dataset/{file_name}\"\n",
    "    \n",
    "    # Create a TFRecordDataset\n",
    "    dataset = tf.data.TFRecordDataset(gcs_path)\n",
    "    \n",
    "    # Parse the TFRecords\n",
    "    parsed_dataset = dataset.map(parse_tfrecord_fn)\n",
    "    \n",
    "    return parsed_dataset    "
   ]
  },
  {
   "cell_type": "code",
   "execution_count": 10,
   "id": "8cfcac68-58ca-4b85-9ac5-5fd97d9f5476",
   "metadata": {
    "tags": []
   },
   "outputs": [
    {
     "name": "stdout",
     "output_type": "stream",
     "text": [
      "Number of items to process: 727\n",
      "Collecting dataset information: -7.570476240998687\n",
      "Reshaped histograms shape: (725, 3, 416)\n",
      "Labels shape: (725, 1)\n",
      "Number of filtered combinations: 2\n",
      "Number of missing histograms replaced by zeros: 3\n"
     ]
    }
   ],
   "source": [
    "if True:\n",
    "    # Generate all prefixes\n",
    "    start_time = time.perf_counter()\n",
    "    \n",
    "    labels_df = get_varied_labels(150)\n",
    "    labels = list(zip(labels_df[\"county_name\"],\n",
    "                      labels_df[\"county_ansi\"],\n",
    "                 labels_df[\"state_ansi\"],\n",
    "                 labels_df[\"year\"]))\n",
    "\n",
    "    prefixes = [f'histograms/{SCALE}/{county.capitalize()}_{fips}/{year}' \n",
    "                for county,_, fips, year in labels]\n",
    "\n",
    "    prefixes_hist = [f'histograms/{SCALE}/{county.capitalize()}_{fips}/{year}' \n",
    "                for county,_, fips, year in labels]\n",
    "\n",
    "    # Batch check all prefixes\n",
    "    results_hist = batch_check_blobs(bucket_name, prefixes)\n",
    "\n",
    "    # Generate get_input_img_params based on results\n",
    "    get_input_img_params = [(county.capitalize(), fips, year)\n",
    "                for county, county_fips, fips, year in labels\n",
    "                if results_hist[f'histograms/{SCALE}/{county.capitalize()}_{fips}/{year}']\n",
    "    ]\n",
    "\n",
    "    print(f\"Number of items to process: {len(get_input_img_params)} seconds\")\n",
    "    \n",
    "    end_time_dataset_info = time.perf_counter()\n",
    "    print(f\"Collecting dataset information: {end_time_dataset-start_time}\")\n",
    "    \n",
    "    dataset, input_shape = create_hist_dataset(get_input_img_params, \"labels_combined.npy\", \"labels_header.npy\")\n",
    "    end_time_dataset_info = time.perf_counter()\n",
    "    \n",
    "    print(f\"Building dataset: {end_time_dataset_info - end_time_dataset:.0} seconds\")\n",
    "    \n",
    "    # Save dataset\n",
    "    save_dataset_to_gcp(dataset)\n",
    "else:\n",
    "    datatset = load_dataset_from_gcp"
   ]
  },
  {
   "cell_type": "code",
   "execution_count": 13,
   "id": "77788ebf-8b2d-4e7e-84c3-df691c3d9a3e",
   "metadata": {
    "tags": []
   },
   "outputs": [
    {
     "name": "stdout",
     "output_type": "stream",
     "text": [
      "Features shape: (3, 416)\n",
      "Label: 168.6\n",
      "\n",
      "Features shape: (3, 416)\n",
      "Label: 173.1\n",
      "\n",
      "Features shape: (3, 416)\n",
      "Label: 136.1\n",
      "\n",
      "Features shape: (3, 416)\n",
      "Label: 68.0\n",
      "\n",
      "Features shape: (3, 416)\n",
      "Label: 80.5\n",
      "\n"
     ]
    },
    {
     "name": "stderr",
     "output_type": "stream",
     "text": [
      "2024-10-20 20:43:26.342231: I tensorflow/core/common_runtime/executor.cc:1197] [/device:CPU:0] (DEBUG INFO) Executor start aborting (this does not indicate an error and you can ignore this message): INVALID_ARGUMENT: You must feed a value for placeholder tensor 'Placeholder/_0' with dtype string and shape [1]\n",
      "\t [[{{node Placeholder/_0}}]]\n"
     ]
    }
   ],
   "source": [
    "# You can now use this dataset for training, evaluation, etc.\n",
    "# For example, to print the first few elements:\n",
    "for features, label in dataset.take(5):\n",
    "    print(\"Features shape:\", features.shape)\n",
    "    print(\"Label:\", label.numpy())\n",
    "    print()"
   ]
  },
  {
   "cell_type": "code",
   "execution_count": 8,
   "id": "83a12278-010a-4b9f-881d-99afc573a007",
   "metadata": {
    "tags": []
   },
   "outputs": [
    {
     "name": "stdout",
     "output_type": "stream",
     "text": [
      "Epoch 1/20\n"
     ]
    },
    {
     "name": "stderr",
     "output_type": "stream",
     "text": [
      "2024-10-20 20:37:34.192544: I tensorflow/core/common_runtime/executor.cc:1197] [/device:CPU:0] (DEBUG INFO) Executor start aborting (this does not indicate an error and you can ignore this message): INVALID_ARGUMENT: You must feed a value for placeholder tensor 'Placeholder/_1' with dtype float and shape [725,1]\n",
      "\t [[{{node Placeholder/_1}}]]\n"
     ]
    },
    {
     "ename": "InvalidArgumentError",
     "evalue": "cannot compute Pow as input #1(zero-based) was expected to be a int32 tensor but is a double tensor [Op:Pow]",
     "output_type": "error",
     "traceback": [
      "\u001b[0;31m---------------------------------------------------------------------------\u001b[0m",
      "\u001b[0;31mInvalidArgumentError\u001b[0m                      Traceback (most recent call last)",
      "Cell \u001b[0;32mIn[8], line 4\u001b[0m\n\u001b[1;32m      1\u001b[0m \u001b[38;5;66;03m# Initialize and train the model\u001b[39;00m\n\u001b[1;32m      3\u001b[0m model \u001b[38;5;241m=\u001b[39m LstmModel(input_shape, lstm_layers\u001b[38;5;241m=\u001b[39m\u001b[38;5;241m3\u001b[39m, no_units\u001b[38;5;241m=\u001b[39m\u001b[38;5;241m2\u001b[39m,)\n\u001b[0;32m----> 4\u001b[0m trained_model, history \u001b[38;5;241m=\u001b[39m \u001b[43mtrain_and_evaluate\u001b[49m\u001b[43m(\u001b[49m\u001b[43mmodel\u001b[49m\u001b[43m,\u001b[49m\u001b[43m \u001b[49m\u001b[43mdataset_batched\u001b[49m\u001b[43m,\u001b[49m\u001b[43m \u001b[49m\u001b[43mepochs\u001b[49m\u001b[38;5;241;43m=\u001b[39;49m\u001b[38;5;241;43m20\u001b[39;49m\u001b[43m,\u001b[49m\u001b[43m \u001b[49m\u001b[43minitial_learning_rate\u001b[49m\u001b[38;5;241;43m=\u001b[39;49m\u001b[38;5;241;43m10\u001b[39;49m\u001b[43m)\u001b[49m\n",
      "File \u001b[0;32m~/inovation_project/2_gc-pipeline/serving/hist_training.py:106\u001b[0m, in \u001b[0;36mtrain_and_evaluate\u001b[0;34m(model, dataset, validation_split, epochs, initial_learning_rate, patience)\u001b[0m\n\u001b[1;32m    103\u001b[0m train_dataset \u001b[38;5;241m=\u001b[39m dataset\u001b[38;5;241m.\u001b[39mtake(train_size)\n\u001b[1;32m    104\u001b[0m val_dataset \u001b[38;5;241m=\u001b[39m dataset\u001b[38;5;241m.\u001b[39mskip(train_size)            \n\u001b[0;32m--> 106\u001b[0m history \u001b[38;5;241m=\u001b[39m \u001b[43mmodel\u001b[49m\u001b[38;5;241;43m.\u001b[39;49m\u001b[43mfit\u001b[49m\u001b[43m(\u001b[49m\n\u001b[1;32m    107\u001b[0m \u001b[43m    \u001b[49m\u001b[43mtrain_dataset\u001b[49m\u001b[43m,\u001b[49m\n\u001b[1;32m    108\u001b[0m \u001b[43m    \u001b[49m\u001b[43mvalidation_data\u001b[49m\u001b[38;5;241;43m=\u001b[39;49m\u001b[43mval_dataset\u001b[49m\u001b[43m,\u001b[49m\n\u001b[1;32m    109\u001b[0m \u001b[43m    \u001b[49m\u001b[43mepochs\u001b[49m\u001b[38;5;241;43m=\u001b[39;49m\u001b[43mepochs\u001b[49m\u001b[43m,\u001b[49m\n\u001b[1;32m    110\u001b[0m \u001b[43m    \u001b[49m\u001b[43mcallbacks\u001b[49m\u001b[38;5;241;43m=\u001b[39;49m\u001b[43m[\u001b[49m\u001b[43mearly_stopping\u001b[49m\u001b[43m,\u001b[49m\u001b[43m \u001b[49m\u001b[43mMLflowCallback\u001b[49m\u001b[43m(\u001b[49m\u001b[43m)\u001b[49m\u001b[43m]\u001b[49m\u001b[43m,\u001b[49m\n\u001b[1;32m    111\u001b[0m \u001b[43m    \u001b[49m\u001b[43mverbose\u001b[49m\u001b[38;5;241;43m=\u001b[39;49m\u001b[38;5;241;43m1\u001b[39;49m\n\u001b[1;32m    112\u001b[0m \u001b[43m\u001b[49m\u001b[43m)\u001b[49m\n\u001b[1;32m    114\u001b[0m \u001b[38;5;28;01mreturn\u001b[39;00m model, history\n",
      "File \u001b[0;32m/opt/conda/lib/python3.10/site-packages/keras/utils/traceback_utils.py:70\u001b[0m, in \u001b[0;36mfilter_traceback.<locals>.error_handler\u001b[0;34m(*args, **kwargs)\u001b[0m\n\u001b[1;32m     67\u001b[0m     filtered_tb \u001b[38;5;241m=\u001b[39m _process_traceback_frames(e\u001b[38;5;241m.\u001b[39m__traceback__)\n\u001b[1;32m     68\u001b[0m     \u001b[38;5;66;03m# To get the full stack trace, call:\u001b[39;00m\n\u001b[1;32m     69\u001b[0m     \u001b[38;5;66;03m# `tf.debugging.disable_traceback_filtering()`\u001b[39;00m\n\u001b[0;32m---> 70\u001b[0m     \u001b[38;5;28;01mraise\u001b[39;00m e\u001b[38;5;241m.\u001b[39mwith_traceback(filtered_tb) \u001b[38;5;28;01mfrom\u001b[39;00m \u001b[38;5;28;01mNone\u001b[39;00m\n\u001b[1;32m     71\u001b[0m \u001b[38;5;28;01mfinally\u001b[39;00m:\n\u001b[1;32m     72\u001b[0m     \u001b[38;5;28;01mdel\u001b[39;00m filtered_tb\n",
      "File \u001b[0;32m/opt/conda/lib/python3.10/site-packages/tensorflow/python/framework/ops.py:7262\u001b[0m, in \u001b[0;36mraise_from_not_ok_status\u001b[0;34m(e, name)\u001b[0m\n\u001b[1;32m   7260\u001b[0m \u001b[38;5;28;01mdef\u001b[39;00m \u001b[38;5;21mraise_from_not_ok_status\u001b[39m(e, name):\n\u001b[1;32m   7261\u001b[0m   e\u001b[38;5;241m.\u001b[39mmessage \u001b[38;5;241m+\u001b[39m\u001b[38;5;241m=\u001b[39m (\u001b[38;5;124m\"\u001b[39m\u001b[38;5;124m name: \u001b[39m\u001b[38;5;124m\"\u001b[39m \u001b[38;5;241m+\u001b[39m name \u001b[38;5;28;01mif\u001b[39;00m name \u001b[38;5;129;01mis\u001b[39;00m \u001b[38;5;129;01mnot\u001b[39;00m \u001b[38;5;28;01mNone\u001b[39;00m \u001b[38;5;28;01melse\u001b[39;00m \u001b[38;5;124m\"\u001b[39m\u001b[38;5;124m\"\u001b[39m)\n\u001b[0;32m-> 7262\u001b[0m   \u001b[38;5;28;01mraise\u001b[39;00m core\u001b[38;5;241m.\u001b[39m_status_to_exception(e) \u001b[38;5;28;01mfrom\u001b[39;00m \u001b[38;5;28;01mNone\u001b[39;00m\n",
      "\u001b[0;31mInvalidArgumentError\u001b[0m: cannot compute Pow as input #1(zero-based) was expected to be a int32 tensor but is a double tensor [Op:Pow]"
     ]
    }
   ],
   "source": [
    "# Initialize and train the model\n",
    "dataset_batched = dataset.batch(batch_size)\n",
    "\n",
    "model = LstmModel(input_shape, lstm_layers=3, no_units=2,)\n",
    "trained_model, history = train_and_evaluate(model, dataset_batched, epochs=20, initial_learning_rate=10)"
   ]
  },
  {
   "cell_type": "code",
   "execution_count": 30,
   "id": "1f6f956d-ca74-46df-8375-ce6865465031",
   "metadata": {
    "tags": []
   },
   "outputs": [
    {
     "data": {
      "image/png": "[encoded data removed]",
      "text/plain": [
       "<Figure size 1000x500 with 1 Axes>"
      ]
     },
     "metadata": {},
     "output_type": "display_data"
    }
   ],
   "source": [
    "plt.ion()\n",
    "plt.figure(figsize=(10, 5))\n",
    "plt.plot(history.history[\"loss\"], label=\"Training Loss\", color=\"blue\")\n",
    "plt.plot(history.history[\"val_loss\"], label=\"Validation Loss\", color=\"orange\")\n",
    "plt.title(\"Training and Validation Loss\")\n",
    "plt.xlabel(\"Epochs\")\n",
    "plt.ylabel(\"Loss\")\n",
    "plt.legend()\n",
    "plt.grid()\n",
    "plt.show()"
   ]
  },
  {
   "cell_type": "code",
   "execution_count": null,
   "id": "af11a9e8-2362-47b6-b39d-c41f7dce86c4",
   "metadata": {},
   "outputs": [],
   "source": []
  }
 ],
 "metadata": {
  "environment": {
   "kernel": "conda-base-py",
   "name": "workbench-notebooks.m125",
   "type": "gcloud",
   "uri": "us-docker.pkg.dev/deeplearning-platform-release/gcr.io/workbench-notebooks:m125"
  },
  "kernelspec": {
   "display_name": "Python 3 (ipykernel) (Local)",
   "language": "python",
   "name": "conda-base-py"
  },
  "language_info": {
   "codemirror_mode": {
    "name": "ipython",
    "version": 3
   },
   "file_extension": ".py",
   "mimetype": "text/x-python",
   "name": "python",
   "nbconvert_exporter": "python",
   "pygments_lexer": "ipython3",
   "version": "3.10.15"
  }
 },
 "nbformat": 4,
 "nbformat_minor": 5
}
