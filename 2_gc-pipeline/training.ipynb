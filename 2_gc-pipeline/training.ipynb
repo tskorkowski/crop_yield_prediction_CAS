{
 "cells": [
  {
   "cell_type": "code",
   "execution_count": 1,
   "id": "ea876282-7e0d-4a5e-be56-0b31f49f3992",
   "metadata": {
    "tags": []
   },
   "outputs": [],
   "source": [
    "# Setup\n",
    "!pip install --quiet --upgrade pip\n",
    "\n",
    "# Install the dependencies.\n",
    "!pip install --quiet -r requirements_tf.txt\n",
    "!pip install wandb -q\n",
    "!pip install opencv-python -q"
   ]
  },
  {
   "cell_type": "code",
   "execution_count": 5,
   "id": "0ad4ba6a-3c38-42f3-bae1-321f334c0fd8",
   "metadata": {
    "tags": []
   },
   "outputs": [],
   "source": [
    "# Restart the runtime by ending the process\n",
    "exit()"
   ]
  },
  {
   "cell_type": "code",
   "execution_count": 1,
   "id": "e5d9bc1e-c419-4350-a556-1a76cb21ab39",
   "metadata": {
    "tags": []
   },
   "outputs": [],
   "source": [
    "import os\n",
    "import matplotlib.pyplot as plt\n",
    "\n",
    "\n",
    "os.environ['TF_CPP_MIN_LOG_LEVEL'] = '3'  # 0 = all messages, 1 = INFO, 2 = WARNING, 3 = ERROR\n",
    "import numpy as np\n",
    "import pandas as pd\n",
    "import tensorflow as tf\n",
    "from google.cloud import storage\n",
    "import google.auth\n",
    "from importlib import reload\n",
    "from serving.constants import  BUCKET, IMG_SOURCE_PREFIX, HIST_DEST_PREFIX, HIST_BINS_LIST, SCALE, CROP, MONTHS, IMAGE_BATCH, NUM_BINS, MAP_NAN, NORMALIZE, LABELS_PATH, HEADER_PATH, SELECTED_BANDS\n",
    "from serving.common import list_blobs_with_prefix\n",
    "from serving.hist_training import create_data_sample, get_labels, LstmModel, TimeDependentDenseLstmModel, pen_low_lenient_high_loss #, load_dataset_from_gcp, save_dataset_to_gcp, create_hist_dataset\n",
    "from serving.data import check_blob_prefix_exists, batch_check_blobs, get_varied_labels, check_blob_exists\n",
    "import logging\n",
    "import io\n",
    "import itertools\n",
    "import time\n",
    "\n",
    "from keras.layers import LSTM, Dense, Dropout, Input\n",
    "from tensorflow.keras.optimizers import Adam, Nadam, RMSprop\n",
    "\n",
    "from tensorflow.keras.models import Model\n",
    "from tensorflow.keras.callbacks import EarlyStopping\n",
    "\n",
    "import matplotlib.pyplot as plt\n",
    "\n",
    "import wandb\n",
    "from google.cloud import secretmanager\n",
    "\n",
    "tf.config.run_functions_eagerly(True)"
   ]
  },
  {
   "cell_type": "code",
   "execution_count": 2,
   "id": "7c83aac7-7acf-435f-8cc9-e24d51bf3a5b",
   "metadata": {
    "tags": []
   },
   "outputs": [],
   "source": [
    "# SETUP\n",
    "\n",
    "# Create the Secret Manager client\n",
    "client = secretmanager.SecretManagerServiceClient()\n",
    "\n",
    "# Define the secret name and version\n",
    "secret_name = \"projects/1038596154733/secrets/wandb/versions/1\"\n",
    "\n",
    "# Access the secret\n",
    "response = client.access_secret_version(name=secret_name)\n",
    "secret_value = response.payload.data.decode('UTF-8')\n",
    "\n",
    "#####\n",
    "CREATE_DATASET = False\n",
    "#####\n",
    "\n",
    "start_time = time.perf_counter()\n",
    "credentials, _ = google.auth.default()\n",
    "bucket_name = BUCKET\n",
    "directory_prefix = IMG_SOURCE_PREFIX\n",
    "output_prefix = HIST_DEST_PREFIX\n",
    "labels_data = \"labels_combined.npy\"\n",
    "labels_header = \"labels_header.npy\"\n",
    "months = MONTHS\n",
    "map_nan = MAP_NAN\n",
    "normalize = NORMALIZE\n",
    "num_bins = NUM_BINS\n",
    "client = storage.Client()\n",
    "bucket = client.get_bucket(bucket_name)\n",
    "\n",
    "\n",
    "batch_size = 20\n",
    "img_range =  {\"count_start\":0,\n",
    "              \"no_records\":1000,\n",
    "             \"ascending\": False}"
   ]
  },
  {
   "cell_type": "code",
   "execution_count": 3,
   "id": "4c169a57-024a-4728-8ef0-24735f08f36e",
   "metadata": {
    "tags": []
   },
   "outputs": [],
   "source": [
    "\n",
    "def save_dataset_to_gcp(\n",
    "    dataset, labels, bucket_name=\"vgnn\", directory=\"dataset\"\n",
    "):\n",
    "    # Initialize GCP client\n",
    "    client = storage.Client()\n",
    "    bucket = client.bucket(bucket_name)\n",
    "\n",
    "    buffer = io.BytesIO()\n",
    "    np.save(buffer, labels)\n",
    "    buffer.seek(0)\n",
    "    \n",
    "    destination_blob_name = f\"{directory}/labels.npy\"\n",
    "    blob = bucket.blob(destination_blob_name)\n",
    "    blob.upload_from_file(buffer, content_type=\"application/octet-stream\")\n",
    "    print(\"Labels uploaded to GCS successfully!\")\n",
    "    \n",
    "    buffer = io.BytesIO()\n",
    "    np.save(buffer, dataset)\n",
    "    buffer.seek(0)\n",
    "    \n",
    "    destination_blob_name = f\"{directory}/dataset.npy\"\n",
    "    blob = bucket.blob(destination_blob_name)\n",
    "    blob.upload_from_file(buffer, content_type=\"application/octet-stream\")\n",
    "    print(\"Dataset uploaded to GCS successfully!\")    \n",
    "\n",
    "    print(f\"Dataset saved to gs://{bucket_name}/{directory}\")    \n",
    "    \n",
    "def load_dataset_from_gcp(bucket_name=\"vgnn\", directory=\"dataset\"\n",
    "):\n",
    "    # Initialize GCP client\n",
    "    client = storage.Client()\n",
    "    bucket = client.bucket(bucket_name)    \n",
    "    blob_name = f\"{directory}/labels.npy\"\n",
    "    blob = bucket.blob(blob_name)\n",
    "    \n",
    "    buffer = io.BytesIO()\n",
    "    blob.download_to_file(buffer)\n",
    "    buffer.seek(0)\n",
    "\n",
    "    labels = np.load(buffer)\n",
    "    \n",
    "    blob_name = f\"{directory}/dataset.npy\"\n",
    "    blob = bucket.blob(blob_name)\n",
    "    \n",
    "    buffer = io.BytesIO()\n",
    "    blob.download_to_file(buffer)\n",
    "    buffer.seek(0)\n",
    "\n",
    "    histogram = np.load(buffer)\n",
    "    \n",
    "    # Create TensorFlow tensors\n",
    "    histogram_tensor = tf.convert_to_tensor(histogram, dtype=tf.float32)\n",
    "    label_tensor = tf.convert_to_tensor(labels, dtype=tf.float32)\n",
    "\n",
    "    # Create a TensorFlow dataset\n",
    "    dataset = tf.data.Dataset.from_tensor_slices((histogram_tensor, label_tensor))    \n",
    "\n",
    "    return dataset, histogram.shape"
   ]
  },
  {
   "cell_type": "code",
   "execution_count": 4,
   "id": "018b6e62-1543-447a-a8ec-2d1036294639",
   "metadata": {
    "tags": []
   },
   "outputs": [],
   "source": [
    "def create_hist_dataset(\n",
    "    hist_list: list,\n",
    "    labels_path: str = LABELS_PATH,\n",
    "    header_path: str = HEADER_PATH,\n",
    "    num_bins=NUM_BINS,\n",
    "    num_bands=len(HIST_BINS_LIST),\n",
    "    map_nan=MAP_NAN,\n",
    "    normalize=NORMALIZE\n",
    ") -> tf.data.Dataset:\n",
    "\n",
    "    logging.basicConfig(\n",
    "        filename=f\"crate_dataset.log\",\n",
    "        level=logging.INFO,\n",
    "        format=\"%(asctime)s - %(levelname)s - %(message)s\",\n",
    "    )\n",
    "\n",
    "    def combine_lists(a: list, b: list):\n",
    "        for array in b:\n",
    "            assert isinstance(\n",
    "                array, np.ndarray\n",
    "            ), f\"type of histogram is not numpy nd array: {type(list)}\"\n",
    "        return a + b\n",
    "\n",
    "    client = storage.Client()\n",
    "    bucket = client.get_bucket(BUCKET)\n",
    "\n",
    "    hist_name_base = f\"{HIST_DEST_PREFIX}\"\n",
    "    histograms = []\n",
    "    labels = []\n",
    "    \n",
    "    label_df = get_labels(labels_path, header_path)\n",
    "\n",
    "    zeros = 0\n",
    "    skip = 0\n",
    "    for combination in hist_list:\n",
    "        county, fips, year = combination\n",
    "\n",
    "        try:\n",
    "            label = float(\n",
    "                label_df.loc[\n",
    "                    (label_df[\"county_name\"] == county.upper())\n",
    "                    & (label_df[\"year\"] == year)\n",
    "                    & (label_df[\"state_ansi\"] == fips),\n",
    "                    \"target\",\n",
    "                ].iloc[0]\n",
    "            )\n",
    "        except IndexError:\n",
    "            logging.info(\n",
    "                \"County {} in {} does not exist in ground truth data. This histogram will be ignored\".format(\n",
    "                    county.upper(), year\n",
    "                )\n",
    "            )\n",
    "            skip += 1\n",
    "            continue\n",
    "\n",
    "        zero_count = 0\n",
    "        hist_by_year = []\n",
    "        for month in MONTHS:\n",
    "            file_name = f\"{hist_name_base}/nan_map_{map_nan}/norm_{normalize}/{num_bins}_buckets_{num_bands}_bands/{SCALE}/{county.capitalize()}_{fips}/{year}/{month}-{month+1}.npy\"\n",
    "            hist_blob = bucket.blob(file_name)\n",
    "\n",
    "            if hist_blob.exists():\n",
    "                content = hist_blob.download_as_bytes()\n",
    "                binary_data = io.BytesIO(content)\n",
    "                array = np.load(binary_data)\n",
    "                norm_sum = np.sum(array)\n",
    "                array_norm = array / norm_sum\n",
    "            else:\n",
    "                logging.info(\n",
    "                    \"County {}_{} in {} and month {} does not exist in the histogram set. Zero will be used instead\".format(\n",
    "                        county.upper(), fips, year, month\n",
    "                    )\n",
    "                )\n",
    "                array = np.zeros(num_bins * num_bands)\n",
    "                zero_count += 1\n",
    "\n",
    "            hist_by_year.append(array_norm)\n",
    "\n",
    "        if zero_count > 1:\n",
    "            skip += 1\n",
    "            continue\n",
    "\n",
    "        zeros += zero_count\n",
    "        histograms = combine_lists(histograms, hist_by_year)\n",
    "        labels.append(label)\n",
    "\n",
    "    # Convert lists to numpy arrays\n",
    "    histograms_np = np.array(histograms, dtype=np.float32)\n",
    "    labels_np = np.array(labels, dtype=np.float32)\n",
    "\n",
    "    # Reshape the histograms array\n",
    "    reshaped_histograms = histograms_np.reshape(-1, len(MONTHS), num_bins * num_bands)\n",
    "\n",
    "    # Ensure labels are 2D\n",
    "    labels_np = labels_np.reshape(-1, 1)\n",
    "\n",
    "    print(f\"Reshaped histograms shape: {reshaped_histograms.shape}\")\n",
    "    print(f\"Labels shape: {labels_np.shape}\")\n",
    "    print(f\"Number of filtered combinations: {skip}\")\n",
    "    print(f\"Number of missing histograms replaced by zeros: {zeros}\")\n",
    "\n",
    "    assert (\n",
    "        reshaped_histograms.shape[0] == len(hist_list) - skip\n",
    "    ), \"Something went wrong when aggregating training data\"\n",
    "\n",
    "    # Create TensorFlow tensors\n",
    "    histogram_tensor = tf.convert_to_tensor(reshaped_histograms, dtype=tf.float32)\n",
    "    label_tensor = tf.convert_to_tensor(labels_np, dtype=tf.float32)\n",
    "\n",
    "    # Create a TensorFlow dataset\n",
    "    dataset = tf.data.Dataset.from_tensor_slices((histogram_tensor, label_tensor))\n",
    "\n",
    "    return dataset, reshaped_histograms.shape, reshaped_histograms, labels_np"
   ]
  },
  {
   "cell_type": "code",
   "execution_count": 51,
   "id": "8cfcac68-58ca-4b85-9ac5-5fd97d9f5476",
   "metadata": {
    "tags": []
   },
   "outputs": [
    {
     "name": "stdout",
     "output_type": "stream",
     "text": [
      "directory: dataset/nan_map_True/norm_True/60_buckets_3_bands/60\n",
      "Number of items to process: 816\n",
      "Collecting dataset information: 175.95459116100028\n",
      "Reshaped histograms shape: (815, 3, 180)\n",
      "Labels shape: (815, 1)\n",
      "Number of filtered combinations: 1\n",
      "Number of missing histograms replaced by zeros: 3\n",
      "Building dataset: 5.6 minutes\n",
      "Labels uploaded to GCS successfully!\n",
      "Dataset uploaded to GCS successfully!\n",
      "Dataset saved to gs://vgnn/dataset/nan_map_True/norm_True/60_buckets_3_bands/60\n",
      "Dataset created\n",
      "dataset/nan_map_True/norm_True/60_buckets_3_bands/60/dataset.tfrecords\n",
      "directory: dataset/nan_map_True/norm_True/60_buckets_9_bands/60\n",
      "Number of items to process: 816\n",
      "Collecting dataset information: 176.80067308999787\n",
      "Reshaped histograms shape: (815, 3, 540)\n",
      "Labels shape: (815, 1)\n",
      "Number of filtered combinations: 1\n",
      "Number of missing histograms replaced by zeros: 3\n",
      "Building dataset: 5.6 minutes\n",
      "Labels uploaded to GCS successfully!\n",
      "Dataset uploaded to GCS successfully!\n",
      "Dataset saved to gs://vgnn/dataset/nan_map_True/norm_True/60_buckets_9_bands/60\n",
      "Dataset created\n",
      "dataset/nan_map_True/norm_True/60_buckets_9_bands/60/dataset.tfrecords\n"
     ]
    }
   ],
   "source": [
    "num_buckets_list = [60, 60]\n",
    "num_bands_list = [3, 9]\n",
    "for num_bins, num_bands in zip(num_buckets_list, num_bands_list):\n",
    "    directory = f\"dataset/nan_map_{map_nan}/norm_{normalize}/{num_bins}_buckets_{num_bands}_bands/{SCALE}\"\n",
    "    print(f\"directory: {directory}\")\n",
    "    file_name =  \"dataset.tfrecords\" # \"hist_dataset_medium\" # \n",
    "    CREATE_DATASET = True\n",
    "\n",
    "    if CREATE_DATASET:\n",
    "        # Generate all prefixes\n",
    "        start_time = time.perf_counter()\n",
    "\n",
    "        labels_df = get_varied_labels(**img_range)\n",
    "        labels = list(zip(labels_df[\"county_name\"],\n",
    "                          labels_df[\"county_ansi\"],\n",
    "                     labels_df[\"state_ansi\"],\n",
    "                     labels_df[\"year\"]))\n",
    "\n",
    "\n",
    "        prefixes_hist = [f'histograms/nan_map_{map_nan}/norm_{normalize}/{num_bins}_buckets_{num_bands}_bands/{SCALE}/{county.capitalize()}_{fips}/{year}' \n",
    "                    for county,_, fips, year in labels\n",
    "                        for month in months]\n",
    "\n",
    "        # Batch check all prefixes\n",
    "        results_hist = batch_check_blobs(bucket_name, prefixes_hist)\n",
    "\n",
    "        # Generate get_input_img_params based on results\n",
    "        get_input_img_params = [(county.capitalize(), fips, year)\n",
    "                    for county, county_fips, fips, year in labels\n",
    "                    if results_hist[f'histograms/nan_map_{map_nan}/norm_{normalize}/{num_bins}_buckets_{num_bands}_bands/{SCALE}/{county.capitalize()}_{fips}/{year}']\n",
    "        ]\n",
    "\n",
    "        print(f\"Number of items to process: {len(get_input_img_params)}\")\n",
    "\n",
    "        end_time_dataset_info = time.perf_counter()\n",
    "        print(f\"Collecting dataset information: {end_time_dataset_info-start_time}\")\n",
    "\n",
    "        dataset, dataset_shape, hist_npy, labels_npy = create_hist_dataset(get_input_img_params, \"labels_combined.npy\", \"labels_header.npy\", num_bins=num_bins, num_bands=num_bands)\n",
    "        end_time_dataset = time.perf_counter()\n",
    "\n",
    "        print(f\"Building dataset: {(end_time_dataset - end_time_dataset_info)/60:.02} minutes\")\n",
    "\n",
    "        # Save dataset\n",
    "        save_dataset_to_gcp(hist_npy, labels_npy, directory=directory)\n",
    "        print(\"Dataset created\")\n",
    "        print(directory,file_name,sep=\"/\")\n",
    "        CREATE_DATASET = False\n",
    "    else:\n",
    "\n",
    "        dataset, dataset_shape = load_dataset_from_gcp(directory=directory)\n",
    "        print(\"Dataset loaded\")\n",
    "\n",
    "    input_shape = dataset_shape[1:]"
   ]
  },
  {
   "cell_type": "code",
   "execution_count": 7,
   "id": "f0a26a19-410d-4e78-8e7c-ead300283a65",
   "metadata": {
    "tags": []
   },
   "outputs": [
    {
     "data": {
      "text/html": [
       "<div>\n",
       "<style scoped>\n",
       "    .dataframe tbody tr th:only-of-type {\n",
       "        vertical-align: middle;\n",
       "    }\n",
       "\n",
       "    .dataframe tbody tr th {\n",
       "        vertical-align: top;\n",
       "    }\n",
       "\n",
       "    .dataframe thead th {\n",
       "        text-align: right;\n",
       "    }\n",
       "</style>\n",
       "<table border=\"1\" class=\"dataframe\">\n",
       "  <thead>\n",
       "    <tr style=\"text-align: right;\">\n",
       "      <th></th>\n",
       "      <th>commodity_desc</th>\n",
       "      <th>reference_period_desc</th>\n",
       "      <th>year</th>\n",
       "      <th>state_ansi</th>\n",
       "      <th>state_name</th>\n",
       "      <th>county_ansi</th>\n",
       "      <th>county_name</th>\n",
       "      <th>target</th>\n",
       "      <th>source_file</th>\n",
       "    </tr>\n",
       "  </thead>\n",
       "  <tbody>\n",
       "    <tr>\n",
       "      <th>1122</th>\n",
       "      <td>CORN</td>\n",
       "      <td>YEAR</td>\n",
       "      <td>2016</td>\n",
       "      <td>39</td>\n",
       "      <td>OHIO</td>\n",
       "      <td>171</td>\n",
       "      <td>WILLIAMS</td>\n",
       "      <td>169.1</td>\n",
       "      <td>USDA_Corn_County_2016.csv</td>\n",
       "    </tr>\n",
       "    <tr>\n",
       "      <th>2619</th>\n",
       "      <td>CORN</td>\n",
       "      <td>YEAR</td>\n",
       "      <td>2017</td>\n",
       "      <td>39</td>\n",
       "      <td>OHIO</td>\n",
       "      <td>171</td>\n",
       "      <td>WILLIAMS</td>\n",
       "      <td>167.3</td>\n",
       "      <td>USDA_Corn_County_2017.csv</td>\n",
       "    </tr>\n",
       "    <tr>\n",
       "      <th>3994</th>\n",
       "      <td>CORN</td>\n",
       "      <td>YEAR</td>\n",
       "      <td>2018</td>\n",
       "      <td>39</td>\n",
       "      <td>OHIO</td>\n",
       "      <td>171</td>\n",
       "      <td>WILLIAMS</td>\n",
       "      <td>182.0</td>\n",
       "      <td>USDA_Corn_County_2018.csv</td>\n",
       "    </tr>\n",
       "    <tr>\n",
       "      <th>5275</th>\n",
       "      <td>CORN</td>\n",
       "      <td>YEAR</td>\n",
       "      <td>2019</td>\n",
       "      <td>39</td>\n",
       "      <td>OHIO</td>\n",
       "      <td>171</td>\n",
       "      <td>WILLIAMS</td>\n",
       "      <td>156.3</td>\n",
       "      <td>USDA_Corn_County_2019.csv</td>\n",
       "    </tr>\n",
       "    <tr>\n",
       "      <th>6845</th>\n",
       "      <td>CORN</td>\n",
       "      <td>YEAR</td>\n",
       "      <td>2020</td>\n",
       "      <td>39</td>\n",
       "      <td>OHIO</td>\n",
       "      <td>171</td>\n",
       "      <td>WILLIAMS</td>\n",
       "      <td>143.9</td>\n",
       "      <td>USDA_Corn_County_2020.csv</td>\n",
       "    </tr>\n",
       "    <tr>\n",
       "      <th>8274</th>\n",
       "      <td>CORN</td>\n",
       "      <td>YEAR</td>\n",
       "      <td>2021</td>\n",
       "      <td>38</td>\n",
       "      <td>NORTH DAKOTA</td>\n",
       "      <td>105</td>\n",
       "      <td>WILLIAMS</td>\n",
       "      <td>58.0</td>\n",
       "      <td>USDA_Corn_County_2021.csv</td>\n",
       "    </tr>\n",
       "    <tr>\n",
       "      <th>8350</th>\n",
       "      <td>CORN</td>\n",
       "      <td>YEAR</td>\n",
       "      <td>2021</td>\n",
       "      <td>39</td>\n",
       "      <td>OHIO</td>\n",
       "      <td>171</td>\n",
       "      <td>WILLIAMS</td>\n",
       "      <td>189.5</td>\n",
       "      <td>USDA_Corn_County_2021.csv</td>\n",
       "    </tr>\n",
       "    <tr>\n",
       "      <th>9884</th>\n",
       "      <td>CORN</td>\n",
       "      <td>YEAR</td>\n",
       "      <td>2022</td>\n",
       "      <td>39</td>\n",
       "      <td>OHIO</td>\n",
       "      <td>171</td>\n",
       "      <td>WILLIAMS</td>\n",
       "      <td>187.9</td>\n",
       "      <td>USDA_Corn_County_2022.csv</td>\n",
       "    </tr>\n",
       "  </tbody>\n",
       "</table>\n",
       "</div>"
      ],
      "text/plain": [
       "     commodity_desc reference_period_desc  year state_ansi    state_name  \\\n",
       "1122           CORN                  YEAR  2016         39          OHIO   \n",
       "2619           CORN                  YEAR  2017         39          OHIO   \n",
       "3994           CORN                  YEAR  2018         39          OHIO   \n",
       "5275           CORN                  YEAR  2019         39          OHIO   \n",
       "6845           CORN                  YEAR  2020         39          OHIO   \n",
       "8274           CORN                  YEAR  2021         38  NORTH DAKOTA   \n",
       "8350           CORN                  YEAR  2021         39          OHIO   \n",
       "9884           CORN                  YEAR  2022         39          OHIO   \n",
       "\n",
       "     county_ansi county_name target                source_file  \n",
       "1122         171    WILLIAMS  169.1  USDA_Corn_County_2016.csv  \n",
       "2619         171    WILLIAMS  167.3  USDA_Corn_County_2017.csv  \n",
       "3994         171    WILLIAMS  182.0  USDA_Corn_County_2018.csv  \n",
       "5275         171    WILLIAMS  156.3  USDA_Corn_County_2019.csv  \n",
       "6845         171    WILLIAMS  143.9  USDA_Corn_County_2020.csv  \n",
       "8274         105    WILLIAMS   58.0  USDA_Corn_County_2021.csv  \n",
       "8350         171    WILLIAMS  189.5  USDA_Corn_County_2021.csv  \n",
       "9884         171    WILLIAMS  187.9  USDA_Corn_County_2022.csv  "
      ]
     },
     "execution_count": 7,
     "metadata": {},
     "output_type": "execute_result"
    }
   ],
   "source": [
    "# Sample labels\n",
    "label_data = np.load(labels_data, allow_pickle=True)\n",
    "label_header = np.load(labels_header, allow_pickle=True)\n",
    "label_df = pd.DataFrame(label_data, columns=label_header)\n",
    "label_df[label_df[\"county_name\"]=='Williams'.upper()]"
   ]
  },
  {
   "cell_type": "code",
   "execution_count": null,
   "id": "62f60252-b485-45af-a105-7ffab5d1d45f",
   "metadata": {
    "tags": []
   },
   "outputs": [],
   "source": [
    "train_dataset"
   ]
  },
  {
   "cell_type": "code",
   "execution_count": 5,
   "id": "559b4228-2564-432d-be9a-5a99fca06d8f",
   "metadata": {
    "tags": []
   },
   "outputs": [
    {
     "name": "stdout",
     "output_type": "stream",
     "text": [
      "Dataset shape: (815, 3, 36)\n",
      "Input_shpae: (3, 36)\n",
      "Train size: 40 \n",
      "Validation size: 7\n",
      "Data sets have been setup\n"
     ]
    }
   ],
   "source": [
    "map_nan = True\n",
    "normalize = True\n",
    "# Get dataset for testing\n",
    "num_bins, num_bands = (12, 3)\n",
    "directory = f\"dataset/nan_map_{map_nan}/norm_{normalize}/{num_bins}_buckets_{num_bands}_bands/{SCALE}\"\n",
    "dataset, dataset_shape = load_dataset_from_gcp(directory=directory)\n",
    "input_shape = dataset_shape[1:]\n",
    "\n",
    "print(f\"Dataset shape: {dataset_shape}\", f\"Input_shpae: {input_shape}\", sep=\"\\n\")\n",
    "\n",
    "# Train test split\n",
    "test_train_split = 0.8\n",
    "train_size = int(dataset_shape[0] * test_train_split / 16)\n",
    "val_size = int(train_size * (1-test_train_split))\n",
    "\n",
    "dataset_batched = dataset.batch(16, drop_remainder=True)\n",
    "test_dataset = dataset_batched.skip(train_size)\n",
    "train_dataset = dataset_batched.take(train_size)\n",
    "\n",
    "train_dataset = train_dataset.shuffle(buffer_size=10000)\n",
    "print(f\"Train size: {train_size} \\nValidation size: {val_size}\")\n",
    "print(\"Data sets have been setup\")"
   ]
  },
  {
   "cell_type": "code",
   "execution_count": null,
   "id": "483bad5e-88b0-4143-8211-81a5fdc58af2",
   "metadata": {
    "tags": []
   },
   "outputs": [],
   "source": [
    "wandb.init(\n",
    "        # set the wandb project where this run will be logged\n",
    "        project=\"blue-marble\")\n",
    "\n",
    "model = TimeDependentDenseLstmModel(input_shape = input_shape,\n",
    "                                lstm_layers = 3,\n",
    "                                dense_layers_per_step = 35,\n",
    "                                no_units = 15,\n",
    "                                val_size = val_size,\n",
    "                                dropout_rate = 0.4,\n",
    "                                kernel_initializer = tf.keras.initializers.HeNormal(seed=42))\n",
    "model.compile(optimizer= \"rms\",\n",
    "              learning_rate = 0.0075,\n",
    "              loss=pen_low_lenient_high_loss)\n",
    "\n",
    "print(\"Model compiled\")\n",
    "\n",
    "history = model.fit(train_dataset, epochs=1)"
   ]
  },
  {
   "cell_type": "code",
   "execution_count": 8,
   "id": "93d52fb3-2ceb-417d-a24a-bd212085deb1",
   "metadata": {
    "tags": []
   },
   "outputs": [
    {
     "data": {
      "text/plain": [
       "'6a41c5a7d5d063e33b4bea24275d0b3d7afd3865'"
      ]
     },
     "execution_count": 8,
     "metadata": {},
     "output_type": "execute_result"
    }
   ],
   "source": [
    "secret_value"
   ]
  },
  {
   "cell_type": "code",
   "execution_count": 5,
   "id": "114b8ba0-abb2-4797-8836-2b52d7666743",
   "metadata": {
    "tags": []
   },
   "outputs": [
    {
     "name": "stderr",
     "output_type": "stream",
     "text": [
      "Failed to detect the name of this notebook, you can set it manually with the WANDB_NOTEBOOK_NAME environment variable to enable code saving.\n",
      "\u001b[34m\u001b[1mwandb\u001b[0m: Using wandb-core as the SDK backend. Please refer to https://wandb.me/wandb-core for more information.\n",
      "\u001b[34m\u001b[1mwandb\u001b[0m: Currently logged in as: \u001b[33mt-skorkowski\u001b[0m. Use \u001b[1m`wandb login --relogin`\u001b[0m to force relogin\n"
     ]
    },
    {
     "data": {
      "text/plain": [
       "True"
      ]
     },
     "execution_count": 5,
     "metadata": {},
     "output_type": "execute_result"
    }
   ],
   "source": [
    "wandb.login()"
   ]
  },
  {
   "cell_type": "code",
   "execution_count": null,
   "id": "f31af197-7ed6-478b-b029-ced407ba9169",
   "metadata": {
    "tags": []
   },
   "outputs": [
    {
     "name": "stderr",
     "output_type": "stream",
     "text": [
      "Failed to detect the name of this notebook, you can set it manually with the WANDB_NOTEBOOK_NAME environment variable to enable code saving.\n"
     ]
    },
    {
     "name": "stdout",
     "output_type": "stream",
     "text": [
      "Create sweep with ID: xvdx243l\n",
      "Sweep URL: https://wandb.ai/t-skorkowski/blue-marble/sweeps/xvdx243l\n"
     ]
    },
    {
     "name": "stderr",
     "output_type": "stream",
     "text": [
      "\u001b[34m\u001b[1mwandb\u001b[0m: Agent Starting Run: ezhnfqsa with config:\n",
      "\u001b[34m\u001b[1mwandb\u001b[0m: \tbatch_size: 32\n",
      "\u001b[34m\u001b[1mwandb\u001b[0m: \tdense_layers_per_step: 10\n",
      "\u001b[34m\u001b[1mwandb\u001b[0m: \tdropout_rate: 0.3\n",
      "\u001b[34m\u001b[1mwandb\u001b[0m: \tepochs: 20\n",
      "\u001b[34m\u001b[1mwandb\u001b[0m: \tkernel_initializer: 0\n",
      "\u001b[34m\u001b[1mwandb\u001b[0m: \tlr: 0.09975219605039531\n",
      "\u001b[34m\u001b[1mwandb\u001b[0m: \tlstm_layers_units: [0, 0]\n",
      "\u001b[34m\u001b[1mwandb\u001b[0m: \tnum_bins_num_bands: [32, 9]\n",
      "\u001b[34m\u001b[1mwandb\u001b[0m: \toptimizer: adam\n",
      "Failed to detect the name of this notebook, you can set it manually with the WANDB_NOTEBOOK_NAME environment variable to enable code saving.\n",
      "\u001b[34m\u001b[1mwandb\u001b[0m: Currently logged in as: \u001b[33mt-skorkowski\u001b[0m. Use \u001b[1m`wandb login --relogin`\u001b[0m to force relogin\n"
     ]
    },
    {
     "data": {
      "text/html": [
       "Tracking run with wandb version 0.18.5"
      ],
      "text/plain": [
       "<IPython.core.display.HTML object>"
      ]
     },
     "metadata": {},
     "output_type": "display_data"
    },
    {
     "data": {
      "text/html": [
       "Run data is saved locally in <code>/home/jupyter/inovation_project/2_gc-pipeline/wandb/run-20241029_022018-ezhnfqsa</code>"
      ],
      "text/plain": [
       "<IPython.core.display.HTML object>"
      ]
     },
     "metadata": {},
     "output_type": "display_data"
    },
    {
     "data": {
      "text/html": [
       "Syncing run <strong><a href='https://wandb.ai/t-skorkowski/blue-marble/runs/ezhnfqsa' target=\"_blank\">elated-sweep-1</a></strong> to <a href='https://wandb.ai/t-skorkowski/blue-marble' target=\"_blank\">Weights & Biases</a> (<a href='https://wandb.me/run' target=\"_blank\">docs</a>)<br/>Sweep page: <a href='https://wandb.ai/t-skorkowski/blue-marble/sweeps/xvdx243l' target=\"_blank\">https://wandb.ai/t-skorkowski/blue-marble/sweeps/xvdx243l</a>"
      ],
      "text/plain": [
       "<IPython.core.display.HTML object>"
      ]
     },
     "metadata": {},
     "output_type": "display_data"
    },
    {
     "data": {
      "text/html": [
       " View project at <a href='https://wandb.ai/t-skorkowski/blue-marble' target=\"_blank\">https://wandb.ai/t-skorkowski/blue-marble</a>"
      ],
      "text/plain": [
       "<IPython.core.display.HTML object>"
      ]
     },
     "metadata": {},
     "output_type": "display_data"
    },
    {
     "data": {
      "text/html": [
       " View sweep at <a href='https://wandb.ai/t-skorkowski/blue-marble/sweeps/xvdx243l' target=\"_blank\">https://wandb.ai/t-skorkowski/blue-marble/sweeps/xvdx243l</a>"
      ],
      "text/plain": [
       "<IPython.core.display.HTML object>"
      ]
     },
     "metadata": {},
     "output_type": "display_data"
    },
    {
     "data": {
      "text/html": [
       " View run at <a href='https://wandb.ai/t-skorkowski/blue-marble/runs/ezhnfqsa' target=\"_blank\">https://wandb.ai/t-skorkowski/blue-marble/runs/ezhnfqsa</a>"
      ],
      "text/plain": [
       "<IPython.core.display.HTML object>"
      ]
     },
     "metadata": {},
     "output_type": "display_data"
    },
    {
     "name": "stdout",
     "output_type": "stream",
     "text": [
      "Dataset shape: (815, 3, 288)\n",
      "Input_shpae: (3, 288)\n",
      "Train size: 20 \n",
      "Validation size: 3\n",
      "Data sets have been setup\n",
      "Model has been defined\n",
      "Model compiled\n",
      "Epoch 1/20\n",
      "17/17 [==============================] - 2s 98ms/step - loss: 2039436148736.0000 - mae: 309288.1562 - val_loss: 29387.0957 - val_mae: 125.1952\n",
      "Epoch 2/20\n",
      "17/17 [==============================] - 2s 101ms/step - loss: 53321.8164 - mae: 124.1049 - val_loss: 9733.1982 - val_mae: 91.4488\n",
      "Epoch 3/20\n",
      "17/17 [==============================] - 2s 96ms/step - loss: 59635.5156 - mae: 133.6331 - val_loss: 12524.3271 - val_mae: 69.0042\n",
      "Epoch 4/20\n",
      "17/17 [==============================] - 2s 97ms/step - loss: 25260.1328 - mae: 111.2821 - val_loss: 15941.0420 - val_mae: 124.9837\n",
      "Epoch 5/20\n",
      "17/17 [==============================] - 2s 98ms/step - loss: 9534.2705 - mae: 64.6479 - val_loss: 11408.8408 - val_mae: 102.9929\n",
      "Epoch 6/20\n",
      "17/17 [==============================] - 2s 96ms/step - loss: 8884.6201 - mae: 71.8308 - val_loss: 6959.2124 - val_mae: 45.7827\n",
      "Epoch 7/20\n",
      "17/17 [==============================] - 2s 99ms/step - loss: 8928.9824 - mae: 67.0516 - val_loss: 273302.1250 - val_mae: 371.5966\n",
      "Epoch 8/20\n",
      "17/17 [==============================] - 2s 96ms/step - loss: 64693.6602 - mae: 132.9550 - val_loss: 12221.8350 - val_mae: 107.2965\n",
      "Epoch 9/20\n",
      "17/17 [==============================] - 2s 97ms/step - loss: 6969.5361 - mae: 62.0682 - val_loss: 2753.8274 - val_mae: 38.5075\n",
      "Epoch 10/20\n",
      "17/17 [==============================] - 2s 98ms/step - loss: 4236.2207 - mae: 44.6270 - val_loss: 27052.7031 - val_mae: 114.2537\n",
      "Epoch 11/20\n",
      "17/17 [==============================] - 2s 95ms/step - loss: 32658.8164 - mae: 118.9708 - val_loss: 11310.0654 - val_mae: 99.4022\n",
      "Epoch 12/20\n",
      "17/17 [==============================] - 2s 96ms/step - loss: 1243796.2500 - mae: 373.9881 - val_loss: 2655.8513 - val_mae: 39.6001\n",
      "Epoch 13/20\n",
      "17/17 [==============================] - 2s 96ms/step - loss: 5533.6709 - mae: 51.9802 - val_loss: 12722.8633 - val_mae: 103.4774\n",
      "Epoch 14/20\n",
      "17/17 [==============================] - 2s 97ms/step - loss: 10384.6533 - mae: 68.4665 - val_loss: 9079.9248 - val_mae: 59.4748\n",
      "Epoch 15/20\n",
      "17/17 [==============================] - 2s 97ms/step - loss: 77327.8125 - mae: 171.2464 - val_loss: 6420.3774 - val_mae: 74.8506\n",
      "Epoch 16/20\n",
      "17/17 [==============================] - 2s 97ms/step - loss: 23124.0254 - mae: 99.5910 - val_loss: 11405.6768 - val_mae: 102.0286\n",
      "Epoch 17/20\n",
      "17/17 [==============================] - 2s 95ms/step - loss: 261607.7656 - mae: 217.2353 - val_loss: 117521.6250 - val_mae: 135.5955\n",
      "Epoch 18/20\n",
      "17/17 [==============================] - 2s 98ms/step - loss: 51697.9727 - mae: 133.8488 - val_loss: 3845.5781 - val_mae: 41.7131\n",
      "Epoch 19/20\n",
      "17/17 [==============================] - 2s 97ms/step - loss: 6090.7383 - mae: 51.8291 - val_loss: 3722.9558 - val_mae: 40.8051\n",
      "Epoch 20/20\n",
      "17/17 [==============================] - 2s 96ms/step - loss: 162079440896.0000 - mae: 70322.9531 - val_loss: 2906.7781 - val_mae: 39.9585\n"
     ]
    },
    {
     "data": {
      "image/png": "[encoded data removed]",
      "text/plain": [
       "<Figure size 1200x400 with 1 Axes>"
      ]
     },
     "metadata": {},
     "output_type": "display_data"
    },
    {
     "name": "stdout",
     "output_type": "stream",
     "text": [
      "3/3 [==============================] - 0s 28ms/step - loss: 3302.0359 - mae: 44.2071\n"
     ]
    },
    {
     "name": "stderr",
     "output_type": "stream",
     "text": [
      "WARNING:absl:Found untraced functions such as call, _update_step_xla while saving (showing 2 of 2). These functions will not be directly callable after loading.\n"
     ]
    },
    {
     "name": "stdout",
     "output_type": "stream",
     "text": [
      "INFO:tensorflow:Assets written to: gs://vgnn/models/32_buckets_9-jovial-caramel-20241029-022019.tf/assets\n"
     ]
    },
    {
     "name": "stderr",
     "output_type": "stream",
     "text": [
      "INFO:tensorflow:Assets written to: gs://vgnn/models/32_buckets_9-jovial-caramel-20241029-022019.tf/assets\n"
     ]
    },
    {
     "data": {
      "text/html": [
       "<style>\n",
       "    table.wandb td:nth-child(1) { padding: 0 10px; text-align: left ; width: auto;} td:nth-child(2) {text-align: left ; width: 100%}\n",
       "    .wandb-row { display: flex; flex-direction: row; flex-wrap: wrap; justify-content: flex-start; width: 100% }\n",
       "    .wandb-col { display: flex; flex-direction: column; flex-basis: 100%; flex: 1; padding: 10px; }\n",
       "    </style>\n",
       "<div class=\"wandb-row\"><div class=\"wandb-col\"><h3>Run history:</h3><br/><table class=\"wandb\"><tr><td>epoch/epoch</td><td>▁▁▂▂▂▃▃▄▄▄▅▅▅▆▆▇▇▇██</td></tr><tr><td>epoch/learning_rate</td><td>▁▁▁▁▁▁▁▁▁▁▁▁▁▁▁▁▁▁▁▁</td></tr><tr><td>epoch/loss</td><td>█▁▁▁▁▁▁▁▁▁▁▁▁▁▁▁▁▁▁▂</td></tr><tr><td>epoch/mae</td><td>█▁▁▁▁▁▁▁▁▁▁▁▁▁▁▁▁▁▁▃</td></tr><tr><td>epoch/val_loss</td><td>▂▁▁▁▁▁█▁▁▂▁▁▁▁▁▁▄▁▁▁</td></tr><tr><td>epoch/val_mae</td><td>▃▂▂▃▂▁█▂▁▃▂▁▂▁▂▂▃▁▁▁</td></tr></table><br/></div><div class=\"wandb-col\"><h3>Run summary:</h3><br/><table class=\"wandb\"><tr><td>epoch/epoch</td><td>19</td></tr><tr><td>epoch/learning_rate</td><td>0.09975</td></tr><tr><td>epoch/loss</td><td>162079440896.0</td></tr><tr><td>epoch/mae</td><td>70322.95312</td></tr><tr><td>epoch/val_loss</td><td>2906.77808</td></tr><tr><td>epoch/val_mae</td><td>39.95851</td></tr></table><br/></div></div>"
      ],
      "text/plain": [
       "<IPython.core.display.HTML object>"
      ]
     },
     "metadata": {},
     "output_type": "display_data"
    },
    {
     "data": {
      "text/html": [
       " View run <strong style=\"color:#cdcd00\">elated-sweep-1</strong> at: <a href='https://wandb.ai/t-skorkowski/blue-marble/runs/ezhnfqsa' target=\"_blank\">https://wandb.ai/t-skorkowski/blue-marble/runs/ezhnfqsa</a><br/> View project at: <a href='https://wandb.ai/t-skorkowski/blue-marble' target=\"_blank\">https://wandb.ai/t-skorkowski/blue-marble</a><br/>Synced 5 W&B file(s), 0 media file(s), 0 artifact file(s) and 0 other file(s)"
      ],
      "text/plain": [
       "<IPython.core.display.HTML object>"
      ]
     },
     "metadata": {},
     "output_type": "display_data"
    },
    {
     "data": {
      "text/html": [
       "Find logs at: <code>./wandb/run-20241029_022018-ezhnfqsa/logs</code>"
      ],
      "text/plain": [
       "<IPython.core.display.HTML object>"
      ]
     },
     "metadata": {},
     "output_type": "display_data"
    },
    {
     "name": "stderr",
     "output_type": "stream",
     "text": [
      "\u001b[34m\u001b[1mwandb\u001b[0m: Agent Starting Run: tzhb9u8b with config:\n",
      "\u001b[34m\u001b[1mwandb\u001b[0m: \tbatch_size: 64\n",
      "\u001b[34m\u001b[1mwandb\u001b[0m: \tdense_layers_per_step: 17\n",
      "\u001b[34m\u001b[1mwandb\u001b[0m: \tdropout_rate: 0.1\n",
      "\u001b[34m\u001b[1mwandb\u001b[0m: \tepochs: 20\n",
      "\u001b[34m\u001b[1mwandb\u001b[0m: \tkernel_initializer: 0\n",
      "\u001b[34m\u001b[1mwandb\u001b[0m: \tlr: 0.04730764703095722\n",
      "\u001b[34m\u001b[1mwandb\u001b[0m: \tlstm_layers_units: [3, 5]\n",
      "\u001b[34m\u001b[1mwandb\u001b[0m: \tnum_bins_num_bands: [12, 3]\n",
      "\u001b[34m\u001b[1mwandb\u001b[0m: \toptimizer: nadam\n",
      "Failed to detect the name of this notebook, you can set it manually with the WANDB_NOTEBOOK_NAME environment variable to enable code saving.\n"
     ]
    },
    {
     "data": {
      "text/html": [
       "Tracking run with wandb version 0.18.5"
      ],
      "text/plain": [
       "<IPython.core.display.HTML object>"
      ]
     },
     "metadata": {},
     "output_type": "display_data"
    },
    {
     "data": {
      "text/html": [
       "Run data is saved locally in <code>/home/jupyter/inovation_project/2_gc-pipeline/wandb/run-20241029_022109-tzhb9u8b</code>"
      ],
      "text/plain": [
       "<IPython.core.display.HTML object>"
      ]
     },
     "metadata": {},
     "output_type": "display_data"
    },
    {
     "data": {
      "text/html": [
       "Syncing run <strong><a href='https://wandb.ai/t-skorkowski/blue-marble/runs/tzhb9u8b' target=\"_blank\">eager-sweep-2</a></strong> to <a href='https://wandb.ai/t-skorkowski/blue-marble' target=\"_blank\">Weights & Biases</a> (<a href='https://wandb.me/run' target=\"_blank\">docs</a>)<br/>Sweep page: <a href='https://wandb.ai/t-skorkowski/blue-marble/sweeps/xvdx243l' target=\"_blank\">https://wandb.ai/t-skorkowski/blue-marble/sweeps/xvdx243l</a>"
      ],
      "text/plain": [
       "<IPython.core.display.HTML object>"
      ]
     },
     "metadata": {},
     "output_type": "display_data"
    },
    {
     "data": {
      "text/html": [
       " View project at <a href='https://wandb.ai/t-skorkowski/blue-marble' target=\"_blank\">https://wandb.ai/t-skorkowski/blue-marble</a>"
      ],
      "text/plain": [
       "<IPython.core.display.HTML object>"
      ]
     },
     "metadata": {},
     "output_type": "display_data"
    },
    {
     "data": {
      "text/html": [
       " View sweep at <a href='https://wandb.ai/t-skorkowski/blue-marble/sweeps/xvdx243l' target=\"_blank\">https://wandb.ai/t-skorkowski/blue-marble/sweeps/xvdx243l</a>"
      ],
      "text/plain": [
       "<IPython.core.display.HTML object>"
      ]
     },
     "metadata": {},
     "output_type": "display_data"
    },
    {
     "data": {
      "text/html": [
       " View run at <a href='https://wandb.ai/t-skorkowski/blue-marble/runs/tzhb9u8b' target=\"_blank\">https://wandb.ai/t-skorkowski/blue-marble/runs/tzhb9u8b</a>"
      ],
      "text/plain": [
       "<IPython.core.display.HTML object>"
      ]
     },
     "metadata": {},
     "output_type": "display_data"
    },
    {
     "name": "stdout",
     "output_type": "stream",
     "text": [
      "Dataset shape: (815, 3, 36)\n",
      "Input_shpae: (3, 36)\n",
      "Train size: 10 \n",
      "Validation size: 1\n",
      "Data sets have been setup\n",
      "Model has been defined\n",
      "Model compiled\n",
      "Epoch 1/20\n",
      "9/9 [==============================] - 3s 262ms/step - loss: 20930.1152 - mae: 136.7566 - val_loss: 19453.8125 - val_mae: 131.2588\n",
      "Epoch 2/20\n",
      "9/9 [==============================] - 2s 243ms/step - loss: 19690.5332 - mae: 132.7868 - val_loss: 23959.5195 - val_mae: 153.3946\n",
      "Epoch 3/20\n",
      "9/9 [==============================] - 2s 246ms/step - loss: 19096.3359 - mae: 130.7818 - val_loss: 14809.4961 - val_mae: 111.1245\n",
      "Epoch 4/20\n",
      "9/9 [==============================] - 2s 247ms/step - loss: 18734.9902 - mae: 129.9335 - val_loss: 16776.4531 - val_mae: 122.6691\n",
      "Epoch 5/20\n",
      "9/9 [==============================] - 2s 245ms/step - loss: 10413.4492 - mae: 96.0294 - val_loss: 8917.7812 - val_mae: 89.6621\n"
     ]
    },
    {
     "data": {
      "image/png": "[encoded data removed]",
      "text/plain": [
       "<Figure size 1200x400 with 1 Axes>"
      ]
     },
     "metadata": {},
     "output_type": "display_data"
    },
    {
     "name": "stdout",
     "output_type": "stream",
     "text": [
      "1/1 [==============================] - 0s 70ms/step - loss: 8917.7812 - mae: 89.6621\n"
     ]
    },
    {
     "name": "stderr",
     "output_type": "stream",
     "text": [
      "WARNING:absl:Found untraced functions such as call, _update_step_xla, lstm_cell_layer_call_fn, lstm_cell_layer_call_and_return_conditional_losses, lstm_cell_1_layer_call_fn while saving (showing 5 of 8). These functions will not be directly callable after loading.\n"
     ]
    },
    {
     "name": "stdout",
     "output_type": "stream",
     "text": [
      "INFO:tensorflow:Assets written to: gs://vgnn/models/32_buckets_9-sunny-tartar-20241029-022110.tf/assets\n"
     ]
    },
    {
     "name": "stderr",
     "output_type": "stream",
     "text": [
      "INFO:tensorflow:Assets written to: gs://vgnn/models/32_buckets_9-sunny-tartar-20241029-022110.tf/assets\n"
     ]
    },
    {
     "data": {
      "text/html": [
       "<style>\n",
       "    table.wandb td:nth-child(1) { padding: 0 10px; text-align: left ; width: auto;} td:nth-child(2) {text-align: left ; width: 100%}\n",
       "    .wandb-row { display: flex; flex-direction: row; flex-wrap: wrap; justify-content: flex-start; width: 100% }\n",
       "    .wandb-col { display: flex; flex-direction: column; flex-basis: 100%; flex: 1; padding: 10px; }\n",
       "    </style>\n",
       "<div class=\"wandb-row\"><div class=\"wandb-col\"><h3>Run history:</h3><br/><table class=\"wandb\"><tr><td>epoch/epoch</td><td>▁▁▂▂▂▃▃▄▄▄▅▅▅▆▆▇▇▇██</td></tr><tr><td>epoch/learning_rate</td><td>▁▁▁▁▁▁▁▁▁▁▁▁▁▁▁▁▁▁▁▁</td></tr><tr><td>epoch/loss</td><td>█▇▇▇▆▆▆▅▅▄▄▄▃▃▃▂▂▁▁▁</td></tr><tr><td>epoch/mae</td><td>█▇▇▇▇▆▆▅▅▅▄▄▄▃▃▂▂▂▁▁</td></tr><tr><td>epoch/val_loss</td><td>▆█▄▅▄▆▅▄▆▄▃▃▃▃▂▂▂▃▃▁</td></tr><tr><td>epoch/val_mae</td><td>▆█▃▅▄▆▄▄▆▅▃▃▃▃▂▂▂▃▄▁</td></tr></table><br/></div><div class=\"wandb-col\"><h3>Run summary:</h3><br/><table class=\"wandb\"><tr><td>epoch/epoch</td><td>19</td></tr><tr><td>epoch/learning_rate</td><td>0.04731</td></tr><tr><td>epoch/loss</td><td>10413.44922</td></tr><tr><td>epoch/mae</td><td>96.02941</td></tr><tr><td>epoch/val_loss</td><td>8917.78125</td></tr><tr><td>epoch/val_mae</td><td>89.66211</td></tr></table><br/></div></div>"
      ],
      "text/plain": [
       "<IPython.core.display.HTML object>"
      ]
     },
     "metadata": {},
     "output_type": "display_data"
    },
    {
     "data": {
      "text/html": [
       " View run <strong style=\"color:#cdcd00\">eager-sweep-2</strong> at: <a href='https://wandb.ai/t-skorkowski/blue-marble/runs/tzhb9u8b' target=\"_blank\">https://wandb.ai/t-skorkowski/blue-marble/runs/tzhb9u8b</a><br/> View project at: <a href='https://wandb.ai/t-skorkowski/blue-marble' target=\"_blank\">https://wandb.ai/t-skorkowski/blue-marble</a><br/>Synced 5 W&B file(s), 0 media file(s), 0 artifact file(s) and 0 other file(s)"
      ],
      "text/plain": [
       "<IPython.core.display.HTML object>"
      ]
     },
     "metadata": {},
     "output_type": "display_data"
    },
    {
     "data": {
      "text/html": [
       "Find logs at: <code>./wandb/run-20241029_022109-tzhb9u8b/logs</code>"
      ],
      "text/plain": [
       "<IPython.core.display.HTML object>"
      ]
     },
     "metadata": {},
     "output_type": "display_data"
    },
    {
     "name": "stderr",
     "output_type": "stream",
     "text": [
      "\u001b[34m\u001b[1mwandb\u001b[0m: Agent Starting Run: d2nrb3ce with config:\n",
      "\u001b[34m\u001b[1mwandb\u001b[0m: \tbatch_size: 32\n",
      "\u001b[34m\u001b[1mwandb\u001b[0m: \tdense_layers_per_step: 27\n",
      "\u001b[34m\u001b[1mwandb\u001b[0m: \tdropout_rate: 0.2\n",
      "\u001b[34m\u001b[1mwandb\u001b[0m: \tepochs: 15\n",
      "\u001b[34m\u001b[1mwandb\u001b[0m: \tkernel_initializer: 0\n",
      "\u001b[34m\u001b[1mwandb\u001b[0m: \tlr: 0.0808749609603208\n",
      "\u001b[34m\u001b[1mwandb\u001b[0m: \tlstm_layers_units: [10, 25]\n",
      "\u001b[34m\u001b[1mwandb\u001b[0m: \tnum_bins_num_bands: [12, 9]\n",
      "\u001b[34m\u001b[1mwandb\u001b[0m: \toptimizer: rms\n",
      "Failed to detect the name of this notebook, you can set it manually with the WANDB_NOTEBOOK_NAME environment variable to enable code saving.\n"
     ]
    },
    {
     "data": {
      "text/html": [
       "Tracking run with wandb version 0.18.5"
      ],
      "text/plain": [
       "<IPython.core.display.HTML object>"
      ]
     },
     "metadata": {},
     "output_type": "display_data"
    },
    {
     "data": {
      "text/html": [
       "Run data is saved locally in <code>/home/jupyter/inovation_project/2_gc-pipeline/wandb/run-20241029_022236-d2nrb3ce</code>"
      ],
      "text/plain": [
       "<IPython.core.display.HTML object>"
      ]
     },
     "metadata": {},
     "output_type": "display_data"
    },
    {
     "data": {
      "text/html": [
       "Syncing run <strong><a href='https://wandb.ai/t-skorkowski/blue-marble/runs/d2nrb3ce' target=\"_blank\">valiant-sweep-3</a></strong> to <a href='https://wandb.ai/t-skorkowski/blue-marble' target=\"_blank\">Weights & Biases</a> (<a href='https://wandb.me/run' target=\"_blank\">docs</a>)<br/>Sweep page: <a href='https://wandb.ai/t-skorkowski/blue-marble/sweeps/xvdx243l' target=\"_blank\">https://wandb.ai/t-skorkowski/blue-marble/sweeps/xvdx243l</a>"
      ],
      "text/plain": [
       "<IPython.core.display.HTML object>"
      ]
     },
     "metadata": {},
     "output_type": "display_data"
    },
    {
     "data": {
      "text/html": [
       " View project at <a href='https://wandb.ai/t-skorkowski/blue-marble' target=\"_blank\">https://wandb.ai/t-skorkowski/blue-marble</a>"
      ],
      "text/plain": [
       "<IPython.core.display.HTML object>"
      ]
     },
     "metadata": {},
     "output_type": "display_data"
    },
    {
     "data": {
      "text/html": [
       " View sweep at <a href='https://wandb.ai/t-skorkowski/blue-marble/sweeps/xvdx243l' target=\"_blank\">https://wandb.ai/t-skorkowski/blue-marble/sweeps/xvdx243l</a>"
      ],
      "text/plain": [
       "<IPython.core.display.HTML object>"
      ]
     },
     "metadata": {},
     "output_type": "display_data"
    },
    {
     "data": {
      "text/html": [
       " View run at <a href='https://wandb.ai/t-skorkowski/blue-marble/runs/d2nrb3ce' target=\"_blank\">https://wandb.ai/t-skorkowski/blue-marble/runs/d2nrb3ce</a>"
      ],
      "text/plain": [
       "<IPython.core.display.HTML object>"
      ]
     },
     "metadata": {},
     "output_type": "display_data"
    },
    {
     "name": "stdout",
     "output_type": "stream",
     "text": [
      "Dataset shape: (815, 3, 108)\n",
      "Input_shpae: (3, 108)\n",
      "Train size: 20 \n",
      "Validation size: 3\n",
      "Data sets have been setup\n",
      "Model has been defined\n",
      "Model compiled\n",
      "Epoch 1/15\n",
      "17/17 [==============================] - 7s 418ms/step - loss: 13032.4756 - mae: 106.0348 - val_loss: 8383.4619 - val_mae: 83.7569\n",
      "Epoch 2/15\n",
      "17/17 [==============================] - 7s 422ms/step - loss: 6041.2437 - mae: 69.2481 - val_loss: 4148.7456 - val_mae: 53.9155\n",
      "Epoch 3/15\n",
      "17/17 [==============================] - 7s 406ms/step - loss: 3759.6582 - mae: 49.0795 - val_loss: 3145.6824 - val_mae: 45.5065\n",
      "Epoch 4/15\n",
      "17/17 [==============================] - 7s 413ms/step - loss: 3496.1526 - mae: 41.5496 - val_loss: 3747.8623 - val_mae: 44.4643\n",
      "Epoch 5/15\n",
      "17/17 [==============================] - 7s 403ms/step - loss: 3482.7483 - mae: 41.0991 - val_loss: 3275.4053 - val_mae: 42.7148\n",
      "Epoch 6/15\n",
      "17/17 [==============================] - 7s 412ms/step - loss: 3707.3096 - mae: 42.6616 - val_loss: 4220.4048 - val_mae: 46.7897\n",
      "Epoch 7/15\n",
      "17/17 [==============================] - 7s 402ms/step - loss: 3627.6270 - mae: 42.0736 - val_loss: 3213.5498 - val_mae: 49.2500\n",
      "Epoch 8/15\n",
      "17/17 [==============================] - 8s 479ms/step - loss: 3389.9441 - mae: 43.1721 - val_loss: 3447.7585 - val_mae: 41.0910\n",
      "Epoch 9/15\n",
      "17/17 [==============================] - 7s 415ms/step - loss: 3507.0476 - mae: 41.1058 - val_loss: 3540.5164 - val_mae: 34.8534\n",
      "Epoch 10/15\n",
      "17/17 [==============================] - 7s 414ms/step - loss: 3365.8645 - mae: 41.3353 - val_loss: 3028.4910 - val_mae: 38.6996\n",
      "Epoch 11/15\n",
      "17/17 [==============================] - 7s 412ms/step - loss: 3584.6921 - mae: 42.4140 - val_loss: 3596.8342 - val_mae: 36.8853\n",
      "Epoch 12/15\n",
      "17/17 [==============================] - 7s 419ms/step - loss: 3644.5002 - mae: 42.3323 - val_loss: 3072.2468 - val_mae: 47.3521\n",
      "Epoch 13/15\n",
      "17/17 [==============================] - 7s 410ms/step - loss: 3569.3945 - mae: 42.9121 - val_loss: 3518.1692 - val_mae: 46.2340\n",
      "Epoch 14/15\n",
      "17/17 [==============================] - 7s 415ms/step - loss: 3500.9412 - mae: 42.9768 - val_loss: 3109.5862 - val_mae: 36.1470\n",
      "Epoch 15/15\n",
      "17/17 [==============================] - 7s 418ms/step - loss: 3537.7563 - mae: 42.0220 - val_loss: 3646.8279 - val_mae: 39.7475\n"
     ]
    },
    {
     "data": {
      "image/png": "[encoded data removed]",
      "text/plain": [
       "<Figure size 1200x400 with 1 Axes>"
      ]
     },
     "metadata": {},
     "output_type": "display_data"
    },
    {
     "name": "stdout",
     "output_type": "stream",
     "text": [
      "3/3 [==============================] - 0s 144ms/step - loss: 3679.9082 - mae: 46.0375\n"
     ]
    }
   ],
   "source": [
    "\n",
    "# Define the initializers you want to test\n",
    "initializers = [\n",
    "    tf.keras.initializers.RandomNormal(seed=42),\n",
    "    tf.keras.initializers.RandomUniform(seed=42),\n",
    "    tf.keras.initializers.HeNormal(seed=42),\n",
    "    tf.keras.initializers.GlorotUniform(seed=42)\n",
    "]\n",
    "\n",
    "sweep_configuration = {\n",
    "    \"name\": \"bm_sweep\",\n",
    "    \"method\": \"bayes\",\n",
    "    \"metric\": {\"goal\": \"minimize\", \"name\": \"val_loss\"},\n",
    "    \"parameters\": {\n",
    "        \"lstm_layers_units\": {\"values\": [(0,0), (3,5), (10,25)]},\n",
    "        \"dense_layers_per_step\": {\"values\": [10, 17, 27]},\n",
    "        \"dropout_rate\": {\"values\": [0.1, 0.2, 0.3]},\n",
    "        \"kernel_initializer\": {\"values\": [0,1,2,3]},\n",
    "        \"num_bins_num_bands\": {\"values\": [(12, 3), (12,9), (32,9), (60,3), (60,9)]},\n",
    "        \"lr\": {\"min\": 0.0001, \"max\": 0.1},\n",
    "        \"batch_size\": {\"values\": [16, 32, 64]},\n",
    "        \"epochs\": {\"values\": [10, 15,20]},\n",
    "        \"optimizer\": {\"values\": [\"adam\", \"rms\", \"nadam\"]},\n",
    "    },\n",
    "}\n",
    "\n",
    "\n",
    "def train():\n",
    "    try:\n",
    "        wandb.init()\n",
    "\n",
    "        map_nan = True\n",
    "        normalize = True\n",
    "        # Get dataset for testing\n",
    "        num_bins, num_bands = wandb.config.num_bins_num_bands\n",
    "        directory = f\"dataset/nan_map_{map_nan}/norm_{normalize}/{num_bins}_buckets_{num_bands}_bands/{SCALE}\"\n",
    "        dataset, dataset_shape = load_dataset_from_gcp(directory=directory)\n",
    "        input_shape = dataset_shape[1:]\n",
    "\n",
    "        print(f\"Dataset shape: {dataset_shape}\", f\"Input_shpae: {input_shape}\", sep=\"\\n\")\n",
    "\n",
    "        # Train test split\n",
    "        test_train_split = 0.8\n",
    "        train_size = int(dataset_shape[0] * test_train_split / wandb.config.batch_size)\n",
    "        val_size = int(train_size * (1-test_train_split))\n",
    "\n",
    "        dataset_batched = dataset.batch(wandb.config.batch_size, drop_remainder=True)\n",
    "        test_dataset = dataset_batched.skip(train_size)\n",
    "        train_dataset = dataset_batched.take(train_size)\n",
    "\n",
    "        train_dataset = train_dataset.shuffle(buffer_size=10000)\n",
    "        print(f\"Train size: {train_size} \\nValidation size: {val_size}\")\n",
    "        print(\"Data sets have been setup\")\n",
    "        \n",
    "        lstm_layers, lstm_units = wandb.config.lstm_layers_units\n",
    "\n",
    "        model = TimeDependentDenseLstmModel(input_shape = input_shape,\n",
    "                                        lstm_layers = lstm_layers,\n",
    "                                        dense_layers_per_step = wandb.config.dense_layers_per_step,\n",
    "                                        no_units = lstm_units,\n",
    "                                        val_size = val_size,\n",
    "                                        dropout_rate = wandb.config.dropout_rate,\n",
    "                                        kernel_initializer = initializers[wandb.config.kernel_initializer])\n",
    "        print(\"Model has been defined\")\n",
    "\n",
    "        model.compile(optimizer= wandb.config.optimizer,\n",
    "                      learning_rate = wandb.config.lr,\n",
    "                      loss=pen_low_lenient_high_loss)\n",
    "\n",
    "        print(\"Model compiled\")\n",
    "\n",
    "        history = model.fit(train_dataset, epochs=wandb.config.epochs)\n",
    "\n",
    "    except ValueError as e:\n",
    "        print(f\"Value error in configuration or dataset: {e}\")\n",
    "    except tf.errors.InvalidArgumentError as e:\n",
    "        print(f\"TensorFlow-specific error: {e}\")\n",
    "    except Exception as e:\n",
    "        print(f\"Unexpected error occurred: {e}\")    \n",
    "    except Exception as e:\n",
    "        print(f\"An error occurred: {e}\")\n",
    "        wandb.alert(title=\"Training Error\", text=str(e))\n",
    "    finally:\n",
    "        wandb.finish()                \n",
    "\n",
    "sweep_id = wandb.sweep(sweep_configuration,\n",
    "                      project=\"blue-marble\")\n",
    "wandb.agent(sweep_id, function=train)\n",
    "\n"
   ]
  },
  {
   "cell_type": "code",
   "execution_count": 14,
   "id": "10447edd-f0c8-422a-9188-a5871a554687",
   "metadata": {
    "tags": []
   },
   "outputs": [],
   "source": [
    "wandb.finish() "
   ]
  },
  {
   "cell_type": "code",
   "execution_count": 20,
   "id": "bfb4b2ea-daa2-4675-85a4-0422557f9b5e",
   "metadata": {
    "tags": []
   },
   "outputs": [
    {
     "name": "stdout",
     "output_type": "stream",
     "text": [
      "8/8 [==============================] - 1s 87ms/step - loss: 2203.0098 - mae: 34.5621\n"
     ]
    },
    {
     "data": {
      "text/plain": [
       "[2203.009765625, 34.56208419799805]"
      ]
     },
     "execution_count": 20,
     "metadata": {},
     "output_type": "execute_result"
    }
   ],
   "source": [
    "model.evaluate(test_dataset)"
   ]
  },
  {
   "cell_type": "code",
   "execution_count": null,
   "id": "c62fc368-d88f-4b3c-a6ec-2af88bd4142a",
   "metadata": {
    "tags": []
   },
   "outputs": [],
   "source": [
    "model = LstmModel(input_shape=input_shape, lstm_layers=4, no_units=2, val_size=1)\n",
    "model.compile(optimizer='nadam', learning_rate = 0.5)\n",
    "history = model.fit(train_dataset, epochs=25)"
   ]
  },
  {
   "cell_type": "code",
   "execution_count": 22,
   "id": "fddbe97b-84e9-4619-bb89-983c52a32073",
   "metadata": {
    "tags": []
   },
   "outputs": [
    {
     "name": "stdout",
     "output_type": "stream",
     "text": [
      "tf.Tensor(4171.9155, shape=(), dtype=float32)\n",
      "lively-foie-gras\n"
     ]
    }
   ],
   "source": [
    "print(model.job_name)"
   ]
  },
  {
   "cell_type": "code",
   "execution_count": null,
   "id": "e38b1c93-b7e0-436d-b5c8-a1c2f92ae05e",
   "metadata": {},
   "outputs": [],
   "source": [
    "for layer in model.layers:\n",
    "    # Get weights for the layer\n",
    "    weights = layer.get_weights()\n",
    "    \n",
    "    # Check if the layer has weights\n",
    "    if weights:\n",
    "        print(f\"Layer: {layer.name}\")\n",
    "        for i, weight in enumerate(weights):\n",
    "            print(f\"  Weight {i+1} shape: {weight.shape}\")\n",
    "            print(f\"  Weight {i+1} values: \\n{weight}\\n\")\n",
    "    else:\n",
    "        print(f\"Layer: {layer.name} has no weights.\")"
   ]
  },
  {
   "cell_type": "code",
   "execution_count": 28,
   "id": "0b4eb99b-38e4-429e-badb-e4d1b2a1cece",
   "metadata": {
    "tags": []
   },
   "outputs": [
    {
     "name": "stdout",
     "output_type": "stream",
     "text": [
      "8/8 [==============================] - 1s 75ms/step\n"
     ]
    }
   ],
   "source": [
    "predictions = model.predict(test_dataset)"
   ]
  },
  {
   "cell_type": "code",
   "execution_count": 29,
   "id": "6ec59eb2-af59-47b7-9bd5-e4376e9a4ba5",
   "metadata": {
    "tags": []
   },
   "outputs": [
    {
     "data": {
      "text/plain": [
       "array([[119.643425],\n",
       "       [119.643425],\n",
       "       [119.643425],\n",
       "       [119.643425],\n",
       "       [119.643425],\n",
       "       [119.643425],\n",
       "       [119.643425],\n",
       "       [119.643425],\n",
       "       [119.643425],\n",
       "       [119.643425]], dtype=float32)"
      ]
     },
     "execution_count": 29,
     "metadata": {},
     "output_type": "execute_result"
    }
   ],
   "source": [
    "predictions[:10]"
   ]
  },
  {
   "cell_type": "code",
   "execution_count": 30,
   "id": "af75185d-54ce-4771-814a-8750873b56c8",
   "metadata": {
    "tags": []
   },
   "outputs": [
    {
     "data": {
      "image/png": "[encoded data removed]",
      "text/plain": [
       "<Figure size 800x800 with 1 Axes>"
      ]
     },
     "metadata": {},
     "output_type": "display_data"
    }
   ],
   "source": [
    "actual_labels = np.concatenate([response.numpy() for _, response in test_dataset], axis=0)\n",
    "\n",
    "# Plot actual vs. predicted\n",
    "plt.figure(figsize=(8, 8))\n",
    "plt.scatter(actual_labels, pred_mean, alpha=0.5, edgecolors='k')\n",
    "plt.xlabel('Actual Labels')\n",
    "plt.ylabel('Predictions')\n",
    "plt.title('Actual vs. Predicted')\n",
    "plt.plot([min(actual_labels), max(actual_labels)], [min(actual_labels), max(actual_labels)], 'r--')  # Line y=x for reference\n",
    "plt.show()"
   ]
  },
  {
   "cell_type": "code",
   "execution_count": null,
   "id": "e9a6b77f-5205-48a4-ad40-b6c7b0af8535",
   "metadata": {
    "tags": []
   },
   "outputs": [],
   "source": [
    "for layer in model.layers:\n",
    "    print(layer.weights)"
   ]
  },
  {
   "cell_type": "code",
   "execution_count": 16,
   "id": "0f3a552c-335b-4f4b-9f40-37ce34856adb",
   "metadata": {
    "tags": []
   },
   "outputs": [
    {
     "name": "stdout",
     "output_type": "stream",
     "text": [
      "Model: \"time_dependent_dense_lstm_model_1\"\n",
      "_________________________________________________________________\n",
      " Layer (type)                Output Shape              Param #   \n",
      "=================================================================\n",
      " lstm_2 (LSTM)               multiple                  5520      \n",
      "                                                                 \n",
      " lstm_3 (LSTM)               multiple                  220       \n",
      "                                                                 \n",
      " dense_11 (Dense)            multiple                  6         \n",
      "                                                                 \n",
      " time_distributed_10 (TimeDi  multiple                 146070    \n",
      " stributed)                                                      \n",
      "                                                                 \n",
      " time_distributed_11 (TimeDi  multiple                 73170     \n",
      " stributed)                                                      \n",
      "                                                                 \n",
      " time_distributed_12 (TimeDi  multiple                 73170     \n",
      " stributed)                                                      \n",
      "                                                                 \n",
      " time_distributed_13 (TimeDi  multiple                 73170     \n",
      " stributed)                                                      \n",
      "                                                                 \n",
      " time_distributed_14 (TimeDi  multiple                 73170     \n",
      " stributed)                                                      \n",
      "                                                                 \n",
      " time_distributed_15 (TimeDi  multiple                 73170     \n",
      " stributed)                                                      \n",
      "                                                                 \n",
      " time_distributed_16 (TimeDi  multiple                 73170     \n",
      " stributed)                                                      \n",
      "                                                                 \n",
      " time_distributed_17 (TimeDi  multiple                 73170     \n",
      " stributed)                                                      \n",
      "                                                                 \n",
      " time_distributed_18 (TimeDi  multiple                 73170     \n",
      " stributed)                                                      \n",
      "                                                                 \n",
      " time_distributed_19 (TimeDi  multiple                 73170     \n",
      " stributed)                                                      \n",
      "                                                                 \n",
      " time_distributed_20 (TimeDi  multiple                 73170     \n",
      " stributed)                                                      \n",
      "                                                                 \n",
      " time_distributed_21 (TimeDi  multiple                 73170     \n",
      " stributed)                                                      \n",
      "                                                                 \n",
      " time_distributed_22 (TimeDi  multiple                 73170     \n",
      " stributed)                                                      \n",
      "                                                                 \n",
      " time_distributed_23 (TimeDi  multiple                 73170     \n",
      " stributed)                                                      \n",
      "                                                                 \n",
      " time_distributed_24 (TimeDi  multiple                 73170     \n",
      " stributed)                                                      \n",
      "                                                                 \n",
      "=================================================================\n",
      "Total params: 1,176,196\n",
      "Trainable params: 1,176,196\n",
      "Non-trainable params: 0\n",
      "_________________________________________________________________\n"
     ]
    }
   ],
   "source": [
    "model.summary()"
   ]
  },
  {
   "cell_type": "code",
   "execution_count": 9,
   "id": "4d57f2f5-6b2f-4f0a-b016-611540eb6b18",
   "metadata": {},
   "outputs": [
    {
     "name": "stdout",
     "output_type": "stream",
     "text": [
      "jupyter     9299  0.0  0.0   5704  3188 pts/0    Ss+  06:01   0:00 /bin/bash -c ps aux | grep tensorboard\n",
      "jupyter     9301  0.0  0.0   5264  2236 pts/0    S+   06:01   0:00 grep tensorboard\n"
     ]
    }
   ],
   "source": [
    "!ps aux | grep tensorboard"
   ]
  },
  {
   "cell_type": "code",
   "execution_count": 8,
   "id": "01c0dc07-7280-4dc4-959b-bff15758b3e3",
   "metadata": {
    "tags": []
   },
   "outputs": [
    {
     "name": "stdout",
     "output_type": "stream",
     "text": [
      "/bin/bash: line 1: kill: (9168) - No such process\n"
     ]
    }
   ],
   "source": [
    "!kill -9 9168"
   ]
  },
  {
   "cell_type": "code",
   "execution_count": null,
   "id": "cc361cbd-1f51-4d13-9091-d830fd60e868",
   "metadata": {},
   "outputs": [],
   "source": []
  }
 ],
 "metadata": {
  "environment": {
   "kernel": "conda-base-py",
   "name": "workbench-notebooks.m125",
   "type": "gcloud",
   "uri": "us-docker.pkg.dev/deeplearning-platform-release/gcr.io/workbench-notebooks:m125"
  },
  "kernelspec": {
   "display_name": "Python 3 (ipykernel) (Local)",
   "language": "python",
   "name": "conda-base-py"
  },
  "language_info": {
   "codemirror_mode": {
    "name": "ipython",
    "version": 3
   },
   "file_extension": ".py",
   "mimetype": "text/x-python",
   "name": "python",
   "nbconvert_exporter": "python",
   "pygments_lexer": "ipython3",
   "version": "3.10.15"
  }
 },
 "nbformat": 4,
 "nbformat_minor": 5
}
