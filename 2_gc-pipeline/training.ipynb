{
 "cells": [
  {
   "cell_type": "code",
   "execution_count": 1,
   "id": "ea876282-7e0d-4a5e-be56-0b31f49f3992",
   "metadata": {
    "tags": []
   },
   "outputs": [],
   "source": [
    "# Setup\n",
    "!pip install --quiet --upgrade pip\n",
    "\n",
    "# Install the dependencies.\n",
    "!pip install --quiet -r requirements_tf.txt\n",
    "!pip install wandb -q\n",
    "!pip install opencv-python -q"
   ]
  },
  {
   "cell_type": "code",
   "execution_count": 9,
   "id": "0ad4ba6a-3c38-42f3-bae1-321f334c0fd8",
   "metadata": {
    "tags": []
   },
   "outputs": [
    {
     "name": "stdout",
     "output_type": "stream",
     "text": [
      "\u001b[1;34mwandb\u001b[0m: 🚀 View run \u001b[33msinister-newt-109\u001b[0m at: \u001b[34mhttps://wandb.ai/t-skorkowski/blue-marble/runs/4c09iz1r\u001b[0m\n",
      "\u001b[1;34mwandb\u001b[0m: Find logs at: \u001b[1;35mwandb/run-20241030_115348-4c09iz1r/logs\u001b[0m\n"
     ]
    }
   ],
   "source": [
    "# Restart the runtime by ending the process\n",
    "exit()"
   ]
  },
  {
   "cell_type": "code",
   "execution_count": 12,
   "id": "e5d9bc1e-c419-4350-a556-1a76cb21ab39",
   "metadata": {
    "tags": []
   },
   "outputs": [],
   "source": [
    "import os\n",
    "import matplotlib.pyplot as plt\n",
    "\n",
    "\n",
    "os.environ['TF_CPP_MIN_LOG_LEVEL'] = '3'  # 0 = all messages, 1 = INFO, 2 = WARNING, 3 = ERROR\n",
    "import numpy as np\n",
    "import pandas as pd\n",
    "import tensorflow as tf\n",
    "from google.cloud import storage\n",
    "import google.auth\n",
    "from importlib import reload\n",
    "from serving.constants import  BUCKET, IMG_SOURCE_PREFIX, HIST_DEST_PREFIX, HIST_BINS_LIST, SCALE, CROP, MONTHS, IMAGE_BATCH, NUM_BINS, MAP_NAN, NORMALIZE, LABELS_PATH, HEADER_PATH, SELECTED_BANDS\n",
    "from serving.common import list_blobs_with_prefix\n",
    "from serving.hist_training import (get_labels,\n",
    "                                   #LstmModel,\n",
    "                                   #TimeDependentDenseLstmModel,\n",
    "                                   pen_low_lenient_high_loss,\n",
    "                                   pen_low_loss,\n",
    "                                   load_dataset_from_gcp,\n",
    "                                   save_dataset_to_gcp,\n",
    "                                   create_hist_dataset,\n",
    "                                   train_wandb,\n",
    "                                   train_model_data,\n",
    "                                   plot_training_progress)\n",
    "from serving.data import check_blob_prefix_exists, batch_check_blobs, get_varied_labels, check_blob_exists\n",
    "import logging\n",
    "import io\n",
    "import itertools\n",
    "import time\n",
    "\n",
    "from keras.layers import LSTM, Dense, Dropout, Input, Normalization\n",
    "from tensorflow.keras.optimizers import Adam, Nadam, RMSprop\n",
    "\n",
    "from tensorflow.keras.models import Model\n",
    "from tensorflow.keras.callbacks import EarlyStopping\n",
    "\n",
    "import matplotlib.pyplot as plt\n",
    "\n",
    "import wandb\n",
    "from google.cloud import secretmanager\n",
    "\n",
    "tf.config.run_functions_eagerly(True)"
   ]
  },
  {
   "cell_type": "code",
   "execution_count": 48,
   "id": "282960a7-76b7-41a5-90ee-944ae092126e",
   "metadata": {
    "tags": []
   },
   "outputs": [],
   "source": [
    "# Models\n",
    "import keras\n",
    "from keras.layers import LSTM, Dense, Dropout, Input, TimeDistributed, BatchNormalization\n",
    "from tensorflow.keras.regularizers import l2\n",
    "from serving.data import get_labels\n",
    "from tensorflow.keras.callbacks import EarlyStopping\n",
    "from tensorflow.keras.models import Model\n",
    "from tensorflow.keras.optimizers import Adam, Nadam, RMSprop\n",
    "import randomname\n",
    "import datetime\n",
    "from tensorflow.keras.callbacks import ModelCheckpoint\n",
    "import tempfile\n",
    "import wandb\n",
    "from wandb.integration.keras import WandbMetricsLogger, WandbModelCheckpoint\n",
    "\n",
    "class GradientDebugCallback(tf.keras.callbacks.Callback):\n",
    "    def on_batch_end(self, batch, logs=None):\n",
    "        weights = self.model.trainable_weights\n",
    "        grads = self.model.optimizer.get_gradients(self.model.total_loss, weights)\n",
    "        print(f\"Batch {batch}\")\n",
    "        print(\"Gradient norms:\", [tf.norm(g).numpy() if g is not None else 0 for g in grads])\n",
    "\n",
    "\n",
    "# Define the LSTM model\n",
    "class LstmModel(keras.Model):\n",
    "    def __init__(\n",
    "        self,\n",
    "        input_shape,\n",
    "        lstm_layers=3,\n",
    "        no_units=3,\n",
    "        output_units=1,\n",
    "        dropout_rate=0.2,\n",
    "        val_size=10,\n",
    "        kernel_initializer=tf.keras.initializers.RandomNormal()\n",
    "    ):\n",
    "        super(LstmModel, self).__init__()\n",
    "        self.lstm_layers = lstm_layers\n",
    "        self.no_units = no_units\n",
    "        self.output_units = output_units\n",
    "        self.dropout_rate = dropout_rate\n",
    "        self.val_size = val_size\n",
    "\n",
    "        self.input_layer = Input(shape=input_shape)\n",
    "        self.batch_norm = BatchNormalization()\n",
    "        \n",
    "        # Define LSTM and Dense layers\n",
    "        self.lstm_layers_list = []\n",
    "        for i in range(lstm_layers):\n",
    "            self.lstm_layers_list.append(\n",
    "                LSTM(\n",
    "                    units=no_units,\n",
    "                    return_sequences=(i < lstm_layers - 1),\n",
    "                    kernel_initializer='glorot_uniform',\n",
    "                    recurrent_initializer='orthogonal',\n",
    "                    activation='tanh'\n",
    "                )\n",
    "            )\n",
    "            \n",
    "            if i < lstm_layers - 1:\n",
    "                self.lstm_layers_list.append(Dropout(rate=dropout_rate))\n",
    "        \n",
    "        self.dense = Dense(\n",
    "            units=output_units,\n",
    "            kernel_initializer=tf.keras.initializers.RandomNormal(mean=0.0, stddev=0.1),\n",
    "            bias_initializer=tf.keras.initializers.Constant(100.0)\n",
    "        )\n",
    "        \n",
    "        self.job_name = randomname.get_name(adj=('emotions',), noun=('food'))\n",
    "    \n",
    "    def get_config(self):\n",
    "        return {\n",
    "           \"lstm_layers\": self.lstm_layers,\n",
    "           \"no_units\": self.no_units,\n",
    "           \"val_size\": self.val_size,\n",
    "           \"ouput_units\": self.output_units,\n",
    "           \"dropout_rate\": self.dropout_rate,\n",
    "           \"kernel_initializer\": self.kernel_initializer\n",
    "        }\n",
    "    \n",
    "    @classmethod\n",
    "    def from_config(cls, config):\n",
    "        # Convert the serialized initializer back to a TF initializer\n",
    "        config['kernel_initializer'] = tf.keras.initializers.deserialize(\n",
    "            config['kernel_initializer']\n",
    "        )\n",
    "        return cls(**config)\n",
    "    \n",
    "    @tf.function\n",
    "    def call(self, inputs, training=False):\n",
    "        # LSTM layers\n",
    "\n",
    "        x = inputs\n",
    "        #x = self.batch_norm(x, training=training)\n",
    "\n",
    "        for lstm_layer in self.lstm_layers_list:\n",
    "            x = lstm_layer(x)\n",
    "\n",
    "        outputs = self.dense(x)\n",
    "\n",
    "        return outputs\n",
    "\n",
    "    def summary(self):\n",
    "        super(LstmModel, self).summary()\n",
    "\n",
    "    def compile(\n",
    "        self, optimizer=\"adam\", loss=\"mse\", metrics=[\"mae\"], learning_rate=0.001, **kwargs\n",
    "    ):\n",
    "        self.learning_rate = learning_rate\n",
    "\n",
    "        # Dictionary to map optimizer names to their classes\n",
    "        optimizers = {\"adam\": Adam, \"nadam\": Nadam, \"rms\": RMSprop}\n",
    "\n",
    "        # Get the optimizer class from the dictionary\n",
    "        optimizer_class = optimizers.get(optimizer.lower(), Adam)\n",
    "\n",
    "        # Instantiate the optimizer with the specified learning rate\n",
    "        optimizer_instance = optimizer_class(learning_rate=learning_rate, clipnorm=1.0)\n",
    "\n",
    "        # Compile the model with the chosen optimizer, loss, and metrics\n",
    "        tf.config.run_functions_eagerly(True)\n",
    "        \n",
    "        if loss != \"mse\" and \"mse\" not in metrics:\n",
    "            metrics.append(\"mse\")\n",
    "        \n",
    "        super(LstmModel, self).compile(\n",
    "            optimizer=optimizer_instance, loss=loss, metrics=metrics, **kwargs\n",
    "        )\n",
    "        \n",
    "    \n",
    "\n",
    "    def fit(self, dataset, epochs=10):\n",
    "\n",
    "        # Shuffle and batch the dataset\n",
    "        # dataset = dataset.shuffle(buffer_size=10000).batch(batch_size)\n",
    "\n",
    "        # Split the dataset\n",
    "        val_size = self.val_size\n",
    "        val_dataset = dataset.take(val_size)\n",
    "        train_dataset = dataset.skip(val_size)\n",
    "\n",
    "        # Setup tensorboard\n",
    "        model_name = f\"{NUM_BINS}_buckets_{len(HIST_BINS_LIST)}\" + '-' + self.job_name + '-' + datetime.datetime.now().strftime(\"%Y%m%d-%H%M%S\")\n",
    "        log_dir = \"gs://vgnn/tensorboard-artifacts/logs/fit/\" + model_name\n",
    "        if not os.path.exists(os.path.dirname(log_dir)):\n",
    "            os.makedirs(os.path.dirname(log_dir))\n",
    "            \n",
    "        \n",
    "        # Early stopping callback\n",
    "        early_stopping = EarlyStopping(\n",
    "            monitor=\"val_loss\", patience=15, restore_best_weights=True\n",
    "        )\n",
    "\n",
    "        \n",
    "        # Train the model\n",
    "        history = super(LstmModel, self).fit(\n",
    "            train_dataset,\n",
    "            epochs=epochs,\n",
    "            # batch_size=batch_size,\n",
    "            validation_data=val_dataset,\n",
    "            callbacks=[early_stopping, GradientDebugCallback(), WandbMetricsLogger()]\n",
    "        )\n",
    "        \n",
    "        responses_train = np.concatenate(\n",
    "            [response.numpy() for _, response in train_dataset], axis=0\n",
    "        )\n",
    "        mean_response_train = np.mean(responses_train)\n",
    "\n",
    "        responses_val = np.concatenate(\n",
    "            [response.numpy() for _, response in val_dataset], axis=0\n",
    "            )        \n",
    "\n",
    "        if val_size == 0:\n",
    "            self.naive_loss = np.nan\n",
    "        else:\n",
    "            self.naive_loss = pen_low_lenient_high_loss(responses_val, mean_response_train)        \n",
    "        \n",
    "        # Plot training progress\n",
    "        plot_training_progress(history, self.naive_loss)\n",
    "\n",
    "        # Evaluate the model\n",
    "        loss = self.evaluate(val_dataset)\n",
    "\n",
    "        self.save(f'gs://vgnn/models/{model_name}.h5')\n",
    "\n",
    "        return history\n",
    "\n",
    "\n",
    "class TimeDependentDenseLstmModel(LstmModel):\n",
    "    def __init__(\n",
    "        self,\n",
    "        input_shape,\n",
    "        lstm_layers=3,\n",
    "        no_units=3,\n",
    "        dense_layers_per_step=3,\n",
    "        output_units=1,\n",
    "        dropout_rate=0.2,\n",
    "        val_size=10,\n",
    "        kernel_initializer=tf.keras.initializers.RandomNormal()\n",
    "    ):\n",
    "        super(TimeDependentDenseLstmModel, self).__init__(\n",
    "            input_shape,\n",
    "            lstm_layers,\n",
    "            no_units,\n",
    "            output_units,\n",
    "            dropout_rate,\n",
    "            val_size,\n",
    "            kernel_initializer\n",
    "        )\n",
    "        \n",
    "        self.lstm_layers = lstm_layers\n",
    "        self.dense_layers_per_step = dense_layers_per_step\n",
    "        self.no_units = no_units\n",
    "        self.val_size = val_size\n",
    "        self.dropout_rate = dropout_rate\n",
    "        self.kernel_initializer = kernel_initializer\n",
    "        \n",
    "        # Dense layer to process each time step using TimeDistributed\n",
    "        self.time_distributed_dense = []\n",
    "        # Create the dense layers that will be applied to each time step\n",
    "        units = input_shape[-1] // 2\n",
    "        for _ in range(dense_layers_per_step):\n",
    "            self.time_distributed_dense.append(\n",
    "                TimeDistributed(Dense(units=units, \n",
    "                                      activation=\"relu\",\n",
    "                                      kernel_initializer=tf.keras.initializers.RandomNormal(mean=0.0, stddev=0.1),\n",
    "                                      bias_initializer='ones', bias_regularizer=l2(0.01) ))\n",
    "            )\n",
    "            # units //= 2  # Halve units for each subsequent dense layer\n",
    "\n",
    "    def get_config(self):\n",
    "        config = super(TimeDependentDenseLstmModel, self).get_config()\n",
    "        config.update({\n",
    "            'dense_layers_per_step': self.dense_layers_per_step,\n",
    "        })\n",
    "        return config\n",
    "    \n",
    "    @tf.function\n",
    "    def call(self, inputs, training=False):\n",
    "        # Process each time step with a corresponding dense layer\n",
    "\n",
    "        x = inputs\n",
    "        # x = self.batch_norm(x, training=training)\n",
    "        for dense_layer in self.time_distributed_dense:\n",
    "            x = dense_layer(x)\n",
    "        \n",
    "        # Feed into LSTM layers\n",
    "        for lstm_layer in self.lstm_layers_list:\n",
    "            x = lstm_layer(x)\n",
    "\n",
    "        outputs = self.dense(x)  # Final dense layer for output\n",
    "        return outputs"
   ]
  },
  {
   "cell_type": "code",
   "execution_count": 3,
   "id": "7c83aac7-7acf-435f-8cc9-e24d51bf3a5b",
   "metadata": {
    "tags": []
   },
   "outputs": [],
   "source": [
    "# SETUP\n",
    "\n",
    "# Create the Secret Manager client\n",
    "client = secretmanager.SecretManagerServiceClient()\n",
    "\n",
    "# Define the secret name and version\n",
    "secret_name = \"projects/1038596154733/secrets/wandb/versions/1\"\n",
    "\n",
    "# Access the secret\n",
    "response = client.access_secret_version(name=secret_name)\n",
    "secret_value = response.payload.data.decode('UTF-8')\n",
    "\n",
    "#####\n",
    "CREATE_DATASET = False\n",
    "#####\n",
    "\n",
    "start_time = time.perf_counter()\n",
    "credentials, _ = google.auth.default()\n",
    "bucket_name = BUCKET\n",
    "directory_prefix = IMG_SOURCE_PREFIX\n",
    "output_prefix = HIST_DEST_PREFIX\n",
    "labels_data = \"labels_combined.npy\"\n",
    "labels_header = \"labels_header.npy\"\n",
    "months = MONTHS\n",
    "map_nan = MAP_NAN\n",
    "normalize = NORMALIZE\n",
    "num_bins = NUM_BINS\n",
    "client = storage.Client()\n",
    "bucket = client.get_bucket(bucket_name)\n",
    "\n",
    "\n",
    "batch_size = 20\n",
    "img_range =  {\"count_start\":0,\n",
    "              \"no_records\":10,\n",
    "             \"ascending\": False}"
   ]
  },
  {
   "cell_type": "code",
   "execution_count": 4,
   "id": "8cfcac68-58ca-4b85-9ac5-5fd97d9f5476",
   "metadata": {
    "tags": []
   },
   "outputs": [
    {
     "name": "stdout",
     "output_type": "stream",
     "text": [
      "directory: dataset/nan_map_True/norm_True/60_buckets_9_bands/60\n",
      "Dataset loaded\n"
     ]
    }
   ],
   "source": [
    "map_nan = True\n",
    "num_buckets_list = [60]\n",
    "num_bands_list = [9]\n",
    "CREATE_DATASET = False\n",
    "\n",
    "for num_bins, num_bands in zip(num_buckets_list, num_bands_list):\n",
    "    directory = f\"dataset/nan_map_{map_nan}/norm_{normalize}/{num_bins}_buckets_{num_bands}_bands/{SCALE}\"\n",
    "    print(f\"directory: {directory}\")\n",
    "    file_name =  \"dataset.tfrecords\" # \"hist_dataset_medium\" # \n",
    "\n",
    "\n",
    "    if CREATE_DATASET:\n",
    "        # Generate all prefixes\n",
    "        start_time = time.perf_counter()\n",
    "\n",
    "        labels_df = get_varied_labels(**img_range)\n",
    "        labels = list(zip(labels_df[\"county_name\"],\n",
    "                          labels_df[\"county_ansi\"],\n",
    "                     labels_df[\"state_ansi\"],\n",
    "                     labels_df[\"year\"]))\n",
    "\n",
    "\n",
    "        prefixes_hist = [f'histograms/nan_map_{map_nan}/norm_{normalize}/{num_bins}_buckets_{num_bands}_bands/{SCALE}/{county.capitalize()}_{fips}/{year}' \n",
    "                    for county,_, fips, year in labels\n",
    "                        for month in months]\n",
    "\n",
    "        # Batch check all prefixes\n",
    "        results_hist = batch_check_blobs(bucket_name, prefixes_hist)\n",
    "\n",
    "        # Generate get_input_img_params based on results\n",
    "        get_input_img_params = [(county.capitalize(), fips, year)\n",
    "                    for county, county_fips, fips, year in labels\n",
    "                    if results_hist[f'histograms/nan_map_{map_nan}/norm_{normalize}/{num_bins}_buckets_{num_bands}_bands/{SCALE}/{county.capitalize()}_{fips}/{year}']\n",
    "        ]\n",
    "\n",
    "        print(f\"Number of items to process: {len(get_input_img_params)}\")\n",
    "\n",
    "        end_time_dataset_info = time.perf_counter()\n",
    "        print(f\"Collecting dataset information: {end_time_dataset_info-start_time}\")\n",
    "\n",
    "        dataset, dataset_shape, hist_npy, labels_npy = create_hist_dataset(get_input_img_params, \"labels_combined.npy\", \"labels_header.npy\", num_bins=num_bins, num_bands=num_bands)\n",
    "        end_time_dataset = time.perf_counter()\n",
    "\n",
    "        print(f\"Building dataset: {(end_time_dataset - end_time_dataset_info)/60:.02} minutes\")\n",
    "\n",
    "        # Save dataset\n",
    "        save_dataset_to_gcp(hist_npy, labels_npy, directory=directory)\n",
    "        print(\"Dataset created\")\n",
    "        print(directory,file_name,sep=\"/\")\n",
    "        CREATE_DATASET = False\n",
    "    else:\n",
    "\n",
    "        dataset, dataset_shape = load_dataset_from_gcp(directory=directory)\n",
    "        print(\"Dataset loaded\")\n",
    "\n",
    "    input_shape = dataset_shape[1:]"
   ]
  },
  {
   "cell_type": "code",
   "execution_count": 4,
   "id": "f0a26a19-410d-4e78-8e7c-ead300283a65",
   "metadata": {
    "tags": []
   },
   "outputs": [
    {
     "data": {
      "text/html": [
       "<div>\n",
       "<style scoped>\n",
       "    .dataframe tbody tr th:only-of-type {\n",
       "        vertical-align: middle;\n",
       "    }\n",
       "\n",
       "    .dataframe tbody tr th {\n",
       "        vertical-align: top;\n",
       "    }\n",
       "\n",
       "    .dataframe thead th {\n",
       "        text-align: right;\n",
       "    }\n",
       "</style>\n",
       "<table border=\"1\" class=\"dataframe\">\n",
       "  <thead>\n",
       "    <tr style=\"text-align: right;\">\n",
       "      <th></th>\n",
       "      <th>commodity_desc</th>\n",
       "      <th>reference_period_desc</th>\n",
       "      <th>year</th>\n",
       "      <th>state_ansi</th>\n",
       "      <th>state_name</th>\n",
       "      <th>county_ansi</th>\n",
       "      <th>county_name</th>\n",
       "      <th>target</th>\n",
       "      <th>source_file</th>\n",
       "    </tr>\n",
       "  </thead>\n",
       "  <tbody>\n",
       "    <tr>\n",
       "      <th>1122</th>\n",
       "      <td>CORN</td>\n",
       "      <td>YEAR</td>\n",
       "      <td>2016</td>\n",
       "      <td>39</td>\n",
       "      <td>OHIO</td>\n",
       "      <td>171</td>\n",
       "      <td>WILLIAMS</td>\n",
       "      <td>169.1</td>\n",
       "      <td>USDA_Corn_County_2016.csv</td>\n",
       "    </tr>\n",
       "    <tr>\n",
       "      <th>2619</th>\n",
       "      <td>CORN</td>\n",
       "      <td>YEAR</td>\n",
       "      <td>2017</td>\n",
       "      <td>39</td>\n",
       "      <td>OHIO</td>\n",
       "      <td>171</td>\n",
       "      <td>WILLIAMS</td>\n",
       "      <td>167.3</td>\n",
       "      <td>USDA_Corn_County_2017.csv</td>\n",
       "    </tr>\n",
       "    <tr>\n",
       "      <th>3994</th>\n",
       "      <td>CORN</td>\n",
       "      <td>YEAR</td>\n",
       "      <td>2018</td>\n",
       "      <td>39</td>\n",
       "      <td>OHIO</td>\n",
       "      <td>171</td>\n",
       "      <td>WILLIAMS</td>\n",
       "      <td>182.0</td>\n",
       "      <td>USDA_Corn_County_2018.csv</td>\n",
       "    </tr>\n",
       "    <tr>\n",
       "      <th>5275</th>\n",
       "      <td>CORN</td>\n",
       "      <td>YEAR</td>\n",
       "      <td>2019</td>\n",
       "      <td>39</td>\n",
       "      <td>OHIO</td>\n",
       "      <td>171</td>\n",
       "      <td>WILLIAMS</td>\n",
       "      <td>156.3</td>\n",
       "      <td>USDA_Corn_County_2019.csv</td>\n",
       "    </tr>\n",
       "    <tr>\n",
       "      <th>6845</th>\n",
       "      <td>CORN</td>\n",
       "      <td>YEAR</td>\n",
       "      <td>2020</td>\n",
       "      <td>39</td>\n",
       "      <td>OHIO</td>\n",
       "      <td>171</td>\n",
       "      <td>WILLIAMS</td>\n",
       "      <td>143.9</td>\n",
       "      <td>USDA_Corn_County_2020.csv</td>\n",
       "    </tr>\n",
       "    <tr>\n",
       "      <th>8274</th>\n",
       "      <td>CORN</td>\n",
       "      <td>YEAR</td>\n",
       "      <td>2021</td>\n",
       "      <td>38</td>\n",
       "      <td>NORTH DAKOTA</td>\n",
       "      <td>105</td>\n",
       "      <td>WILLIAMS</td>\n",
       "      <td>58.0</td>\n",
       "      <td>USDA_Corn_County_2021.csv</td>\n",
       "    </tr>\n",
       "    <tr>\n",
       "      <th>8350</th>\n",
       "      <td>CORN</td>\n",
       "      <td>YEAR</td>\n",
       "      <td>2021</td>\n",
       "      <td>39</td>\n",
       "      <td>OHIO</td>\n",
       "      <td>171</td>\n",
       "      <td>WILLIAMS</td>\n",
       "      <td>189.5</td>\n",
       "      <td>USDA_Corn_County_2021.csv</td>\n",
       "    </tr>\n",
       "    <tr>\n",
       "      <th>9884</th>\n",
       "      <td>CORN</td>\n",
       "      <td>YEAR</td>\n",
       "      <td>2022</td>\n",
       "      <td>39</td>\n",
       "      <td>OHIO</td>\n",
       "      <td>171</td>\n",
       "      <td>WILLIAMS</td>\n",
       "      <td>187.9</td>\n",
       "      <td>USDA_Corn_County_2022.csv</td>\n",
       "    </tr>\n",
       "  </tbody>\n",
       "</table>\n",
       "</div>"
      ],
      "text/plain": [
       "     commodity_desc reference_period_desc  year state_ansi    state_name  \\\n",
       "1122           CORN                  YEAR  2016         39          OHIO   \n",
       "2619           CORN                  YEAR  2017         39          OHIO   \n",
       "3994           CORN                  YEAR  2018         39          OHIO   \n",
       "5275           CORN                  YEAR  2019         39          OHIO   \n",
       "6845           CORN                  YEAR  2020         39          OHIO   \n",
       "8274           CORN                  YEAR  2021         38  NORTH DAKOTA   \n",
       "8350           CORN                  YEAR  2021         39          OHIO   \n",
       "9884           CORN                  YEAR  2022         39          OHIO   \n",
       "\n",
       "     county_ansi county_name target                source_file  \n",
       "1122         171    WILLIAMS  169.1  USDA_Corn_County_2016.csv  \n",
       "2619         171    WILLIAMS  167.3  USDA_Corn_County_2017.csv  \n",
       "3994         171    WILLIAMS  182.0  USDA_Corn_County_2018.csv  \n",
       "5275         171    WILLIAMS  156.3  USDA_Corn_County_2019.csv  \n",
       "6845         171    WILLIAMS  143.9  USDA_Corn_County_2020.csv  \n",
       "8274         105    WILLIAMS   58.0  USDA_Corn_County_2021.csv  \n",
       "8350         171    WILLIAMS  189.5  USDA_Corn_County_2021.csv  \n",
       "9884         171    WILLIAMS  187.9  USDA_Corn_County_2022.csv  "
      ]
     },
     "execution_count": 4,
     "metadata": {},
     "output_type": "execute_result"
    }
   ],
   "source": [
    "# Sample labels\n",
    "label_data = np.load(labels_data, allow_pickle=True)\n",
    "label_header = np.load(labels_header, allow_pickle=True)\n",
    "label_df = pd.DataFrame(label_data, columns=label_header)\n",
    "label_df[label_df[\"county_name\"]=='Williams'.upper()]"
   ]
  },
  {
   "cell_type": "code",
   "execution_count": 17,
   "id": "559b4228-2564-432d-be9a-5a99fca06d8f",
   "metadata": {
    "tags": []
   },
   "outputs": [
    {
     "name": "stdout",
     "output_type": "stream",
     "text": [
      "Train size: 8 \n",
      "Validation size: 1\n",
      "Data sets have been setup\n"
     ]
    }
   ],
   "source": [
    "normalizer = tf.keras.layers.Normalization(axis=-1)\n",
    "\n",
    "#take subset\n",
    "batch_size = 5\n",
    "\n",
    "# Train test split\n",
    "test_train_split = 0.8\n",
    "train_size = int(dataset_shape[0] * test_train_split / batch_size)\n",
    "val_size = int(train_size * (1-test_train_split))\n",
    "\n",
    "batched_dataset = dataset.batch(batch_size, drop_remainder=True)\n",
    "\n",
    "test_dataset = batched_dataset.skip(train_size)\n",
    "train_dataset = batched_dataset.take(train_size)\n",
    "\n",
    "# Adapt normalizer on unbatched training data\n",
    "normalizer.adapt(train_dataset.map(lambda x, y: x))\n",
    "\n",
    "\n",
    "# 3. Apply normalization to both datasets\n",
    "train_dataset = train_dataset.map(lambda x, y: (normalizer(x), y))\n",
    "test_dataset = test_dataset.map(lambda x, y: (normalizer(x), y))\n",
    "\n",
    "# # Then batch the datasets\n",
    "# test_dataset = test_dataset.batch(batch_size, drop_remainder=True)\n",
    "# train_dataset = train_dataset.batch(batch_size, drop_remainder=True)\n",
    "\n",
    "train_dataset = train_dataset.shuffle(buffer_size=10000)\n",
    "print(f\"Train size: {train_size} \\nValidation size: {val_size}\")\n",
    "print(\"Data sets have been setup\")"
   ]
  },
  {
   "cell_type": "code",
   "execution_count": null,
   "id": "bfcb2158-e03c-4154-9a6a-384ff8133ea0",
   "metadata": {},
   "outputs": [],
   "source": [
    "for batch in train_dataset.take(1):\n",
    "    inputs, targets = batch\n",
    "    print(\"Input stats:\")\n",
    "    print(\"Mean:\", tf.reduce_mean(inputs))\n",
    "    print(\"Std:\", tf.math.reduce_std(inputs))\n",
    "    print(\"Min:\", tf.reduce_min(inputs))\n",
    "    print(\"Max:\", tf.reduce_max(inputs))\n",
    "    \n",
    "    print(\"\\nTarget stats:\")\n",
    "    print(\"Mean:\", tf.reduce_mean(targets))\n",
    "    print(\"Std:\", tf.math.reduce_std(targets))"
   ]
  },
  {
   "cell_type": "code",
   "execution_count": null,
   "id": "9a98bef0-bc8c-4dd2-b509-51b3b9190f12",
   "metadata": {},
   "outputs": [],
   "source": [
    "# directory = \"dataset/nan_map_False/norm_True/60_buckets_9_bands/60\"\n",
    "# model_name = \"32_buckets_9-kind-croissant-20241029-045508.tf\"\n",
    "\n",
    "# epochs = 20\n",
    "# train_model_data(model_name, directory)"
   ]
  },
  {
   "cell_type": "code",
   "execution_count": 32,
   "id": "b9c363ce-16ca-4f74-ba76-0bcaad2f09fc",
   "metadata": {
    "tags": []
   },
   "outputs": [],
   "source": [
    "for x, y in train_dataset.take(1):\n",
    "    feature = x[0].numpy()"
   ]
  },
  {
   "cell_type": "code",
   "execution_count": 49,
   "id": "483bad5e-88b0-4143-8211-81a5fdc58af2",
   "metadata": {
    "tags": []
   },
   "outputs": [
    {
     "data": {
      "text/html": [
       "Finishing last run (ID:v4zujx37) before initializing another..."
      ],
      "text/plain": [
       "<IPython.core.display.HTML object>"
      ]
     },
     "metadata": {},
     "output_type": "display_data"
    },
    {
     "data": {
      "text/html": [
       "<style>\n",
       "    table.wandb td:nth-child(1) { padding: 0 10px; text-align: left ; width: auto;} td:nth-child(2) {text-align: left ; width: 100%}\n",
       "    .wandb-row { display: flex; flex-direction: row; flex-wrap: wrap; justify-content: flex-start; width: 100% }\n",
       "    .wandb-col { display: flex; flex-direction: column; flex-basis: 100%; flex: 1; padding: 10px; }\n",
       "    </style>\n",
       "<div class=\"wandb-row\"><div class=\"wandb-col\"><h3>Run history:</h3><br/><table class=\"wandb\"><tr><td>epoch/epoch</td><td>▁▁▂▃▃▃▄▅▅▅▆▇▇▇█</td></tr><tr><td>epoch/learning_rate</td><td>▁▁▁▁▁▁▁▁▁▁▁▁▁▁▁</td></tr><tr><td>epoch/loss</td><td>▇▂▄▆▂▁▄▃▃▂▂█▇▂▃</td></tr><tr><td>epoch/mae</td><td>█▆▄█▃▁▄▃▃▄▆▆▅▃▃</td></tr><tr><td>epoch/mse</td><td>█▇▆█▅▁▆▄▄▅▇▇▇▅▄</td></tr><tr><td>epoch/val_loss</td><td>▂▂▅▇███▂▅█▅██▁█</td></tr><tr><td>epoch/val_mae</td><td>▅▁▇█▄▄▄▁▇▄▇▄█▃▄</td></tr><tr><td>epoch/val_mse</td><td>▃▁▅█▃▃▃▁▅▃▅▃▇▂▃</td></tr></table><br/></div><div class=\"wandb-col\"><h3>Run summary:</h3><br/><table class=\"wandb\"><tr><td>epoch/epoch</td><td>14</td></tr><tr><td>epoch/learning_rate</td><td>0.04038</td></tr><tr><td>epoch/loss</td><td>5153.18018</td></tr><tr><td>epoch/mae</td><td>48.71523</td></tr><tr><td>epoch/mse</td><td>3363.30127</td></tr><tr><td>epoch/val_loss</td><td>7629.22168</td></tr><tr><td>epoch/val_mae</td><td>39.06237</td></tr><tr><td>epoch/val_mse</td><td>1815.94763</td></tr></table><br/></div></div>"
      ],
      "text/plain": [
       "<IPython.core.display.HTML object>"
      ]
     },
     "metadata": {},
     "output_type": "display_data"
    },
    {
     "data": {
      "text/html": [
       " View run <strong style=\"color:#cdcd00\">creepy-skull-129</strong> at: <a href='https://wandb.ai/t-skorkowski/blue-marble/runs/v4zujx37' target=\"_blank\">https://wandb.ai/t-skorkowski/blue-marble/runs/v4zujx37</a><br/> View project at: <a href='https://wandb.ai/t-skorkowski/blue-marble' target=\"_blank\">https://wandb.ai/t-skorkowski/blue-marble</a><br/>Synced 5 W&B file(s), 0 media file(s), 0 artifact file(s) and 0 other file(s)"
      ],
      "text/plain": [
       "<IPython.core.display.HTML object>"
      ]
     },
     "metadata": {},
     "output_type": "display_data"
    },
    {
     "data": {
      "text/html": [
       "Find logs at: <code>./wandb/run-20241030_131546-v4zujx37/logs</code>"
      ],
      "text/plain": [
       "<IPython.core.display.HTML object>"
      ]
     },
     "metadata": {},
     "output_type": "display_data"
    },
    {
     "data": {
      "text/html": [
       "Successfully finished last run (ID:v4zujx37). Initializing new run:<br/>"
      ],
      "text/plain": [
       "<IPython.core.display.HTML object>"
      ]
     },
     "metadata": {},
     "output_type": "display_data"
    },
    {
     "data": {
      "application/vnd.jupyter.widget-view+json": {
       "model_id": "05db68e84b474e5eb64604d69581630d",
       "version_major": 2,
       "version_minor": 0
      },
      "text/plain": [
       "VBox(children=(Label(value='Waiting for wandb.init()...\\r'), FloatProgress(value=0.011112778533323662, max=1.0…"
      ]
     },
     "metadata": {},
     "output_type": "display_data"
    },
    {
     "data": {
      "text/html": [
       "Tracking run with wandb version 0.18.5"
      ],
      "text/plain": [
       "<IPython.core.display.HTML object>"
      ]
     },
     "metadata": {},
     "output_type": "display_data"
    },
    {
     "data": {
      "text/html": [
       "Run data is saved locally in <code>/home/jupyter/inovation_project/2_gc-pipeline/wandb/run-20241030_131903-ghxyed2t</code>"
      ],
      "text/plain": [
       "<IPython.core.display.HTML object>"
      ]
     },
     "metadata": {},
     "output_type": "display_data"
    },
    {
     "data": {
      "text/html": [
       "Syncing run <strong><a href='https://wandb.ai/t-skorkowski/blue-marble/runs/ghxyed2t' target=\"_blank\">wicked-cobweb-130</a></strong> to <a href='https://wandb.ai/t-skorkowski/blue-marble' target=\"_blank\">Weights & Biases</a> (<a href='https://wandb.me/run' target=\"_blank\">docs</a>)<br/>"
      ],
      "text/plain": [
       "<IPython.core.display.HTML object>"
      ]
     },
     "metadata": {},
     "output_type": "display_data"
    },
    {
     "data": {
      "text/html": [
       " View project at <a href='https://wandb.ai/t-skorkowski/blue-marble' target=\"_blank\">https://wandb.ai/t-skorkowski/blue-marble</a>"
      ],
      "text/plain": [
       "<IPython.core.display.HTML object>"
      ]
     },
     "metadata": {},
     "output_type": "display_data"
    },
    {
     "data": {
      "text/html": [
       " View run at <a href='https://wandb.ai/t-skorkowski/blue-marble/runs/ghxyed2t' target=\"_blank\">https://wandb.ai/t-skorkowski/blue-marble/runs/ghxyed2t</a>"
      ],
      "text/plain": [
       "<IPython.core.display.HTML object>"
      ]
     },
     "metadata": {},
     "output_type": "display_data"
    },
    {
     "name": "stdout",
     "output_type": "stream",
     "text": [
      "Initial predictions: [[99.99836]\n",
      " [99.99836]\n",
      " [99.99836]\n",
      " [99.99836]\n",
      " [99.99836]]\n",
      "Initial predictions std: 0.0\n",
      "Target values: [[150. ]\n",
      " [150.7]\n",
      " [163.1]\n",
      " [175.6]\n",
      " [ 50. ]]\n",
      "Model compiled\n",
      "Epoch 1/15\n"
     ]
    },
    {
     "ename": "AttributeError",
     "evalue": "'Nadam' object has no attribute 'get_gradients'",
     "output_type": "error",
     "traceback": [
      "\u001b[0;31m---------------------------------------------------------------------------\u001b[0m",
      "\u001b[0;31mAttributeError\u001b[0m                            Traceback (most recent call last)",
      "Cell \u001b[0;32mIn[49], line 24\u001b[0m\n\u001b[1;32m     20\u001b[0m     \u001b[38;5;28mprint\u001b[39m(\u001b[38;5;124m\"\u001b[39m\u001b[38;5;124mTarget values:\u001b[39m\u001b[38;5;124m\"\u001b[39m, y\u001b[38;5;241m.\u001b[39mnumpy()[:\u001b[38;5;241m5\u001b[39m])\n\u001b[1;32m     22\u001b[0m \u001b[38;5;28mprint\u001b[39m(\u001b[38;5;124m\"\u001b[39m\u001b[38;5;124mModel compiled\u001b[39m\u001b[38;5;124m\"\u001b[39m)\n\u001b[0;32m---> 24\u001b[0m history \u001b[38;5;241m=\u001b[39m \u001b[43mmodel\u001b[49m\u001b[38;5;241;43m.\u001b[39;49m\u001b[43mfit\u001b[49m\u001b[43m(\u001b[49m\u001b[43mtrain_dataset\u001b[49m\u001b[43m,\u001b[49m\u001b[43m \u001b[49m\u001b[43mepochs\u001b[49m\u001b[38;5;241;43m=\u001b[39;49m\u001b[38;5;241;43m15\u001b[39;49m\u001b[43m)\u001b[49m\n\u001b[1;32m     25\u001b[0m wandb\u001b[38;5;241m.\u001b[39mfinish() \n",
      "Cell \u001b[0;32mIn[48], line 155\u001b[0m, in \u001b[0;36mLstmModel.fit\u001b[0;34m(self, dataset, epochs)\u001b[0m\n\u001b[1;32m    149\u001b[0m early_stopping \u001b[38;5;241m=\u001b[39m EarlyStopping(\n\u001b[1;32m    150\u001b[0m     monitor\u001b[38;5;241m=\u001b[39m\u001b[38;5;124m\"\u001b[39m\u001b[38;5;124mval_loss\u001b[39m\u001b[38;5;124m\"\u001b[39m, patience\u001b[38;5;241m=\u001b[39m\u001b[38;5;241m15\u001b[39m, restore_best_weights\u001b[38;5;241m=\u001b[39m\u001b[38;5;28;01mTrue\u001b[39;00m\n\u001b[1;32m    151\u001b[0m )\n\u001b[1;32m    154\u001b[0m \u001b[38;5;66;03m# Train the model\u001b[39;00m\n\u001b[0;32m--> 155\u001b[0m history \u001b[38;5;241m=\u001b[39m \u001b[38;5;28;43msuper\u001b[39;49m\u001b[43m(\u001b[49m\u001b[43mLstmModel\u001b[49m\u001b[43m,\u001b[49m\u001b[43m \u001b[49m\u001b[38;5;28;43mself\u001b[39;49m\u001b[43m)\u001b[49m\u001b[38;5;241;43m.\u001b[39;49m\u001b[43mfit\u001b[49m\u001b[43m(\u001b[49m\n\u001b[1;32m    156\u001b[0m \u001b[43m    \u001b[49m\u001b[43mtrain_dataset\u001b[49m\u001b[43m,\u001b[49m\n\u001b[1;32m    157\u001b[0m \u001b[43m    \u001b[49m\u001b[43mepochs\u001b[49m\u001b[38;5;241;43m=\u001b[39;49m\u001b[43mepochs\u001b[49m\u001b[43m,\u001b[49m\n\u001b[1;32m    158\u001b[0m \u001b[43m    \u001b[49m\u001b[38;5;66;43;03m# batch_size=batch_size,\u001b[39;49;00m\n\u001b[1;32m    159\u001b[0m \u001b[43m    \u001b[49m\u001b[43mvalidation_data\u001b[49m\u001b[38;5;241;43m=\u001b[39;49m\u001b[43mval_dataset\u001b[49m\u001b[43m,\u001b[49m\n\u001b[1;32m    160\u001b[0m \u001b[43m    \u001b[49m\u001b[43mcallbacks\u001b[49m\u001b[38;5;241;43m=\u001b[39;49m\u001b[43m[\u001b[49m\u001b[43mearly_stopping\u001b[49m\u001b[43m,\u001b[49m\u001b[43m \u001b[49m\u001b[43mGradientDebugCallback\u001b[49m\u001b[43m(\u001b[49m\u001b[43m)\u001b[49m\u001b[43m,\u001b[49m\u001b[43m \u001b[49m\u001b[43mWandbMetricsLogger\u001b[49m\u001b[43m(\u001b[49m\u001b[43m)\u001b[49m\u001b[43m]\u001b[49m\n\u001b[1;32m    161\u001b[0m \u001b[43m\u001b[49m\u001b[43m)\u001b[49m\n\u001b[1;32m    163\u001b[0m responses_train \u001b[38;5;241m=\u001b[39m np\u001b[38;5;241m.\u001b[39mconcatenate(\n\u001b[1;32m    164\u001b[0m     [response\u001b[38;5;241m.\u001b[39mnumpy() \u001b[38;5;28;01mfor\u001b[39;00m _, response \u001b[38;5;129;01min\u001b[39;00m train_dataset], axis\u001b[38;5;241m=\u001b[39m\u001b[38;5;241m0\u001b[39m\n\u001b[1;32m    165\u001b[0m )\n\u001b[1;32m    166\u001b[0m mean_response_train \u001b[38;5;241m=\u001b[39m np\u001b[38;5;241m.\u001b[39mmean(responses_train)\n",
      "File \u001b[0;32m/opt/conda/lib/python3.10/site-packages/wandb/integration/keras/keras.py:176\u001b[0m, in \u001b[0;36mpatch_tf_keras.<locals>.new_v2\u001b[0;34m(*args, **kwargs)\u001b[0m\n\u001b[1;32m    174\u001b[0m     \u001b[38;5;28;01mfor\u001b[39;00m cbk \u001b[38;5;129;01min\u001b[39;00m cbks:\n\u001b[1;32m    175\u001b[0m         set_wandb_attrs(cbk, val_data)\n\u001b[0;32m--> 176\u001b[0m \u001b[38;5;28;01mreturn\u001b[39;00m \u001b[43mold_v2\u001b[49m\u001b[43m(\u001b[49m\u001b[38;5;241;43m*\u001b[39;49m\u001b[43margs\u001b[49m\u001b[43m,\u001b[49m\u001b[43m \u001b[49m\u001b[38;5;241;43m*\u001b[39;49m\u001b[38;5;241;43m*\u001b[39;49m\u001b[43mkwargs\u001b[49m\u001b[43m)\u001b[49m\n",
      "File \u001b[0;32m/opt/conda/lib/python3.10/site-packages/wandb/integration/keras/keras.py:176\u001b[0m, in \u001b[0;36mpatch_tf_keras.<locals>.new_v2\u001b[0;34m(*args, **kwargs)\u001b[0m\n\u001b[1;32m    174\u001b[0m     \u001b[38;5;28;01mfor\u001b[39;00m cbk \u001b[38;5;129;01min\u001b[39;00m cbks:\n\u001b[1;32m    175\u001b[0m         set_wandb_attrs(cbk, val_data)\n\u001b[0;32m--> 176\u001b[0m \u001b[38;5;28;01mreturn\u001b[39;00m \u001b[43mold_v2\u001b[49m\u001b[43m(\u001b[49m\u001b[38;5;241;43m*\u001b[39;49m\u001b[43margs\u001b[49m\u001b[43m,\u001b[49m\u001b[43m \u001b[49m\u001b[38;5;241;43m*\u001b[39;49m\u001b[38;5;241;43m*\u001b[39;49m\u001b[43mkwargs\u001b[49m\u001b[43m)\u001b[49m\n",
      "File \u001b[0;32m/opt/conda/lib/python3.10/site-packages/wandb/integration/keras/keras.py:176\u001b[0m, in \u001b[0;36mpatch_tf_keras.<locals>.new_v2\u001b[0;34m(*args, **kwargs)\u001b[0m\n\u001b[1;32m    174\u001b[0m     \u001b[38;5;28;01mfor\u001b[39;00m cbk \u001b[38;5;129;01min\u001b[39;00m cbks:\n\u001b[1;32m    175\u001b[0m         set_wandb_attrs(cbk, val_data)\n\u001b[0;32m--> 176\u001b[0m \u001b[38;5;28;01mreturn\u001b[39;00m \u001b[43mold_v2\u001b[49m\u001b[43m(\u001b[49m\u001b[38;5;241;43m*\u001b[39;49m\u001b[43margs\u001b[49m\u001b[43m,\u001b[49m\u001b[43m \u001b[49m\u001b[38;5;241;43m*\u001b[39;49m\u001b[38;5;241;43m*\u001b[39;49m\u001b[43mkwargs\u001b[49m\u001b[43m)\u001b[49m\n",
      "File \u001b[0;32m/opt/conda/lib/python3.10/site-packages/keras/utils/traceback_utils.py:70\u001b[0m, in \u001b[0;36mfilter_traceback.<locals>.error_handler\u001b[0;34m(*args, **kwargs)\u001b[0m\n\u001b[1;32m     67\u001b[0m     filtered_tb \u001b[38;5;241m=\u001b[39m _process_traceback_frames(e\u001b[38;5;241m.\u001b[39m__traceback__)\n\u001b[1;32m     68\u001b[0m     \u001b[38;5;66;03m# To get the full stack trace, call:\u001b[39;00m\n\u001b[1;32m     69\u001b[0m     \u001b[38;5;66;03m# `tf.debugging.disable_traceback_filtering()`\u001b[39;00m\n\u001b[0;32m---> 70\u001b[0m     \u001b[38;5;28;01mraise\u001b[39;00m e\u001b[38;5;241m.\u001b[39mwith_traceback(filtered_tb) \u001b[38;5;28;01mfrom\u001b[39;00m \u001b[38;5;28;01mNone\u001b[39;00m\n\u001b[1;32m     71\u001b[0m \u001b[38;5;28;01mfinally\u001b[39;00m:\n\u001b[1;32m     72\u001b[0m     \u001b[38;5;28;01mdel\u001b[39;00m filtered_tb\n",
      "Cell \u001b[0;32mIn[48], line 19\u001b[0m, in \u001b[0;36mGradientDebugCallback.on_batch_end\u001b[0;34m(self, batch, logs)\u001b[0m\n\u001b[1;32m     17\u001b[0m \u001b[38;5;28;01mdef\u001b[39;00m \u001b[38;5;21mon_batch_end\u001b[39m(\u001b[38;5;28mself\u001b[39m, batch, logs\u001b[38;5;241m=\u001b[39m\u001b[38;5;28;01mNone\u001b[39;00m):\n\u001b[1;32m     18\u001b[0m     weights \u001b[38;5;241m=\u001b[39m \u001b[38;5;28mself\u001b[39m\u001b[38;5;241m.\u001b[39mmodel\u001b[38;5;241m.\u001b[39mtrainable_weights\n\u001b[0;32m---> 19\u001b[0m     grads \u001b[38;5;241m=\u001b[39m \u001b[38;5;28;43mself\u001b[39;49m\u001b[38;5;241;43m.\u001b[39;49m\u001b[43mmodel\u001b[49m\u001b[38;5;241;43m.\u001b[39;49m\u001b[43moptimizer\u001b[49m\u001b[38;5;241;43m.\u001b[39;49m\u001b[43mget_gradients\u001b[49m(\u001b[38;5;28mself\u001b[39m\u001b[38;5;241m.\u001b[39mmodel\u001b[38;5;241m.\u001b[39mtotal_loss, weights)\n\u001b[1;32m     20\u001b[0m     \u001b[38;5;28mprint\u001b[39m(\u001b[38;5;124mf\u001b[39m\u001b[38;5;124m\"\u001b[39m\u001b[38;5;124mBatch \u001b[39m\u001b[38;5;132;01m{\u001b[39;00mbatch\u001b[38;5;132;01m}\u001b[39;00m\u001b[38;5;124m\"\u001b[39m)\n\u001b[1;32m     21\u001b[0m     \u001b[38;5;28mprint\u001b[39m(\u001b[38;5;124m\"\u001b[39m\u001b[38;5;124mGradient norms:\u001b[39m\u001b[38;5;124m\"\u001b[39m, [tf\u001b[38;5;241m.\u001b[39mnorm(g)\u001b[38;5;241m.\u001b[39mnumpy() \u001b[38;5;28;01mif\u001b[39;00m g \u001b[38;5;129;01mis\u001b[39;00m \u001b[38;5;129;01mnot\u001b[39;00m \u001b[38;5;28;01mNone\u001b[39;00m \u001b[38;5;28;01melse\u001b[39;00m \u001b[38;5;241m0\u001b[39m \u001b[38;5;28;01mfor\u001b[39;00m g \u001b[38;5;129;01min\u001b[39;00m grads])\n",
      "\u001b[0;31mAttributeError\u001b[0m: 'Nadam' object has no attribute 'get_gradients'"
     ]
    }
   ],
   "source": [
    "wandb.init(\n",
    "        # set the wandb project where this run will be logged\n",
    "        project=\"blue-marble\")\n",
    "\n",
    "model = TimeDependentDenseLstmModel(input_shape = input_shape,\n",
    "                                lstm_layers = 3,\n",
    "                                dense_layers_per_step = 17,\n",
    "                                no_units = 5,\n",
    "                                val_size = val_size,\n",
    "                                dropout_rate = 0.3,\n",
    "                                kernel_initializer = tf.keras.initializers.RandomUniform(seed=42))\n",
    "model.compile(optimizer= \"nadam\",\n",
    "              learning_rate = 0.04038111849659211,\n",
    "              loss=pen_low_loss)\n",
    "\n",
    "for x, y in train_dataset.take(1):\n",
    "    initial_pred = model(x)\n",
    "    print(\"Initial predictions:\", initial_pred.numpy()[:5])\n",
    "    print(\"Initial predictions std:\", np.std(initial_pred))\n",
    "    print(\"Target values:\", y.numpy()[:5])\n",
    "\n",
    "print(\"Model compiled\")\n",
    "\n",
    "history = model.fit(train_dataset, epochs=15)\n",
    "wandb.finish() "
   ]
  },
  {
   "cell_type": "code",
   "execution_count": 8,
   "id": "93d52fb3-2ceb-417d-a24a-bd212085deb1",
   "metadata": {
    "tags": []
   },
   "outputs": [
    {
     "data": {
      "text/plain": [
       "'6a41c5a7d5d063e33b4bea24275d0b3d7afd3865'"
      ]
     },
     "execution_count": 8,
     "metadata": {},
     "output_type": "execute_result"
    }
   ],
   "source": [
    "secret_value"
   ]
  },
  {
   "cell_type": "code",
   "execution_count": 7,
   "id": "114b8ba0-abb2-4797-8836-2b52d7666743",
   "metadata": {
    "tags": []
   },
   "outputs": [
    {
     "name": "stderr",
     "output_type": "stream",
     "text": [
      "Failed to detect the name of this notebook, you can set it manually with the WANDB_NOTEBOOK_NAME environment variable to enable code saving.\n",
      "\u001b[34m\u001b[1mwandb\u001b[0m: Using wandb-core as the SDK backend. Please refer to https://wandb.me/wandb-core for more information.\n",
      "\u001b[34m\u001b[1mwandb\u001b[0m: Currently logged in as: \u001b[33mt-skorkowski\u001b[0m. Use \u001b[1m`wandb login --relogin`\u001b[0m to force relogin\n"
     ]
    },
    {
     "data": {
      "text/plain": [
       "True"
      ]
     },
     "execution_count": 7,
     "metadata": {},
     "output_type": "execute_result"
    }
   ],
   "source": [
    "wandb.login()"
   ]
  },
  {
   "cell_type": "code",
   "execution_count": null,
   "id": "f31af197-7ed6-478b-b029-ced407ba9169",
   "metadata": {
    "tags": []
   },
   "outputs": [],
   "source": [
    "\n",
    "# Define the initializers you want to test\n",
    "initializers = [\n",
    "    tf.keras.initializers.RandomNormal(seed=42),\n",
    "    tf.keras.initializers.RandomUniform(seed=42),\n",
    "    tf.keras.initializers.HeNormal(seed=42),\n",
    "    tf.keras.initializers.GlorotUniform(seed=42)\n",
    "]\n",
    "\n",
    "sweep_configuration = {\n",
    "    \"name\": \"bm_sweep\",\n",
    "    \"method\": \"bayes\",\n",
    "    \"metric\": {\"goal\": \"minimize\", \"name\": \"validation_loss\"},\n",
    "    \"count\": 200,\n",
    "    \"parameters\": {\n",
    "        \"lstm_layers_units\": {\"values\": [(0,0), (3,5), (10,25)]},\n",
    "        \"dense_layers_per_step\": {\"values\": [10, 17, 27]},\n",
    "        \"dropout_rate\": {\"values\": [0.1, 0.2, 0.3]},\n",
    "        \"kernel_initializer\": {\"values\": [0,1,2,3]},\n",
    "        \"num_bins_num_bands\": {\"values\": [(12, 3), (12,9), (32,9), (60,3), (60,9)]},\n",
    "        \"lr\": {\"distribution\": \"uniform\",\n",
    "               \"min\": 0.0001,\n",
    "               \"max\": 0.1},\n",
    "        \"batch_size\": {\"values\": [16, 32, 64]},\n",
    "        \"epochs\": {\"values\": [20]},\n",
    "        \"optimizer\": {\"values\": [\"adam\", \"rms\", \"nadam\"]},\n",
    "    },\n",
    "}\n",
    "\n",
    "sweep_id = wandb.sweep(sweep_configuration,\n",
    "                      project=\"blue-marble\")\n",
    "wandb.agent(sweep_id, function=train_wandb)\n",
    "\n"
   ]
  },
  {
   "cell_type": "code",
   "execution_count": 7,
   "id": "10447edd-f0c8-422a-9188-a5871a554687",
   "metadata": {
    "tags": []
   },
   "outputs": [
    {
     "data": {
      "text/html": [
       "<style>\n",
       "    table.wandb td:nth-child(1) { padding: 0 10px; text-align: left ; width: auto;} td:nth-child(2) {text-align: left ; width: 100%}\n",
       "    .wandb-row { display: flex; flex-direction: row; flex-wrap: wrap; justify-content: flex-start; width: 100% }\n",
       "    .wandb-col { display: flex; flex-direction: column; flex-basis: 100%; flex: 1; padding: 10px; }\n",
       "    </style>\n",
       "<div class=\"wandb-row\"><div class=\"wandb-col\"><h3>Run history:</h3><br/><table class=\"wandb\"><tr><td>epoch/epoch</td><td>▁▅█</td></tr><tr><td>epoch/learning_rate</td><td>▁▁▁</td></tr><tr><td>epoch/loss</td><td>█▅▁</td></tr><tr><td>epoch/mae</td><td>█▇▁</td></tr><tr><td>epoch/mse</td><td>█▇▁</td></tr><tr><td>epoch/val_loss</td><td>▂█▁</td></tr><tr><td>epoch/val_mae</td><td>▁█▃</td></tr><tr><td>epoch/val_mse</td><td>▁█▄</td></tr></table><br/></div><div class=\"wandb-col\"><h3>Run summary:</h3><br/><table class=\"wandb\"><tr><td>epoch/epoch</td><td>2</td></tr><tr><td>epoch/learning_rate</td><td>0.04038</td></tr><tr><td>epoch/loss</td><td>16149.87109</td></tr><tr><td>epoch/mae</td><td>109.74801</td></tr><tr><td>epoch/mse</td><td>15086.33594</td></tr><tr><td>epoch/val_loss</td><td>14657.8584</td></tr><tr><td>epoch/val_mae</td><td>111.75623</td></tr><tr><td>epoch/val_mse</td><td>14831.7373</td></tr></table><br/></div></div>"
      ],
      "text/plain": [
       "<IPython.core.display.HTML object>"
      ]
     },
     "metadata": {},
     "output_type": "display_data"
    },
    {
     "data": {
      "text/html": [
       " View run <strong style=\"color:#cdcd00\">murky-ghost-104</strong> at: <a href='https://wandb.ai/t-skorkowski/blue-marble/runs/1lhs26ak' target=\"_blank\">https://wandb.ai/t-skorkowski/blue-marble/runs/1lhs26ak</a><br/> View project at: <a href='https://wandb.ai/t-skorkowski/blue-marble' target=\"_blank\">https://wandb.ai/t-skorkowski/blue-marble</a><br/>Synced 5 W&B file(s), 0 media file(s), 0 artifact file(s) and 0 other file(s)"
      ],
      "text/plain": [
       "<IPython.core.display.HTML object>"
      ]
     },
     "metadata": {},
     "output_type": "display_data"
    },
    {
     "data": {
      "text/html": [
       "Find logs at: <code>./wandb/run-20241030_105257-1lhs26ak/logs</code>"
      ],
      "text/plain": [
       "<IPython.core.display.HTML object>"
      ]
     },
     "metadata": {},
     "output_type": "display_data"
    }
   ],
   "source": [
    "wandb.finish()"
   ]
  },
  {
   "cell_type": "code",
   "execution_count": 19,
   "id": "bfb4b2ea-daa2-4675-85a4-0422557f9b5e",
   "metadata": {
    "tags": []
   },
   "outputs": [
    {
     "name": "stdout",
     "output_type": "stream",
     "text": [
      "2/2 [==============================] - 0s 99ms/step - loss: 19518.5488 - mae: 131.6927 - mse: 20154.2793\n"
     ]
    },
    {
     "data": {
      "text/plain": [
       "[19518.548828125, 131.6927490234375, 20154.279296875]"
      ]
     },
     "execution_count": 19,
     "metadata": {},
     "output_type": "execute_result"
    }
   ],
   "source": [
    "model.evaluate(test_dataset)"
   ]
  },
  {
   "cell_type": "code",
   "execution_count": 22,
   "id": "fddbe97b-84e9-4619-bb89-983c52a32073",
   "metadata": {
    "tags": []
   },
   "outputs": [
    {
     "name": "stdout",
     "output_type": "stream",
     "text": [
      "tf.Tensor(4171.9155, shape=(), dtype=float32)\n",
      "lively-foie-gras\n"
     ]
    }
   ],
   "source": [
    "print(model.job_name)"
   ]
  },
  {
   "cell_type": "code",
   "execution_count": null,
   "id": "e38b1c93-b7e0-436d-b5c8-a1c2f92ae05e",
   "metadata": {},
   "outputs": [],
   "source": [
    "for layer in model.layers:\n",
    "    # Get weights for the layer\n",
    "    weights = layer.get_weights()\n",
    "    \n",
    "    # Check if the layer has weights\n",
    "    if weights:\n",
    "        print(f\"Layer: {layer.name}\")\n",
    "        for i, weight in enumerate(weights):\n",
    "            print(f\"  Weight {i+1} shape: {weight.shape}\")\n",
    "            print(f\"  Weight {i+1} values: \\n{weight}\\n\")\n",
    "    else:\n",
    "        print(f\"Layer: {layer.name} has no weights.\")"
   ]
  },
  {
   "cell_type": "code",
   "execution_count": 46,
   "id": "0b4eb99b-38e4-429e-badb-e4d1b2a1cece",
   "metadata": {
    "tags": []
   },
   "outputs": [
    {
     "name": "stdout",
     "output_type": "stream",
     "text": [
      "2/2 [==============================] - 0s 114ms/step\n"
     ]
    }
   ],
   "source": [
    "predictions = model.predict(test_dataset)"
   ]
  },
  {
   "cell_type": "code",
   "execution_count": 47,
   "id": "6ec59eb2-af59-47b7-9bd5-e4376e9a4ba5",
   "metadata": {
    "tags": []
   },
   "outputs": [
    {
     "data": {
      "text/plain": [
       "array([[100.288155],\n",
       "       [100.288155],\n",
       "       [100.288155],\n",
       "       [100.288155],\n",
       "       [100.288155],\n",
       "       [100.288155],\n",
       "       [100.288155],\n",
       "       [100.288155],\n",
       "       [100.288155],\n",
       "       [100.288155]], dtype=float32)"
      ]
     },
     "execution_count": 47,
     "metadata": {},
     "output_type": "execute_result"
    }
   ],
   "source": [
    "predictions"
   ]
  },
  {
   "cell_type": "code",
   "execution_count": 13,
   "id": "af75185d-54ce-4771-814a-8750873b56c8",
   "metadata": {
    "tags": []
   },
   "outputs": [
    {
     "data": {
      "image/png": "[encoded data removed]",
      "text/plain": [
       "<Figure size 800x800 with 1 Axes>"
      ]
     },
     "metadata": {},
     "output_type": "display_data"
    }
   ],
   "source": [
    "actual_labels = np.concatenate([response.numpy() for _, response in test_dataset], axis=0)\n",
    "\n",
    "# Plot actual vs. predicted\n",
    "plt.figure(figsize=(8, 8))\n",
    "plt.scatter(actual_labels, predictions, alpha=0.5, edgecolors='k')\n",
    "plt.xlabel('Actual Labels')\n",
    "plt.ylabel('Predictions')\n",
    "plt.title('Actual vs. Predicted')\n",
    "plt.plot([min(actual_labels), max(actual_labels)], [min(actual_labels), max(actual_labels)], 'r--')  # Line y=x for reference\n",
    "plt.show()"
   ]
  },
  {
   "cell_type": "code",
   "execution_count": null,
   "id": "e9a6b77f-5205-48a4-ad40-b6c7b0af8535",
   "metadata": {
    "tags": []
   },
   "outputs": [],
   "source": [
    "for layer in model.layers:\n",
    "    print(layer.weights)"
   ]
  },
  {
   "cell_type": "code",
   "execution_count": null,
   "id": "cc361cbd-1f51-4d13-9091-d830fd60e868",
   "metadata": {},
   "outputs": [],
   "source": []
  }
 ],
 "metadata": {
  "environment": {
   "kernel": "conda-base-py",
   "name": "workbench-notebooks.m125",
   "type": "gcloud",
   "uri": "us-docker.pkg.dev/deeplearning-platform-release/gcr.io/workbench-notebooks:m125"
  },
  "kernelspec": {
   "display_name": "Python 3 (ipykernel) (Local)",
   "language": "python",
   "name": "conda-base-py"
  },
  "language_info": {
   "codemirror_mode": {
    "name": "ipython",
    "version": 3
   },
   "file_extension": ".py",
   "mimetype": "text/x-python",
   "name": "python",
   "nbconvert_exporter": "python",
   "pygments_lexer": "ipython3",
   "version": "3.10.15"
  }
 },
 "nbformat": 4,
 "nbformat_minor": 5
}
