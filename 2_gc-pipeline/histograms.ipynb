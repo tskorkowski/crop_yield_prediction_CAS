{
 "cells": [
  {
   "cell_type": "code",
   "execution_count": 7,
   "id": "72aa9012-c901-475d-af55-d2d8279e3b96",
   "metadata": {
    "tags": []
   },
   "outputs": [],
   "source": [
    "# Setup\n",
    "!pip install --quiet --upgrade pip\n",
    "\n",
    "# Install the dependencies.\n",
    "!pip install --quiet -r gdal_req.txt\n",
    "\n",
    "# Restart the runtime by ending the process.\n",
    "exit()"
   ]
  },
  {
   "cell_type": "code",
   "execution_count": 1,
   "id": "c3d93dbd-4fd4-4d22-a4fb-bf2715b1f291",
   "metadata": {},
   "outputs": [],
   "source": [
    "import numpy as np\n",
    "import rasterio\n",
    "from google.cloud import storage\n",
    "import os\n",
    "import matplotlib.pyplot as plt\n",
    "from serving.constants import  SCALE, BUCKET, IMG_SOURCE_PREFIX, HIST_DEST_PREFIX, NUM_BANDS, HIST_BINS_LIST, SCALE, CROP, MONTHS, IMAGE_BATCH\n",
    "from serving.hist_data import recombine_image, write_histogram_to_gcs\n",
    "from serving.common import list_blobs_with_prefix\n",
    "from serving.data import get_varied_labels, get_labels\n",
    "import io\n",
    "import google.auth\n",
    "from rasterio.io import MemoryFile\n",
    "from osgeo import gdal\n",
    "import time\n",
    "import logging\n",
    "from concurrent.futures import ThreadPoolExecutor, as_completed"
   ]
  },
  {
   "cell_type": "code",
   "execution_count": 2,
   "id": "c2971217-5d41-48ec-af03-7b960f33e742",
   "metadata": {
    "tags": []
   },
   "outputs": [],
   "source": [
    "# SETUP\n",
    "credentials, _ = google.auth.default()\n",
    "\n",
    "bucket_name = BUCKET\n",
    "\n",
    "directory_prefix = IMG_SOURCE_PREFIX\n",
    "output_prefix = HIST_DEST_PREFIX\n",
    "\n",
    "logging.basicConfig(filename=\"hist.log\",level=logging.INFO, format='%(asctime)s - %(levelname)s - %(message)s')"
   ]
  },
  {
   "cell_type": "code",
   "execution_count": 3,
   "id": "9b3f47f0-b4fe-4112-bd3c-45ac1a3fcad2",
   "metadata": {
    "tags": []
   },
   "outputs": [
    {
     "name": "stdout",
     "output_type": "stream",
     "text": [
      "Number of items to process: 556\n",
      "\n",
      "Total run time: 0.62 minutes\n",
      "Check bucket: 37.28128914599999 seconds\n",
      "Generate list of missing histograms: 0.004 secods\n",
      "\n"
     ]
    }
   ],
   "source": [
    "def check_blob_prefix_exists(bucket_name, prefix):\n",
    "    storage_client = storage.Client()\n",
    "    bucket = storage_client.bucket(bucket_name)\n",
    "    \n",
    "    blobs = bucket.list_blobs(prefix=prefix, max_results=1)\n",
    "    return any(blobs)\n",
    "\n",
    "def batch_check_blobs(bucket_name, prefixes):\n",
    "    with ThreadPoolExecutor(max_workers=10) as executor:\n",
    "        future_to_prefix = {executor.submit(check_blob_prefix_exists, bucket_name, prefix): prefix for prefix in prefixes}\n",
    "        results = {}\n",
    "        for future in as_completed(future_to_prefix):\n",
    "            prefix = future_to_prefix[future]\n",
    "            results[prefix] = future.result()\n",
    "    return results\n",
    "\n",
    "# Generate all prefixes\n",
    "start_time = time.perf_counter()\n",
    "\n",
    "labels_df = get_varied_labels(*IMAGE_BATCH)\n",
    "labels = list(zip(labels_df[\"county_name\"],\n",
    "                  labels_df[\"county_ansi\"],\n",
    "             labels_df[\"state_ansi\"],\n",
    "             labels_df[\"year\"]))\n",
    "months = MONTHS\n",
    "\n",
    "prefixes = [f'images/{SCALE}/{county.capitalize()}_{fips}/{year}/{month}-{month+1}' \n",
    "            for county,_, fips, year in labels\n",
    "            for month in months]\n",
    "\n",
    "prefixes_hist = [f'histograms/{SCALE}/{county.capitalize()}_{fips}/{year}/{month}-{month+1}' \n",
    "            for county,_, fips, year in labels\n",
    "            for month in months]\n",
    "\n",
    "generate_prefixes = time.perf_counter()\n",
    "\n",
    "# Batch check all prefixes\n",
    "results_img = batch_check_blobs(bucket_name, prefixes)\n",
    "results_hist = batch_check_blobs(bucket_name, prefixes_hist)\n",
    "\n",
    "check_bucket = time.perf_counter()\n",
    "\n",
    "# Generate get_input_img_params based on results\n",
    "get_input_img_params = [\n",
    "    {\"county\": county.capitalize(), \"state_fips\": fips, \"year\": year, \"month\": month}\n",
    "            for county, county_fips, fips, year in labels\n",
    "            for month in months\n",
    "            if (results_img[f'images/{SCALE}/{county.capitalize()}_{fips}/{year}/{month}-{month+1}'] and\n",
    "                not results_hist[f'histograms/{SCALE}/{county.capitalize()}_{fips}/{year}/{month}-{month+1}'])\n",
    "]\n",
    "\n",
    "generate_valid_list = time.perf_counter()\n",
    "\n",
    "print(f\"Number of items to process: {len(get_input_img_params)}\")\n",
    "print(f\"\"\"\n",
    "Total run time: {(generate_valid_list - start_time)/60:.02} minutes\n",
    "Check bucket: {check_bucket - generate_prefixes:02} seconds\n",
    "Generate list of missing histograms: {generate_valid_list - check_bucket:.02} secods\n",
    "\"\"\")\n",
    "\n",
    "#add part to check for existing histograms already"
   ]
  },
  {
   "cell_type": "code",
   "execution_count": 4,
   "id": "badbb623-b662-4023-a78e-b3ade09186bf",
   "metadata": {
    "tags": []
   },
   "outputs": [
    {
     "name": "stdout",
     "output_type": "stream",
     "text": [
      "556\n",
      "images/60/Leelanau_26/2021/7-8 -> histograms/60/Leelanau_26/2021/7-8\n"
     ]
    }
   ],
   "source": [
    "def img_name_composer(county, state_fips, year, month):\n",
    "    image_name = f\"{IMG_SOURCE_PREFIX}/{SCALE}/{county.capitalize()}_{state_fips}/{year}/{month}-{month+1}\"\n",
    "    return image_name\n",
    "\n",
    "def blob_name_composer(county, state_fips, year, month):\n",
    "    blob_name = f\"{HIST_DEST_PREFIX}/{SCALE}/{county.capitalize()}_{state_fips}/{year}/{month}-{month+1}\"\n",
    "    return blob_name\n",
    "\n",
    "images_to_process = [img_name_composer(**params) for params in get_input_img_params]\n",
    "blob_names = [blob_name_composer(**params) for params in get_input_img_params]\n",
    "print(len(blob_names))\n",
    "print(images_to_process[10],blob_names[10], sep=\" -> \")"
   ]
  },
  {
   "cell_type": "code",
   "execution_count": null,
   "id": "519a329b-1a61-467f-af71-63d08df77738",
   "metadata": {},
   "outputs": [
    {
     "name": "stdout",
     "output_type": "stream",
     "text": [
      "Created 100 histograms already\n",
      "Created 200 histograms already\n",
      "Created 300 histograms already\n",
      "Created 400 histograms already\n",
      "Created 500 histograms already\n",
      "Finished, created 556 histograms\n"
     ]
    }
   ],
   "source": [
    "# Usage\n",
    "start_time = time.perf_counter()\n",
    "count = 0\n",
    "for image_name, blob_name in zip(images_to_process, blob_names):\n",
    "    recombine_image_hist = recombine_image(BUCKET, image_name, HIST_BINS_LIST, NUM_BANDS)\n",
    "    write_histogram_to_gcs(recombine_image_hist, BUCKET, blob_name)\n",
    "    count += 1 \n",
    "    if count % 100 == 0:\n",
    "        print(f\"Created {count} histograms already\")\n",
    "end_time = time.perf_counter()\n",
    "\n",
    "print(f\"Finished, created {count} histograms\")\n",
    "print(f\"Elapsed time {(end_time - start_time)/60} minutes\")"
   ]
  },
  {
   "cell_type": "code",
   "execution_count": null,
   "id": "8f0d8cce-18eb-4cba-9dff-75ae1af7ac52",
   "metadata": {},
   "outputs": [],
   "source": []
  }
 ],
 "metadata": {
  "environment": {
   "kernel": "conda-env-gdal_conda-gdal_conda",
   "name": "workbench-notebooks.m125",
   "type": "gcloud",
   "uri": "us-docker.pkg.dev/deeplearning-platform-release/gcr.io/workbench-notebooks:m125"
  },
  "kernelspec": {
   "display_name": "GDAL_kernel (Local)",
   "language": "python",
   "name": "conda-env-gdal_conda-gdal_conda"
  },
  "language_info": {
   "codemirror_mode": {
    "name": "ipython",
    "version": 3
   },
   "file_extension": ".py",
   "mimetype": "text/x-python",
   "name": "python",
   "nbconvert_exporter": "python",
   "pygments_lexer": "ipython3",
   "version": "3.13.0"
  }
 },
 "nbformat": 4,
 "nbformat_minor": 5
}
