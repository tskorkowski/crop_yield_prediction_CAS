{
 "cells": [
  {
   "cell_type": "code",
   "execution_count": 1,
   "id": "72aa9012-c901-475d-af55-d2d8279e3b96",
   "metadata": {
    "tags": []
   },
   "outputs": [],
   "source": [
    "# Setup\n",
    "!pip install --quiet --upgrade pip\n",
    "\n",
    "# Install the dependencies.\n",
    "!pip install --quiet -r gdal_req.txt\n",
    "\n",
    "# Restart the runtime by ending the process.\n",
    "exit()"
   ]
  },
  {
   "cell_type": "code",
   "execution_count": 1,
   "id": "c3d93dbd-4fd4-4d22-a4fb-bf2715b1f291",
   "metadata": {},
   "outputs": [],
   "source": [
    "import numpy as np\n",
    "import rasterio\n",
    "from google.cloud import storage\n",
    "import os\n",
    "import matplotlib.pyplot as plt\n",
    "from serving.constants import  BUCKET, IMG_SOURCE_PREFIX, HIST_DEST_PREFIX, NUM_BANDS, HIST_BINS_LIST, SCALE, CROP\n",
    "from serving.hist_data import recombine_image, write_histogram_to_gcs\n",
    "from serving.common import list_blobs_with_prefix\n",
    "import io\n",
    "import google.auth\n",
    "from rasterio.io import MemoryFile\n",
    "from osgeo import gdal\n",
    "import time\n",
    "import logging"
   ]
  },
  {
   "cell_type": "code",
   "execution_count": 2,
   "id": "c2971217-5d41-48ec-af03-7b960f33e742",
   "metadata": {
    "tags": []
   },
   "outputs": [],
   "source": [
    "# SETUP\n",
    "credentials, _ = google.auth.default()\n",
    "\n",
    "bucket_name = BUCKET\n",
    "\n",
    "directory_prefix = IMG_SOURCE_PREFIX\n",
    "output_prefix = HIST_DEST_PREFIX\n",
    "\n",
    "logging.basicConfig(filename=\"hist.log\",level=logging.INFO, format='%(asctime)s - %(levelname)s - %(message)s')\n",
    "\n",
    "counties = [\"Lancaster\", \"Crawford\", \"Orleans\", \"Tulare\", \"Wharton\", \"Story\", \"Canyon\", \"Kit Carson\"]\n",
    "years = range(2017,2019)\n",
    "months = [5,7,9]"
   ]
  },
  {
   "cell_type": "code",
   "execution_count": 3,
   "id": "badbb623-b662-4023-a78e-b3ade09186bf",
   "metadata": {
    "tags": []
   },
   "outputs": [
    {
     "name": "stdout",
     "output_type": "stream",
     "text": [
      "48\n"
     ]
    }
   ],
   "source": [
    "get_input_img_params = [{\"county\": county,\n",
    "                        \"year\": year,\n",
    "                        \"month\": month} for county in counties\n",
    "                                       for year in years\n",
    "                                       for month in months\n",
    "                       ]\n",
    "def img_name_composer(county, year, month):\n",
    "    return f\"{IMG_SOURCE_PREFIX}{county}_{year}_{month}-{month+1}\"\n",
    "\n",
    "images_to_process = [img_name_composer(**params) for params in get_input_img_params]\n",
    "blob_names = [f\"{HIST_DEST_PREFIX}{county}/{year}/{month}-{month+1}/{SCALE}/hist\" for county in counties\n",
    "                                       for year in years\n",
    "                                       for month in months\n",
    "                       ]\n",
    "print(len(blob_names))"
   ]
  },
  {
   "cell_type": "code",
   "execution_count": 6,
   "id": "519a329b-1a61-467f-af71-63d08df77738",
   "metadata": {},
   "outputs": [],
   "source": [
    "# Usage\n",
    "for image_name, blob_name in zip(images_to_process, blob_names):\n",
    "    recombine_image_hist = recombine_image(BUCKET, image_name, HIST_BINS_LIST, NUM_BANDS)\n",
    "    write_histogram_to_gcs(recombine_image_hist, BUCKET, blob_name)"
   ]
  }
 ],
 "metadata": {
  "environment": {
   "kernel": "conda-env-gdal_conda-gdal_conda",
   "name": "workbench-notebooks.m125",
   "type": "gcloud",
   "uri": "us-docker.pkg.dev/deeplearning-platform-release/gcr.io/workbench-notebooks:m125"
  },
  "kernelspec": {
   "display_name": "GDAL_kernel (Local)",
   "language": "python",
   "name": "conda-env-gdal_conda-gdal_conda"
  },
  "language_info": {
   "codemirror_mode": {
    "name": "ipython",
    "version": 3
   },
   "file_extension": ".py",
   "mimetype": "text/x-python",
   "name": "python",
   "nbconvert_exporter": "python",
   "pygments_lexer": "ipython3",
   "version": "3.13.0"
  }
 },
 "nbformat": 4,
 "nbformat_minor": 5
}
