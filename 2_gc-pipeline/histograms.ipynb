{
 "cells": [
  {
   "cell_type": "code",
   "execution_count": 23,
   "id": "72aa9012-c901-475d-af55-d2d8279e3b96",
   "metadata": {
    "tags": []
   },
   "outputs": [],
   "source": [
    "# Setup\n",
    "!pip install --quiet --upgrade pip\n",
    "\n",
    "# Install the dependencies.\n",
    "!pip install --quiet -r gdal_req.txt\n",
    "\n",
    "# Restart the runtime by ending the process.\n",
    "exit()"
   ]
  },
  {
   "cell_type": "code",
   "execution_count": 1,
   "id": "c3d93dbd-4fd4-4d22-a4fb-bf2715b1f291",
   "metadata": {},
   "outputs": [],
   "source": [
    "import numpy as np\n",
    "import rasterio\n",
    "from google.cloud import storage\n",
    "import os\n",
    "import matplotlib.pyplot as plt\n",
    "from utils.constants import  BUCKET, IMG_SOURCE_PREFIX, HIST_DEST_PREFIX, NUM_BANDS, HIST_BINS_LIST\n",
    "from serving_hist.hist_data import list_blobs_with_prefix, load_tiff_from_gcs_mem, download_and_process_tiff,load_tiff_from_gcs_temp\n",
    "import io\n",
    "import google.auth\n",
    "from rasterio.io import MemoryFile\n",
    "from osgeo import gdal\n",
    "import time\n",
    "import logging"
   ]
  },
  {
   "cell_type": "code",
   "execution_count": 2,
   "id": "c2971217-5d41-48ec-af03-7b960f33e742",
   "metadata": {
    "tags": []
   },
   "outputs": [],
   "source": [
    "# SETUP\n",
    "credentials, _ = google.auth.default()\n",
    "\n",
    "bucket_name = BUCKET\n",
    "\n",
    "directory_prefix = IMG_SOURCE_PREFIX\n",
    "output_prefix = HIST_DEST_PREFIX\n",
    "\n",
    "logging.basicConfig(filename=\"hist.log\",level=logging.INFO, format='%(asctime)s - %(levelname)s - %(message)s')"
   ]
  },
  {
   "cell_type": "code",
   "execution_count": 3,
   "id": "217d8148-8323-4495-96a1-94b039cb7b6b",
   "metadata": {
    "tags": []
   },
   "outputs": [],
   "source": [
    "# Data processing example\n",
    "image_name = directory_prefix\n",
    "# List all files from 2023\n",
    "\n",
    "image_name += \"Orleans\"\n",
    "image_name += \"_2017\"\n",
    "image_name += \"_9-10_100\"\n"
   ]
  },
  {
   "cell_type": "code",
   "execution_count": 4,
   "id": "59961b1a-652c-48c8-8660-e10a9113f8cb",
   "metadata": {
    "tags": []
   },
   "outputs": [
    {
     "data": {
      "text/plain": [
       "'images/Orleans_2017_9-10_100'"
      ]
     },
     "execution_count": 4,
     "metadata": {},
     "output_type": "execute_result"
    }
   ],
   "source": [
    "image_name"
   ]
  },
  {
   "cell_type": "code",
   "execution_count": 5,
   "id": "0e094eba-455e-468b-8d9b-d4f169c68c73",
   "metadata": {
    "tags": []
   },
   "outputs": [],
   "source": [
    "blobs = list_blobs_with_prefix(bucket_name, image_name)"
   ]
  },
  {
   "cell_type": "code",
   "execution_count": 6,
   "id": "df55ef24-9b3c-4398-88a7-c5d74a83613a",
   "metadata": {},
   "outputs": [],
   "source": [
    "def download_blob_into_memory(bucket_name, blob_name):\n",
    "    \"\"\"Downloads a blob into memory.\"\"\"\n",
    "    # The ID of your GCS bucket\n",
    "    # bucket_name = \"your-bucket-name\"\n",
    "\n",
    "    # The ID of your GCS object\n",
    "    # blob_name = \"storage-object-name\"\n",
    "\n",
    "    storage_client = storage.Client()\n",
    "\n",
    "    bucket = storage_client.bucket(bucket_name)\n",
    "\n",
    "    # Construct a client side representation of a blob.\n",
    "    # Note `Bucket.blob` differs from `Bucket.get_blob` as it doesn't retrieve\n",
    "    # any content from Google Cloud Storage. As we don't need additional data,\n",
    "    # using `Bucket.blob` is preferred here.\n",
    "    blob = bucket.blob(blob_name)\n",
    "    contents = blob.download_as_bytes()\n",
    "    return contents\n"
   ]
  },
  {
   "cell_type": "code",
   "execution_count": 25,
   "id": "3ae9d992-3958-44aa-a9b1-a6bc5c92ff30",
   "metadata": {
    "tags": []
   },
   "outputs": [
    {
     "data": {
      "text/plain": [
       "'images/Orleans_2017_9-10_100_0000000000-0000008192.tif'"
      ]
     },
     "execution_count": 25,
     "metadata": {},
     "output_type": "execute_result"
    }
   ],
   "source": [
    "blob_name"
   ]
  },
  {
   "cell_type": "code",
   "execution_count": 24,
   "id": "943d4668-145e-4594-8e02-fe5719b3de9d",
   "metadata": {},
   "outputs": [
    {
     "name": "stdout",
     "output_type": "stream",
     "text": [
      "Load all bands of one image into memory: 0.4145 seconds\n"
     ]
    }
   ],
   "source": [
    "start_time = time.time()\n",
    "\n",
    "test = download_blob_into_memory(bucket_name, blob_name)\n",
    "\n",
    "end_time = time.time()\n",
    "execution_time = end_time - start_time\n",
    "print(f\"Load all bands of one image into memory: {execution_time:.4f} seconds\")"
   ]
  },
  {
   "cell_type": "code",
   "execution_count": 11,
   "id": "fd146a34-7243-445e-a597-bc7e574079b3",
   "metadata": {
    "tags": []
   },
   "outputs": [
    {
     "name": "stdout",
     "output_type": "stream",
     "text": [
      "whiel keeping file as file and reading as needed: 0.1744 seconds\n"
     ]
    }
   ],
   "source": [
    "start_time = time.time()\n",
    "\n",
    "storage_client = storage.Client()\n",
    "blob = storage_client.bucket(BUCKET).blob(blob_name)\n",
    "with blob.open(\"rb\") as f:\n",
    "     with rasterio.open(f) as src:\n",
    "            num_bands = src.count\n",
    "\n",
    "end_time = time.time()\n",
    "execution_time = end_time - start_time\n",
    "print(f\"whiel keeping file as file and reading as needed: {execution_time:.4f} seconds\")            "
   ]
  },
  {
   "cell_type": "code",
   "execution_count": 26,
   "id": "1fe0b052-fd4d-4481-b97c-5bf9f54c05d1",
   "metadata": {},
   "outputs": [
    {
     "name": "stdout",
     "output_type": "stream",
     "text": [
      "Convery one band into array: 11.2360 seconds\n"
     ]
    }
   ],
   "source": [
    "start_time = time.time()\n",
    "\n",
    "with MemoryFile(test) as memfile:\n",
    "    with memfile.open() as src:\n",
    "        array = src.read(11)\n",
    "        \n",
    "end_time = time.time()\n",
    "execution_time = end_time - start_time\n",
    "print(f\"Convery one band into array: {execution_time:.4f} seconds\")        "
   ]
  },
  {
   "cell_type": "code",
   "execution_count": 29,
   "id": "00fe02aa-10dc-4e93-a032-870d536e9b9b",
   "metadata": {
    "tags": []
   },
   "outputs": [
    {
     "data": {
      "text/plain": [
       "array([10. ,  9. ,  9. , ..., 10. ,  9.5,  9. ], dtype=float32)"
      ]
     },
     "execution_count": 29,
     "metadata": {},
     "output_type": "execute_result"
    }
   ],
   "source": [
    "array_clean = array[~np.isnan(array)]"
   ]
  },
  {
   "cell_type": "code",
   "execution_count": 35,
   "id": "3a458c7e-8afd-4665-88d8-7b27846e3103",
   "metadata": {
    "tags": []
   },
   "outputs": [
    {
     "data": {
      "text/plain": [
       "(array([   0,    0,    0,    0,    0,    0,    0,    0,    1,    5,  119,\n",
       "         903, 1138, 3199, 3009, 5217, 8462, 1126,  776,  185,  205,   41,\n",
       "           2,    1,    0,    0,    0,    0,    0,    0,    0,    0]),\n",
       " array([ 1.     ,  1.59375,  2.1875 ,  2.78125,  3.375  ,  3.96875,\n",
       "         4.5625 ,  5.15625,  5.75   ,  6.34375,  6.9375 ,  7.53125,\n",
       "         8.125  ,  8.71875,  9.3125 ,  9.90625, 10.5    , 11.09375,\n",
       "        11.6875 , 12.28125, 12.875  , 13.46875, 14.0625 , 14.65625,\n",
       "        15.25   , 15.84375, 16.4375 , 17.03125, 17.625  , 18.21875,\n",
       "        18.8125 , 19.40625, 20.     ]))"
      ]
     },
     "execution_count": 35,
     "metadata": {},
     "output_type": "execute_result"
    }
   ],
   "source": [
    "clean_hist = np.histogram(array_clean, HIST_BINS_LIST[10])\n",
    "clean_hist"
   ]
  },
  {
   "cell_type": "code",
   "execution_count": 9,
   "id": "9568f49f-dc74-45a5-87e2-260d756d2ac1",
   "metadata": {
    "tags": []
   },
   "outputs": [],
   "source": [
    "def create_histogram_skip_nan(image, bins=256):\n",
    "    # Flatten the image and remove NaN values\n",
    "    flat_image = image.flatten()\n",
    "    \n",
    "    non_nan_values = flat_image[~np.isnan(flat_image)].astype(np.uint16)\n",
    "    \n",
    "    # Create histogram\n",
    "    hist, bin_edges = np.histogram(non_nan_values, bins=bins, density=False)\n",
    "    \n",
    "    return hist, bin_edges"
   ]
  },
  {
   "cell_type": "code",
   "execution_count": 19,
   "id": "719cb2bc-6435-40a6-8c3d-9574380cab31",
   "metadata": {
    "tags": []
   },
   "outputs": [
    {
     "name": "stdout",
     "output_type": "stream",
     "text": [
      "Create single band histogram: 0.2079 seconds\n"
     ]
    }
   ],
   "source": [
    "start_time = time.time()\n",
    "\n",
    "hist_skip_nan = create_histogram_skip_nan(array,bins)\n",
    "\n",
    "end_time = time.time()\n",
    "execution_time = end_time - start_time\n",
    "print(f\"Create single band histogram: {execution_time:.4f} seconds\")    "
   ]
  },
  {
   "cell_type": "code",
   "execution_count": 48,
   "id": "519a329b-1a61-467f-af71-63d08df77738",
   "metadata": {},
   "outputs": [
    {
     "name": "stdout",
     "output_type": "stream",
     "text": [
      "(658, 624)\n",
      "(658, 624)\n",
      "(658, 624)\n",
      "(658, 624)\n",
      "(658, 624)\n",
      "(658, 624)\n",
      "(658, 624)\n",
      "(658, 624)\n",
      "(658, 624)\n",
      "(658, 624)\n",
      "(658, 624)\n",
      "(658, 624)\n",
      "(658, 624)\n",
      "Total execution time: 0.0203 minuntes\n"
     ]
    }
   ],
   "source": [
    "from concurrent.futures import ThreadPoolExecutor, as_completed\n",
    "image_name = r\"images/Canyon_2017_5-6_100\"\n",
    "# image_name = r\"images/Story_2018_9-10_100_.tif\"\n",
    "blobs = list_blobs_with_prefix(bucket_name, image_name)\n",
    "\n",
    "def process_band(blob_name, band, bins):\n",
    "\n",
    "    storage_client = storage.Client()\n",
    "    blob = storage_client.bucket(BUCKET).blob(blob_name)\n",
    "    \n",
    "    with blob.open(\"rb\") as f:\n",
    "        with rasterio.open(f) as src:    \n",
    "    \n",
    "            data = src.read(band)\n",
    "            valid_data = data[~np.isnan(data)].astype(np.uint16)\n",
    "            valid_max = np.max(valid_data)\n",
    "            valid_mean = np.min(valid_data)\n",
    "            \n",
    "            if valid_max > bins[-1]:\n",
    "                logging.warning(f\"image: {image_name}, band: {band}, {valid_max} value is larger than assumed possible values for this band\")\n",
    "            elif valid_min < bins[0]:\n",
    "                logging.warning(f\"image: {image_name}, band: {band}, {valid_max} value is smaller than assumed possible values for this band\")\n",
    "            if valid_data.size > 0:\n",
    "                total_sum = np.sum(valid_data)\n",
    "                total_count = valid_data.size\n",
    "                mean = total_sum / total_count\n",
    "                hist, _ = create_histogram_skip_nan(valid_data, bins)\n",
    "            else:\n",
    "                mean = np.nan\n",
    "                hist = np.zeros_like(bins[:-1])  # histogram will have one less element than bins\n",
    "\n",
    "    return hist\n",
    "\n",
    "def process_tiff(bucket_name, blob_name, max_workers=4):\n",
    "    with ThreadPoolExecutor(max_workers=max_workers) as executor:\n",
    "        future_to_band = {executor.submit(process_band, blob_name, band, HIST_BINS_LIST[band-1]): band \n",
    "                          for band in range(1, NUM_BANDS + 1)}\n",
    "        results = []\n",
    "        \n",
    "        for future in as_completed(future_to_band):\n",
    "            band = future_to_band[future]\n",
    "            try:\n",
    "                result = future.result()\n",
    "                results.append(result)\n",
    "                logging.info(f\"Processed band {band} successfully\")\n",
    "            except Exception as exc:\n",
    "                logging.exception(f'Band {band} generated an exception: {exc}')\n",
    "    \n",
    "    sorted_results = sorted(results, key=lambda x: x[0])\n",
    "    return  np.array(sorted_results).flatten() # one long array instead of bands\n",
    "\n",
    "def recombine_image(blob_name):\n",
    "    start_time = time.time()\n",
    "    \n",
    "    hist_per_blob = []\n",
    "    blobs = list_blobs_with_prefix(BUCKET, blob_name)\n",
    "    \n",
    "    for blob in blobs:\n",
    "        results = process_tiff(bucket_name, blob.name)\n",
    "        hist_per_blob.append(results)\n",
    "    \n",
    "    combined_hist = np.sum(np.array(hist_per_blob), axis=0)\n",
    "    \n",
    "    end_time = time.time()\n",
    "    execution_time = end_time - start_time\n",
    "    logging.info(f\"Image {blob_name} has been processed in {execution_time/60:.4f} minuntes\"\n",
    "    \n",
    "    return combined_hist\n",
    "\n",
    "# Usage\n",
    "start_time = time.time()\n",
    "\n",
    "recombine_image_hist = recombine_image(image_name)\n",
    "    \n",
    "\n",
    "print(f\"Total execution time: {execution_time/60:.4f} minuntes\")\n"
   ]
  },
  {
   "cell_type": "code",
   "execution_count": 52,
   "id": "c029180f-7c6b-4df5-8a64-2eb12f0d9eb2",
   "metadata": {
    "tags": []
   },
   "outputs": [
    {
     "data": {
      "text/plain": [
       "np.int64(295125)"
      ]
     },
     "execution_count": 52,
     "metadata": {},
     "output_type": "execute_result"
    }
   ],
   "source": [
    "sum(recombine_image_hist)"
   ]
  },
  {
   "cell_type": "code",
   "execution_count": 21,
   "id": "f0cfe0a1-18ac-43c3-95f3-42aced8732fc",
   "metadata": {
    "tags": []
   },
   "outputs": [
    {
     "name": "stdout",
     "output_type": "stream",
     "text": [
      "Read and process one img band: 11.5494 seconds\n"
     ]
    }
   ],
   "source": [
    "start_time = time.time()\n",
    "storage_client = storage.Client()\n",
    "blob = storage_client.bucket(BUCKET).blob(blob_name)\n",
    "with blob.open(\"rb\") as f:\n",
    "     with rasterio.open(f) as src:\n",
    "            num_bands = src.count\n",
    "            _, _, hist = process_band(src, 1, bins)\n",
    "\n",
    "end_time = time.time()\n",
    "execution_time = end_time - start_time\n",
    "print(f\"Read and process one img band: {execution_time:.4f} seconds\")  "
   ]
  },
  {
   "cell_type": "code",
   "execution_count": 57,
   "id": "b8663f66-5cef-4558-9b29-5264b5c3ef5e",
   "metadata": {
    "tags": []
   },
   "outputs": [
    {
     "name": "stdout",
     "output_type": "stream",
     "text": [
      "bedzie\n"
     ]
    }
   ],
   "source": []
  },
  {
   "cell_type": "code",
   "execution_count": null,
   "id": "ec2e549a-c7a3-4eab-868c-9bf12e434153",
   "metadata": {},
   "outputs": [],
   "source": []
  }
 ],
 "metadata": {
  "environment": {
   "kernel": "conda-env-gdal_conda-gdal_conda",
   "name": "workbench-notebooks.m125",
   "type": "gcloud",
   "uri": "us-docker.pkg.dev/deeplearning-platform-release/gcr.io/workbench-notebooks:m125"
  },
  "kernelspec": {
   "display_name": "GDAL_kernel (Local)",
   "language": "python",
   "name": "conda-env-gdal_conda-gdal_conda"
  },
  "language_info": {
   "codemirror_mode": {
    "name": "ipython",
    "version": 3
   },
   "file_extension": ".py",
   "mimetype": "text/x-python",
   "name": "python",
   "nbconvert_exporter": "python",
   "pygments_lexer": "ipython3",
   "version": "3.13.0"
  }
 },
 "nbformat": 4,
 "nbformat_minor": 5
}
