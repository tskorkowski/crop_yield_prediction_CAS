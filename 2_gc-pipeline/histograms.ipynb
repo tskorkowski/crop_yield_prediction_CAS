{
 "cells": [
  {
   "cell_type": "code",
   "execution_count": 4,
   "id": "72aa9012-c901-475d-af55-d2d8279e3b96",
   "metadata": {
    "tags": []
   },
   "outputs": [],
   "source": [
    "# Setup\n",
    "!pip install --quiet --upgrade pip\n",
    "\n",
    "# Install the dependencies.\n",
    "!pip install --quiet -r gdal_req.txt\n",
    "\n",
    "# Restart the runtime by ending the process.\n",
    "exit()"
   ]
  },
  {
   "cell_type": "code",
   "execution_count": 1,
   "id": "c3d93dbd-4fd4-4d22-a4fb-bf2715b1f291",
   "metadata": {},
   "outputs": [],
   "source": [
    "import numpy as np\n",
    "import rasterio\n",
    "from google.cloud import storage\n",
    "import os\n",
    "import matplotlib.pyplot as plt\n",
    "from utils.constants import  BUCKET, IMG_SOURCE_PREFIX, HIST_DEST_PREFIX, NUM_BANDS, HIST_BINS_LIST\n",
    "from serving_hist.hist_data import list_blobs_with_prefix, load_tiff_from_gcs_mem, download_and_process_tiff,load_tiff_from_gcs_temp,recombine_image\n",
    "import io\n",
    "import google.auth\n",
    "from rasterio.io import MemoryFile\n",
    "from osgeo import gdal\n",
    "import time\n",
    "import logging"
   ]
  },
  {
   "cell_type": "code",
   "execution_count": 2,
   "id": "c2971217-5d41-48ec-af03-7b960f33e742",
   "metadata": {
    "tags": []
   },
   "outputs": [],
   "source": [
    "# SETUP\n",
    "credentials, _ = google.auth.default()\n",
    "\n",
    "bucket_name = BUCKET\n",
    "\n",
    "directory_prefix = IMG_SOURCE_PREFIX\n",
    "output_prefix = HIST_DEST_PREFIX\n",
    "\n",
    "logging.basicConfig(filename=\"hist.log\",level=logging.INFO, format='%(asctime)s - %(levelname)s - %(message)s')"
   ]
  },
  {
   "cell_type": "code",
   "execution_count": 4,
   "id": "519a329b-1a61-467f-af71-63d08df77738",
   "metadata": {},
   "outputs": [],
   "source": [
    "\n",
    "image_name = r\"images/Canyon_2017_5-6_100\"\n",
    "# image_name = r\"images/Story_2018_9-10_100_.tif\"\n",
    "blobs = list_blobs_with_prefix(bucket_name, image_name)\n",
    "\n",
    "\n",
    "# Usage\n",
    "start_time = time.time()\n",
    "\n",
    "recombine_image_hist = recombine_image(image_name)"
   ]
  },
  {
   "cell_type": "code",
   "execution_count": 5,
   "id": "490d98f8-b1c4-4759-89a4-ba2fa5b85b8c",
   "metadata": {
    "tags": []
   },
   "outputs": [
    {
     "data": {
      "text/plain": [
       "array([], dtype=float64)"
      ]
     },
     "execution_count": 5,
     "metadata": {},
     "output_type": "execute_result"
    }
   ],
   "source": [
    "recombine_image_hist"
   ]
  },
  {
   "cell_type": "code",
   "execution_count": 21,
   "id": "f0cfe0a1-18ac-43c3-95f3-42aced8732fc",
   "metadata": {
    "tags": []
   },
   "outputs": [
    {
     "name": "stdout",
     "output_type": "stream",
     "text": [
      "Read and process one img band: 11.5494 seconds\n"
     ]
    }
   ],
   "source": [
    "start_time = time.time()\n",
    "storage_client = storage.Client()\n",
    "blob = storage_client.bucket(BUCKET).blob(blob_name)\n",
    "with blob.open(\"rb\") as f:\n",
    "     with rasterio.open(f) as src:\n",
    "            num_bands = src.count\n",
    "            _, _, hist = process_band(src, 1, bins)\n",
    "\n",
    "end_time = time.time()\n",
    "execution_time = end_time - start_time\n",
    "print(f\"Read and process one img band: {execution_time:.4f} seconds\")  "
   ]
  }
 ],
 "metadata": {
  "environment": {
   "kernel": "conda-env-gdal_conda-gdal_conda",
   "name": "workbench-notebooks.m125",
   "type": "gcloud",
   "uri": "us-docker.pkg.dev/deeplearning-platform-release/gcr.io/workbench-notebooks:m125"
  },
  "kernelspec": {
   "display_name": "GDAL_kernel (Local)",
   "language": "python",
   "name": "conda-env-gdal_conda-gdal_conda"
  },
  "language_info": {
   "codemirror_mode": {
    "name": "ipython",
    "version": 3
   },
   "file_extension": ".py",
   "mimetype": "text/x-python",
   "name": "python",
   "nbconvert_exporter": "python",
   "pygments_lexer": "ipython3",
   "version": "3.13.0"
  }
 },
 "nbformat": 4,
 "nbformat_minor": 5
}
