{
 "cells": [
  {
   "cell_type": "code",
   "execution_count": 1,
   "id": "72aa9012-c901-475d-af55-d2d8279e3b96",
   "metadata": {
    "tags": []
   },
   "outputs": [],
   "source": [
    "# Setup\n",
    "!pip install --quiet --upgrade pip\n",
    "\n",
    "# Install the dependencies.\n",
    "!pip install --quiet -r gdal_req.txt\n",
    "\n",
    "# Restart the runtime by ending the process.\n",
    "exit()"
   ]
  },
  {
   "cell_type": "code",
   "execution_count": 1,
   "id": "c3d93dbd-4fd4-4d22-a4fb-bf2715b1f291",
   "metadata": {},
   "outputs": [],
   "source": [
    "import numpy as np\n",
    "import rasterio\n",
    "from google.cloud import storage\n",
    "import tempfile\n",
    "import os\n",
    "import matplotlib.pyplot as plt\n"
   ]
  },
  {
   "cell_type": "code",
   "execution_count": 2,
   "id": "d72ddb4a-f531-4961-b403-5e77b1c1b637",
   "metadata": {
    "tags": []
   },
   "outputs": [],
   "source": [
    "\n",
    "def list_blobs_with_prefix(bucket_name, prefix):\n",
    "    \"\"\"Lists all the blobs in the bucket that begin with the prefix.\"\"\"\n",
    "    storage_client = storage.Client()\n",
    "    return storage_client.list_blobs(bucket_name, prefix=prefix)\n",
    "\n",
    "def load_tiff_from_gcs(bucket_name, blob_name):\n",
    "    # Create a temporary file\n",
    "    with tempfile.NamedTemporaryFile(suffix='.tif', delete=False) as temp_file:\n",
    "        temp_filename = temp_file.name\n",
    "\n",
    "    # Download the file from GCS\n",
    "    storage_client = storage.Client()\n",
    "    bucket = storage_client.bucket(bucket_name)\n",
    "    blob = bucket.blob(blob_name)\n",
    "    blob.download_to_filename(temp_filename)\n",
    "\n",
    "    # Read the TIFF file\n",
    "    with rasterio.open(temp_filename) as src:\n",
    "        # Read all bands\n",
    "        tiff_array = src.read()\n",
    "\n",
    "    # Clean up the temporary file\n",
    "    os.remove(temp_filename)\n",
    "\n",
    "    return tiff_array\n",
    "\n"
   ]
  },
  {
   "cell_type": "code",
   "execution_count": 9,
   "id": "c2971217-5d41-48ec-af03-7b960f33e742",
   "metadata": {
    "tags": []
   },
   "outputs": [],
   "source": [
    "# Your GCS bucket and directory\n",
    "bucket_name = \"vgnn\"\n",
    "directory_prefix = \"images/\"  # Adjust this to your directory path\n",
    "\n",
    "# List all blobs (files) in the directory\n",
    "blobs = list_blobs_with_prefix(bucket_name, directory_prefix)"
   ]
  },
  {
   "cell_type": "code",
   "execution_count": null,
   "id": "e6af5556-e82e-4f4b-bd4b-ce20d89efe4e",
   "metadata": {},
   "outputs": [],
   "source": [
    "# Your GCS bucket and directory\n",
    "bucket_name = \"vgnn\"\n",
    "directory_prefix = \"images/\"  # Adjust this to your directory path\n",
    "\n",
    "# List all blobs (files) in the directory\n",
    "blobs = list_blobs_with_prefix(bucket_name, directory_prefix)\n",
    "\n",
    "# Iterate through the blobs\n",
    "for blob in blobs:\n",
    "    if blob.name.endswith('.tif'):  # Process only TIFF files\n",
    "        print(f\"Processing file: {blob.name}\")\n",
    "        \n",
    "        # Load the TIFF file\n",
    "        numpy_array = load_tiff_from_gcs(bucket_name, blob.name)\n",
    "        \n",
    "        print(f\"Shape of the loaded array: {numpy_array.shape}\")\n",
    "        \n",
    "        # Optional: Visualize a band (e.g., the first band) using matplotlib\n",
    "        plt.figure(figsize=(10, 8))\n",
    "        plt.imshow(numpy_array[0], cmap='viridis')\n",
    "        plt.title(f'Loaded Image - {blob.name} - Band 1')\n",
    "        plt.color"
   ]
  },
  {
   "cell_type": "code",
   "execution_count": 6,
   "id": "508dbad0-fd6f-4737-b5aa-a21d30dc72c2",
   "metadata": {
    "tags": []
   },
   "outputs": [
    {
     "data": {
      "text/plain": [
       "<google.api_core.page_iterator.HTTPIterator at 0x7fe832f24830>"
      ]
     },
     "execution_count": 6,
     "metadata": {},
     "output_type": "execute_result"
    }
   ],
   "source": [
    "blobs"
   ]
  },
  {
   "cell_type": "code",
   "execution_count": 13,
   "id": "d3b9c345-e816-4add-a669-06c3a71f7e7e",
   "metadata": {
    "tags": []
   },
   "outputs": [
    {
     "data": {
      "text/plain": [
       "<Blob: vgnn, images/Fresno_1_2020_5.tif0000000000-0000000000.tif, 1728072653873120>"
      ]
     },
     "execution_count": 13,
     "metadata": {},
     "output_type": "execute_result"
    }
   ],
   "source": [
    "next(blobs)"
   ]
  },
  {
   "cell_type": "code",
   "execution_count": null,
   "id": "c1f9a74a-ac41-49d0-aeb6-13d459e1418a",
   "metadata": {},
   "outputs": [],
   "source": []
  }
 ],
 "metadata": {
  "environment": {
   "kernel": "conda-env-gdal_conda-gdal_conda",
   "name": "workbench-notebooks.m125",
   "type": "gcloud",
   "uri": "us-docker.pkg.dev/deeplearning-platform-release/gcr.io/workbench-notebooks:m125"
  },
  "kernelspec": {
   "display_name": "GDAL_kernel (Local)",
   "language": "python",
   "name": "conda-env-gdal_conda-gdal_conda"
  },
  "language_info": {
   "codemirror_mode": {
    "name": "ipython",
    "version": 3
   },
   "file_extension": ".py",
   "mimetype": "text/x-python",
   "name": "python",
   "nbconvert_exporter": "python",
   "pygments_lexer": "ipython3",
   "version": "3.13.0"
  }
 },
 "nbformat": 4,
 "nbformat_minor": 5
}
