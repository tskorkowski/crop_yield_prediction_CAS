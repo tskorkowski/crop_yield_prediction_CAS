{
 "cells": [
  {
   "cell_type": "code",
   "execution_count": 14,
   "id": "72aa9012-c901-475d-af55-d2d8279e3b96",
   "metadata": {
    "tags": []
   },
   "outputs": [],
   "source": [
    "# Setup\n",
    "!pip install --quiet --upgrade pip\n",
    "\n",
    "# Install the dependencies.\n",
    "!pip install --quiet -r gdal_req.txt\n",
    "\n",
    "# Restart the runtime by ending the process.\n",
    "exit()"
   ]
  },
  {
   "cell_type": "code",
   "execution_count": 6,
   "id": "c3d93dbd-4fd4-4d22-a4fb-bf2715b1f291",
   "metadata": {},
   "outputs": [],
   "source": [
    "import numpy as np\n",
    "import rasterio\n",
    "from google.cloud import storage\n",
    "import os\n",
    "import matplotlib.pyplot as plt\n",
    "from utils.constants import  BUCKET, IMG_SOURCE_PREFIX, HIST_DEST_PREFIX, NUM_BANDS, HIST_BINS_LIST\n",
    "from serving_hist.hist_data import list_blobs_with_prefix, load_tiff_from_gcs_mem, download_and_process_tiff,load_tiff_from_gcs_temp\n",
    "import io\n",
    "import google.auth\n",
    "from rasterio.io import MemoryFile\n",
    "from osgeo import gdal\n",
    "import time\n",
    "import logging"
   ]
  },
  {
   "cell_type": "code",
   "execution_count": 7,
   "id": "c2971217-5d41-48ec-af03-7b960f33e742",
   "metadata": {
    "tags": []
   },
   "outputs": [],
   "source": [
    "# SETUP\n",
    "credentials, _ = google.auth.default()\n",
    "\n",
    "bucket_name = BUCKET\n",
    "\n",
    "directory_prefix = IMG_SOURCE_PREFIX\n",
    "output_prefix = HIST_DEST_PREFIX\n",
    "\n",
    "logging.basicConfig(filename=\"hist.log\",level=logging.INFO, format='%(asctime)s - %(levelname)s - %(message)s')"
   ]
  },
  {
   "cell_type": "code",
   "execution_count": 8,
   "id": "217d8148-8323-4495-96a1-94b039cb7b6b",
   "metadata": {
    "tags": []
   },
   "outputs": [],
   "source": [
    "# Data processing example\n",
    "image_name = directory_prefix\n",
    "# List all files from 2023\n",
    "\n",
    "image_name += \"Orleans\"\n",
    "image_name += \"_2017\"\n",
    "image_name += \"_9-10_100\"\n"
   ]
  },
  {
   "cell_type": "code",
   "execution_count": 9,
   "id": "0e094eba-455e-468b-8d9b-d4f169c68c73",
   "metadata": {
    "tags": []
   },
   "outputs": [],
   "source": [
    "blobs = list_blobs_with_prefix(bucket_name, image_name)"
   ]
  },
  {
   "cell_type": "code",
   "execution_count": 5,
   "id": "df55ef24-9b3c-4398-88a7-c5d74a83613a",
   "metadata": {},
   "outputs": [],
   "source": [
    "def download_blob_into_memory(bucket_name, blob_name):\n",
    "    \"\"\"Downloads a blob into memory.\"\"\"\n",
    "    # The ID of your GCS bucket\n",
    "    # bucket_name = \"your-bucket-name\"\n",
    "\n",
    "    # The ID of your GCS object\n",
    "    # blob_name = \"storage-object-name\"\n",
    "\n",
    "    storage_client = storage.Client()\n",
    "\n",
    "    bucket = storage_client.bucket(bucket_name)\n",
    "\n",
    "    # Construct a client side representation of a blob.\n",
    "    # Note `Bucket.blob` differs from `Bucket.get_blob` as it doesn't retrieve\n",
    "    # any content from Google Cloud Storage. As we don't need additional data,\n",
    "    # using `Bucket.blob` is preferred here.\n",
    "    blob = bucket.blob(blob_name)\n",
    "    contents = blob.download_as_bytes()\n",
    "    return contents\n"
   ]
  },
  {
   "cell_type": "code",
   "execution_count": 10,
   "id": "3ae9d992-3958-44aa-a9b1-a6bc5c92ff30",
   "metadata": {
    "tags": []
   },
   "outputs": [],
   "source": [
    "blob_name = r'images/Orleans_2017_9-10_100_0000000000-0000008192.tif'"
   ]
  },
  {
   "cell_type": "code",
   "execution_count": 13,
   "id": "943d4668-145e-4594-8e02-fe5719b3de9d",
   "metadata": {},
   "outputs": [
    {
     "name": "stdout",
     "output_type": "stream",
     "text": [
      "Load all bands of one image into memory: 0.1229 seconds\n"
     ]
    }
   ],
   "source": [
    "start_time = time.time()\n",
    "\n",
    "test = download_blob_into_memory(bucket_name, blob_name)\n",
    "\n",
    "end_time = time.time()\n",
    "execution_time = end_time - start_time\n",
    "print(f\"Load all bands of one image into memory: {execution_time:.4f} seconds\")"
   ]
  },
  {
   "cell_type": "code",
   "execution_count": 11,
   "id": "fd146a34-7243-445e-a597-bc7e574079b3",
   "metadata": {
    "tags": []
   },
   "outputs": [
    {
     "name": "stdout",
     "output_type": "stream",
     "text": [
      "whiel keeping file as file and reading as needed: 0.1744 seconds\n"
     ]
    }
   ],
   "source": [
    "start_time = time.time()\n",
    "\n",
    "storage_client = storage.Client()\n",
    "blob = storage_client.bucket(BUCKET).blob(blob_name)\n",
    "with blob.open(\"rb\") as f:\n",
    "     with rasterio.open(f) as src:\n",
    "            num_bands = src.count\n",
    "\n",
    "end_time = time.time()\n",
    "execution_time = end_time - start_time\n",
    "print(f\"whiel keeping file as file and reading as needed: {execution_time:.4f} seconds\")            "
   ]
  },
  {
   "cell_type": "code",
   "execution_count": 18,
   "id": "1fe0b052-fd4d-4481-b97c-5bf9f54c05d1",
   "metadata": {},
   "outputs": [
    {
     "name": "stdout",
     "output_type": "stream",
     "text": [
      "Convery one band into array: 11.2461 seconds\n"
     ]
    }
   ],
   "source": [
    "start_time = time.time()\n",
    "\n",
    "with MemoryFile(test) as memfile:\n",
    "    with memfile.open() as src:\n",
    "        array = src.read(1)\n",
    "        \n",
    "end_time = time.time()\n",
    "execution_time = end_time - start_time\n",
    "print(f\"Convery one band into array: {execution_time:.4f} seconds\")        "
   ]
  },
  {
   "cell_type": "code",
   "execution_count": 41,
   "id": "7e58d9e8-bb70-4f4c-931e-d045f9e421e0",
   "metadata": {
    "tags": []
   },
   "outputs": [
    {
     "data": {
      "text/plain": [
       "np.float32(nan)"
      ]
     },
     "execution_count": 41,
     "metadata": {},
     "output_type": "execute_result"
    }
   ],
   "source": [
    "array.max()"
   ]
  },
  {
   "cell_type": "code",
   "execution_count": 11,
   "id": "d5749082-a27a-470b-99ff-78308ce42c5b",
   "metadata": {
    "tags": []
   },
   "outputs": [
    {
     "data": {
      "text/plain": [
       "np.float32(2193.5)"
      ]
     },
     "execution_count": 11,
     "metadata": {},
     "output_type": "execute_result"
    }
   ],
   "source": [
    "array_clean = np.nan_to_num(array, nan=0.0)\n",
    "array_clean.max()"
   ]
  },
  {
   "cell_type": "code",
   "execution_count": 11,
   "id": "9568f49f-dc74-45a5-87e2-260d756d2ac1",
   "metadata": {
    "tags": []
   },
   "outputs": [],
   "source": [
    "def create_histogram_skip_nan(image, bins=256):\n",
    "    # Flatten the image and remove NaN values\n",
    "    flat_image = image.flatten()\n",
    "    \n",
    "    non_nan_values = flat_image[~np.isnan(flat_image)].astype(np.uint16)\n",
    "    \n",
    "    # Create histogram\n",
    "    hist, bin_edges = np.histogram(non_nan_values, bins=bins, density=False)\n",
    "    \n",
    "    return hist, bin_edges\n",
    "\n",
    "bins = len(np.linspace(1, 2200, 33))"
   ]
  },
  {
   "cell_type": "code",
   "execution_count": 19,
   "id": "719cb2bc-6435-40a6-8c3d-9574380cab31",
   "metadata": {
    "tags": []
   },
   "outputs": [
    {
     "name": "stdout",
     "output_type": "stream",
     "text": [
      "Create single band histogram: 0.2079 seconds\n"
     ]
    }
   ],
   "source": [
    "start_time = time.time()\n",
    "\n",
    "hist_skip_nan = create_histogram_skip_nan(array,bins)\n",
    "\n",
    "end_time = time.time()\n",
    "execution_time = end_time - start_time\n",
    "print(f\"Create single band histogram: {execution_time:.4f} seconds\")    "
   ]
  },
  {
   "cell_type": "code",
   "execution_count": 46,
   "id": "447e11a9-8bc1-4ce3-9950-bb53d333e0c8",
   "metadata": {
    "tags": []
   },
   "outputs": [
    {
     "data": {
      "text/plain": [
       "numpy.ndarray"
      ]
     },
     "execution_count": 46,
     "metadata": {},
     "output_type": "execute_result"
    }
   ],
   "source": [
    "type(hist_skip_nan[0])"
   ]
  },
  {
   "cell_type": "code",
   "execution_count": 28,
   "id": "860f795d-ffc7-4613-8c19-8b4f9560110b",
   "metadata": {
    "tags": []
   },
   "outputs": [
    {
     "name": "stdout",
     "output_type": "stream",
     "text": [
      "Create single band histogram: 12.8084 seconds\n"
     ]
    }
   ],
   "source": []
  },
  {
   "cell_type": "code",
   "execution_count": 24,
   "id": "7082b203-dab6-4505-b66e-5f72b2b93ef5",
   "metadata": {
    "tags": []
   },
   "outputs": [
    {
     "data": {
      "text/plain": [
       "array([[nan, nan, nan, ..., nan, nan, nan],\n",
       "       [nan, nan, nan, ..., nan, nan, nan],\n",
       "       [nan, nan, nan, ..., nan, nan, nan],\n",
       "       ...,\n",
       "       [nan, nan, nan, ..., nan, nan, nan],\n",
       "       [nan, nan, nan, ..., nan, nan, nan],\n",
       "       [nan, nan, nan, ..., nan, nan, nan]], dtype=float32)"
      ]
     },
     "execution_count": 24,
     "metadata": {},
     "output_type": "execute_result"
    }
   ],
   "source": [
    "data"
   ]
  },
  {
   "cell_type": "code",
   "execution_count": 27,
   "id": "5175bd81-3057-425a-be71-18d2ba58bde0",
   "metadata": {
    "tags": []
   },
   "outputs": [
    {
     "data": {
      "text/plain": [
       "np.float32(2193.5)"
      ]
     },
     "execution_count": 27,
     "metadata": {},
     "output_type": "execute_result"
    }
   ],
   "source": [
    "max(data[~np.isnan(data)])"
   ]
  },
  {
   "cell_type": "code",
   "execution_count": 12,
   "id": "519a329b-1a61-467f-af71-63d08df77738",
   "metadata": {},
   "outputs": [
    {
     "name": "stdout",
     "output_type": "stream",
     "text": [
      "(8192, 8192)\n",
      "Processed band 2 successfully\n",
      "(8192, 8192)\n",
      "Processed band 4 successfully\n",
      "(8192, 8192)\n",
      "Processed band 1 successfully\n",
      "(8192, 8192)\n",
      "Processed band 3 successfully\n",
      "(8192, 8192)\n",
      "Processed band 8 successfully\n",
      "(8192, 8192)\n",
      "Processed band 7 successfully\n",
      "(8192, 8192)\n",
      "Processed band 5 successfully\n",
      "(8192, 8192)\n",
      "Processed band 6 successfully\n",
      "(8192, 8192)\n",
      "Processed band 9 successfully\n",
      "(8192, 8192)\n",
      "Processed band 10 successfully\n",
      "(8192, 8192)\n",
      "Processed band 11 successfully\n",
      "(8192, 8192)\n",
      "Processed band 12 successfully\n",
      "(8192, 8192)\n",
      "Processed band 13 successfully\n",
      "Total execution time: 55.0878 seconds\n"
     ]
    }
   ],
   "source": [
    "from concurrent.futures import ThreadPoolExecutor, as_completed\n",
    "\n",
    "def process_band(band, bins):\n",
    "\n",
    "    storage_client = storage.Client()\n",
    "    blob = storage_client.bucket(BUCKET).blob(blob_name)\n",
    "    \n",
    "    with blob.open(\"rb\") as f:\n",
    "        with rasterio.open(f) as src:    \n",
    "    \n",
    "            data = src.read(band)\n",
    "            valid_data = data[~np.isnan(data)].astype(np.uint16)\n",
    "            print(data.shape)\n",
    "            logging.info(f\"image: {image_name}, band: {band}, min: {np.min(valid_data)}, max: {np.max(valid_data)}\")\n",
    "            if valid_data.size > 0:\n",
    "                total_sum = np.sum(valid_data)\n",
    "                total_count = valid_data.size\n",
    "                mean = total_sum / total_count\n",
    "                hist, _ = create_histogram_skip_nan(valid_data, bins)\n",
    "            else:\n",
    "                mean = np.nan\n",
    "                hist = np.zeros_like(bins[:-1])  # histogram will have one less element than bins\n",
    "\n",
    "    return band, mean, hist\n",
    "\n",
    "def process_tiff(bucket_name, blob_name, bins, max_workers=4):\n",
    "    with ThreadPoolExecutor(max_workers=max_workers) as executor:\n",
    "        future_to_band = {executor.submit(process_band, band, HIST_BINS_LIST[band-1]): band \n",
    "                          for band in range(1, NUM_BANDS + 1)}\n",
    "        results = []\n",
    "        \n",
    "        for future in as_completed(future_to_band):\n",
    "            band = future_to_band[future]\n",
    "            try:\n",
    "                result = future.result()\n",
    "                results.append(result)\n",
    "                print(f\"Processed band {band} successfully\")\n",
    "            except Exception as exc:\n",
    "                print(f'Band {band} generated an exception: {exc}')\n",
    "                \n",
    "    return sorted(results, key=lambda x: x[0])  # Sort results by band number\n",
    "\n",
    "# Usage\n",
    "start_time = time.time()\n",
    "\n",
    "bucket_name = BUCKET\n",
    "\n",
    "bins = len(np.linspace(1, 2200, 33))  \n",
    "\n",
    "results = process_tiff(bucket_name, blob_name, bins)\n",
    "\n",
    "end_time = time.time()\n",
    "execution_time = end_time - start_time\n",
    "print(f\"Total execution time: {execution_time:.4f} seconds\")\n"
   ]
  },
  {
   "cell_type": "code",
   "execution_count": 21,
   "id": "f0cfe0a1-18ac-43c3-95f3-42aced8732fc",
   "metadata": {
    "tags": []
   },
   "outputs": [
    {
     "name": "stdout",
     "output_type": "stream",
     "text": [
      "Read and process one img band: 11.5494 seconds\n"
     ]
    }
   ],
   "source": [
    "start_time = time.time()\n",
    "storage_client = storage.Client()\n",
    "blob = storage_client.bucket(BUCKET).blob(blob_name)\n",
    "with blob.open(\"rb\") as f:\n",
    "     with rasterio.open(f) as src:\n",
    "            num_bands = src.count\n",
    "            _, _, hist = process_band(src, 1, bins)\n",
    "\n",
    "end_time = time.time()\n",
    "execution_time = end_time - start_time\n",
    "print(f\"Read and process one img band: {execution_time:.4f} seconds\")  "
   ]
  },
  {
   "cell_type": "code",
   "execution_count": 22,
   "id": "f513a3a7-6f1a-4828-b1fd-87258123680e",
   "metadata": {
    "tags": []
   },
   "outputs": [
    {
     "data": {
      "text/plain": [
       "array([ 309, 2456, 5964, 9962, 3882, 1049,  329,  169,  125,   73,   31,\n",
       "         14,    5,    1,    3,    4,    3,    0,    0,    4,    0,    0,\n",
       "          0,    1,    0,    0,    0,    1,    1,    2,    0,    0,    1])"
      ]
     },
     "execution_count": 22,
     "metadata": {},
     "output_type": "execute_result"
    }
   ],
   "source": [
    "hist"
   ]
  },
  {
   "cell_type": "code",
   "execution_count": 26,
   "id": "ffd70107-7cde-480c-b951-47dc87a61de8",
   "metadata": {
    "tags": []
   },
   "outputs": [
    {
     "data": {
      "text/plain": [
       "array([ 309, 2456, 5964, 9962, 3882, 1049,  329,  169,  125,   73,   31,\n",
       "         14,    5,    1,    3,    4,    3,    0,    0,    4,    0,    0,\n",
       "          0,    1,    0,    0,    0,    1,    1,    2,    0,    0,    1])"
      ]
     },
     "execution_count": 26,
     "metadata": {},
     "output_type": "execute_result"
    }
   ],
   "source": [
    "hist_skip_nan[0]"
   ]
  },
  {
   "cell_type": "code",
   "execution_count": null,
   "id": "21e57823-0f32-48a0-96da-73f50926550d",
   "metadata": {},
   "outputs": [],
   "source": [
    "for band, mean, histogram in results:\n",
    "    print(f\"Band {band}:\")\n",
    "    print(f\"  Mean: {mean}\")\n",
    "    print(f\"  Histogram sum: {np.sum(histogram)}\")"
   ]
  },
  {
   "cell_type": "code",
   "execution_count": 13,
   "id": "47a9ad82-8620-43ce-a952-b85df2eb4911",
   "metadata": {
    "tags": []
   },
   "outputs": [
    {
     "data": {
      "text/plain": [
       "[(1,\n",
       "  np.float64(1303.4508999958998),\n",
       "  array([    0,     0,     0,     0,     0,     0,     0,     0,     0,\n",
       "             0,     0,     0,     0,     0,     0,     0,     0,   632,\n",
       "         13616,  9257,   631,   197,    34,     5,     7,     2,     2,\n",
       "             1,     0,     1,     3,     1])),\n",
       " (2,\n",
       "  np.float64(1000.4196564024766),\n",
       "  array([20096,  3825,   368,    66,     6,     4,     4,     1,     1,\n",
       "             3,     1,     0,     0,     0,     0,     0,     0,     0,\n",
       "             0,     0,     0,     0,     0,     0,     0,     0,     0,\n",
       "             0,     0,     0,     0,     0])),\n",
       " (3,\n",
       "  np.float64(895.517487391857),\n",
       "  array([   0,    0,    0,    0,    0,    0,    0,    0,    0,    0,    0,\n",
       "            0,    0,    0,    0,    0,    0,    4,   37,  314, 1567, 5182,\n",
       "         7983, 4704, 2364, 1051,  433,  236,  141,   97,  105,   76])),\n",
       " (4,\n",
       "  np.float64(599.0790520316536),\n",
       "  array([    0,     0,     0,     0,     0,   201,  4172, 10478,  4827,\n",
       "          1995,   939,   502,   326,   174,   147,   120,    86,    75,\n",
       "            46,    52,    42,    51,    29,    32,    39,    19,    17,\n",
       "            10,     0,     3,     1,     1])),\n",
       " (5,\n",
       "  np.float64(878.2350649883144),\n",
       "  array([12099,  5756,  1862,   679,   333,   225,   104,    32,     2,\n",
       "             1,     4,     0,     0,     1,     0,     0,     0,     0,\n",
       "             0,     0,     0,     0,     0,     0,     0,     0,     0,\n",
       "             0,     0,     0,     0,     0])),\n",
       " (6,\n",
       "  np.float64(2417.940833982533),\n",
       "  array([   0,    0,    0,    0,    3,    6,    7,   20,   59,  137,  405,\n",
       "         1035, 2212, 4063, 7440, 6480, 1917,  384,  114,   57,   26,   14,\n",
       "            5,    3,    2,    0,    0,    0,    0,    0,    0,    0])),\n",
       " (7,\n",
       "  np.float64(3304.874697609578),\n",
       "  array([   0,    0,    0,    0,    0,    0,    1,    2,    5,    7,    9,\n",
       "           44,   60,  160,  338,  506,  775, 1246, 1766, 2388, 3250, 3685,\n",
       "         3716, 3227, 1858,  936,  312,   62,   20,    8,    3,    3])),\n",
       " (8,\n",
       "  np.float64(3123.4449956947806),\n",
       "  array([0, 0, 0, 0, 0, 0, 0, 0, 0, 0, 0, 0, 0, 0, 0, 0, 0, 0, 0, 0, 0, 0,\n",
       "         0, 0, 0, 0, 0, 0, 0, 0, 0, 0])),\n",
       " (9,\n",
       "  np.float64(3667.266718602649),\n",
       "  array([0, 0, 0, 0, 0, 0, 0, 0, 0, 0, 0, 0, 0, 0, 0, 0, 0, 0, 0, 0, 0, 0,\n",
       "         0, 0, 0, 0, 0, 0, 0, 0, 0, 0])),\n",
       " (10,\n",
       "  np.float64(485.7482471606052),\n",
       "  array([0, 0, 0, 0, 0, 0, 0, 0, 0, 0, 0, 0, 0, 0, 0, 0, 0, 0, 0, 0, 0, 0,\n",
       "         0, 0, 0, 0, 0, 0, 0, 0, 0, 0])),\n",
       " (11,\n",
       "  np.float64(9.89925786215097),\n",
       "  array([0, 0, 0, 0, 0, 0, 0, 0, 0, 0, 0, 0, 0, 0, 0, 0, 0, 0, 0, 0, 0, 0,\n",
       "         0, 0, 0, 0, 0, 0, 0, 0, 0, 0])),\n",
       " (12,\n",
       "  np.float64(1588.045758333675),\n",
       "  array([0, 0, 0, 0, 0, 0, 0, 0, 0, 0, 0, 0, 0, 0, 0, 0, 0, 0, 0, 0, 0, 0,\n",
       "         0, 0, 0, 0, 0, 0, 0, 0, 0, 0])),\n",
       " (13,\n",
       "  np.float64(677.49944647177),\n",
       "  array([0, 0, 0, 0, 0, 0, 0, 0, 0, 0, 0, 0, 0, 0, 0, 0, 0, 0, 0, 0, 0, 0,\n",
       "         0, 0, 0, 0, 0, 0, 0, 0, 0, 0]))]"
      ]
     },
     "execution_count": 13,
     "metadata": {},
     "output_type": "execute_result"
    }
   ],
   "source": [
    "results"
   ]
  },
  {
   "cell_type": "code",
   "execution_count": null,
   "id": "3fa68086-3eb1-45de-ae05-03cd3e149403",
   "metadata": {},
   "outputs": [],
   "source": []
  }
 ],
 "metadata": {
  "environment": {
   "kernel": "conda-env-gdal_conda-gdal_conda",
   "name": "workbench-notebooks.m125",
   "type": "gcloud",
   "uri": "us-docker.pkg.dev/deeplearning-platform-release/gcr.io/workbench-notebooks:m125"
  },
  "kernelspec": {
   "display_name": "GDAL_kernel (Local)",
   "language": "python",
   "name": "conda-env-gdal_conda-gdal_conda"
  },
  "language_info": {
   "codemirror_mode": {
    "name": "ipython",
    "version": 3
   },
   "file_extension": ".py",
   "mimetype": "text/x-python",
   "name": "python",
   "nbconvert_exporter": "python",
   "pygments_lexer": "ipython3",
   "version": "3.13.0"
  }
 },
 "nbformat": 4,
 "nbformat_minor": 5
}
