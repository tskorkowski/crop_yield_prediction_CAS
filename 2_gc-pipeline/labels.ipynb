{
 "cells": [
  {
   "cell_type": "code",
   "execution_count": 7,
   "metadata": {},
   "outputs": [],
   "source": [
    "from serving_hist.label_data import combine_crop_data\n",
    "\n",
    "path = r\"C:\\Users\\tskor\\Documents\\GitHub\\inovation_project\\2_gc-pipeline\\serving_hist\\USDA\\data\\Corn\"\n",
    "\n",
    "df = combine_crop_data(path, save=True)"
   ]
  },
  {
   "cell_type": "code",
   "execution_count": 8,
   "metadata": {},
   "outputs": [
    {
     "name": "stdout",
     "output_type": "stream",
     "text": [
      "county_name\n",
      "ACCOMACK    155.071429\n",
      "ADA         220.920000\n",
      "ADAIR       170.050000\n",
      "ADAMS       149.251724\n",
      "AIKEN       136.575000\n",
      "Name: target, dtype: float64\n",
      "state_name\n",
      "ALABAMA       139.969737\n",
      "ARKANSAS      177.167232\n",
      "CALIFORNIA    177.717241\n",
      "COLORADO      126.891818\n",
      "DELAWARE      167.557143\n",
      "Name: target, dtype: float64\n",
      "               year        target\n",
      "count  10246.000000  10246.000000\n",
      "mean    2019.032403    157.151464\n",
      "std        2.025249     37.482781\n",
      "min     2016.000000     19.800000\n",
      "25%     2017.000000    133.900000\n",
      "50%     2019.000000    162.150000\n",
      "75%     2021.000000    184.400000\n",
      "max     2022.000000    270.200000\n"
     ]
    }
   ],
   "source": [
    "mean_per_county = df.groupby(\"county_name\")[\"target\"].mean()\n",
    "mean_per_state = df.groupby(\"state_name\")[\"target\"].mean()\n",
    "\n",
    "print(mean_per_county.head())\n",
    "print(mean_per_state.head())\n",
    "\n",
    "print(df.describe())"
   ]
  },
  {
   "cell_type": "code",
   "execution_count": null,
   "metadata": {},
   "outputs": [],
   "source": []
  }
 ],
 "metadata": {
  "kernelspec": {
   "display_name": ".ml-venv",
   "language": "python",
   "name": "python3"
  },
  "language_info": {
   "codemirror_mode": {
    "name": "ipython",
    "version": 3
   },
   "file_extension": ".py",
   "mimetype": "text/x-python",
   "name": "python",
   "nbconvert_exporter": "python",
   "pygments_lexer": "ipython3",
   "version": "3.12.6"
  }
 },
 "nbformat": 4,
 "nbformat_minor": 2
}
