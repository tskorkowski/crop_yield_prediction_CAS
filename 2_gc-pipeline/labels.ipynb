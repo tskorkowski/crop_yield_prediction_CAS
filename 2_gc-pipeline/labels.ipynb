{
 "cells": [
  {
   "cell_type": "code",
   "execution_count": 44,
   "metadata": {
    "tags": []
   },
   "outputs": [],
   "source": [
    "# Setup\n",
    "!pip install --quiet --upgrade pip\n",
    "\n",
    "# Install the dependencies.\n",
    "!pip install --quiet -r requirements.txt\n",
    "\n",
    "# Restart the runtime by ending the process.\n",
    "exit()"
   ]
  },
  {
   "cell_type": "code",
   "execution_count": 2,
   "metadata": {
    "tags": []
   },
   "outputs": [],
   "source": [
    "import numpy as np\n",
    "import pandas as pd\n",
    "from serving.data import get_varied_labels, get_labels\n",
    "from importlib import reload\n"
   ]
  },
  {
   "cell_type": "code",
   "execution_count": 8,
   "metadata": {
    "tags": []
   },
   "outputs": [],
   "source": [
    "df = get_labels()\n",
    "df[\"year\"] = pd.to_numeric(df[\"year\"])\n",
    "df[\"log_target\"] = np.log(df[\"target\"])"
   ]
  },
  {
   "cell_type": "code",
   "execution_count": 10,
   "metadata": {
    "tags": []
   },
   "outputs": [
    {
     "data": {
      "text/html": [
       "<div>\n",
       "<style scoped>\n",
       "    .dataframe tbody tr th:only-of-type {\n",
       "        vertical-align: middle;\n",
       "    }\n",
       "\n",
       "    .dataframe tbody tr th {\n",
       "        vertical-align: top;\n",
       "    }\n",
       "\n",
       "    .dataframe thead th {\n",
       "        text-align: right;\n",
       "    }\n",
       "</style>\n",
       "<table border=\"1\" class=\"dataframe\">\n",
       "  <thead>\n",
       "    <tr style=\"text-align: right;\">\n",
       "      <th></th>\n",
       "      <th>year</th>\n",
       "      <th>target</th>\n",
       "      <th>log_target</th>\n",
       "    </tr>\n",
       "  </thead>\n",
       "  <tbody>\n",
       "    <tr>\n",
       "      <th>count</th>\n",
       "      <td>10246.000000</td>\n",
       "      <td>10246.000000</td>\n",
       "      <td>10246.000000</td>\n",
       "    </tr>\n",
       "    <tr>\n",
       "      <th>mean</th>\n",
       "      <td>2019.032403</td>\n",
       "      <td>157.151464</td>\n",
       "      <td>5.021645</td>\n",
       "    </tr>\n",
       "    <tr>\n",
       "      <th>std</th>\n",
       "      <td>2.025249</td>\n",
       "      <td>37.482781</td>\n",
       "      <td>0.286243</td>\n",
       "    </tr>\n",
       "    <tr>\n",
       "      <th>min</th>\n",
       "      <td>2016.000000</td>\n",
       "      <td>19.800000</td>\n",
       "      <td>2.985682</td>\n",
       "    </tr>\n",
       "    <tr>\n",
       "      <th>25%</th>\n",
       "      <td>2017.000000</td>\n",
       "      <td>133.900000</td>\n",
       "      <td>4.897093</td>\n",
       "    </tr>\n",
       "    <tr>\n",
       "      <th>50%</th>\n",
       "      <td>2019.000000</td>\n",
       "      <td>162.150000</td>\n",
       "      <td>5.088522</td>\n",
       "    </tr>\n",
       "    <tr>\n",
       "      <th>75%</th>\n",
       "      <td>2021.000000</td>\n",
       "      <td>184.400000</td>\n",
       "      <td>5.217107</td>\n",
       "    </tr>\n",
       "    <tr>\n",
       "      <th>max</th>\n",
       "      <td>2022.000000</td>\n",
       "      <td>270.200000</td>\n",
       "      <td>5.599162</td>\n",
       "    </tr>\n",
       "  </tbody>\n",
       "</table>\n",
       "</div>"
      ],
      "text/plain": [
       "               year        target    log_target\n",
       "count  10246.000000  10246.000000  10246.000000\n",
       "mean    2019.032403    157.151464      5.021645\n",
       "std        2.025249     37.482781      0.286243\n",
       "min     2016.000000     19.800000      2.985682\n",
       "25%     2017.000000    133.900000      4.897093\n",
       "50%     2019.000000    162.150000      5.088522\n",
       "75%     2021.000000    184.400000      5.217107\n",
       "max     2022.000000    270.200000      5.599162"
      ]
     },
     "execution_count": 10,
     "metadata": {},
     "output_type": "execute_result"
    }
   ],
   "source": [
    "df.describe()"
   ]
  },
  {
   "cell_type": "code",
   "execution_count": 9,
   "metadata": {
    "tags": []
   },
   "outputs": [
    {
     "data": {
      "image/png": "[encoded data removed]",
      "text/plain": [
       "<Figure size 640x480 with 1 Axes>"
      ]
     },
     "metadata": {},
     "output_type": "display_data"
    },
    {
     "data": {
      "image/png": "[encoded data removed]",
      "text/plain": [
       "<Figure size 640x480 with 1 Axes>"
      ]
     },
     "metadata": {},
     "output_type": "display_data"
    }
   ],
   "source": [
    "columns = [\"target\", \"log_target\"]\n",
    "\n",
    "for col in columns:\n",
    "    df.hist(col)"
   ]
  },
  {
   "cell_type": "code",
   "execution_count": 98,
   "metadata": {},
   "outputs": [
    {
     "name": "stdout",
     "output_type": "stream",
     "text": [
      "county_name\n",
      "ACCOMACK    155.071429\n",
      "ADA         220.920000\n",
      "ADAIR       170.050000\n",
      "ADAMS       149.251724\n",
      "AIKEN       136.575000\n",
      "Name: target, dtype: float64\n",
      "state_name\n",
      "ALABAMA       139.969737\n",
      "ARKANSAS      177.167232\n",
      "CALIFORNIA    177.717241\n",
      "COLORADO      126.891818\n",
      "DELAWARE      167.557143\n",
      "Name: target, dtype: float64\n",
      "             target\n",
      "count  10246.000000\n",
      "mean     157.151464\n",
      "std       37.482781\n",
      "min       19.800000\n",
      "25%      133.900000\n",
      "50%      162.150000\n",
      "75%      184.400000\n",
      "max      270.200000\n"
     ]
    }
   ],
   "source": [
    "mean_per_county = labels_df.groupby(\"county_name\")[\"target\"].mean()\n",
    "mean_per_state = labels_df.groupby(\"state_name\")[\"target\"].mean()\n",
    "\n",
    "print(mean_per_county.head())\n",
    "print(mean_per_state.head())\n",
    "\n",
    "print(labels_df.describe())"
   ]
  },
  {
   "cell_type": "code",
   "execution_count": 3,
   "metadata": {
    "tags": []
   },
   "outputs": [],
   "source": [
    "df_varied = get_varied_labels(0, 2000)"
   ]
  },
  {
   "cell_type": "code",
   "execution_count": 17,
   "metadata": {
    "tags": []
   },
   "outputs": [],
   "source": [
    "\n",
    "pd.set_option('display.max_colwidth', 20)"
   ]
  },
  {
   "cell_type": "code",
   "execution_count": 34,
   "metadata": {
    "tags": []
   },
   "outputs": [
    {
     "data": {
      "text/html": [
       "<div>\n",
       "<style scoped>\n",
       "    .dataframe tbody tr th:only-of-type {\n",
       "        vertical-align: middle;\n",
       "    }\n",
       "\n",
       "    .dataframe tbody tr th {\n",
       "        vertical-align: top;\n",
       "    }\n",
       "\n",
       "    .dataframe thead th {\n",
       "        text-align: right;\n",
       "    }\n",
       "</style>\n",
       "<table border=\"1\" class=\"dataframe\">\n",
       "  <thead>\n",
       "    <tr style=\"text-align: right;\">\n",
       "      <th></th>\n",
       "      <th>year</th>\n",
       "      <th>state_ansi</th>\n",
       "      <th>county_ansi</th>\n",
       "      <th>county_name</th>\n",
       "    </tr>\n",
       "  </thead>\n",
       "  <tbody>\n",
       "    <tr>\n",
       "      <th>0</th>\n",
       "      <td>2016</td>\n",
       "      <td>06</td>\n",
       "      <td>101</td>\n",
       "      <td>SUTTER</td>\n",
       "    </tr>\n",
       "    <tr>\n",
       "      <th>1</th>\n",
       "      <td>2018</td>\n",
       "      <td>06</td>\n",
       "      <td>101</td>\n",
       "      <td>SUTTER</td>\n",
       "    </tr>\n",
       "    <tr>\n",
       "      <th>2</th>\n",
       "      <td>2019</td>\n",
       "      <td>06</td>\n",
       "      <td>101</td>\n",
       "      <td>SUTTER</td>\n",
       "    </tr>\n",
       "    <tr>\n",
       "      <th>3</th>\n",
       "      <td>2021</td>\n",
       "      <td>06</td>\n",
       "      <td>101</td>\n",
       "      <td>SUTTER</td>\n",
       "    </tr>\n",
       "    <tr>\n",
       "      <th>4</th>\n",
       "      <td>2022</td>\n",
       "      <td>06</td>\n",
       "      <td>101</td>\n",
       "      <td>SUTTER</td>\n",
       "    </tr>\n",
       "  </tbody>\n",
       "</table>\n",
       "</div>"
      ],
      "text/plain": [
       "   year state_ansi county_ansi county_name\n",
       "0  2016         06         101      SUTTER\n",
       "1  2018         06         101      SUTTER\n",
       "2  2019         06         101      SUTTER\n",
       "3  2021         06         101      SUTTER\n",
       "4  2022         06         101      SUTTER"
      ]
     },
     "execution_count": 34,
     "metadata": {},
     "output_type": "execute_result"
    }
   ],
   "source": [
    "df_varied[df_varied[\"county_name\"]==\"SUTTER\"]"
   ]
  }
 ],
 "metadata": {
  "environment": {
   "kernel": "conda-base-py",
   "name": "workbench-notebooks.m125",
   "type": "gcloud",
   "uri": "us-docker.pkg.dev/deeplearning-platform-release/gcr.io/workbench-notebooks:m125"
  },
  "kernelspec": {
   "display_name": "Python 3 (ipykernel) (Local)",
   "language": "python",
   "name": "conda-base-py"
  },
  "language_info": {
   "codemirror_mode": {
    "name": "ipython",
    "version": 3
   },
   "file_extension": ".py",
   "mimetype": "text/x-python",
   "name": "python",
   "nbconvert_exporter": "python",
   "pygments_lexer": "ipython3",
   "version": "3.10.15"
  }
 },
 "nbformat": 4,
 "nbformat_minor": 4
}
