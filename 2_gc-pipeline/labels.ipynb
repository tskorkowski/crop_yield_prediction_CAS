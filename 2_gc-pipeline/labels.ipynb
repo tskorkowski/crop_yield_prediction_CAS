{
 "cells": [
  {
   "cell_type": "code",
   "execution_count": 3,
   "metadata": {
    "tags": []
   },
   "outputs": [],
   "source": [
    "# Setup\n",
    "!pip install --quiet --upgrade pip\n",
    "\n",
    "# Install the dependencies.\n",
    "!pip install --quiet -r requirements.txt\n",
    "\n",
    "# Restart the runtime by ending the process.\n",
    "exit()"
   ]
  },
  {
   "cell_type": "code",
   "execution_count": 94,
   "metadata": {
    "tags": []
   },
   "outputs": [],
   "source": [
    "import numpy as np\n",
    "import pandas as pd\n",
    "from serving.data import get_labels\n",
    "from importlib import reload\n",
    "labels_df = get_labels()"
   ]
  },
  {
   "cell_type": "code",
   "execution_count": 95,
   "metadata": {},
   "outputs": [
    {
     "name": "stdout",
     "output_type": "stream",
     "text": [
      "county_name\n",
      "ACCOMACK    155.071429\n",
      "ADA         220.920000\n",
      "ADAIR       170.050000\n",
      "ADAMS       149.251724\n",
      "AIKEN       136.575000\n",
      "Name: target, dtype: float64\n",
      "state_name\n",
      "ALABAMA       139.969737\n",
      "ARKANSAS      177.167232\n",
      "CALIFORNIA    177.717241\n",
      "COLORADO      126.891818\n",
      "DELAWARE      167.557143\n",
      "Name: target, dtype: float64\n",
      "             target\n",
      "count  10246.000000\n",
      "mean     157.151464\n",
      "std       37.482781\n",
      "min       19.800000\n",
      "25%      133.900000\n",
      "50%      162.150000\n",
      "75%      184.400000\n",
      "max      270.200000\n"
     ]
    }
   ],
   "source": [
    "mean_per_county = labels_df.groupby(\"county_name\")[\"target\"].mean()\n",
    "mean_per_state = labels_df.groupby(\"state_name\")[\"target\"].mean()\n",
    "\n",
    "print(mean_per_county.head())\n",
    "print(mean_per_state.head())\n",
    "\n",
    "print(labels_df.describe())"
   ]
  },
  {
   "cell_type": "code",
   "execution_count": 96,
   "metadata": {
    "tags": []
   },
   "outputs": [
    {
     "data": {
      "text/plain": [
       "Index(['commodity_desc', 'reference_period_desc', 'year', 'state_name',\n",
       "       'county_name', 'target', 'source_file'],\n",
       "      dtype='object')"
      ]
     },
     "execution_count": 96,
     "metadata": {},
     "output_type": "execute_result"
    }
   ],
   "source": [
    "labels_df.columns"
   ]
  },
  {
   "cell_type": "code",
   "execution_count": null,
   "metadata": {},
   "outputs": [],
   "source": [
    ".sort_values(by=\"target\", ascending=False).dropna()"
   ]
  },
  {
   "cell_type": "code",
   "execution_count": 67,
   "metadata": {},
   "outputs": [],
   "source": [
    "df_var = labels_df.groupby(by=[\"county_name\",\"state_name\"]).agg(\n",
    "    count=('target', 'count'),\n",
    "    min_value=('target', 'min'),\n",
    "    max_value=('target', 'max'),\n",
    "    median=('target', 'median'))\n",
    "df_var[\"range\"]=df_var[\"max_value\"] - df_var[\"min_value\"]\n",
    "df_var = df_var.sort_values(by=\"range\", ascending=False)"
   ]
  },
  {
   "cell_type": "code",
   "execution_count": 84,
   "metadata": {
    "tags": []
   },
   "outputs": [],
   "source": [
    "get_data = df_var.iloc[:100].reset_index()"
   ]
  },
  {
   "cell_type": "code",
   "execution_count": 85,
   "metadata": {
    "tags": []
   },
   "outputs": [
    {
     "data": {
      "text/html": [
       "<div>\n",
       "<style scoped>\n",
       "    .dataframe tbody tr th:only-of-type {\n",
       "        vertical-align: middle;\n",
       "    }\n",
       "\n",
       "    .dataframe tbody tr th {\n",
       "        vertical-align: top;\n",
       "    }\n",
       "\n",
       "    .dataframe thead th {\n",
       "        text-align: right;\n",
       "    }\n",
       "</style>\n",
       "<table border=\"1\" class=\"dataframe\">\n",
       "  <thead>\n",
       "    <tr style=\"text-align: right;\">\n",
       "      <th></th>\n",
       "      <th>county_name</th>\n",
       "      <th>state_name</th>\n",
       "      <th>count</th>\n",
       "      <th>min_value</th>\n",
       "      <th>max_value</th>\n",
       "      <th>median</th>\n",
       "      <th>range</th>\n",
       "    </tr>\n",
       "  </thead>\n",
       "  <tbody>\n",
       "    <tr>\n",
       "      <th>0</th>\n",
       "      <td>SUTTER</td>\n",
       "      <td>CALIFORNIA</td>\n",
       "      <td>5</td>\n",
       "      <td>133.8</td>\n",
       "      <td>264.1</td>\n",
       "      <td>169.90</td>\n",
       "      <td>130.3</td>\n",
       "    </tr>\n",
       "    <tr>\n",
       "      <th>1</th>\n",
       "      <td>FLOYD</td>\n",
       "      <td>GEORGIA</td>\n",
       "      <td>4</td>\n",
       "      <td>86.4</td>\n",
       "      <td>216.7</td>\n",
       "      <td>167.95</td>\n",
       "      <td>130.3</td>\n",
       "    </tr>\n",
       "    <tr>\n",
       "      <th>2</th>\n",
       "      <td>MEIGS</td>\n",
       "      <td>TENNESSEE</td>\n",
       "      <td>5</td>\n",
       "      <td>50.0</td>\n",
       "      <td>175.6</td>\n",
       "      <td>150.70</td>\n",
       "      <td>125.6</td>\n",
       "    </tr>\n",
       "    <tr>\n",
       "      <th>3</th>\n",
       "      <td>BRADLEY</td>\n",
       "      <td>TENNESSEE</td>\n",
       "      <td>5</td>\n",
       "      <td>50.0</td>\n",
       "      <td>170.0</td>\n",
       "      <td>132.80</td>\n",
       "      <td>120.0</td>\n",
       "    </tr>\n",
       "    <tr>\n",
       "      <th>4</th>\n",
       "      <td>HART</td>\n",
       "      <td>GEORGIA</td>\n",
       "      <td>5</td>\n",
       "      <td>72.1</td>\n",
       "      <td>190.7</td>\n",
       "      <td>150.00</td>\n",
       "      <td>118.6</td>\n",
       "    </tr>\n",
       "    <tr>\n",
       "      <th>...</th>\n",
       "      <td>...</td>\n",
       "      <td>...</td>\n",
       "      <td>...</td>\n",
       "      <td>...</td>\n",
       "      <td>...</td>\n",
       "      <td>...</td>\n",
       "      <td>...</td>\n",
       "    </tr>\n",
       "    <tr>\n",
       "      <th>95</th>\n",
       "      <td>CALDWELL</td>\n",
       "      <td>KENTUCKY</td>\n",
       "      <td>7</td>\n",
       "      <td>120.4</td>\n",
       "      <td>198.9</td>\n",
       "      <td>173.00</td>\n",
       "      <td>78.5</td>\n",
       "    </tr>\n",
       "    <tr>\n",
       "      <th>96</th>\n",
       "      <td>DE KALB</td>\n",
       "      <td>MISSOURI</td>\n",
       "      <td>6</td>\n",
       "      <td>95.6</td>\n",
       "      <td>173.9</td>\n",
       "      <td>156.45</td>\n",
       "      <td>78.3</td>\n",
       "    </tr>\n",
       "    <tr>\n",
       "      <th>97</th>\n",
       "      <td>POLK</td>\n",
       "      <td>GEORGIA</td>\n",
       "      <td>3</td>\n",
       "      <td>88.9</td>\n",
       "      <td>167.1</td>\n",
       "      <td>118.50</td>\n",
       "      <td>78.2</td>\n",
       "    </tr>\n",
       "    <tr>\n",
       "      <th>98</th>\n",
       "      <td>HENRY</td>\n",
       "      <td>TENNESSEE</td>\n",
       "      <td>7</td>\n",
       "      <td>104.5</td>\n",
       "      <td>182.5</td>\n",
       "      <td>169.30</td>\n",
       "      <td>78.0</td>\n",
       "    </tr>\n",
       "    <tr>\n",
       "      <th>99</th>\n",
       "      <td>STANTON</td>\n",
       "      <td>NEBRASKA</td>\n",
       "      <td>6</td>\n",
       "      <td>130.0</td>\n",
       "      <td>208.0</td>\n",
       "      <td>193.80</td>\n",
       "      <td>78.0</td>\n",
       "    </tr>\n",
       "  </tbody>\n",
       "</table>\n",
       "<p>100 rows × 7 columns</p>\n",
       "</div>"
      ],
      "text/plain": [
       "   county_name  state_name  count  min_value  max_value  median  range\n",
       "0       SUTTER  CALIFORNIA      5      133.8      264.1  169.90  130.3\n",
       "1        FLOYD     GEORGIA      4       86.4      216.7  167.95  130.3\n",
       "2        MEIGS   TENNESSEE      5       50.0      175.6  150.70  125.6\n",
       "3      BRADLEY   TENNESSEE      5       50.0      170.0  132.80  120.0\n",
       "4         HART     GEORGIA      5       72.1      190.7  150.00  118.6\n",
       "..         ...         ...    ...        ...        ...     ...    ...\n",
       "95    CALDWELL    KENTUCKY      7      120.4      198.9  173.00   78.5\n",
       "96     DE KALB    MISSOURI      6       95.6      173.9  156.45   78.3\n",
       "97        POLK     GEORGIA      3       88.9      167.1  118.50   78.2\n",
       "98       HENRY   TENNESSEE      7      104.5      182.5  169.30   78.0\n",
       "99     STANTON    NEBRASKA      6      130.0      208.0  193.80   78.0\n",
       "\n",
       "[100 rows x 7 columns]"
      ]
     },
     "execution_count": 85,
     "metadata": {},
     "output_type": "execute_result"
    }
   ],
   "source": [
    "get_data"
   ]
  },
  {
   "cell_type": "code",
   "execution_count": 88,
   "metadata": {
    "tags": []
   },
   "outputs": [],
   "source": [
    "data_to_grab = pd.merge(labels_df, get_data, how=\"right\", on=[\"county_name\", \"state_name\"])"
   ]
  },
  {
   "cell_type": "code",
   "execution_count": 90,
   "metadata": {
    "tags": []
   },
   "outputs": [],
   "source": [
    "images_to_grab = data_to_grab[[\"year\", \"state_name\", \"county_name\"]]"
   ]
  },
  {
   "cell_type": "code",
   "execution_count": 91,
   "metadata": {
    "tags": []
   },
   "outputs": [
    {
     "data": {
      "text/html": [
       "<div>\n",
       "<style scoped>\n",
       "    .dataframe tbody tr th:only-of-type {\n",
       "        vertical-align: middle;\n",
       "    }\n",
       "\n",
       "    .dataframe tbody tr th {\n",
       "        vertical-align: top;\n",
       "    }\n",
       "\n",
       "    .dataframe thead th {\n",
       "        text-align: right;\n",
       "    }\n",
       "</style>\n",
       "<table border=\"1\" class=\"dataframe\">\n",
       "  <thead>\n",
       "    <tr style=\"text-align: right;\">\n",
       "      <th></th>\n",
       "      <th>year</th>\n",
       "      <th>state_name</th>\n",
       "      <th>county_name</th>\n",
       "    </tr>\n",
       "  </thead>\n",
       "  <tbody>\n",
       "    <tr>\n",
       "      <th>0</th>\n",
       "      <td>2016</td>\n",
       "      <td>CALIFORNIA</td>\n",
       "      <td>SUTTER</td>\n",
       "    </tr>\n",
       "    <tr>\n",
       "      <th>1</th>\n",
       "      <td>2018</td>\n",
       "      <td>CALIFORNIA</td>\n",
       "      <td>SUTTER</td>\n",
       "    </tr>\n",
       "    <tr>\n",
       "      <th>2</th>\n",
       "      <td>2019</td>\n",
       "      <td>CALIFORNIA</td>\n",
       "      <td>SUTTER</td>\n",
       "    </tr>\n",
       "    <tr>\n",
       "      <th>3</th>\n",
       "      <td>2021</td>\n",
       "      <td>CALIFORNIA</td>\n",
       "      <td>SUTTER</td>\n",
       "    </tr>\n",
       "    <tr>\n",
       "      <th>4</th>\n",
       "      <td>2022</td>\n",
       "      <td>CALIFORNIA</td>\n",
       "      <td>SUTTER</td>\n",
       "    </tr>\n",
       "    <tr>\n",
       "      <th>...</th>\n",
       "      <td>...</td>\n",
       "      <td>...</td>\n",
       "      <td>...</td>\n",
       "    </tr>\n",
       "    <tr>\n",
       "      <th>574</th>\n",
       "      <td>2017</td>\n",
       "      <td>NEBRASKA</td>\n",
       "      <td>STANTON</td>\n",
       "    </tr>\n",
       "    <tr>\n",
       "      <th>575</th>\n",
       "      <td>2018</td>\n",
       "      <td>NEBRASKA</td>\n",
       "      <td>STANTON</td>\n",
       "    </tr>\n",
       "    <tr>\n",
       "      <th>576</th>\n",
       "      <td>2019</td>\n",
       "      <td>NEBRASKA</td>\n",
       "      <td>STANTON</td>\n",
       "    </tr>\n",
       "    <tr>\n",
       "      <th>577</th>\n",
       "      <td>2020</td>\n",
       "      <td>NEBRASKA</td>\n",
       "      <td>STANTON</td>\n",
       "    </tr>\n",
       "    <tr>\n",
       "      <th>578</th>\n",
       "      <td>2022</td>\n",
       "      <td>NEBRASKA</td>\n",
       "      <td>STANTON</td>\n",
       "    </tr>\n",
       "  </tbody>\n",
       "</table>\n",
       "<p>579 rows × 3 columns</p>\n",
       "</div>"
      ],
      "text/plain": [
       "     year  state_name county_name\n",
       "0    2016  CALIFORNIA      SUTTER\n",
       "1    2018  CALIFORNIA      SUTTER\n",
       "2    2019  CALIFORNIA      SUTTER\n",
       "3    2021  CALIFORNIA      SUTTER\n",
       "4    2022  CALIFORNIA      SUTTER\n",
       "..    ...         ...         ...\n",
       "574  2017    NEBRASKA     STANTON\n",
       "575  2018    NEBRASKA     STANTON\n",
       "576  2019    NEBRASKA     STANTON\n",
       "577  2020    NEBRASKA     STANTON\n",
       "578  2022    NEBRASKA     STANTON\n",
       "\n",
       "[579 rows x 3 columns]"
      ]
     },
     "execution_count": 91,
     "metadata": {},
     "output_type": "execute_result"
    }
   ],
   "source": [
    "images_to_grab"
   ]
  },
  {
   "cell_type": "code",
   "execution_count": null,
   "metadata": {},
   "outputs": [],
   "source": []
  }
 ],
 "metadata": {
  "environment": {
   "kernel": "conda-base-py",
   "name": "workbench-notebooks.m125",
   "type": "gcloud",
   "uri": "us-docker.pkg.dev/deeplearning-platform-release/gcr.io/workbench-notebooks:m125"
  },
  "kernelspec": {
   "display_name": "Python 3 (ipykernel) (Local) (Local)",
   "language": "python",
   "name": "conda-base-py"
  },
  "language_info": {
   "codemirror_mode": {
    "name": "ipython",
    "version": 3
   },
   "file_extension": ".py",
   "mimetype": "text/x-python",
   "name": "python",
   "nbconvert_exporter": "python",
   "pygments_lexer": "ipython3",
   "version": "3.10.15"
  }
 },
 "nbformat": 4,
 "nbformat_minor": 4
}
