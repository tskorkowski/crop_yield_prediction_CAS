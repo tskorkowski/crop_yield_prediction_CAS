{
 "cells": [
  {
   "cell_type": "code",
   "execution_count": 44,
   "metadata": {
    "tags": []
   },
   "outputs": [],
   "source": [
    "# Setup\n",
    "!pip install --quiet --upgrade pip\n",
    "\n",
    "# Install the dependencies.\n",
    "!pip install --quiet -r requirements.txt\n",
    "\n",
    "# Restart the runtime by ending the process.\n",
    "exit()"
   ]
  },
  {
   "cell_type": "code",
   "execution_count": 43,
   "metadata": {
    "tags": []
   },
   "outputs": [],
   "source": [
    "import numpy as np\n",
    "import pandas as pd\n",
    "from serving.data import get_varied_labels, get_labels\n",
    "from importlib import reload\n",
    "import matplotlib.pyplot as plt\n"
   ]
  },
  {
   "cell_type": "code",
   "execution_count": 37,
   "metadata": {
    "tags": []
   },
   "outputs": [],
   "source": [
    "df = get_labels()\n",
    "df[\"year\"] = pd.to_numeric(df[\"year\"])\n",
    "df[\"square_target\"] = np.power(df[\"target\"], 3 )"
   ]
  },
  {
   "cell_type": "code",
   "execution_count": 38,
   "metadata": {},
   "outputs": [
    {
     "data": {
      "text/html": [
       "<div>\n",
       "<style scoped>\n",
       "    .dataframe tbody tr th:only-of-type {\n",
       "        vertical-align: middle;\n",
       "    }\n",
       "\n",
       "    .dataframe tbody tr th {\n",
       "        vertical-align: top;\n",
       "    }\n",
       "\n",
       "    .dataframe thead th {\n",
       "        text-align: right;\n",
       "    }\n",
       "</style>\n",
       "<table border=\"1\" class=\"dataframe\">\n",
       "  <thead>\n",
       "    <tr style=\"text-align: right;\">\n",
       "      <th></th>\n",
       "      <th>commodity_desc</th>\n",
       "      <th>reference_period_desc</th>\n",
       "      <th>year</th>\n",
       "      <th>state_ansi</th>\n",
       "      <th>state_name</th>\n",
       "      <th>county_ansi</th>\n",
       "      <th>county_name</th>\n",
       "      <th>target</th>\n",
       "      <th>source_file</th>\n",
       "      <th>square_target</th>\n",
       "    </tr>\n",
       "  </thead>\n",
       "  <tbody>\n",
       "    <tr>\n",
       "      <th>0</th>\n",
       "      <td>CORN</td>\n",
       "      <td>YEAR</td>\n",
       "      <td>2016</td>\n",
       "      <td>01</td>\n",
       "      <td>ALABAMA</td>\n",
       "      <td>003</td>\n",
       "      <td>BALDWIN</td>\n",
       "      <td>152.9</td>\n",
       "      <td>USDA_Corn_County_2016.csv</td>\n",
       "      <td>3574558.889</td>\n",
       "    </tr>\n",
       "    <tr>\n",
       "      <th>1</th>\n",
       "      <td>CORN</td>\n",
       "      <td>YEAR</td>\n",
       "      <td>2016</td>\n",
       "      <td>01</td>\n",
       "      <td>ALABAMA</td>\n",
       "      <td>005</td>\n",
       "      <td>BARBOUR</td>\n",
       "      <td>188.9</td>\n",
       "      <td>USDA_Corn_County_2016.csv</td>\n",
       "      <td>6740558.369</td>\n",
       "    </tr>\n",
       "    <tr>\n",
       "      <th>2</th>\n",
       "      <td>CORN</td>\n",
       "      <td>YEAR</td>\n",
       "      <td>2016</td>\n",
       "      <td>01</td>\n",
       "      <td>ALABAMA</td>\n",
       "      <td>019</td>\n",
       "      <td>CHEROKEE</td>\n",
       "      <td>92.3</td>\n",
       "      <td>USDA_Corn_County_2016.csv</td>\n",
       "      <td>786330.467</td>\n",
       "    </tr>\n",
       "    <tr>\n",
       "      <th>3</th>\n",
       "      <td>CORN</td>\n",
       "      <td>YEAR</td>\n",
       "      <td>2016</td>\n",
       "      <td>01</td>\n",
       "      <td>ALABAMA</td>\n",
       "      <td>029</td>\n",
       "      <td>CLEBURNE</td>\n",
       "      <td>125.0</td>\n",
       "      <td>USDA_Corn_County_2016.csv</td>\n",
       "      <td>1953125.000</td>\n",
       "    </tr>\n",
       "    <tr>\n",
       "      <th>4</th>\n",
       "      <td>CORN</td>\n",
       "      <td>YEAR</td>\n",
       "      <td>2016</td>\n",
       "      <td>01</td>\n",
       "      <td>ALABAMA</td>\n",
       "      <td>031</td>\n",
       "      <td>COFFEE</td>\n",
       "      <td>104.5</td>\n",
       "      <td>USDA_Corn_County_2016.csv</td>\n",
       "      <td>1141166.125</td>\n",
       "    </tr>\n",
       "  </tbody>\n",
       "</table>\n",
       "</div>"
      ],
      "text/plain": [
       "  commodity_desc reference_period_desc  year state_ansi state_name  \\\n",
       "0           CORN                  YEAR  2016         01    ALABAMA   \n",
       "1           CORN                  YEAR  2016         01    ALABAMA   \n",
       "2           CORN                  YEAR  2016         01    ALABAMA   \n",
       "3           CORN                  YEAR  2016         01    ALABAMA   \n",
       "4           CORN                  YEAR  2016         01    ALABAMA   \n",
       "\n",
       "  county_ansi county_name  target                source_file  square_target  \n",
       "0         003     BALDWIN   152.9  USDA_Corn_County_2016.csv    3574558.889  \n",
       "1         005     BARBOUR   188.9  USDA_Corn_County_2016.csv    6740558.369  \n",
       "2         019    CHEROKEE    92.3  USDA_Corn_County_2016.csv     786330.467  \n",
       "3         029    CLEBURNE   125.0  USDA_Corn_County_2016.csv    1953125.000  \n",
       "4         031      COFFEE   104.5  USDA_Corn_County_2016.csv    1141166.125  "
      ]
     },
     "execution_count": 38,
     "metadata": {},
     "output_type": "execute_result"
    }
   ],
   "source": [
    "df.head()"
   ]
  },
  {
   "cell_type": "code",
   "execution_count": 39,
   "metadata": {},
   "outputs": [
    {
     "data": {
      "text/html": [
       "<div>\n",
       "<style scoped>\n",
       "    .dataframe tbody tr th:only-of-type {\n",
       "        vertical-align: middle;\n",
       "    }\n",
       "\n",
       "    .dataframe tbody tr th {\n",
       "        vertical-align: top;\n",
       "    }\n",
       "\n",
       "    .dataframe thead th {\n",
       "        text-align: right;\n",
       "    }\n",
       "</style>\n",
       "<table border=\"1\" class=\"dataframe\">\n",
       "  <thead>\n",
       "    <tr style=\"text-align: right;\">\n",
       "      <th></th>\n",
       "      <th>county_name</th>\n",
       "      <th>state_ansi</th>\n",
       "      <th>year</th>\n",
       "    </tr>\n",
       "  </thead>\n",
       "  <tbody>\n",
       "    <tr>\n",
       "      <th>0</th>\n",
       "      <td>SUTTER</td>\n",
       "      <td>06</td>\n",
       "      <td>2016</td>\n",
       "    </tr>\n",
       "    <tr>\n",
       "      <th>1</th>\n",
       "      <td>SUTTER</td>\n",
       "      <td>06</td>\n",
       "      <td>2018</td>\n",
       "    </tr>\n",
       "    <tr>\n",
       "      <th>2</th>\n",
       "      <td>SUTTER</td>\n",
       "      <td>06</td>\n",
       "      <td>2019</td>\n",
       "    </tr>\n",
       "    <tr>\n",
       "      <th>3</th>\n",
       "      <td>SUTTER</td>\n",
       "      <td>06</td>\n",
       "      <td>2021</td>\n",
       "    </tr>\n",
       "    <tr>\n",
       "      <th>4</th>\n",
       "      <td>SUTTER</td>\n",
       "      <td>06</td>\n",
       "      <td>2022</td>\n",
       "    </tr>\n",
       "  </tbody>\n",
       "</table>\n",
       "</div>"
      ],
      "text/plain": [
       "  county_name state_ansi  year\n",
       "0      SUTTER         06  2016\n",
       "1      SUTTER         06  2018\n",
       "2      SUTTER         06  2019\n",
       "3      SUTTER         06  2021\n",
       "4      SUTTER         06  2022"
      ]
     },
     "execution_count": 39,
     "metadata": {},
     "output_type": "execute_result"
    }
   ],
   "source": [
    "actual_images = pd.DataFrame(np.load(r\"C:\\Users\\tskor\\Documents\\GitHub\\inovation_project\\2_gc-pipeline\\all_images.npy\"),\n",
    "                            columns=[\"county_name\", 'state_ansi', 'year'])\n",
    "actual_images[\"year\"] = pd.to_numeric(actual_images[\"year\"])\n",
    "actual_images[\"county_name\"] = actual_images[\"county_name\"].str.upper()\n",
    "actual_images.head()"
   ]
  },
  {
   "cell_type": "code",
   "execution_count": 40,
   "metadata": {
    "tags": []
   },
   "outputs": [
    {
     "data": {
      "text/html": [
       "<div>\n",
       "<style scoped>\n",
       "    .dataframe tbody tr th:only-of-type {\n",
       "        vertical-align: middle;\n",
       "    }\n",
       "\n",
       "    .dataframe tbody tr th {\n",
       "        vertical-align: top;\n",
       "    }\n",
       "\n",
       "    .dataframe thead th {\n",
       "        text-align: right;\n",
       "    }\n",
       "</style>\n",
       "<table border=\"1\" class=\"dataframe\">\n",
       "  <thead>\n",
       "    <tr style=\"text-align: right;\">\n",
       "      <th></th>\n",
       "      <th>year</th>\n",
       "      <th>target</th>\n",
       "      <th>square_target</th>\n",
       "    </tr>\n",
       "  </thead>\n",
       "  <tbody>\n",
       "    <tr>\n",
       "      <th>count</th>\n",
       "      <td>9590.000000</td>\n",
       "      <td>9590.000000</td>\n",
       "      <td>9.590000e+03</td>\n",
       "    </tr>\n",
       "    <tr>\n",
       "      <th>mean</th>\n",
       "      <td>2019.030031</td>\n",
       "      <td>156.996747</td>\n",
       "      <td>4.502748e+06</td>\n",
       "    </tr>\n",
       "    <tr>\n",
       "      <th>std</th>\n",
       "      <td>2.024960</td>\n",
       "      <td>37.549945</td>\n",
       "      <td>2.674301e+06</td>\n",
       "    </tr>\n",
       "    <tr>\n",
       "      <th>min</th>\n",
       "      <td>2016.000000</td>\n",
       "      <td>19.800000</td>\n",
       "      <td>7.762392e+03</td>\n",
       "    </tr>\n",
       "    <tr>\n",
       "      <th>25%</th>\n",
       "      <td>2017.000000</td>\n",
       "      <td>133.500000</td>\n",
       "      <td>2.379270e+06</td>\n",
       "    </tr>\n",
       "    <tr>\n",
       "      <th>50%</th>\n",
       "      <td>2019.000000</td>\n",
       "      <td>162.000000</td>\n",
       "      <td>4.251528e+06</td>\n",
       "    </tr>\n",
       "    <tr>\n",
       "      <th>75%</th>\n",
       "      <td>2021.000000</td>\n",
       "      <td>184.200000</td>\n",
       "      <td>6.249840e+06</td>\n",
       "    </tr>\n",
       "    <tr>\n",
       "      <th>max</th>\n",
       "      <td>2022.000000</td>\n",
       "      <td>270.200000</td>\n",
       "      <td>1.972677e+07</td>\n",
       "    </tr>\n",
       "  </tbody>\n",
       "</table>\n",
       "</div>"
      ],
      "text/plain": [
       "              year       target  square_target\n",
       "count  9590.000000  9590.000000   9.590000e+03\n",
       "mean   2019.030031   156.996747   4.502748e+06\n",
       "std       2.024960    37.549945   2.674301e+06\n",
       "min    2016.000000    19.800000   7.762392e+03\n",
       "25%    2017.000000   133.500000   2.379270e+06\n",
       "50%    2019.000000   162.000000   4.251528e+06\n",
       "75%    2021.000000   184.200000   6.249840e+06\n",
       "max    2022.000000   270.200000   1.972677e+07"
      ]
     },
     "execution_count": 40,
     "metadata": {},
     "output_type": "execute_result"
    }
   ],
   "source": [
    "df_actual = df.merge(actual_images, how=\"inner\", on=[\"county_name\", 'state_ansi', 'year'])\n",
    "df_actual.head()\n",
    "df_actual.describe()\n"
   ]
  },
  {
   "cell_type": "code",
   "execution_count": 45,
   "metadata": {
    "tags": []
   },
   "outputs": [
    {
     "data": {
      "image/png": "[encoded data removed]",
      "text/plain": [
       "<Figure size 640x480 with 1 Axes>"
      ]
     },
     "metadata": {},
     "output_type": "display_data"
    },
    {
     "data": {
      "image/png": "[encoded data removed]",
      "text/plain": [
       "<Figure size 640x480 with 1 Axes>"
      ]
     },
     "metadata": {},
     "output_type": "display_data"
    },
    {
     "name": "stdout",
     "output_type": "stream",
     "text": [
      "Skewness traget: -0.5843767135446957\n",
      "Skewness square_target: 0.5515991520833877\n"
     ]
    }
   ],
   "source": [
    "columns = [\"target\", \"square_target\"]\n",
    "\n",
    "for col in columns:\n",
    "    df_actual.hist(col, bins=70)\n",
    "    plt.title(\"Histogram of corn crop yield\")\n",
    "    plt.show()\n",
    "\n",
    "print(\"Skewness traget: {}\".format(df_actual[\"target\"].skew()))\n",
    "print(\"Skewness square_target: {}\".format(df_actual[\"square_target\"].skew()))\n"
   ]
  },
  {
   "cell_type": "code",
   "execution_count": 98,
   "metadata": {},
   "outputs": [
    {
     "name": "stdout",
     "output_type": "stream",
     "text": [
      "county_name\n",
      "ACCOMACK    155.071429\n",
      "ADA         220.920000\n",
      "ADAIR       170.050000\n",
      "ADAMS       149.251724\n",
      "AIKEN       136.575000\n",
      "Name: target, dtype: float64\n",
      "state_name\n",
      "ALABAMA       139.969737\n",
      "ARKANSAS      177.167232\n",
      "CALIFORNIA    177.717241\n",
      "COLORADO      126.891818\n",
      "DELAWARE      167.557143\n",
      "Name: target, dtype: float64\n",
      "             target\n",
      "count  10246.000000\n",
      "mean     157.151464\n",
      "std       37.482781\n",
      "min       19.800000\n",
      "25%      133.900000\n",
      "50%      162.150000\n",
      "75%      184.400000\n",
      "max      270.200000\n"
     ]
    }
   ],
   "source": [
    "mean_per_county = labels_df.groupby(\"county_name\")[\"target\"].mean()\n",
    "mean_per_state = labels_df.groupby(\"state_name\")[\"target\"].mean()\n",
    "\n",
    "print(mean_per_county.head())\n",
    "print(mean_per_state.head())\n",
    "\n",
    "print(labels_df.describe())"
   ]
  },
  {
   "cell_type": "code",
   "execution_count": 3,
   "metadata": {
    "tags": []
   },
   "outputs": [],
   "source": [
    "df_varied = get_varied_labels(0, 2000)"
   ]
  },
  {
   "cell_type": "code",
   "execution_count": 17,
   "metadata": {
    "tags": []
   },
   "outputs": [],
   "source": [
    "\n",
    "pd.set_option('display.max_colwidth', 20)"
   ]
  },
  {
   "cell_type": "code",
   "execution_count": 34,
   "metadata": {
    "tags": []
   },
   "outputs": [
    {
     "data": {
      "text/html": [
       "<div>\n",
       "<style scoped>\n",
       "    .dataframe tbody tr th:only-of-type {\n",
       "        vertical-align: middle;\n",
       "    }\n",
       "\n",
       "    .dataframe tbody tr th {\n",
       "        vertical-align: top;\n",
       "    }\n",
       "\n",
       "    .dataframe thead th {\n",
       "        text-align: right;\n",
       "    }\n",
       "</style>\n",
       "<table border=\"1\" class=\"dataframe\">\n",
       "  <thead>\n",
       "    <tr style=\"text-align: right;\">\n",
       "      <th></th>\n",
       "      <th>year</th>\n",
       "      <th>state_ansi</th>\n",
       "      <th>county_ansi</th>\n",
       "      <th>county_name</th>\n",
       "    </tr>\n",
       "  </thead>\n",
       "  <tbody>\n",
       "    <tr>\n",
       "      <th>0</th>\n",
       "      <td>2016</td>\n",
       "      <td>06</td>\n",
       "      <td>101</td>\n",
       "      <td>SUTTER</td>\n",
       "    </tr>\n",
       "    <tr>\n",
       "      <th>1</th>\n",
       "      <td>2018</td>\n",
       "      <td>06</td>\n",
       "      <td>101</td>\n",
       "      <td>SUTTER</td>\n",
       "    </tr>\n",
       "    <tr>\n",
       "      <th>2</th>\n",
       "      <td>2019</td>\n",
       "      <td>06</td>\n",
       "      <td>101</td>\n",
       "      <td>SUTTER</td>\n",
       "    </tr>\n",
       "    <tr>\n",
       "      <th>3</th>\n",
       "      <td>2021</td>\n",
       "      <td>06</td>\n",
       "      <td>101</td>\n",
       "      <td>SUTTER</td>\n",
       "    </tr>\n",
       "    <tr>\n",
       "      <th>4</th>\n",
       "      <td>2022</td>\n",
       "      <td>06</td>\n",
       "      <td>101</td>\n",
       "      <td>SUTTER</td>\n",
       "    </tr>\n",
       "  </tbody>\n",
       "</table>\n",
       "</div>"
      ],
      "text/plain": [
       "   year state_ansi county_ansi county_name\n",
       "0  2016         06         101      SUTTER\n",
       "1  2018         06         101      SUTTER\n",
       "2  2019         06         101      SUTTER\n",
       "3  2021         06         101      SUTTER\n",
       "4  2022         06         101      SUTTER"
      ]
     },
     "execution_count": 34,
     "metadata": {},
     "output_type": "execute_result"
    }
   ],
   "source": [
    "df_varied[df_varied[\"county_name\"]==\"SUTTER\"]"
   ]
  }
 ],
 "metadata": {
  "environment": {
   "kernel": "conda-base-py",
   "name": "workbench-notebooks.m125",
   "type": "gcloud",
   "uri": "us-docker.pkg.dev/deeplearning-platform-release/gcr.io/workbench-notebooks:m125"
  },
  "kernelspec": {
   "display_name": ".ml-venv",
   "language": "python",
   "name": "python3"
  },
  "language_info": {
   "codemirror_mode": {
    "name": "ipython",
    "version": 3
   },
   "file_extension": ".py",
   "mimetype": "text/x-python",
   "name": "python",
   "nbconvert_exporter": "python",
   "pygments_lexer": "ipython3",
   "version": "3.12.6"
  }
 },
 "nbformat": 4,
 "nbformat_minor": 4
}
