{
 "cells": [
  {
   "cell_type": "code",
   "execution_count": 2,
   "metadata": {},
   "outputs": [],
   "source": [
    "import numpy as np\n",
    "import pandas as pd\n"
   ]
  },
  {
   "cell_type": "code",
   "execution_count": 3,
   "metadata": {},
   "outputs": [],
   "source": [
    "sammple_hist = np.load(r\"C:\\Users\\tskor\\Documents\\data\\histograms\\60_buckets_9_bands_60_res\\60\\Accomack_51\\2017\\5-6.npy\")\n"
   ]
  },
  {
   "cell_type": "code",
   "execution_count": 16,
   "metadata": {},
   "outputs": [],
   "source": [
    "x = sammple_hist.reshape((9,-1))"
   ]
  },
  {
   "cell_type": "code",
   "execution_count": 17,
   "metadata": {},
   "outputs": [
    {
     "name": "stdout",
     "output_type": "stream",
     "text": [
      "[   0    0    0    0    0    0    0   14  638 2325 4123 6452 7469 8516\n",
      " 6163 4186 2190 1048  641  421  377  220  124   94   58   49   43   62\n",
      "   52   35   29   17    8   14    4    3    3    3    5    4    3    0\n",
      "    0    2    0    5    5    4    7   11    4    9    4    2    3    2\n",
      "    0    3    1    2]\n",
      "[   0    0    0    0    0    0    0    0    0  596 4350 6808 7708 9471\n",
      " 7134 4728 2060  879  590  378  170   92   44   59   51   46   29   53\n",
      "   69   29   12    5    6    5    5    2    1    2    5    2    4    2\n",
      "    2    4    2    3    5    8    8    7    9    2    2    4    0    0\n",
      "    3    2    2    0]\n"
     ]
    }
   ],
   "source": [
    "for i in range(2):\n",
    "    print(x[i,:])"
   ]
  },
  {
   "cell_type": "code",
   "execution_count": 1,
   "metadata": {},
   "outputs": [
    {
     "data": {
      "text/plain": [
       "False"
      ]
     },
     "execution_count": 1,
     "metadata": {},
     "output_type": "execute_result"
    }
   ],
   "source": [
    "from datasets import load_dataset\n",
    "\n",
    "dataset = load_dataset(\"imdb\")\n",
    "\n",
    "print(dataset)\n"
   ]
  },
  {
   "cell_type": "code",
   "execution_count": 25,
   "metadata": {},
   "outputs": [],
   "source": [
    "import numpy as np\n",
    "import os\n",
    "INPUT_PATH = r'C:\\Users\\tskor\\Documents\\data\\histograms\\histograms_county_year'\n",
    "HISTOGRAM_NAME = 'histogram-31035-2017.npy'"
   ]
  },
  {
   "cell_type": "code",
   "execution_count": 26,
   "metadata": {},
   "outputs": [],
   "source": [
    "data_to_investigate = np.load(os.path.join(INPUT_PATH, HISTOGRAM_NAME), allow_pickle=True)"
   ]
  }
 ],
 "metadata": {
  "kernelspec": {
   "display_name": ".ml-venv",
   "language": "python",
   "name": "python3"
  },
  "language_info": {
   "codemirror_mode": {
    "name": "ipython",
    "version": 3
   },
   "file_extension": ".py",
   "mimetype": "text/x-python",
   "name": "python",
   "nbconvert_exporter": "python",
   "pygments_lexer": "ipython3",
   "version": "3.12.6"
  }
 },
 "nbformat": 4,
 "nbformat_minor": 2
}
