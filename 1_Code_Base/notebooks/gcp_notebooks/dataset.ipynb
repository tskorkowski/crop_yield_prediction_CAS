{
 "cells": [
  {
   "cell_type": "code",
   "execution_count": 1,
   "id": "ea876282-7e0d-4a5e-be56-0b31f49f3992",
   "metadata": {
    "tags": []
   },
   "outputs": [],
   "source": [
    "# Setup\n",
    "!pip install --quiet --upgrade pip\n",
    "\n",
    "# Install the dependencies.\n",
    "!pip install --quiet -r requirements_tf.txt\n",
    "!pip install wandb -q\n",
    "!pip install opencv-python -q"
   ]
  },
  {
   "cell_type": "code",
   "execution_count": 9,
   "id": "0ad4ba6a-3c38-42f3-bae1-321f334c0fd8",
   "metadata": {
    "tags": []
   },
   "outputs": [],
   "source": [
    "# Restart the runtime by ending the process\n",
    "exit()"
   ]
  },
  {
   "cell_type": "code",
   "execution_count": 1,
   "id": "e5d9bc1e-c419-4350-a556-1a76cb21ab39",
   "metadata": {
    "tags": []
   },
   "outputs": [],
   "source": [
    "import os\n",
    "import matplotlib.pyplot as plt\n",
    "\n",
    "\n",
    "os.environ['TF_CPP_MIN_LOG_LEVEL'] = '3'  # 0 = all messages, 1 = INFO, 2 = WARNING, 3 = ERROR\n",
    "import numpy as np\n",
    "import pandas as pd\n",
    "import tensorflow as tf\n",
    "from google.cloud import storage\n",
    "import google.auth\n",
    "from importlib import reload\n",
    "from serving.constants import  BUCKET, IMG_SOURCE_PREFIX, HIST_DEST_PREFIX, HIST_BINS_LIST, SCALE, CROP, MONTHS, IMAGE_BATCH, NUM_BINS, MAP_NAN, NORMALIZE, LABELS_PATH, HEADER_PATH, SELECTED_BANDS\n",
    "from serving.common import list_blobs_with_prefix\n",
    "from serving.hist_training import (get_labels,\n",
    "                                   #LstmModel,\n",
    "                                   #TimeDependentDenseLstmModel,\n",
    "                                   pen_low_lenient_high_loss,\n",
    "                                   pen_low_loss,\n",
    "                                   load_dataset_from_gcp,\n",
    "                                   save_dataset_to_gcp,\n",
    "                                   create_hist_dataset,\n",
    "                                   train_wandb,\n",
    "                                   train_model_data,\n",
    "                                   plot_training_progress)\n",
    "from serving.data import check_blob_prefix_exists, batch_check_blobs, get_varied_labels, check_blob_exists\n",
    "import logging\n",
    "import io\n",
    "import itertools\n",
    "import time\n",
    "\n",
    "from keras.layers import LSTM, Dense, Dropout, Input, Normalization\n",
    "from tensorflow.keras.optimizers import Adam, Nadam, RMSprop\n",
    "\n",
    "from tensorflow.keras.models import Model\n",
    "from tensorflow.keras.callbacks import EarlyStopping\n",
    "\n",
    "import matplotlib.pyplot as plt\n",
    "\n",
    "import wandb\n",
    "from google.cloud import secretmanager\n",
    "\n",
    "tf.config.run_functions_eagerly(True)"
   ]
  },
  {
   "cell_type": "code",
   "execution_count": 2,
   "id": "282960a7-76b7-41a5-90ee-944ae092126e",
   "metadata": {
    "tags": []
   },
   "outputs": [],
   "source": [
    "# Models\n",
    "import keras\n",
    "from keras.layers import LSTM, Dense, Dropout, Input, TimeDistributed, BatchNormalization\n",
    "from tensorflow.keras.regularizers import l2\n",
    "from serving.data import get_labels\n",
    "from tensorflow.keras.callbacks import EarlyStopping\n",
    "from tensorflow.keras.models import Model\n",
    "from tensorflow.keras.optimizers import Adam, Nadam, RMSprop\n",
    "import randomname\n",
    "import datetime\n",
    "from tensorflow.keras.callbacks import ModelCheckpoint\n",
    "import tempfile\n",
    "import wandb\n",
    "from wandb.integration.keras import WandbMetricsLogger, WandbModelCheckpoint\n",
    "\n",
    "class GradientDebugCallback(tf.keras.callbacks.Callback):\n",
    "    def __init__(self):\n",
    "        super().__init__()\n",
    "        self.batch_gradients = []\n",
    "\n",
    "    def on_batch_begin(self, batch, logs=None):\n",
    "        self.batch_gradients = []\n",
    "\n",
    "    def on_batch_end(self, batch, logs=None):\n",
    "        if batch % 100 == 0:  # Monitor every 10 batches\n",
    "            # Get a batch of data\n",
    "            for x_batch, y_batch in train_dataset.take(1):\n",
    "                with tf.GradientTape() as tape:\n",
    "                    # Forward pass\n",
    "                    y_pred = self.model(x_batch, training=True)\n",
    "                    # Compute loss\n",
    "                    loss = self.model.compute_loss(y_batch, y_pred)\n",
    "\n",
    "                # Get gradients\n",
    "                gradients = tape.gradient(loss, self.model.trainable_variables)\n",
    "                # grad_norms = [tf.norm(g).numpy() if g is not None else 0 for g in gradients]\n",
    "                for i, (var, grad) in enumerate(zip(self.model.trainable_variables, gradients)):\n",
    "                    if grad is not None:\n",
    "                        print(f\"\\nLayer: {var.name}\")\n",
    "                        print(f\"Parameter shape: {var.shape}\")\n",
    "                        print(f\"Gradient norm: {tf.norm(grad).numpy()}\")\n",
    "                        print(f\"Is trainable: {var.trainable}\")\n",
    "\n",
    "\n",
    "# Define the LSTM model\n",
    "class LstmModel(keras.Model):\n",
    "    def __init__(\n",
    "        self,\n",
    "        input_shape,\n",
    "        lstm_layers=3,\n",
    "        no_units=3,\n",
    "        output_units=1,\n",
    "        dropout_rate=0.2,\n",
    "        val_size=10,\n",
    "        kernel_initializer=tf.keras.initializers.RandomNormal()\n",
    "    ):\n",
    "        super(LstmModel, self).__init__()\n",
    "        self.lstm_layers = lstm_layers\n",
    "        self.no_units = no_units\n",
    "        self.output_units = output_units\n",
    "        self.dropout_rate = dropout_rate\n",
    "        self.val_size = val_size\n",
    "\n",
    "        self.input_layer = Input(shape=input_shape)\n",
    "        self.batch_norm = BatchNormalization()\n",
    "        \n",
    "        # Define LSTM and Dense layers\n",
    "        self.lstm_layers_list = []\n",
    "        for i in range(lstm_layers):\n",
    "            self.lstm_layers_list.append(\n",
    "                LSTM(\n",
    "                    units=no_units,\n",
    "                    return_sequences=(i < lstm_layers - 1),\n",
    "                    kernel_initializer='glorot_uniform',\n",
    "                    recurrent_initializer='orthogonal',\n",
    "                    activation='tanh'\n",
    "                )\n",
    "            )\n",
    "            \n",
    "            if i < lstm_layers - 1:\n",
    "                self.lstm_layers_list.append(Dropout(rate=dropout_rate))\n",
    "        \n",
    "        self.dense = Dense(\n",
    "            units=output_units,\n",
    "            kernel_initializer=tf.keras.initializers.RandomNormal(mean=0.0, stddev=0.1),\n",
    "            bias_initializer=tf.keras.initializers.Constant(100.0)\n",
    "        )\n",
    "        \n",
    "        self.job_name = randomname.get_name(adj=('emotions',), noun=('food'))\n",
    "    \n",
    "    def get_config(self):\n",
    "        return {\n",
    "           \"lstm_layers\": self.lstm_layers,\n",
    "           \"no_units\": self.no_units,\n",
    "           \"val_size\": self.val_size,\n",
    "           \"ouput_units\": self.output_units,\n",
    "           \"dropout_rate\": self.dropout_rate,\n",
    "           \"kernel_initializer\": self.kernel_initializer\n",
    "        }\n",
    "    \n",
    "    @classmethod\n",
    "    def from_config(cls, config):\n",
    "        # Convert the serialized initializer back to a TF initializer\n",
    "        config['kernel_initializer'] = tf.keras.initializers.deserialize(\n",
    "            config['kernel_initializer']\n",
    "        )\n",
    "        return cls(**config)\n",
    "    \n",
    "    @tf.function\n",
    "    def call(self, inputs, training=False):\n",
    "        # LSTM layers\n",
    "\n",
    "        x = inputs\n",
    "        #x = self.batch_norm(x, training=training)\n",
    "\n",
    "        for lstm_layer in self.lstm_layers_list:\n",
    "            x = lstm_layer(x)\n",
    "\n",
    "        outputs = self.dense(x)\n",
    "\n",
    "        return outputs\n",
    "\n",
    "    def summary(self):\n",
    "        super(LstmModel, self).summary()\n",
    "\n",
    "    def compile(\n",
    "        self, optimizer=\"adam\", loss=\"mse\", metrics=[\"mae\"], learning_rate=0.001, **kwargs\n",
    "    ):\n",
    "        self.learning_rate = learning_rate\n",
    "\n",
    "        # Dictionary to map optimizer names to their classes\n",
    "        optimizers = {\"adam\": Adam, \"nadam\": Nadam, \"rms\": RMSprop}\n",
    "\n",
    "        # Get the optimizer class from the dictionary\n",
    "        optimizer_class = optimizers.get(optimizer.lower(), Adam)\n",
    "\n",
    "        # Instantiate the optimizer with the specified learning rate\n",
    "        optimizer_instance = optimizer_class(learning_rate=learning_rate, clipnorm=1.0)\n",
    "\n",
    "        # Compile the model with the chosen optimizer, loss, and metrics\n",
    "        tf.config.run_functions_eagerly(True)\n",
    "        \n",
    "        if loss != \"mse\" and \"mse\" not in metrics:\n",
    "            metrics.append(\"mse\")\n",
    "        \n",
    "        super(LstmModel, self).compile(\n",
    "            optimizer=optimizer_instance, loss=loss, metrics=metrics, **kwargs\n",
    "        )\n",
    "        \n",
    "    \n",
    "\n",
    "    def fit(self, dataset, epochs=10):\n",
    "\n",
    "        # Shuffle and batch the dataset\n",
    "        # dataset = dataset.shuffle(buffer_size=10000).batch(batch_size)\n",
    "\n",
    "        # Split the dataset\n",
    "        val_size = self.val_size\n",
    "        val_dataset = dataset.take(val_size)\n",
    "        train_dataset = dataset.skip(val_size)\n",
    "\n",
    "        # Setup tensorboard\n",
    "        model_name = f\"{NUM_BINS}_buckets_{len(HIST_BINS_LIST)}\" + '-' + self.job_name + '-' + datetime.datetime.now().strftime(\"%Y%m%d-%H%M%S\")\n",
    "        log_dir = \"gs://vgnn/tensorboard-artifacts/logs/fit/\" + model_name\n",
    "        if not os.path.exists(os.path.dirname(log_dir)):\n",
    "            os.makedirs(os.path.dirname(log_dir))\n",
    "            \n",
    "        \n",
    "        # Early stopping callback\n",
    "        early_stopping = EarlyStopping(\n",
    "            monitor=\"val_loss\", patience=15, restore_best_weights=True\n",
    "        )\n",
    "\n",
    "        \n",
    "        # Train the model\n",
    "        history = super(LstmModel, self).fit(\n",
    "            train_dataset,\n",
    "            epochs=epochs,\n",
    "            # batch_size=batch_size,\n",
    "            validation_data=val_dataset,\n",
    "            callbacks=[early_stopping, WandbMetricsLogger()] #, GradientDebugCallback()\n",
    "        )\n",
    "        \n",
    "        responses_train = np.concatenate(\n",
    "            [response.numpy() for _, response in train_dataset], axis=0\n",
    "        )\n",
    "        mean_response_train = np.mean(responses_train)\n",
    "\n",
    "        responses_val = np.concatenate(\n",
    "            [response.numpy() for _, response in val_dataset], axis=0\n",
    "            )        \n",
    "\n",
    "        if val_size == 0:\n",
    "            self.naive_loss = np.nan\n",
    "        else:\n",
    "            self.naive_loss = pen_low_lenient_high_loss(responses_val, mean_response_train)        \n",
    "        \n",
    "        # Plot training progress\n",
    "        plot_training_progress(history, self.naive_loss)\n",
    "\n",
    "        # Evaluate the model\n",
    "        loss = self.evaluate(val_dataset)\n",
    "\n",
    "        self.save(f'gs://vgnn/models/{model_name}.h5')\n",
    "\n",
    "        return history\n",
    "\n",
    "\n",
    "class TimeDependentDenseLstmModel(LstmModel):\n",
    "    def __init__(\n",
    "        self,\n",
    "        input_shape,\n",
    "        lstm_layers=3,\n",
    "        no_units=3,\n",
    "        dense_layers_per_step=3,\n",
    "        output_units=1,\n",
    "        dropout_rate=0.2,\n",
    "        val_size=10,\n",
    "        kernel_initializer=tf.keras.initializers.RandomNormal()\n",
    "    ):\n",
    "        super(TimeDependentDenseLstmModel, self).__init__(\n",
    "            input_shape,\n",
    "            lstm_layers,\n",
    "            no_units,\n",
    "            output_units,\n",
    "            dropout_rate,\n",
    "            val_size,\n",
    "            kernel_initializer\n",
    "        )\n",
    "        \n",
    "        self.lstm_layers = lstm_layers\n",
    "        self.dense_layers_per_step = dense_layers_per_step\n",
    "        self.no_units = no_units\n",
    "        self.val_size = val_size\n",
    "        self.dropout_rate = dropout_rate\n",
    "        self.kernel_initializer = kernel_initializer\n",
    "        \n",
    "        # Dense layer to process each time step using TimeDistributed\n",
    "        self.time_distributed_dense = []\n",
    "        # Create the dense layers that will be applied to each time step\n",
    "        units = input_shape[-1] // 2\n",
    "        for _ in range(dense_layers_per_step):\n",
    "            self.time_distributed_dense.append(\n",
    "                TimeDistributed(Dense(units=units, \n",
    "                                      activation=\"relu\",\n",
    "                                      kernel_initializer=tf.keras.initializers.RandomNormal(mean=0.0, stddev=0.1),\n",
    "                                      bias_initializer='ones', bias_regularizer=l2(0.01) ))\n",
    "            )\n",
    "            # units //= 2  # Halve units for each subsequent dense layer\n",
    "\n",
    "    def get_config(self):\n",
    "        config = super(TimeDependentDenseLstmModel, self).get_config()\n",
    "        config.update({\n",
    "            'dense_layers_per_step': self.dense_layers_per_step,\n",
    "        })\n",
    "        return config\n",
    "    \n",
    "    @tf.function\n",
    "    def call(self, inputs, training=False):\n",
    "        # Process each time step with a corresponding dense layer\n",
    "\n",
    "        x = inputs\n",
    "        # x = self.batch_norm(x, training=training)\n",
    "        for dense_layer in self.time_distributed_dense:\n",
    "            x = dense_layer(x)\n",
    "        \n",
    "        # Feed into LSTM layers\n",
    "        for lstm_layer in self.lstm_layers_list:\n",
    "            x = lstm_layer(x)\n",
    "\n",
    "        outputs = self.dense(x)  # Final dense layer for output\n",
    "        return outputs"
   ]
  },
  {
   "cell_type": "code",
   "execution_count": 3,
   "id": "7c83aac7-7acf-435f-8cc9-e24d51bf3a5b",
   "metadata": {
    "tags": []
   },
   "outputs": [],
   "source": [
    "# SETUP\n",
    "\n",
    "# Create the Secret Manager client\n",
    "client = secretmanager.SecretManagerServiceClient()\n",
    "\n",
    "# Define the secret name and version\n",
    "secret_name = \"projects/1038596154733/secrets/wandb/versions/1\"\n",
    "\n",
    "# Access the secret\n",
    "response = client.access_secret_version(name=secret_name)\n",
    "secret_value = response.payload.data.decode('UTF-8')\n",
    "\n",
    "#####\n",
    "CREATE_DATASET = False\n",
    "#####\n",
    "\n",
    "start_time = time.perf_counter()\n",
    "credentials, _ = google.auth.default()\n",
    "bucket_name = BUCKET\n",
    "directory_prefix = IMG_SOURCE_PREFIX\n",
    "output_prefix = HIST_DEST_PREFIX\n",
    "labels_data = \"labels_combined.npy\"\n",
    "labels_header = \"labels_header.npy\"\n",
    "months = MONTHS\n",
    "map_nan = MAP_NAN\n",
    "normalize = NORMALIZE\n",
    "num_bins = NUM_BINS\n",
    "client = storage.Client()\n",
    "bucket = client.get_bucket(bucket_name)\n",
    "\n",
    "\n",
    "batch_size = 32\n",
    "img_range =  {\"count_start\":0,\n",
    "              \"no_records\":2500,\n",
    "             \"ascending\": False}"
   ]
  },
  {
   "cell_type": "code",
   "execution_count": 4,
   "id": "8cfcac68-58ca-4b85-9ac5-5fd97d9f5476",
   "metadata": {
    "tags": []
   },
   "outputs": [
    {
     "name": "stdout",
     "output_type": "stream",
     "text": [
      "directory: dataset/nan_map_True/norm_True/60_buckets_9_bands/60\n",
      "Number of items to process: 9590\n",
      "Collecting dataset information: 101.82297121699958\n",
      "Reshaped histograms shape: (9578, 3, 541)\n",
      "Labels shape: (9578, 1)\n",
      "Number of filtered combinations: 12\n",
      "Number of missing histograms replaced by zeros: 85\n",
      "Building dataset: 7.2e+01 minutes\n",
      "Labels uploaded to GCS successfully!\n",
      "Dataset uploaded to GCS successfully!\n",
      "Dataset saved to gs://vgnn/dataset/nan_map_True/norm_True/60_buckets_9_bands/60\n",
      "Dataset created\n",
      "dataset/nan_map_True/norm_True/60_buckets_9_bands/60/dataset_fips.tfrecords\n"
     ]
    }
   ],
   "source": [
    "map_nan = True\n",
    "num_buckets_list = [60]\n",
    "num_bands_list = [9]\n",
    "infer_missing = True\n",
    "\n",
    "if infer_missing:\n",
    "    CREATE_DATASET = True\n",
    "    for num_bins, num_bands in zip(num_buckets_list, num_bands_list):\n",
    "        directory = f\"dataset/nan_map_{map_nan}/norm_{normalize}/{num_bins}_buckets_{num_bands}_bands/{SCALE}\"\n",
    "        print(f\"directory: {directory}\")\n",
    "        file_name =  \"dataset_fips.tfrecords\" # \"hist_dataset_medium\" # \n",
    "\n",
    "\n",
    "\n",
    "        # Generate all prefixes\n",
    "        start_time = time.perf_counter()\n",
    "\n",
    "        labels_df = get_varied_labels(**img_range)\n",
    "        labels = list(zip(labels_df[\"county_name\"],\n",
    "                          labels_df[\"county_ansi\"],\n",
    "                     labels_df[\"state_ansi\"],\n",
    "                     labels_df[\"year\"]))\n",
    "\n",
    "\n",
    "        prefixes_hist = [f'histograms/nan_map_{map_nan}/norm_{normalize}/{num_bins}_buckets_{num_bands}_bands/{SCALE}/{county.capitalize()}_{fips}/{year}' \n",
    "                    for county,_, fips, year in labels]\n",
    "\n",
    "        # Batch check all prefixes\n",
    "        results_hist = batch_check_blobs(bucket_name, prefixes_hist)\n",
    "\n",
    "        # Generate get_input_img_params based on results\n",
    "        get_input_img_params = [(county.capitalize(), fips, year)\n",
    "                    for county, county_fips, fips, year in labels\n",
    "                    if results_hist[f'histograms/nan_map_{map_nan}/norm_{normalize}/{num_bins}_buckets_{num_bands}_bands/{SCALE}/{county.capitalize()}_{fips}/{year}']\n",
    "        ]\n",
    "\n",
    "        print(f\"Number of items to process: {len(get_input_img_params)}\")\n",
    "\n",
    "        end_time_dataset_info = time.perf_counter()\n",
    "        print(f\"Collecting dataset information: {end_time_dataset_info-start_time}\")\n",
    "    \n",
    "if CREATE_DATASET:\n",
    "    dataset, dataset_shape, hist_npy, labels_npy = create_hist_dataset(get_input_img_params, \"labels_combined.npy\", \"labels_header.npy\", num_bins=num_bins, num_bands=num_bands, fips=True)\n",
    "    end_time_dataset = time.perf_counter()\n",
    "\n",
    "    print(f\"Building dataset: {(end_time_dataset - end_time_dataset_info)/60:.02} minutes\")\n",
    "\n",
    "    # Save dataset\n",
    "    save_dataset_to_gcp(hist_npy, labels_npy, directory=directory)\n",
    "    print(\"Dataset created\")\n",
    "    print(directory,file_name,sep=\"/\")\n",
    "    CREATE_DATASET = False\n",
    "else:\n",
    "\n",
    "    dataset, dataset_shape = load_dataset_from_gcp(directory=directory)\n",
    "    print(\"Dataset loaded\")\n",
    "\n",
    "input_shape = dataset_shape[1:]"
   ]
  },
  {
   "cell_type": "code",
   "execution_count": 20,
   "id": "4996a7bb-a42a-4bbc-a7de-98ada42a7856",
   "metadata": {
    "tags": []
   },
   "outputs": [],
   "source": [
    "np.save(\"all_images.npy\", np.array(get_input_img_params))"
   ]
  },
  {
   "cell_type": "code",
   "execution_count": null,
   "id": "67a40331-edb0-4fe4-a2e2-2e5341bb1eb4",
   "metadata": {
    "tags": []
   },
   "outputs": [],
   "source": [
    "sum(results_hist.values())"
   ]
  },
  {
   "cell_type": "code",
   "execution_count": 4,
   "id": "f0a26a19-410d-4e78-8e7c-ead300283a65",
   "metadata": {
    "tags": []
   },
   "outputs": [
    {
     "data": {
      "text/html": [
       "<div>\n",
       "<style scoped>\n",
       "    .dataframe tbody tr th:only-of-type {\n",
       "        vertical-align: middle;\n",
       "    }\n",
       "\n",
       "    .dataframe tbody tr th {\n",
       "        vertical-align: top;\n",
       "    }\n",
       "\n",
       "    .dataframe thead th {\n",
       "        text-align: right;\n",
       "    }\n",
       "</style>\n",
       "<table border=\"1\" class=\"dataframe\">\n",
       "  <thead>\n",
       "    <tr style=\"text-align: right;\">\n",
       "      <th></th>\n",
       "      <th>commodity_desc</th>\n",
       "      <th>reference_period_desc</th>\n",
       "      <th>year</th>\n",
       "      <th>state_ansi</th>\n",
       "      <th>state_name</th>\n",
       "      <th>county_ansi</th>\n",
       "      <th>county_name</th>\n",
       "      <th>target</th>\n",
       "      <th>source_file</th>\n",
       "    </tr>\n",
       "  </thead>\n",
       "  <tbody>\n",
       "    <tr>\n",
       "      <th>1122</th>\n",
       "      <td>CORN</td>\n",
       "      <td>YEAR</td>\n",
       "      <td>2016</td>\n",
       "      <td>39</td>\n",
       "      <td>OHIO</td>\n",
       "      <td>171</td>\n",
       "      <td>WILLIAMS</td>\n",
       "      <td>169.1</td>\n",
       "      <td>USDA_Corn_County_2016.csv</td>\n",
       "    </tr>\n",
       "    <tr>\n",
       "      <th>2619</th>\n",
       "      <td>CORN</td>\n",
       "      <td>YEAR</td>\n",
       "      <td>2017</td>\n",
       "      <td>39</td>\n",
       "      <td>OHIO</td>\n",
       "      <td>171</td>\n",
       "      <td>WILLIAMS</td>\n",
       "      <td>167.3</td>\n",
       "      <td>USDA_Corn_County_2017.csv</td>\n",
       "    </tr>\n",
       "    <tr>\n",
       "      <th>3994</th>\n",
       "      <td>CORN</td>\n",
       "      <td>YEAR</td>\n",
       "      <td>2018</td>\n",
       "      <td>39</td>\n",
       "      <td>OHIO</td>\n",
       "      <td>171</td>\n",
       "      <td>WILLIAMS</td>\n",
       "      <td>182.0</td>\n",
       "      <td>USDA_Corn_County_2018.csv</td>\n",
       "    </tr>\n",
       "    <tr>\n",
       "      <th>5275</th>\n",
       "      <td>CORN</td>\n",
       "      <td>YEAR</td>\n",
       "      <td>2019</td>\n",
       "      <td>39</td>\n",
       "      <td>OHIO</td>\n",
       "      <td>171</td>\n",
       "      <td>WILLIAMS</td>\n",
       "      <td>156.3</td>\n",
       "      <td>USDA_Corn_County_2019.csv</td>\n",
       "    </tr>\n",
       "    <tr>\n",
       "      <th>6845</th>\n",
       "      <td>CORN</td>\n",
       "      <td>YEAR</td>\n",
       "      <td>2020</td>\n",
       "      <td>39</td>\n",
       "      <td>OHIO</td>\n",
       "      <td>171</td>\n",
       "      <td>WILLIAMS</td>\n",
       "      <td>143.9</td>\n",
       "      <td>USDA_Corn_County_2020.csv</td>\n",
       "    </tr>\n",
       "    <tr>\n",
       "      <th>8274</th>\n",
       "      <td>CORN</td>\n",
       "      <td>YEAR</td>\n",
       "      <td>2021</td>\n",
       "      <td>38</td>\n",
       "      <td>NORTH DAKOTA</td>\n",
       "      <td>105</td>\n",
       "      <td>WILLIAMS</td>\n",
       "      <td>58.0</td>\n",
       "      <td>USDA_Corn_County_2021.csv</td>\n",
       "    </tr>\n",
       "    <tr>\n",
       "      <th>8350</th>\n",
       "      <td>CORN</td>\n",
       "      <td>YEAR</td>\n",
       "      <td>2021</td>\n",
       "      <td>39</td>\n",
       "      <td>OHIO</td>\n",
       "      <td>171</td>\n",
       "      <td>WILLIAMS</td>\n",
       "      <td>189.5</td>\n",
       "      <td>USDA_Corn_County_2021.csv</td>\n",
       "    </tr>\n",
       "    <tr>\n",
       "      <th>9884</th>\n",
       "      <td>CORN</td>\n",
       "      <td>YEAR</td>\n",
       "      <td>2022</td>\n",
       "      <td>39</td>\n",
       "      <td>OHIO</td>\n",
       "      <td>171</td>\n",
       "      <td>WILLIAMS</td>\n",
       "      <td>187.9</td>\n",
       "      <td>USDA_Corn_County_2022.csv</td>\n",
       "    </tr>\n",
       "  </tbody>\n",
       "</table>\n",
       "</div>"
      ],
      "text/plain": [
       "     commodity_desc reference_period_desc  year state_ansi    state_name  \\\n",
       "1122           CORN                  YEAR  2016         39          OHIO   \n",
       "2619           CORN                  YEAR  2017         39          OHIO   \n",
       "3994           CORN                  YEAR  2018         39          OHIO   \n",
       "5275           CORN                  YEAR  2019         39          OHIO   \n",
       "6845           CORN                  YEAR  2020         39          OHIO   \n",
       "8274           CORN                  YEAR  2021         38  NORTH DAKOTA   \n",
       "8350           CORN                  YEAR  2021         39          OHIO   \n",
       "9884           CORN                  YEAR  2022         39          OHIO   \n",
       "\n",
       "     county_ansi county_name target                source_file  \n",
       "1122         171    WILLIAMS  169.1  USDA_Corn_County_2016.csv  \n",
       "2619         171    WILLIAMS  167.3  USDA_Corn_County_2017.csv  \n",
       "3994         171    WILLIAMS  182.0  USDA_Corn_County_2018.csv  \n",
       "5275         171    WILLIAMS  156.3  USDA_Corn_County_2019.csv  \n",
       "6845         171    WILLIAMS  143.9  USDA_Corn_County_2020.csv  \n",
       "8274         105    WILLIAMS   58.0  USDA_Corn_County_2021.csv  \n",
       "8350         171    WILLIAMS  189.5  USDA_Corn_County_2021.csv  \n",
       "9884         171    WILLIAMS  187.9  USDA_Corn_County_2022.csv  "
      ]
     },
     "execution_count": 4,
     "metadata": {},
     "output_type": "execute_result"
    }
   ],
   "source": [
    "# Sample labels\n",
    "label_data = np.load(labels_data, allow_pickle=True)\n",
    "label_header = np.load(labels_header, allow_pickle=True)\n",
    "label_df = pd.DataFrame(label_data, columns=label_header)\n",
    "label_df[label_df[\"county_name\"]=='Williams'.upper()]"
   ]
  },
  {
   "cell_type": "code",
   "execution_count": 12,
   "id": "559b4228-2564-432d-be9a-5a99fca06d8f",
   "metadata": {
    "tags": []
   },
   "outputs": [
    {
     "name": "stderr",
     "output_type": "stream",
     "text": [
      "/opt/conda/lib/python3.10/site-packages/tensorflow/python/data/ops/structured_function.py:254: UserWarning: Even though the `tf.config.experimental_run_functions_eagerly` option is set, this option does not apply to tf.data functions. To force eager execution of tf.data functions, please use `tf.data.experimental.enable_debug_mode()`.\n",
      "  warnings.warn(\n"
     ]
    },
    {
     "name": "stdout",
     "output_type": "stream",
     "text": [
      "Train size: 239 \n",
      "Validation size: 47\n",
      "Data sets have been setup\n"
     ]
    }
   ],
   "source": [
    "normalizer = tf.keras.layers.Normalization(axis=-1)\n",
    "\n",
    "#take subset\n",
    "batch_size = 32\n",
    "\n",
    "# Train test split\n",
    "test_train_split = 0.8\n",
    "train_size = int(dataset_shape[0] * test_train_split / batch_size)\n",
    "val_size = int(train_size * (1-test_train_split))\n",
    "\n",
    "batched_dataset = dataset.batch(batch_size, drop_remainder=True)\n",
    "\n",
    "test_dataset = batched_dataset.skip(train_size)\n",
    "train_dataset = batched_dataset.take(train_size)\n",
    "\n",
    "# Adapt normalizer on unbatched training data\n",
    "normalizer.adapt(train_dataset.map(lambda x, y: x))\n",
    "\n",
    "\n",
    "# 3. Apply normalization to both datasets\n",
    "train_dataset = train_dataset.map(lambda x, y: (normalizer(x), y))\n",
    "test_dataset = test_dataset.map(lambda x, y: (normalizer(x), y))\n",
    "\n",
    "# # Then batch the datasets\n",
    "# test_dataset = test_dataset.batch(batch_size, drop_remainder=True)\n",
    "# train_dataset = train_dataset.batch(batch_size, drop_remainder=True)\n",
    "\n",
    "train_dataset = train_dataset.shuffle(buffer_size=10000)\n",
    "print(f\"Train size: {train_size} \\nValidation size: {val_size}\")\n",
    "print(\"Data sets have been setup\")"
   ]
  },
  {
   "cell_type": "code",
   "execution_count": null,
   "id": "bfcb2158-e03c-4154-9a6a-384ff8133ea0",
   "metadata": {},
   "outputs": [],
   "source": [
    "for batch in train_dataset.take(1):\n",
    "    inputs, targets = batch\n",
    "    print(\"Input stats:\")\n",
    "    print(\"Mean:\", tf.reduce_mean(inputs))\n",
    "    print(\"Std:\", tf.math.reduce_std(inputs))\n",
    "    print(\"Min:\", tf.reduce_min(inputs))\n",
    "    print(\"Max:\", tf.reduce_max(inputs))\n",
    "    \n",
    "    print(\"\\nTarget stats:\")\n",
    "    print(\"Mean:\", tf.reduce_mean(targets))\n",
    "    print(\"Std:\", tf.math.reduce_std(targets))"
   ]
  },
  {
   "cell_type": "code",
   "execution_count": null,
   "id": "9a98bef0-bc8c-4dd2-b509-51b3b9190f12",
   "metadata": {},
   "outputs": [],
   "source": [
    "# directory = \"dataset/nan_map_False/norm_True/60_buckets_9_bands/60\"\n",
    "# model_name = \"32_buckets_9-kind-croissant-20241029-045508.tf\"\n",
    "\n",
    "# epochs = 20\n",
    "# train_model_data(model_name, directory)"
   ]
  },
  {
   "cell_type": "code",
   "execution_count": 32,
   "id": "b9c363ce-16ca-4f74-ba76-0bcaad2f09fc",
   "metadata": {
    "tags": []
   },
   "outputs": [],
   "source": [
    "for x, y in train_dataset.take(1):\n",
    "    feature = x[0].numpy()"
   ]
  },
  {
   "cell_type": "code",
   "execution_count": 15,
   "id": "483bad5e-88b0-4143-8211-81a5fdc58af2",
   "metadata": {
    "tags": []
   },
   "outputs": [
    {
     "data": {
      "text/html": [
       "Tracking run with wandb version 0.18.5"
      ],
      "text/plain": [
       "<IPython.core.display.HTML object>"
      ]
     },
     "metadata": {},
     "output_type": "display_data"
    },
    {
     "data": {
      "text/html": [
       "Run data is saved locally in <code>/home/jupyter/inovation_project/2_gc-pipeline/wandb/run-20241031_214311-6eypi39q</code>"
      ],
      "text/plain": [
       "<IPython.core.display.HTML object>"
      ]
     },
     "metadata": {},
     "output_type": "display_data"
    },
    {
     "data": {
      "text/html": [
       "Syncing run <strong><a href='https://wandb.ai/t-skorkowski/blue-marble/runs/6eypi39q' target=\"_blank\">eerie-moon-183</a></strong> to <a href='https://wandb.ai/t-skorkowski/blue-marble' target=\"_blank\">Weights & Biases</a> (<a href='https://wandb.me/run' target=\"_blank\">docs</a>)<br/>"
      ],
      "text/plain": [
       "<IPython.core.display.HTML object>"
      ]
     },
     "metadata": {},
     "output_type": "display_data"
    },
    {
     "data": {
      "text/html": [
       " View project at <a href='https://wandb.ai/t-skorkowski/blue-marble' target=\"_blank\">https://wandb.ai/t-skorkowski/blue-marble</a>"
      ],
      "text/plain": [
       "<IPython.core.display.HTML object>"
      ]
     },
     "metadata": {},
     "output_type": "display_data"
    },
    {
     "data": {
      "text/html": [
       " View run at <a href='https://wandb.ai/t-skorkowski/blue-marble/runs/6eypi39q' target=\"_blank\">https://wandb.ai/t-skorkowski/blue-marble/runs/6eypi39q</a>"
      ],
      "text/plain": [
       "<IPython.core.display.HTML object>"
      ]
     },
     "metadata": {},
     "output_type": "display_data"
    },
    {
     "name": "stdout",
     "output_type": "stream",
     "text": [
      "Initial predictions: [[100.01392]\n",
      " [100.01842]\n",
      " [100.01041]\n",
      " [100.01047]\n",
      " [100.0027 ]]\n",
      "Initial predictions std: 0.014060558\n",
      "Target values: [[132.2]\n",
      " [ 75.4]\n",
      " [112.3]\n",
      " [149. ]\n",
      " [137.2]]\n",
      "Model compiled\n",
      "Epoch 1/65\n",
      "138/138 [==============================] - 22s 160ms/step - loss: 3697.2283 - mae: 48.7063 - mse: 3273.6582 - val_loss: 3371.9771 - val_mae: 46.5416 - val_mse: 3010.0833\n",
      "Epoch 2/65\n",
      "138/138 [==============================] - 22s 158ms/step - loss: 3362.5103 - mae: 44.1672 - mse: 2732.2986 - val_loss: 2842.5686 - val_mae: 41.3310 - val_mse: 2398.0723\n",
      "Epoch 3/65\n",
      "138/138 [==============================] - 22s 161ms/step - loss: 3015.1282 - mae: 41.0484 - mse: 2384.8247 - val_loss: 2804.3337 - val_mae: 38.4527 - val_mse: 2077.7341\n",
      "Epoch 4/65\n",
      "138/138 [==============================] - 22s 157ms/step - loss: 2992.5212 - mae: 38.6081 - mse: 2118.7971 - val_loss: 2678.8745 - val_mae: 38.5727 - val_mse: 2061.7949\n",
      "Epoch 5/65\n",
      "138/138 [==============================] - 23s 163ms/step - loss: 3038.7017 - mae: 38.1789 - mse: 2074.4270 - val_loss: 2462.9497 - val_mae: 35.9563 - val_mse: 1850.7111\n",
      "Epoch 6/65\n",
      "138/138 [==============================] - 22s 158ms/step - loss: 2943.1624 - mae: 36.4986 - mse: 1924.9142 - val_loss: 3001.0198 - val_mae: 35.5713 - val_mse: 1801.5110\n",
      "Epoch 7/65\n",
      "138/138 [==============================] - 22s 157ms/step - loss: 2735.5815 - mae: 35.4981 - mse: 1819.5819 - val_loss: 3468.6724 - val_mae: 37.1112 - val_mse: 1966.3961\n",
      "Epoch 8/65\n",
      "138/138 [==============================] - 22s 161ms/step - loss: 2969.3713 - mae: 35.1855 - mse: 1792.4545 - val_loss: 2752.1875 - val_mae: 34.2893 - val_mse: 1719.1088\n",
      "Epoch 9/65\n",
      "138/138 [==============================] - 22s 159ms/step - loss: 2969.2017 - mae: 35.0875 - mse: 1773.7991 - val_loss: 3141.5466 - val_mae: 35.0570 - val_mse: 1807.0930\n",
      "Epoch 10/65\n",
      "138/138 [==============================] - 22s 157ms/step - loss: 2893.6370 - mae: 34.5624 - mse: 1734.9390 - val_loss: 2859.6028 - val_mae: 34.4514 - val_mse: 1748.6086\n",
      "Epoch 11/65\n",
      "138/138 [==============================] - 22s 159ms/step - loss: 2860.8445 - mae: 34.0047 - mse: 1690.3881 - val_loss: 2444.4854 - val_mae: 33.1399 - val_mse: 1622.0635\n",
      "Epoch 12/65\n",
      "138/138 [==============================] - 22s 158ms/step - loss: 2895.4700 - mae: 33.7994 - mse: 1665.5699 - val_loss: 2896.3481 - val_mae: 33.5807 - val_mse: 1644.3639\n",
      "Epoch 13/65\n",
      "138/138 [==============================] - 22s 158ms/step - loss: 2818.7710 - mae: 33.5737 - mse: 1640.9263 - val_loss: 3199.5774 - val_mae: 34.7569 - val_mse: 1760.2748\n",
      "Epoch 14/65\n",
      "138/138 [==============================] - 22s 160ms/step - loss: 2871.2637 - mae: 33.3666 - mse: 1631.8177 - val_loss: 2703.5430 - val_mae: 31.0482 - val_mse: 1456.2938\n",
      "Epoch 15/65\n",
      "138/138 [==============================] - 22s 157ms/step - loss: 2793.5554 - mae: 32.8982 - mse: 1587.3105 - val_loss: 3502.9614 - val_mae: 33.6301 - val_mse: 1678.7596\n",
      "Epoch 16/65\n",
      "138/138 [==============================] - 22s 160ms/step - loss: 3060.2434 - mae: 33.1639 - mse: 1623.1207 - val_loss: 3021.5608 - val_mae: 33.2496 - val_mse: 1618.8408\n",
      "Epoch 17/65\n",
      "138/138 [==============================] - 22s 158ms/step - loss: 2968.7263 - mae: 33.1811 - mse: 1618.4536 - val_loss: 2607.3254 - val_mae: 31.3118 - val_mse: 1491.3307\n",
      "Epoch 18/65\n",
      "138/138 [==============================] - 22s 157ms/step - loss: 2854.3484 - mae: 32.5177 - mse: 1564.3822 - val_loss: 2729.9792 - val_mae: 33.7435 - val_mse: 1653.9286\n",
      "Epoch 19/65\n",
      "138/138 [==============================] - 22s 160ms/step - loss: 3007.9224 - mae: 32.9997 - mse: 1598.4618 - val_loss: 3360.2502 - val_mae: 33.5494 - val_mse: 1658.9717\n",
      "Epoch 20/65\n",
      "138/138 [==============================] - 22s 158ms/step - loss: 2909.0928 - mae: 33.1174 - mse: 1612.4026 - val_loss: 3186.3477 - val_mae: 33.8822 - val_mse: 1677.4030\n",
      "Epoch 21/65\n",
      "138/138 [==============================] - 22s 157ms/step - loss: 2810.1655 - mae: 32.8797 - mse: 1580.9288 - val_loss: 3388.1646 - val_mae: 33.4602 - val_mse: 1667.3300\n",
      "Epoch 22/65\n",
      "138/138 [==============================] - 22s 160ms/step - loss: 2889.0464 - mae: 32.7929 - mse: 1577.5837 - val_loss: 3610.3848 - val_mae: 33.6562 - val_mse: 1696.5425\n",
      "Epoch 23/65\n",
      "138/138 [==============================] - 22s 158ms/step - loss: 2883.3416 - mae: 33.0959 - mse: 1603.0531 - val_loss: 3254.0063 - val_mae: 32.4640 - val_mse: 1610.7422\n",
      "Epoch 24/65\n",
      "138/138 [==============================] - 22s 158ms/step - loss: 2719.8665 - mae: 32.0432 - mse: 1516.8154 - val_loss: 2290.1816 - val_mae: 32.5152 - val_mse: 1547.9302\n",
      "Epoch 25/65\n",
      "138/138 [==============================] - 22s 161ms/step - loss: 2971.1577 - mae: 32.3911 - mse: 1553.4688 - val_loss: 3002.2703 - val_mae: 31.6609 - val_mse: 1500.6862\n",
      "Epoch 26/65\n",
      "138/138 [==============================] - 22s 158ms/step - loss: 2875.1042 - mae: 31.9344 - mse: 1524.4457 - val_loss: 2844.5466 - val_mae: 31.8481 - val_mse: 1491.2845\n",
      "Epoch 27/65\n",
      "138/138 [==============================] - 22s 160ms/step - loss: 3042.5276 - mae: 32.9082 - mse: 1609.0264 - val_loss: 2951.6567 - val_mae: 32.9979 - val_mse: 1618.8745\n",
      "Epoch 28/65\n",
      "138/138 [==============================] - 22s 159ms/step - loss: 3013.2812 - mae: 32.8018 - mse: 1592.9709 - val_loss: 2916.8074 - val_mae: 32.6749 - val_mse: 1558.5903\n",
      "Epoch 29/65\n",
      "138/138 [==============================] - 22s 159ms/step - loss: 2966.4451 - mae: 32.3640 - mse: 1557.7837 - val_loss: 3178.6418 - val_mae: 32.5009 - val_mse: 1575.6062\n",
      "Epoch 30/65\n",
      "138/138 [==============================] - 22s 160ms/step - loss: 2993.6267 - mae: 32.6516 - mse: 1574.3313 - val_loss: 3405.8315 - val_mae: 32.9276 - val_mse: 1644.3959\n",
      "Epoch 31/65\n",
      "138/138 [==============================] - 22s 159ms/step - loss: 3068.3911 - mae: 32.4107 - mse: 1572.8002 - val_loss: 3089.8467 - val_mae: 31.9816 - val_mse: 1534.7706\n",
      "Epoch 32/65\n",
      "138/138 [==============================] - 22s 157ms/step - loss: 2954.4702 - mae: 32.7712 - mse: 1582.6324 - val_loss: 2434.2678 - val_mae: 30.7525 - val_mse: 1410.7240\n",
      "Epoch 33/65\n",
      "138/138 [==============================] - 22s 162ms/step - loss: 3030.5051 - mae: 32.8018 - mse: 1584.3721 - val_loss: 2535.2476 - val_mae: 32.6065 - val_mse: 1558.5752\n",
      "Epoch 34/65\n",
      "138/138 [==============================] - 22s 158ms/step - loss: 2969.6458 - mae: 32.7371 - mse: 1583.3691 - val_loss: 2846.3450 - val_mae: 31.1276 - val_mse: 1477.7665\n",
      "Epoch 35/65\n",
      "138/138 [==============================] - 22s 159ms/step - loss: 2928.5266 - mae: 32.3462 - mse: 1551.7881 - val_loss: 2920.2710 - val_mae: 32.8196 - val_mse: 1588.2708\n",
      "Epoch 36/65\n",
      "138/138 [==============================] - 22s 160ms/step - loss: 3101.2983 - mae: 32.9272 - mse: 1606.1611 - val_loss: 2588.0122 - val_mae: 32.8688 - val_mse: 1602.8615\n",
      "Epoch 37/65\n",
      "138/138 [==============================] - 22s 158ms/step - loss: 2951.4233 - mae: 32.8217 - mse: 1588.4065 - val_loss: 3240.6858 - val_mae: 32.2989 - val_mse: 1562.6628\n",
      "Epoch 38/65\n",
      "138/138 [==============================] - 22s 161ms/step - loss: 3225.3035 - mae: 33.4409 - mse: 1646.3088 - val_loss: 2839.1387 - val_mae: 34.5309 - val_mse: 1700.8317\n",
      "Epoch 39/65\n",
      "138/138 [==============================] - 22s 160ms/step - loss: 2981.9780 - mae: 32.7396 - mse: 1584.5243 - val_loss: 3768.9824 - val_mae: 34.5415 - val_mse: 1734.5781\n"
     ]
    },
    {
     "data": {
      "image/png": "[encoded data removed]",
      "text/plain": [
       "<Figure size 1200x400 with 1 Axes>"
      ]
     },
     "metadata": {},
     "output_type": "display_data"
    },
    {
     "name": "stdout",
     "output_type": "stream",
     "text": [
      "34/34 [==============================] - 1s 41ms/step - loss: 2792.8269 - mae: 33.4259 - mse: 1588.5294\n"
     ]
    },
    {
     "ename": "NotImplementedError",
     "evalue": "Saving the model to HDF5 format requires the model to be a Functional model or a Sequential model. It does not work for subclassed models, because such models are defined via the body of a Python method, which isn't safely serializable. Consider saving to the Tensorflow SavedModel format (by setting save_format=\"tf\") or using `save_weights`.",
     "output_type": "error",
     "traceback": [
      "\u001b[0;31m---------------------------------------------------------------------------\u001b[0m",
      "\u001b[0;31mNotImplementedError\u001b[0m                       Traceback (most recent call last)",
      "Cell \u001b[0;32mIn[15], line 24\u001b[0m\n\u001b[1;32m     20\u001b[0m     \u001b[38;5;28mprint\u001b[39m(\u001b[38;5;124m\"\u001b[39m\u001b[38;5;124mTarget values:\u001b[39m\u001b[38;5;124m\"\u001b[39m, y\u001b[38;5;241m.\u001b[39mnumpy()[:\u001b[38;5;241m5\u001b[39m])\n\u001b[1;32m     22\u001b[0m \u001b[38;5;28mprint\u001b[39m(\u001b[38;5;124m\"\u001b[39m\u001b[38;5;124mModel compiled\u001b[39m\u001b[38;5;124m\"\u001b[39m)\n\u001b[0;32m---> 24\u001b[0m history \u001b[38;5;241m=\u001b[39m \u001b[43mmodel\u001b[49m\u001b[38;5;241;43m.\u001b[39;49m\u001b[43mfit\u001b[49m\u001b[43m(\u001b[49m\u001b[43mtrain_dataset\u001b[49m\u001b[43m,\u001b[49m\u001b[43m \u001b[49m\u001b[43mepochs\u001b[49m\u001b[38;5;241;43m=\u001b[39;49m\u001b[38;5;241;43m65\u001b[39;49m\u001b[43m)\u001b[49m\n\u001b[1;32m     25\u001b[0m wandb\u001b[38;5;241m.\u001b[39mfinish() \n",
      "Cell \u001b[0;32mIn[8], line 204\u001b[0m, in \u001b[0;36mLstmModel.fit\u001b[0;34m(self, dataset, epochs)\u001b[0m\n\u001b[1;32m    201\u001b[0m \u001b[38;5;66;03m# Evaluate the model\u001b[39;00m\n\u001b[1;32m    202\u001b[0m loss \u001b[38;5;241m=\u001b[39m \u001b[38;5;28mself\u001b[39m\u001b[38;5;241m.\u001b[39mevaluate(val_dataset)\n\u001b[0;32m--> 204\u001b[0m \u001b[38;5;28;43mself\u001b[39;49m\u001b[38;5;241;43m.\u001b[39;49m\u001b[43msave\u001b[49m\u001b[43m(\u001b[49m\u001b[38;5;124;43mf\u001b[39;49m\u001b[38;5;124;43m'\u001b[39;49m\u001b[38;5;124;43mgs://vgnn/models/\u001b[39;49m\u001b[38;5;132;43;01m{\u001b[39;49;00m\u001b[43mmodel_name\u001b[49m\u001b[38;5;132;43;01m}\u001b[39;49;00m\u001b[38;5;124;43m.h5\u001b[39;49m\u001b[38;5;124;43m'\u001b[39;49m\u001b[43m)\u001b[49m\n\u001b[1;32m    206\u001b[0m \u001b[38;5;28;01mreturn\u001b[39;00m history\n",
      "File \u001b[0;32m/opt/conda/lib/python3.10/site-packages/keras/utils/traceback_utils.py:70\u001b[0m, in \u001b[0;36mfilter_traceback.<locals>.error_handler\u001b[0;34m(*args, **kwargs)\u001b[0m\n\u001b[1;32m     67\u001b[0m     filtered_tb \u001b[38;5;241m=\u001b[39m _process_traceback_frames(e\u001b[38;5;241m.\u001b[39m__traceback__)\n\u001b[1;32m     68\u001b[0m     \u001b[38;5;66;03m# To get the full stack trace, call:\u001b[39;00m\n\u001b[1;32m     69\u001b[0m     \u001b[38;5;66;03m# `tf.debugging.disable_traceback_filtering()`\u001b[39;00m\n\u001b[0;32m---> 70\u001b[0m     \u001b[38;5;28;01mraise\u001b[39;00m e\u001b[38;5;241m.\u001b[39mwith_traceback(filtered_tb) \u001b[38;5;28;01mfrom\u001b[39;00m \u001b[38;5;28;01mNone\u001b[39;00m\n\u001b[1;32m     71\u001b[0m \u001b[38;5;28;01mfinally\u001b[39;00m:\n\u001b[1;32m     72\u001b[0m     \u001b[38;5;28;01mdel\u001b[39;00m filtered_tb\n",
      "File \u001b[0;32m/opt/conda/lib/python3.10/site-packages/keras/saving/legacy/save.py:152\u001b[0m, in \u001b[0;36msave_model\u001b[0;34m(model, filepath, overwrite, include_optimizer, save_format, signatures, options, save_traces)\u001b[0m\n\u001b[1;32m    143\u001b[0m \u001b[38;5;28;01mif\u001b[39;00m (\n\u001b[1;32m    144\u001b[0m     save_format \u001b[38;5;241m==\u001b[39m \u001b[38;5;124m\"\u001b[39m\u001b[38;5;124mh5\u001b[39m\u001b[38;5;124m\"\u001b[39m\n\u001b[1;32m    145\u001b[0m     \u001b[38;5;129;01mor\u001b[39;00m (h5py \u001b[38;5;129;01mis\u001b[39;00m \u001b[38;5;129;01mnot\u001b[39;00m \u001b[38;5;28;01mNone\u001b[39;00m \u001b[38;5;129;01mand\u001b[39;00m \u001b[38;5;28misinstance\u001b[39m(filepath, h5py\u001b[38;5;241m.\u001b[39mFile))\n\u001b[1;32m    146\u001b[0m     \u001b[38;5;129;01mor\u001b[39;00m saving_utils\u001b[38;5;241m.\u001b[39mis_hdf5_filepath(filepath)\n\u001b[1;32m    147\u001b[0m ):\n\u001b[1;32m    148\u001b[0m     \u001b[38;5;66;03m# TODO(b/130258301): add utility method for detecting model type.\u001b[39;00m\n\u001b[1;32m    149\u001b[0m     \u001b[38;5;28;01mif\u001b[39;00m \u001b[38;5;129;01mnot\u001b[39;00m model\u001b[38;5;241m.\u001b[39m_is_graph_network \u001b[38;5;129;01mand\u001b[39;00m \u001b[38;5;129;01mnot\u001b[39;00m \u001b[38;5;28misinstance\u001b[39m(\n\u001b[1;32m    150\u001b[0m         model, sequential\u001b[38;5;241m.\u001b[39mSequential\n\u001b[1;32m    151\u001b[0m     ):\n\u001b[0;32m--> 152\u001b[0m         \u001b[38;5;28;01mraise\u001b[39;00m \u001b[38;5;167;01mNotImplementedError\u001b[39;00m(\n\u001b[1;32m    153\u001b[0m             \u001b[38;5;124m\"\u001b[39m\u001b[38;5;124mSaving the model to HDF5 format requires the model to be a \u001b[39m\u001b[38;5;124m\"\u001b[39m\n\u001b[1;32m    154\u001b[0m             \u001b[38;5;124m\"\u001b[39m\u001b[38;5;124mFunctional model or a Sequential model. It does not work for \u001b[39m\u001b[38;5;124m\"\u001b[39m\n\u001b[1;32m    155\u001b[0m             \u001b[38;5;124m\"\u001b[39m\u001b[38;5;124msubclassed models, because such models are defined via the \u001b[39m\u001b[38;5;124m\"\u001b[39m\n\u001b[1;32m    156\u001b[0m             \u001b[38;5;124m\"\u001b[39m\u001b[38;5;124mbody of a Python method, which isn\u001b[39m\u001b[38;5;124m'\u001b[39m\u001b[38;5;124mt safely serializable. \u001b[39m\u001b[38;5;124m\"\u001b[39m\n\u001b[1;32m    157\u001b[0m             \u001b[38;5;124m\"\u001b[39m\u001b[38;5;124mConsider saving to the Tensorflow SavedModel format (by \u001b[39m\u001b[38;5;124m\"\u001b[39m\n\u001b[1;32m    158\u001b[0m             \u001b[38;5;124m'\u001b[39m\u001b[38;5;124msetting save_format=\u001b[39m\u001b[38;5;124m\"\u001b[39m\u001b[38;5;124mtf\u001b[39m\u001b[38;5;124m\"\u001b[39m\u001b[38;5;124m) or using `save_weights`.\u001b[39m\u001b[38;5;124m'\u001b[39m\n\u001b[1;32m    159\u001b[0m         )\n\u001b[1;32m    160\u001b[0m     hdf5_format\u001b[38;5;241m.\u001b[39msave_model_to_hdf5(\n\u001b[1;32m    161\u001b[0m         model, filepath, overwrite, include_optimizer\n\u001b[1;32m    162\u001b[0m     )\n\u001b[1;32m    163\u001b[0m \u001b[38;5;28;01melse\u001b[39;00m:\n",
      "\u001b[0;31mNotImplementedError\u001b[0m: Saving the model to HDF5 format requires the model to be a Functional model or a Sequential model. It does not work for subclassed models, because such models are defined via the body of a Python method, which isn't safely serializable. Consider saving to the Tensorflow SavedModel format (by setting save_format=\"tf\") or using `save_weights`."
     ]
    }
   ],
   "source": [
    "wandb.init(\n",
    "        # set the wandb project where this run will be logged\n",
    "        project=\"blue-marble\")\n",
    "\n",
    "model = TimeDependentDenseLstmModel(input_shape = input_shape,\n",
    "                                lstm_layers = 3,\n",
    "                                dense_layers_per_step = 5,\n",
    "                                no_units = 150,\n",
    "                                val_size = val_size,\n",
    "                                dropout_rate = 0.3,\n",
    "                                kernel_initializer = tf.keras.initializers.RandomUniform(seed=42))\n",
    "model.compile(optimizer= \"nadam\",\n",
    "              learning_rate = 0.0006,\n",
    "              loss=pen_low_loss)\n",
    "\n",
    "for x, y in train_dataset.take(1):\n",
    "    initial_pred = model(x)\n",
    "    print(\"Initial predictions:\", initial_pred.numpy()[:5])\n",
    "    print(\"Initial predictions std:\", np.std(initial_pred))\n",
    "    print(\"Target values:\", y.numpy()[:5])\n",
    "\n",
    "print(\"Model compiled\")\n",
    "\n",
    "history = model.fit(train_dataset, epochs=65)\n",
    "wandb.finish() "
   ]
  },
  {
   "cell_type": "code",
   "execution_count": 8,
   "id": "93d52fb3-2ceb-417d-a24a-bd212085deb1",
   "metadata": {
    "tags": []
   },
   "outputs": [
    {
     "data": {
      "text/plain": [
       "'6a41c5a7d5d063e33b4bea24275d0b3d7afd3865'"
      ]
     },
     "execution_count": 8,
     "metadata": {},
     "output_type": "execute_result"
    }
   ],
   "source": [
    "secret_value"
   ]
  },
  {
   "cell_type": "code",
   "execution_count": 7,
   "id": "114b8ba0-abb2-4797-8836-2b52d7666743",
   "metadata": {
    "tags": []
   },
   "outputs": [
    {
     "name": "stderr",
     "output_type": "stream",
     "text": [
      "Failed to detect the name of this notebook, you can set it manually with the WANDB_NOTEBOOK_NAME environment variable to enable code saving.\n",
      "\u001b[34m\u001b[1mwandb\u001b[0m: Using wandb-core as the SDK backend. Please refer to https://wandb.me/wandb-core for more information.\n",
      "\u001b[34m\u001b[1mwandb\u001b[0m: Currently logged in as: \u001b[33mt-skorkowski\u001b[0m. Use \u001b[1m`wandb login --relogin`\u001b[0m to force relogin\n"
     ]
    },
    {
     "data": {
      "text/plain": [
       "True"
      ]
     },
     "execution_count": 7,
     "metadata": {},
     "output_type": "execute_result"
    }
   ],
   "source": [
    "wandb.login()"
   ]
  },
  {
   "cell_type": "code",
   "execution_count": null,
   "id": "f31af197-7ed6-478b-b029-ced407ba9169",
   "metadata": {
    "tags": []
   },
   "outputs": [],
   "source": [
    "\n",
    "# Define the initializers you want to test\n",
    "initializers = [\n",
    "    tf.keras.initializers.RandomNormal(seed=42),\n",
    "    tf.keras.initializers.RandomUniform(seed=42),\n",
    "    tf.keras.initializers.HeNormal(seed=42),\n",
    "    tf.keras.initializers.GlorotUniform(seed=42)\n",
    "]\n",
    "\n",
    "sweep_configuration = {\n",
    "    \"name\": \"bm_sweep\",\n",
    "    \"method\": \"bayes\",\n",
    "    \"metric\": {\"goal\": \"minimize\", \"name\": \"validation_loss\"},\n",
    "    \"count\": 200,\n",
    "    \"parameters\": {\n",
    "        \"lstm_layers_units\": {\"values\": [(0,0), (3,5), (10,25)]},\n",
    "        \"dense_layers_per_step\": {\"values\": [10, 17, 27]},\n",
    "        \"dropout_rate\": {\"values\": [0.1, 0.2, 0.3]},\n",
    "        \"kernel_initializer\": {\"values\": [0,1,2,3]},\n",
    "        \"num_bins_num_bands\": {\"values\": [(12, 3), (12,9), (32,9), (60,3), (60,9)]},\n",
    "        \"lr\": {\"distribution\": \"uniform\",\n",
    "               \"min\": 0.0001,\n",
    "               \"max\": 0.1},\n",
    "        \"batch_size\": {\"values\": [16, 32, 64]},\n",
    "        \"epochs\": {\"values\": [20]},\n",
    "        \"optimizer\": {\"values\": [\"adam\", \"rms\", \"nadam\"]},\n",
    "    },\n",
    "}\n",
    "\n",
    "sweep_id = wandb.sweep(sweep_configuration,\n",
    "                      project=\"blue-marble\")\n",
    "wandb.agent(sweep_id, function=train_wandb)\n",
    "\n"
   ]
  },
  {
   "cell_type": "code",
   "execution_count": 12,
   "id": "10447edd-f0c8-422a-9188-a5871a554687",
   "metadata": {
    "tags": []
   },
   "outputs": [
    {
     "data": {
      "text/html": [
       "<style>\n",
       "    table.wandb td:nth-child(1) { padding: 0 10px; text-align: left ; width: auto;} td:nth-child(2) {text-align: left ; width: 100%}\n",
       "    .wandb-row { display: flex; flex-direction: row; flex-wrap: wrap; justify-content: flex-start; width: 100% }\n",
       "    .wandb-col { display: flex; flex-direction: column; flex-basis: 100%; flex: 1; padding: 10px; }\n",
       "    </style>\n",
       "<div class=\"wandb-row\"><div class=\"wandb-col\"><h3>Run history:</h3><br/><table class=\"wandb\"><tr><td>epoch/epoch</td><td>▁▁▂▃▃▃▄▅▅▅▆▇▇▇█</td></tr><tr><td>epoch/learning_rate</td><td>▁▁▁▁▁▁▁▁▁▁▁▁▁▁▁</td></tr><tr><td>epoch/loss</td><td>█▃▃▂▂▂▂▂▃▂▂▃▃▁▂</td></tr><tr><td>epoch/mae</td><td>█▅▄▃▂▂▂▁▂▁▁▁▁▁▁</td></tr><tr><td>epoch/mse</td><td>█▅▃▂▂▂▁▁▂▁▁▁▁▁▁</td></tr><tr><td>epoch/val_loss</td><td>█▆▄▂▃▂▅▃▄▅▁▁▅▃▆</td></tr><tr><td>epoch/val_mae</td><td>█▆▃▃▄▃▂▂▂▂▁▂▂▁▂</td></tr><tr><td>epoch/val_mse</td><td>█▆▃▂▃▂▂▂▂▁▁▂▁▁▂</td></tr></table><br/></div><div class=\"wandb-col\"><h3>Run summary:</h3><br/><table class=\"wandb\"><tr><td>epoch/epoch</td><td>14</td></tr><tr><td>epoch/learning_rate</td><td>0.001</td></tr><tr><td>epoch/loss</td><td>2916.63965</td></tr><tr><td>epoch/mae</td><td>32.59389</td></tr><tr><td>epoch/mse</td><td>1573.47437</td></tr><tr><td>epoch/val_loss</td><td>3302.76343</td></tr><tr><td>epoch/val_mae</td><td>33.63821</td></tr><tr><td>epoch/val_mse</td><td>1669.09937</td></tr></table><br/></div></div>"
      ],
      "text/plain": [
       "<IPython.core.display.HTML object>"
      ]
     },
     "metadata": {},
     "output_type": "display_data"
    },
    {
     "data": {
      "text/html": [
       " View run <strong style=\"color:#cdcd00\">obscure-thriller-182</strong> at: <a href='https://wandb.ai/t-skorkowski/blue-marble/runs/p9jizwo8' target=\"_blank\">https://wandb.ai/t-skorkowski/blue-marble/runs/p9jizwo8</a><br/> View project at: <a href='https://wandb.ai/t-skorkowski/blue-marble' target=\"_blank\">https://wandb.ai/t-skorkowski/blue-marble</a><br/>Synced 5 W&B file(s), 0 media file(s), 0 artifact file(s) and 0 other file(s)"
      ],
      "text/plain": [
       "<IPython.core.display.HTML object>"
      ]
     },
     "metadata": {},
     "output_type": "display_data"
    },
    {
     "data": {
      "text/html": [
       "Find logs at: <code>./wandb/run-20241031_213647-p9jizwo8/logs</code>"
      ],
      "text/plain": [
       "<IPython.core.display.HTML object>"
      ]
     },
     "metadata": {},
     "output_type": "display_data"
    }
   ],
   "source": [
    "wandb.finish()"
   ]
  },
  {
   "cell_type": "code",
   "execution_count": 19,
   "id": "bfb4b2ea-daa2-4675-85a4-0422557f9b5e",
   "metadata": {
    "tags": []
   },
   "outputs": [
    {
     "name": "stdout",
     "output_type": "stream",
     "text": [
      "2/2 [==============================] - 0s 99ms/step - loss: 19518.5488 - mae: 131.6927 - mse: 20154.2793\n"
     ]
    },
    {
     "data": {
      "text/plain": [
       "[19518.548828125, 131.6927490234375, 20154.279296875]"
      ]
     },
     "execution_count": 19,
     "metadata": {},
     "output_type": "execute_result"
    }
   ],
   "source": [
    "model.evaluate(test_dataset)"
   ]
  },
  {
   "cell_type": "code",
   "execution_count": 22,
   "id": "fddbe97b-84e9-4619-bb89-983c52a32073",
   "metadata": {
    "tags": []
   },
   "outputs": [
    {
     "name": "stdout",
     "output_type": "stream",
     "text": [
      "tf.Tensor(4171.9155, shape=(), dtype=float32)\n",
      "lively-foie-gras\n"
     ]
    }
   ],
   "source": [
    "print(model.job_name)"
   ]
  },
  {
   "cell_type": "code",
   "execution_count": null,
   "id": "e38b1c93-b7e0-436d-b5c8-a1c2f92ae05e",
   "metadata": {},
   "outputs": [],
   "source": [
    "for layer in model.layers:\n",
    "    # Get weights for the layer\n",
    "    weights = layer.get_weights()\n",
    "    \n",
    "    # Check if the layer has weights\n",
    "    if weights:\n",
    "        print(f\"Layer: {layer.name}\")\n",
    "        for i, weight in enumerate(weights):\n",
    "            print(f\"  Weight {i+1} shape: {weight.shape}\")\n",
    "            print(f\"  Weight {i+1} values: \\n{weight}\\n\")\n",
    "    else:\n",
    "        print(f\"Layer: {layer.name} has no weights.\")"
   ]
  },
  {
   "cell_type": "code",
   "execution_count": 13,
   "id": "0b4eb99b-38e4-429e-badb-e4d1b2a1cece",
   "metadata": {
    "tags": []
   },
   "outputs": [
    {
     "name": "stdout",
     "output_type": "stream",
     "text": [
      "44/44 [==============================] - 2s 33ms/step\n"
     ]
    }
   ],
   "source": [
    "predictions = model.predict(test_dataset)"
   ]
  },
  {
   "cell_type": "code",
   "execution_count": 14,
   "id": "6ec59eb2-af59-47b7-9bd5-e4376e9a4ba5",
   "metadata": {
    "tags": []
   },
   "outputs": [
    {
     "data": {
      "text/plain": [
       "array([[144.70483],\n",
       "       [144.70483],\n",
       "       [144.70483],\n",
       "       ...,\n",
       "       [144.70483],\n",
       "       [144.70483],\n",
       "       [144.70483]], dtype=float32)"
      ]
     },
     "execution_count": 14,
     "metadata": {},
     "output_type": "execute_result"
    }
   ],
   "source": [
    "predictions"
   ]
  },
  {
   "cell_type": "code",
   "execution_count": 13,
   "id": "af75185d-54ce-4771-814a-8750873b56c8",
   "metadata": {
    "tags": []
   },
   "outputs": [
    {
     "data": {
      "image/png": "[encoded data removed]",
      "text/plain": [
       "<Figure size 800x800 with 1 Axes>"
      ]
     },
     "metadata": {},
     "output_type": "display_data"
    }
   ],
   "source": [
    "actual_labels = np.concatenate([response.numpy() for _, response in test_dataset], axis=0)\n",
    "\n",
    "# Plot actual vs. predicted\n",
    "plt.figure(figsize=(8, 8))\n",
    "plt.scatter(actual_labels, predictions, alpha=0.5, edgecolors='k')\n",
    "plt.xlabel('Actual Labels')\n",
    "plt.ylabel('Predictions')\n",
    "plt.title('Actual vs. Predicted')\n",
    "plt.plot([min(actual_labels), max(actual_labels)], [min(actual_labels), max(actual_labels)], 'r--')  # Line y=x for reference\n",
    "plt.show()"
   ]
  },
  {
   "cell_type": "code",
   "execution_count": null,
   "id": "e9a6b77f-5205-48a4-ad40-b6c7b0af8535",
   "metadata": {
    "tags": []
   },
   "outputs": [],
   "source": [
    "for layer in model.layers:\n",
    "    print(layer.weights)"
   ]
  },
  {
   "cell_type": "code",
   "execution_count": 44,
   "id": "cc361cbd-1f51-4d13-9091-d830fd60e868",
   "metadata": {},
   "outputs": [],
   "source": [
    "import pandas as pd\n",
    "import numpy as np\n",
    "labels = pd.DataFrame(np.load(r'C:\\Users\\tskor\\Documents\\GitHub\\inovation_project\\2_Data\\combined_labels_with_fips.npy', allow_pickle=True))\n"
   ]
  },
  {
   "cell_type": "code",
   "execution_count": 45,
   "id": "e8f1fe1c",
   "metadata": {},
   "outputs": [
    {
     "data": {
      "text/html": [
       "<div>\n",
       "<style scoped>\n",
       "    .dataframe tbody tr th:only-of-type {\n",
       "        vertical-align: middle;\n",
       "    }\n",
       "\n",
       "    .dataframe tbody tr th {\n",
       "        vertical-align: top;\n",
       "    }\n",
       "\n",
       "    .dataframe thead th {\n",
       "        text-align: right;\n",
       "    }\n",
       "</style>\n",
       "<table border=\"1\" class=\"dataframe\">\n",
       "  <thead>\n",
       "    <tr style=\"text-align: right;\">\n",
       "      <th></th>\n",
       "      <th>0</th>\n",
       "      <th>1</th>\n",
       "      <th>2</th>\n",
       "    </tr>\n",
       "  </thead>\n",
       "  <tbody>\n",
       "    <tr>\n",
       "      <th>0</th>\n",
       "      <td>01003</td>\n",
       "      <td>2016</td>\n",
       "      <td>152.9</td>\n",
       "    </tr>\n",
       "    <tr>\n",
       "      <th>1</th>\n",
       "      <td>01005</td>\n",
       "      <td>2016</td>\n",
       "      <td>188.9</td>\n",
       "    </tr>\n",
       "    <tr>\n",
       "      <th>2</th>\n",
       "      <td>01019</td>\n",
       "      <td>2016</td>\n",
       "      <td>92.3</td>\n",
       "    </tr>\n",
       "    <tr>\n",
       "      <th>3</th>\n",
       "      <td>01029</td>\n",
       "      <td>2016</td>\n",
       "      <td>125.0</td>\n",
       "    </tr>\n",
       "    <tr>\n",
       "      <th>4</th>\n",
       "      <td>01031</td>\n",
       "      <td>2016</td>\n",
       "      <td>104.5</td>\n",
       "    </tr>\n",
       "  </tbody>\n",
       "</table>\n",
       "</div>"
      ],
      "text/plain": [
       "       0     1      2\n",
       "0  01003  2016  152.9\n",
       "1  01005  2016  188.9\n",
       "2  01019  2016   92.3\n",
       "3  01029  2016  125.0\n",
       "4  01031  2016  104.5"
      ]
     },
     "execution_count": 45,
     "metadata": {},
     "output_type": "execute_result"
    }
   ],
   "source": [
    "labels.head()"
   ]
  },
  {
   "cell_type": "code",
   "execution_count": 61,
   "id": "c3d824ba",
   "metadata": {},
   "outputs": [
    {
     "data": {
      "text/plain": [
       "(3, 543)"
      ]
     },
     "execution_count": 61,
     "metadata": {},
     "output_type": "execute_result"
    }
   ],
   "source": [
    "histograms_path = r'C:\\Users\\tskor\\Documents\\data\\histograms\\histograms_county_year\\histogram-31035-2016.npy'\n",
    "histograms = pd.DataFrame(np.load(histograms_path, allow_pickle=True))\n",
    "histograms.shape"
   ]
  },
  {
   "cell_type": "code",
   "execution_count": 62,
   "id": "bc83c37b",
   "metadata": {},
   "outputs": [
    {
     "name": "stdout",
     "output_type": "stream",
     "text": [
      "<class 'pandas.core.frame.DataFrame'>\n",
      "RangeIndex: 3 entries, 0 to 2\n",
      "Columns: 543 entries, histogram_0 to fips\n",
      "dtypes: int16(1), object(1), uint32(541)\n",
      "memory usage: 6.5+ KB\n"
     ]
    }
   ],
   "source": [
    "histograms.info()"
   ]
  },
  {
   "cell_type": "code",
   "execution_count": 34,
   "id": "49785b58",
   "metadata": {},
   "outputs": [
    {
     "name": "stdout",
     "output_type": "stream",
     "text": [
      "[     0      0    115    214    245   3709  59917  88621  50741  24253\n",
      "  14168  10653   7955   6512   5309   3159   1313    570    495    291\n",
      "    119     52     46     55     27     29     28     23     23     22\n",
      "     32     15     12      8      8      6      7     10      8      5\n",
      "      2      4      1      6      1      0      0      0      0      0\n",
      "      0      0      0      0      0      0      0      0      0      0\n",
      "      0      0      0      0      0      0    157    728  77664 114372\n",
      "  28812  10135   9975   8209   6858   7077   5823   4308   2264   1071\n",
      "    709    159     76     35     31     43     32     35     20     20\n",
      "     21     18     17     11     16     15      7     11      5     10\n",
      "      6      8      6      6      8      6      2      0      1      1\n",
      "      0      0      0      0      0      0      0      0      1      0\n",
      "      0      0      0      2     35    110    112    129    109    175\n",
      "   1558   9499  34668  54828  47578  30861  19882  12675   8717   6402\n",
      "   5710   5721   5414   4632   4070   3490   3050   3220   3025   2456\n",
      "   2492   1966   1486   1092    892    571    335    227    187    154\n",
      "    185    129    104    111    114    133    143    100     88     67\n",
      "     39     23     17      6      0      0      0      0      0      0\n",
      "      0      0      0      0      0     42    132     99    106    155\n",
      "    614   6409  31688  53175  50532  33789  20601  12797   8324   6319\n",
      "   5377   4790   4973   4844   4524   3889   3335   2900   3014   2819\n",
      "   2312   2202   1984   1511   1095    890    787    521    292    187\n",
      "    178    194    155    141    121    104    103    123    119    131\n",
      "    119    100     67     44     24     14      2      7      9      4\n",
      "      0      0      0      0      3     62    115     88    100    110\n",
      "    469    348   1963  10515  28128  45379  43277  33002  23217  16224\n",
      "  11021   7834   5716   5232   5152   5026   4342   3699   3348   2889\n",
      "   2760   2864   2614   2251   2306   1979   1572   1236    807    723\n",
      "    456    319    197    155    154    153    125    104    104    118\n",
      "    120    120     91     82     52     38     21      8      1      0\n",
      "      0      0      0      0      3    130    190    143    308   8408\n",
      "  47963  71155  58935  27735  11678   6681   5686   4810   3886   3518\n",
      "   3684   3455   3097   2862   2603   2728   2585   1955   1524    980\n",
      "    624    543    427    184     49     36     43     35     12     19\n",
      "     12     12     12      7     10     11      6      8      8      2\n",
      "      4      9      6      5      1      1      0      0      0      0\n",
      "      0      0      0      0     13    102    120    122    127    254\n",
      "   2864  18681  46060  53929  40506  26159  16174  10475   7493   6037\n",
      "   5554   5809   5309   4494   3934   3330   3286   3104   2677   2293\n",
      "   2295   1744   1200    972    816    525    299    234    193    198\n",
      "    152    146    114    109    100    103     98    121    128    105\n",
      "     86     60     53     17     10      4      1      0      0      0\n",
      "      0      0      0      0     24    226   1315   7599  31481  66024\n",
      "  71945  39858  14370   5699   4038   3774   2944   3119   3545   3743\n",
      "   3713   3382   3127   3031   2139   1245    874    596    424    251\n",
      "     77     22     22     26     17     12     15     14     13      8\n",
      "     14      8      5      7      5      8      5      6      7      7\n",
      "      2      1      1      0      0      0      0      0      0      0\n",
      "      0      0      0      0      0      0      0      0     15   2297\n",
      " 149665  71320  14441   9784   9998  10657   6227   2354   1155    281\n",
      "    104     50     55     33     30     30     26     25     29     21\n",
      "     27     21     15     11      9     13     12     11      9      7\n",
      "     10      4      6     10      7      8      4      4      1      2\n",
      "      0      0      0      0      0      0      0      0      1      0]\n"
     ]
    }
   ],
   "source": [
    "hist_by_month_path = r\"C:\\Users\\tskor\\Documents\\data\\histograms\\60_buckets_9_bands_60_res\\60\\Clay_31\\2016\\9-10.npy\"\n",
    "hist_month = np.load(hist_by_month_path)\n",
    "print(hist_month)"
   ]
  },
  {
   "cell_type": "code",
   "execution_count": null,
   "id": "9479d312",
   "metadata": {},
   "outputs": [],
   "source": [
    "5151001.0"
   ]
  },
  {
   "cell_type": "code",
   "execution_count": null,
   "id": "936a94fa",
   "metadata": {},
   "outputs": [],
   "source": []
  },
  {
   "cell_type": "code",
   "execution_count": 43,
   "id": "2a3770c8",
   "metadata": {},
   "outputs": [
    {
     "name": "stdout",
     "output_type": "stream",
     "text": [
      "2016\n",
      "2017\n",
      "2018\n",
      "2019\n",
      "2020\n",
      "2021\n"
     ]
    }
   ],
   "source": [
    "for i in range(2016,2022):\n",
    "    print(i)"
   ]
  },
  {
   "cell_type": "code",
   "execution_count": 59,
   "id": "9b79980e",
   "metadata": {},
   "outputs": [
    {
     "data": {
      "text/plain": [
       "array([['talladega', '01121', 305.617, 278.059, 295.753,\n",
       "        26709.16000000001, 0.994, 47.25, 0.0, 79.9710570944037, 4.182,\n",
       "        8546.6, 136.5, 5185.8, 0.563, 5, 2017],\n",
       "       ['geneva', '01061', 306.214, 280.606, 297.361, 4920.546000000001,\n",
       "        0.656, 44.099, 0.0, 78.63302107728333, 8.859, 8579.0, 65.8,\n",
       "        4786.0, 0.652, 5, 2017]], dtype=object)"
      ]
     },
     "execution_count": 59,
     "metadata": {},
     "output_type": "execute_result"
    }
   ],
   "source": [
    "weather_combined = pd.read_csv(r\"C:\\Users\\tskor\\Documents\\data\\WRF-HRRR\\split_by_county_and_year\\weather-combined.csv\", dtype={'FIPS Code': str}).to_numpy()\n",
    "weather_combined[:2,]"
   ]
  },
  {
   "cell_type": "code",
   "execution_count": null,
   "id": "ed9a6a14",
   "metadata": {},
   "outputs": [
    {
     "data": {
      "text/plain": [
       "(28734,)"
      ]
     },
     "execution_count": 65,
     "metadata": {},
     "output_type": "execute_result"
    }
   ],
   "source": [
    "sat_data = np.load(r\"C:\\Users\\tskor\\Documents\\data\\histograms\\histograms_county_year\\histograms-combined.npy\", allow_pickle=True)\n",
    "sat_data[0,:]"
   ]
  },
  {
   "cell_type": "code",
   "execution_count": null,
   "id": "da67dfae",
   "metadata": {},
   "outputs": [],
   "source": []
  }
 ],
 "metadata": {
  "environment": {
   "kernel": "conda-base-py",
   "name": "workbench-notebooks.m125",
   "type": "gcloud",
   "uri": "us-docker.pkg.dev/deeplearning-platform-release/gcr.io/workbench-notebooks:m125"
  },
  "kernelspec": {
   "display_name": ".ml-venv",
   "language": "python",
   "name": "python3"
  },
  "language_info": {
   "codemirror_mode": {
    "name": "ipython",
    "version": 3
   },
   "file_extension": ".py",
   "mimetype": "text/x-python",
   "name": "python",
   "nbconvert_exporter": "python",
   "pygments_lexer": "ipython3",
   "version": "3.12.6"
  }
 },
 "nbformat": 4,
 "nbformat_minor": 5
}
