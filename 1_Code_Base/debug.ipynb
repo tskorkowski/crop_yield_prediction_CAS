{
 "cells": [
  {
   "cell_type": "markdown",
   "id": "ca643993",
   "metadata": {},
   "source": [
    "### Histogram creatinon and save"
   ]
  },
  {
   "cell_type": "code",
   "execution_count": 14,
   "id": "bfd8f97a-2d94-4054-94ea-83653ea50636",
   "metadata": {
    "tags": []
   },
   "outputs": [],
   "source": [
    "\"\"\"Data utilities to grab data from google cloud bucket.\n",
    "\n",
    "Meant to be used for both training and prediction so the model is\n",
    "trained on exactly the same data that will be used for predictions.\n",
    "\"\"\"\n",
    "\n",
    "from __future__ import annotations\n",
    "\n",
    "import io\n",
    "import logging\n",
    "import os\n",
    "import re\n",
    "import tempfile\n",
    "import time\n",
    "from concurrent.futures import ThreadPoolExecutor, as_completed\n",
    "from typing import Dict\n",
    "\n",
    "import google.auth\n",
    "import matplotlib.pyplot as plt\n",
    "import numpy as np\n",
    "import rasterio\n",
    "import requests\n",
    "from serving.constants import (\n",
    "    BUCKET,\n",
    "    HIST_BINS_LIST,\n",
    "    HIST_DEST_PREFIX,\n",
    "    IMG_SOURCE_PREFIX,\n",
    "    SELECTED_BANDS,\n",
    "    PROJECT,\n",
    "    PIX_COUNT,\n",
    "    REFLECTANCE_CONST,\n",
    "    NUM_BINS,\n",
    "    MAP_NAN,\n",
    "    NORMALIZE\n",
    ")\n",
    "from google.api_core import exceptions, retry\n",
    "from google.cloud import storage\n",
    "from numpy.lib.recfunctions import structured_to_unstructured\n",
    "from osgeo import gdal\n",
    "from rasterio.io import MemoryFile\n",
    "from serving.common import list_blobs_with_prefix\n",
    "\n",
    "logging.basicConfig(\n",
    "    filename=\"hist.log\",\n",
    "    level=logging.INFO,\n",
    "    format=\"%(asctime)s - %(levelname)s - %(message)s\",\n",
    ")\n",
    "\n",
    "\n",
    "def hist_init():\n",
    "    \"\"\"Authenticate and initialize Earth Engine with the default credentials.\"\"\"\n",
    "    # Use the Earth Engine High Volume endpoint.\n",
    "    #   https://developers.google.com/earth-engine/cloud/highvolume\n",
    "    credentials, project = google.auth.default()\n",
    "\n",
    "def process_band(bucket, blob_name, band, bins, skip_nan, normalise):\n",
    "\n",
    "    storage_client = storage.Client()\n",
    "    blob = storage_client.bucket(bucket).blob(blob_name)\n",
    "\n",
    "    with blob.open(\"rb\") as f:\n",
    "        with rasterio.open(f) as src:\n",
    "\n",
    "            data = src.read(band).flatten()\n",
    "            na_mask = np.isnan(data)\n",
    "            \n",
    "            if skip_nan == False:\n",
    "                data[na_mask] = 0.0\n",
    "                valid_data = data\n",
    "            else:\n",
    "                valid_data = data[~na_mask]\n",
    "                \n",
    "            if normalise:\n",
    "                valid_data = valid_data / REFLECTANCE_CONST\n",
    "                bins = bins / REFLECTANCE_CONST\n",
    "                \n",
    "            valid_max = np.max(valid_data)\n",
    "            valid_min = np.min(valid_data)\n",
    "\n",
    "            if valid_max > bins[-1]:\n",
    "                logging.warning(\n",
    "                    f\"image: {blob_name}, band: {band}, {valid_max} value is larger than assumed possible values for this band: {bins[-1]}\"\n",
    "                )\n",
    "            elif valid_min < bins[0]:\n",
    "                logging.warning(\n",
    "                    f\"image: {blob_name}, band: {band}, {valid_min} value is smaller than assumed possible values for this band {bins[0]}\"\n",
    "                )\n",
    "            \n",
    "            if valid_data.size > 0:\n",
    "                total_sum = np.sum(valid_data)\n",
    "                total_count = valid_data.size\n",
    "                mean = total_sum / total_count\n",
    "                hist, _ = np.histogram(valid_data, bins=bins, density=False)\n",
    "            else:\n",
    "                logging.error(f\"image: {blob_name}, band: {band} has 0 valid pixels. Investigate\")\n",
    "                mean = np.nan\n",
    "                hist = np.zeros_like(\n",
    "                    bins[:-1]\n",
    "                )  # histogram will have one less element than bins\n",
    "\n",
    "    return hist\n",
    "\n",
    "\n",
    "def process_tiff(bucket, blob_name, bin_list, selected_bands, skip_nan, normalise, max_workers=6):\n",
    "    with ThreadPoolExecutor(max_workers=max_workers) as executor:\n",
    "        future_to_band = {\n",
    "            executor.submit(\n",
    "                process_band, bucket, blob_name, band, bins, skip_nan, normalise\n",
    "            ): band\n",
    "            for band, bins in zip(selected_bands, bin_list)\n",
    "        }\n",
    "        results = []\n",
    "\n",
    "        for future in as_completed(future_to_band):\n",
    "            band = future_to_band[future]\n",
    "            try:\n",
    "                result = future.result()\n",
    "                results.append(result)\n",
    "                logging.info(f\"Processed band {band} successfully\")\n",
    "            except Exception as exc:\n",
    "                logging.exception(f\"Band {band} generated an exception: {exc}\")\n",
    "\n",
    "    sorted_results = sorted(results, key=lambda x: x[0])\n",
    "    return np.array(sorted_results).flatten()  # one long array instead of bands\n",
    "\n",
    "\n",
    "def recombine_image(bucket, core_image_name, bin_list, selected_bands, skip_nan=False, normalise=False):\n",
    "    start_time = time.time()\n",
    "\n",
    "    hist_per_blob = []\n",
    "    blobs = list_blobs_with_prefix(core_image_name)\n",
    "    for blob in blobs:\n",
    "        results = process_tiff(bucket, blob.name, bin_list, selected_bands, skip_nan, normalise)\n",
    "        hist_per_blob.append(results)\n",
    "\n",
    "    combined_hist = np.sum(np.array(hist_per_blob), axis=0)\n",
    "\n",
    "    end_time = time.time()\n",
    "    execution_time = end_time - start_time\n",
    "    logging.info(\n",
    "        f\"Image {core_image_name} has been processed in {execution_time/60:.4f} minuntes\"\n",
    "    )\n",
    "\n",
    "    return combined_hist\n",
    "\n",
    "def write_histogram_to_gcs(histogram, bucket_name, blob_name):\n",
    "    \"\"\"\n",
    "    Write a NumPy array (histogram) to Google Cloud Storage.\n",
    "\n",
    "    Args:\n",
    "    histogram (np.array): The histogram to save.\n",
    "    bucket_name (str): The name of the GCS bucket.\n",
    "    blob_name (str): The name to give the file in GCS (including any 'path').\n",
    "\n",
    "    Returns:\n",
    "    str: The public URL of the uploaded file.\n",
    "    \"\"\"\n",
    "    # Ensure the blob_name ends with .npy\n",
    "    if not blob_name.endswith('.npy'):\n",
    "        blob_name += '.npy'\n",
    "\n",
    "    # Create a GCS client\n",
    "    client = storage.Client()\n",
    "\n",
    "    # Get the bucket\n",
    "    bucket = client.bucket(bucket_name)\n",
    "\n",
    "    # Create a blob\n",
    "    blob = bucket.blob(blob_name)\n",
    "\n",
    "    # Convert the numpy array to bytes\n",
    "    array_bytes = io.BytesIO()\n",
    "    np.save(array_bytes, histogram)\n",
    "    array_bytes.seek(0)\n",
    "\n",
    "    # Upload the bytes to GCS\n",
    "    blob.upload_from_file(array_bytes, content_type='application/octet-stream')\n",
    "\n",
    "    logging.info(f\"Histogram uploaded to gs://{bucket_name}/{blob_name}\")\n",
    "\n"
   ]
  },
  {
   "cell_type": "markdown",
   "id": "cb853562",
   "metadata": {},
   "source": [
    "#### Single histogram creation and save"
   ]
  },
  {
   "cell_type": "code",
   "execution_count": 15,
   "id": "50936547-d113-41e2-ad62-5524a415e110",
   "metadata": {
    "tags": []
   },
   "outputs": [],
   "source": [
    "image_name=\"images/60/Bailey_48/2016/7-8\"\n",
    "file_name=\"histograms/nan_map_True/norm_True/8_buckets_3_bands/60/Bailey_48/2016/7-8.npy\""
   ]
  },
  {
   "cell_type": "code",
   "execution_count": 18,
   "id": "83e55484-8c3e-479f-9379-b3ee7451f463",
   "metadata": {
    "tags": []
   },
   "outputs": [
    {
     "data": {
      "text/plain": [
       "True"
      ]
     },
     "execution_count": 18,
     "metadata": {},
     "output_type": "execute_result"
    }
   ],
   "source": [
    "NORMALIZE"
   ]
  },
  {
   "cell_type": "code",
   "execution_count": 16,
   "id": "57bfd5f9-29ef-40c3-8a49-3e6ff54951ee",
   "metadata": {
    "tags": []
   },
   "outputs": [],
   "source": [
    "hist_post = recombine_image(BUCKET, image_name, HIST_BINS_LIST, SELECTED_BANDS, MAP_NAN, NORMALIZE)"
   ]
  },
  {
   "cell_type": "code",
   "execution_count": 4,
   "id": "fbefd41a-ddc5-4323-b70e-bdc649b73487",
   "metadata": {
    "tags": []
   },
   "outputs": [
    {
     "data": {
      "text/plain": [
       "array([    0,     0,     0,     0,    21,  9622,  9035,  4460,  2905,\n",
       "         539,   106,    51,    10,     8,     5,     2,     2,     0,\n",
       "           0,     0,     1,     0,     0,     0,     0,     0,     0,\n",
       "           0,     0,     0,     0,     0,     0,     0,     0,     0,\n",
       "           0,    14,    11,     6,     6,     8,     6,    39,   167,\n",
       "         566,  1688,  3627,  5866,  6152,  4273,  2284,  1158,   490,\n",
       "         221,   114,    54,    14,     2,     0,     0,     0,     0,\n",
       "           0,     0,     0,     0,    31,   343,  8702,  7856,  3315,\n",
       "        2941,  2445,   880,   159,    49,    28,     9,     2,     4,\n",
       "           1,     1,     0,     0,     0,     0,     1,     0,     0,\n",
       "           0,     0,     0,     0,     0,     0,     0,     0,    48,\n",
       "        4523,  6990,  3528,  2241,  1559,  1100,   895,   777,  1191,\n",
       "        1293,   825,   694,   780,   234,    68,    13,     3,     2,\n",
       "           1,     0,     1,     0,     0,     0,     0,     0,     0,\n",
       "           1,     0,     0,     0,     0,     0,     0,     0,  2552,\n",
       "       15429,  6673,  1881,   162,    41,     8,     8,     8,     3,\n",
       "           1,     0,     0,     1,     0,     0,     0,     0,     0,\n",
       "           0,     0,     0,     0,     0,     0,     0,     0,     0,\n",
       "          30,    16,   759,  5182,  4980,  3792,  2621,  1800,  1129,\n",
       "        1097,  1260,  1242,   932,   724,   742,   345,    82,    23,\n",
       "           7,     1,     1,     0,     1,     0,     0,     0,     0,\n",
       "           0,     1,     0,     0,     0,     0,     0,     0,     3,\n",
       "          13,     9,     5,     6,    22,    97,   309,   778,  1408,\n",
       "        2050,  2622,  3379,  3618,  3775,  3022,  2479,  1484,   819,\n",
       "         525,   188,    51,    38,    37,    19,     9,     2,     0,\n",
       "           0,     0,     0,     1,    15,     8,     5,     7,     5,\n",
       "          36,   139,   581,  1116,  1871,  2683,  3396,  4138,  4164,\n",
       "        3188,  2513,  1416,   736,   448,   158,    52,    33,    32,\n",
       "          21,     5,     0,     0,     0,     0,     0,     0,     0,\n",
       "           5,    12,     9,     1,     7,     6,    15,    33,   142,\n",
       "         483,   898,  1497,  2111,  2644,  3298,  3773,  3882,  2761,\n",
       "        2221,  1347,   719,   492,   224,    60,    47,    24,    27,\n",
       "           0,    28,    20,  1844, 18834,  5773,   259,     9,     0,\n",
       "           0,     0,     0,     0,     0,     0,     0,     0,     0,\n",
       "           0,     0,     0,     0,     0,     0,     0,     0,     0,\n",
       "           0,     0,     0,     0,     0,     0,     4,    23,    12,\n",
       "           5,     4,     3,     7,   260,  1055,  2785,  3739,  2869,\n",
       "        2201,  1820,  1525,  1330,   959,   726,   580,   518,   474,\n",
       "         493,   705,  1005,   983,   768,   561,   711,   428,   152,\n",
       "          41,    14,    32,    10,   772,  4234,  4068,  2976,  2030,\n",
       "        1748,  1444,  1056,   791,   655,   554,   456,   465,   422,\n",
       "         393,   417,   520,   942,   841,   520,   565,   597,   209,\n",
       "          33,     2,     0,     0,     0,     1])"
      ]
     },
     "execution_count": 4,
     "metadata": {},
     "output_type": "execute_result"
    }
   ],
   "source": [
    "hist_post"
   ]
  },
  {
   "cell_type": "code",
   "execution_count": 19,
   "id": "241e67d2-8ba6-465d-9ec0-fe0cbec82e42",
   "metadata": {
    "tags": []
   },
   "outputs": [
    {
     "ename": "NotFound",
     "evalue": "404 GET https://storage.googleapis.com/download/storage/v1/b/vgnn/o/histograms%2Fnan_map_True%2Fnorm_True%2F8_buckets_3_bands%2F60%2FBailey_48%2F2016%2F7-8.npy?alt=media: No such object: vgnn/histograms/nan_map_True/norm_True/8_buckets_3_bands/60/Bailey_48/2016/7-8.npy: ('Request failed with status code', 404, 'Expected one of', <HTTPStatus.OK: 200>, <HTTPStatus.PARTIAL_CONTENT: 206>)",
     "output_type": "error",
     "traceback": [
      "\u001b[0;31m---------------------------------------------------------------------------\u001b[0m",
      "\u001b[0;31mInvalidResponse\u001b[0m                           Traceback (most recent call last)",
      "File \u001b[0;32m/opt/conda/envs/gdal_conda/lib/python3.13/site-packages/google/cloud/storage/blob.py:4420\u001b[0m, in \u001b[0;36mBlob._prep_and_do_download\u001b[0;34m(self, file_obj, client, start, end, raw_download, if_etag_match, if_etag_not_match, if_generation_match, if_generation_not_match, if_metageneration_match, if_metageneration_not_match, timeout, checksum, retry, command)\u001b[0m\n\u001b[1;32m   4419\u001b[0m \u001b[38;5;28;01mtry\u001b[39;00m:\n\u001b[0;32m-> 4420\u001b[0m     \u001b[38;5;28;43mself\u001b[39;49m\u001b[38;5;241;43m.\u001b[39;49m\u001b[43m_do_download\u001b[49m\u001b[43m(\u001b[49m\n\u001b[1;32m   4421\u001b[0m \u001b[43m        \u001b[49m\u001b[43mtransport\u001b[49m\u001b[43m,\u001b[49m\n\u001b[1;32m   4422\u001b[0m \u001b[43m        \u001b[49m\u001b[43mfile_obj\u001b[49m\u001b[43m,\u001b[49m\n\u001b[1;32m   4423\u001b[0m \u001b[43m        \u001b[49m\u001b[43mdownload_url\u001b[49m\u001b[43m,\u001b[49m\n\u001b[1;32m   4424\u001b[0m \u001b[43m        \u001b[49m\u001b[43mheaders\u001b[49m\u001b[43m,\u001b[49m\n\u001b[1;32m   4425\u001b[0m \u001b[43m        \u001b[49m\u001b[43mstart\u001b[49m\u001b[43m,\u001b[49m\n\u001b[1;32m   4426\u001b[0m \u001b[43m        \u001b[49m\u001b[43mend\u001b[49m\u001b[43m,\u001b[49m\n\u001b[1;32m   4427\u001b[0m \u001b[43m        \u001b[49m\u001b[43mraw_download\u001b[49m\u001b[43m,\u001b[49m\n\u001b[1;32m   4428\u001b[0m \u001b[43m        \u001b[49m\u001b[43mtimeout\u001b[49m\u001b[38;5;241;43m=\u001b[39;49m\u001b[43mtimeout\u001b[49m\u001b[43m,\u001b[49m\n\u001b[1;32m   4429\u001b[0m \u001b[43m        \u001b[49m\u001b[43mchecksum\u001b[49m\u001b[38;5;241;43m=\u001b[39;49m\u001b[43mchecksum\u001b[49m\u001b[43m,\u001b[49m\n\u001b[1;32m   4430\u001b[0m \u001b[43m        \u001b[49m\u001b[43mretry\u001b[49m\u001b[38;5;241;43m=\u001b[39;49m\u001b[43mretry\u001b[49m\u001b[43m,\u001b[49m\n\u001b[1;32m   4431\u001b[0m \u001b[43m    \u001b[49m\u001b[43m)\u001b[49m\n\u001b[1;32m   4432\u001b[0m \u001b[38;5;28;01mexcept\u001b[39;00m resumable_media\u001b[38;5;241m.\u001b[39mInvalidResponse \u001b[38;5;28;01mas\u001b[39;00m exc:\n",
      "File \u001b[0;32m/opt/conda/envs/gdal_conda/lib/python3.13/site-packages/google/cloud/storage/blob.py:1041\u001b[0m, in \u001b[0;36mBlob._do_download\u001b[0;34m(self, transport, file_obj, download_url, headers, start, end, raw_download, timeout, checksum, retry)\u001b[0m\n\u001b[1;32m   1036\u001b[0m \u001b[38;5;28;01mwith\u001b[39;00m create_trace_span(\n\u001b[1;32m   1037\u001b[0m     name\u001b[38;5;241m=\u001b[39m\u001b[38;5;124mf\u001b[39m\u001b[38;5;124m\"\u001b[39m\u001b[38;5;124mStorage.\u001b[39m\u001b[38;5;132;01m{\u001b[39;00mdownload_class\u001b[38;5;132;01m}\u001b[39;00m\u001b[38;5;124m/consume\u001b[39m\u001b[38;5;124m\"\u001b[39m,\n\u001b[1;32m   1038\u001b[0m     attributes\u001b[38;5;241m=\u001b[39mextra_attributes,\n\u001b[1;32m   1039\u001b[0m     api_request\u001b[38;5;241m=\u001b[39margs,\n\u001b[1;32m   1040\u001b[0m ):\n\u001b[0;32m-> 1041\u001b[0m     response \u001b[38;5;241m=\u001b[39m \u001b[43mdownload\u001b[49m\u001b[38;5;241;43m.\u001b[39;49m\u001b[43mconsume\u001b[49m\u001b[43m(\u001b[49m\u001b[43mtransport\u001b[49m\u001b[43m,\u001b[49m\u001b[43m \u001b[49m\u001b[43mtimeout\u001b[49m\u001b[38;5;241;43m=\u001b[39;49m\u001b[43mtimeout\u001b[49m\u001b[43m)\u001b[49m\n\u001b[1;32m   1042\u001b[0m     \u001b[38;5;28mself\u001b[39m\u001b[38;5;241m.\u001b[39m_extract_headers_from_download(response)\n",
      "File \u001b[0;32m/opt/conda/envs/gdal_conda/lib/python3.13/site-packages/google/resumable_media/requests/download.py:263\u001b[0m, in \u001b[0;36mDownload.consume\u001b[0;34m(self, transport, timeout)\u001b[0m\n\u001b[1;32m    261\u001b[0m     \u001b[38;5;28;01mreturn\u001b[39;00m result\n\u001b[0;32m--> 263\u001b[0m \u001b[38;5;28;01mreturn\u001b[39;00m \u001b[43m_request_helpers\u001b[49m\u001b[38;5;241;43m.\u001b[39;49m\u001b[43mwait_and_retry\u001b[49m\u001b[43m(\u001b[49m\n\u001b[1;32m    264\u001b[0m \u001b[43m    \u001b[49m\u001b[43mretriable_request\u001b[49m\u001b[43m,\u001b[49m\u001b[43m \u001b[49m\u001b[38;5;28;43mself\u001b[39;49m\u001b[38;5;241;43m.\u001b[39;49m\u001b[43m_get_status_code\u001b[49m\u001b[43m,\u001b[49m\u001b[43m \u001b[49m\u001b[38;5;28;43mself\u001b[39;49m\u001b[38;5;241;43m.\u001b[39;49m\u001b[43m_retry_strategy\u001b[49m\n\u001b[1;32m    265\u001b[0m \u001b[43m\u001b[49m\u001b[43m)\u001b[49m\n",
      "File \u001b[0;32m/opt/conda/envs/gdal_conda/lib/python3.13/site-packages/google/resumable_media/requests/_request_helpers.py:155\u001b[0m, in \u001b[0;36mwait_and_retry\u001b[0;34m(func, get_status_code, retry_strategy)\u001b[0m\n\u001b[1;32m    154\u001b[0m \u001b[38;5;28;01mtry\u001b[39;00m:\n\u001b[0;32m--> 155\u001b[0m     response \u001b[38;5;241m=\u001b[39m \u001b[43mfunc\u001b[49m\u001b[43m(\u001b[49m\u001b[43m)\u001b[49m\n\u001b[1;32m    156\u001b[0m \u001b[38;5;28;01mexcept\u001b[39;00m _CONNECTION_ERROR_CLASSES \u001b[38;5;28;01mas\u001b[39;00m e:\n",
      "File \u001b[0;32m/opt/conda/envs/gdal_conda/lib/python3.13/site-packages/google/resumable_media/requests/download.py:245\u001b[0m, in \u001b[0;36mDownload.consume.<locals>.retriable_request\u001b[0;34m()\u001b[0m\n\u001b[1;32m    241\u001b[0m     \u001b[38;5;28mself\u001b[39m\u001b[38;5;241m.\u001b[39m_object_generation \u001b[38;5;241m=\u001b[39m _helpers\u001b[38;5;241m.\u001b[39m_parse_generation_header(\n\u001b[1;32m    242\u001b[0m         result, \u001b[38;5;28mself\u001b[39m\u001b[38;5;241m.\u001b[39m_get_headers\n\u001b[1;32m    243\u001b[0m     )\n\u001b[0;32m--> 245\u001b[0m \u001b[38;5;28;43mself\u001b[39;49m\u001b[38;5;241;43m.\u001b[39;49m\u001b[43m_process_response\u001b[49m\u001b[43m(\u001b[49m\u001b[43mresult\u001b[49m\u001b[43m)\u001b[49m\n\u001b[1;32m    247\u001b[0m \u001b[38;5;66;03m# With decompressive transcoding, GCS serves back the whole file regardless of the range request,\u001b[39;00m\n\u001b[1;32m    248\u001b[0m \u001b[38;5;66;03m# thus we reset the stream position to the start of the stream.\u001b[39;00m\n\u001b[1;32m    249\u001b[0m \u001b[38;5;66;03m# See: https://cloud.google.com/storage/docs/transcoding#range\u001b[39;00m\n",
      "File \u001b[0;32m/opt/conda/envs/gdal_conda/lib/python3.13/site-packages/google/resumable_media/_download.py:188\u001b[0m, in \u001b[0;36mDownload._process_response\u001b[0;34m(self, response)\u001b[0m\n\u001b[1;32m    187\u001b[0m \u001b[38;5;28mself\u001b[39m\u001b[38;5;241m.\u001b[39m_finished \u001b[38;5;241m=\u001b[39m \u001b[38;5;28;01mTrue\u001b[39;00m\n\u001b[0;32m--> 188\u001b[0m \u001b[43m_helpers\u001b[49m\u001b[38;5;241;43m.\u001b[39;49m\u001b[43mrequire_status_code\u001b[49m\u001b[43m(\u001b[49m\n\u001b[1;32m    189\u001b[0m \u001b[43m    \u001b[49m\u001b[43mresponse\u001b[49m\u001b[43m,\u001b[49m\u001b[43m \u001b[49m\u001b[43m_ACCEPTABLE_STATUS_CODES\u001b[49m\u001b[43m,\u001b[49m\u001b[43m \u001b[49m\u001b[38;5;28;43mself\u001b[39;49m\u001b[38;5;241;43m.\u001b[39;49m\u001b[43m_get_status_code\u001b[49m\n\u001b[1;32m    190\u001b[0m \u001b[43m\u001b[49m\u001b[43m)\u001b[49m\n",
      "File \u001b[0;32m/opt/conda/envs/gdal_conda/lib/python3.13/site-packages/google/resumable_media/_helpers.py:108\u001b[0m, in \u001b[0;36mrequire_status_code\u001b[0;34m(response, status_codes, get_status_code, callback)\u001b[0m\n\u001b[1;32m    107\u001b[0m         callback()\n\u001b[0;32m--> 108\u001b[0m     \u001b[38;5;28;01mraise\u001b[39;00m common\u001b[38;5;241m.\u001b[39mInvalidResponse(\n\u001b[1;32m    109\u001b[0m         response,\n\u001b[1;32m    110\u001b[0m         \u001b[38;5;124m\"\u001b[39m\u001b[38;5;124mRequest failed with status code\u001b[39m\u001b[38;5;124m\"\u001b[39m,\n\u001b[1;32m    111\u001b[0m         status_code,\n\u001b[1;32m    112\u001b[0m         \u001b[38;5;124m\"\u001b[39m\u001b[38;5;124mExpected one of\u001b[39m\u001b[38;5;124m\"\u001b[39m,\n\u001b[1;32m    113\u001b[0m         \u001b[38;5;241m*\u001b[39mstatus_codes\n\u001b[1;32m    114\u001b[0m     )\n\u001b[1;32m    115\u001b[0m \u001b[38;5;28;01mreturn\u001b[39;00m status_code\n",
      "\u001b[0;31mInvalidResponse\u001b[0m: ('Request failed with status code', 404, 'Expected one of', <HTTPStatus.OK: 200>, <HTTPStatus.PARTIAL_CONTENT: 206>)",
      "\nDuring handling of the above exception, another exception occurred:\n",
      "\u001b[0;31mNotFound\u001b[0m                                  Traceback (most recent call last)",
      "Cell \u001b[0;32mIn[19], line 4\u001b[0m\n\u001b[1;32m      2\u001b[0m bucket \u001b[38;5;241m=\u001b[39m client\u001b[38;5;241m.\u001b[39mget_bucket(BUCKET)\n\u001b[1;32m      3\u001b[0m hist_blob \u001b[38;5;241m=\u001b[39m bucket\u001b[38;5;241m.\u001b[39mblob(file_name)\n\u001b[0;32m----> 4\u001b[0m content \u001b[38;5;241m=\u001b[39m \u001b[43mhist_blob\u001b[49m\u001b[38;5;241;43m.\u001b[39;49m\u001b[43mdownload_as_bytes\u001b[49m\u001b[43m(\u001b[49m\u001b[43m)\u001b[49m\n\u001b[1;32m      5\u001b[0m binary_data \u001b[38;5;241m=\u001b[39m io\u001b[38;5;241m.\u001b[39mBytesIO(content)\n\u001b[1;32m      6\u001b[0m array \u001b[38;5;241m=\u001b[39m np\u001b[38;5;241m.\u001b[39mload(binary_data)\n",
      "File \u001b[0;32m/opt/conda/envs/gdal_conda/lib/python3.13/contextlib.py:85\u001b[0m, in \u001b[0;36mContextDecorator.__call__.<locals>.inner\u001b[0;34m(*args, **kwds)\u001b[0m\n\u001b[1;32m     82\u001b[0m \u001b[38;5;129m@wraps\u001b[39m(func)\n\u001b[1;32m     83\u001b[0m \u001b[38;5;28;01mdef\u001b[39;00m \u001b[38;5;21minner\u001b[39m(\u001b[38;5;241m*\u001b[39margs, \u001b[38;5;241m*\u001b[39m\u001b[38;5;241m*\u001b[39mkwds):\n\u001b[1;32m     84\u001b[0m     \u001b[38;5;28;01mwith\u001b[39;00m \u001b[38;5;28mself\u001b[39m\u001b[38;5;241m.\u001b[39m_recreate_cm():\n\u001b[0;32m---> 85\u001b[0m         \u001b[38;5;28;01mreturn\u001b[39;00m \u001b[43mfunc\u001b[49m\u001b[43m(\u001b[49m\u001b[38;5;241;43m*\u001b[39;49m\u001b[43margs\u001b[49m\u001b[43m,\u001b[49m\u001b[43m \u001b[49m\u001b[38;5;241;43m*\u001b[39;49m\u001b[38;5;241;43m*\u001b[39;49m\u001b[43mkwds\u001b[49m\u001b[43m)\u001b[49m\n",
      "File \u001b[0;32m/opt/conda/envs/gdal_conda/lib/python3.13/site-packages/google/cloud/storage/blob.py:1469\u001b[0m, in \u001b[0;36mBlob.download_as_bytes\u001b[0;34m(self, client, start, end, raw_download, if_etag_match, if_etag_not_match, if_generation_match, if_generation_not_match, if_metageneration_match, if_metageneration_not_match, timeout, checksum, retry)\u001b[0m\n\u001b[1;32m   1379\u001b[0m \u001b[38;5;250m\u001b[39m\u001b[38;5;124;03m\"\"\"Download the contents of this blob as a bytes object.\u001b[39;00m\n\u001b[1;32m   1380\u001b[0m \n\u001b[1;32m   1381\u001b[0m \u001b[38;5;124;03mIf :attr:`user_project` is set on the bucket, bills the API request\u001b[39;00m\n\u001b[0;32m   (...)\u001b[0m\n\u001b[1;32m   1464\u001b[0m \u001b[38;5;124;03m:raises: :class:`google.cloud.exceptions.NotFound`\u001b[39;00m\n\u001b[1;32m   1465\u001b[0m \u001b[38;5;124;03m\"\"\"\u001b[39;00m\n\u001b[1;32m   1467\u001b[0m string_buffer \u001b[38;5;241m=\u001b[39m BytesIO()\n\u001b[0;32m-> 1469\u001b[0m \u001b[38;5;28;43mself\u001b[39;49m\u001b[38;5;241;43m.\u001b[39;49m\u001b[43m_prep_and_do_download\u001b[49m\u001b[43m(\u001b[49m\n\u001b[1;32m   1470\u001b[0m \u001b[43m    \u001b[49m\u001b[43mstring_buffer\u001b[49m\u001b[43m,\u001b[49m\n\u001b[1;32m   1471\u001b[0m \u001b[43m    \u001b[49m\u001b[43mclient\u001b[49m\u001b[38;5;241;43m=\u001b[39;49m\u001b[43mclient\u001b[49m\u001b[43m,\u001b[49m\n\u001b[1;32m   1472\u001b[0m \u001b[43m    \u001b[49m\u001b[43mstart\u001b[49m\u001b[38;5;241;43m=\u001b[39;49m\u001b[43mstart\u001b[49m\u001b[43m,\u001b[49m\n\u001b[1;32m   1473\u001b[0m \u001b[43m    \u001b[49m\u001b[43mend\u001b[49m\u001b[38;5;241;43m=\u001b[39;49m\u001b[43mend\u001b[49m\u001b[43m,\u001b[49m\n\u001b[1;32m   1474\u001b[0m \u001b[43m    \u001b[49m\u001b[43mraw_download\u001b[49m\u001b[38;5;241;43m=\u001b[39;49m\u001b[43mraw_download\u001b[49m\u001b[43m,\u001b[49m\n\u001b[1;32m   1475\u001b[0m \u001b[43m    \u001b[49m\u001b[43mif_etag_match\u001b[49m\u001b[38;5;241;43m=\u001b[39;49m\u001b[43mif_etag_match\u001b[49m\u001b[43m,\u001b[49m\n\u001b[1;32m   1476\u001b[0m \u001b[43m    \u001b[49m\u001b[43mif_etag_not_match\u001b[49m\u001b[38;5;241;43m=\u001b[39;49m\u001b[43mif_etag_not_match\u001b[49m\u001b[43m,\u001b[49m\n\u001b[1;32m   1477\u001b[0m \u001b[43m    \u001b[49m\u001b[43mif_generation_match\u001b[49m\u001b[38;5;241;43m=\u001b[39;49m\u001b[43mif_generation_match\u001b[49m\u001b[43m,\u001b[49m\n\u001b[1;32m   1478\u001b[0m \u001b[43m    \u001b[49m\u001b[43mif_generation_not_match\u001b[49m\u001b[38;5;241;43m=\u001b[39;49m\u001b[43mif_generation_not_match\u001b[49m\u001b[43m,\u001b[49m\n\u001b[1;32m   1479\u001b[0m \u001b[43m    \u001b[49m\u001b[43mif_metageneration_match\u001b[49m\u001b[38;5;241;43m=\u001b[39;49m\u001b[43mif_metageneration_match\u001b[49m\u001b[43m,\u001b[49m\n\u001b[1;32m   1480\u001b[0m \u001b[43m    \u001b[49m\u001b[43mif_metageneration_not_match\u001b[49m\u001b[38;5;241;43m=\u001b[39;49m\u001b[43mif_metageneration_not_match\u001b[49m\u001b[43m,\u001b[49m\n\u001b[1;32m   1481\u001b[0m \u001b[43m    \u001b[49m\u001b[43mtimeout\u001b[49m\u001b[38;5;241;43m=\u001b[39;49m\u001b[43mtimeout\u001b[49m\u001b[43m,\u001b[49m\n\u001b[1;32m   1482\u001b[0m \u001b[43m    \u001b[49m\u001b[43mchecksum\u001b[49m\u001b[38;5;241;43m=\u001b[39;49m\u001b[43mchecksum\u001b[49m\u001b[43m,\u001b[49m\n\u001b[1;32m   1483\u001b[0m \u001b[43m    \u001b[49m\u001b[43mretry\u001b[49m\u001b[38;5;241;43m=\u001b[39;49m\u001b[43mretry\u001b[49m\u001b[43m,\u001b[49m\n\u001b[1;32m   1484\u001b[0m \u001b[43m\u001b[49m\u001b[43m)\u001b[49m\n\u001b[1;32m   1485\u001b[0m \u001b[38;5;28;01mreturn\u001b[39;00m string_buffer\u001b[38;5;241m.\u001b[39mgetvalue()\n",
      "File \u001b[0;32m/opt/conda/envs/gdal_conda/lib/python3.13/site-packages/google/cloud/storage/blob.py:4433\u001b[0m, in \u001b[0;36mBlob._prep_and_do_download\u001b[0;34m(self, file_obj, client, start, end, raw_download, if_etag_match, if_etag_not_match, if_generation_match, if_generation_not_match, if_metageneration_match, if_metageneration_not_match, timeout, checksum, retry, command)\u001b[0m\n\u001b[1;32m   4420\u001b[0m     \u001b[38;5;28mself\u001b[39m\u001b[38;5;241m.\u001b[39m_do_download(\n\u001b[1;32m   4421\u001b[0m         transport,\n\u001b[1;32m   4422\u001b[0m         file_obj,\n\u001b[0;32m   (...)\u001b[0m\n\u001b[1;32m   4430\u001b[0m         retry\u001b[38;5;241m=\u001b[39mretry,\n\u001b[1;32m   4431\u001b[0m     )\n\u001b[1;32m   4432\u001b[0m \u001b[38;5;28;01mexcept\u001b[39;00m resumable_media\u001b[38;5;241m.\u001b[39mInvalidResponse \u001b[38;5;28;01mas\u001b[39;00m exc:\n\u001b[0;32m-> 4433\u001b[0m     \u001b[43m_raise_from_invalid_response\u001b[49m\u001b[43m(\u001b[49m\u001b[43mexc\u001b[49m\u001b[43m)\u001b[49m\n",
      "File \u001b[0;32m/opt/conda/envs/gdal_conda/lib/python3.13/site-packages/google/cloud/storage/blob.py:4905\u001b[0m, in \u001b[0;36m_raise_from_invalid_response\u001b[0;34m(error)\u001b[0m\n\u001b[1;32m   4901\u001b[0m     error_message \u001b[38;5;241m=\u001b[39m \u001b[38;5;28mstr\u001b[39m(error)\n\u001b[1;32m   4903\u001b[0m message \u001b[38;5;241m=\u001b[39m \u001b[38;5;124mf\u001b[39m\u001b[38;5;124m\"\u001b[39m\u001b[38;5;132;01m{\u001b[39;00mresponse\u001b[38;5;241m.\u001b[39mrequest\u001b[38;5;241m.\u001b[39mmethod\u001b[38;5;132;01m}\u001b[39;00m\u001b[38;5;124m \u001b[39m\u001b[38;5;132;01m{\u001b[39;00mresponse\u001b[38;5;241m.\u001b[39mrequest\u001b[38;5;241m.\u001b[39murl\u001b[38;5;132;01m}\u001b[39;00m\u001b[38;5;124m: \u001b[39m\u001b[38;5;132;01m{\u001b[39;00merror_message\u001b[38;5;132;01m}\u001b[39;00m\u001b[38;5;124m\"\u001b[39m\n\u001b[0;32m-> 4905\u001b[0m \u001b[38;5;28;01mraise\u001b[39;00m exceptions\u001b[38;5;241m.\u001b[39mfrom_http_status(response\u001b[38;5;241m.\u001b[39mstatus_code, message, response\u001b[38;5;241m=\u001b[39mresponse)\n",
      "\u001b[0;31mNotFound\u001b[0m: 404 GET https://storage.googleapis.com/download/storage/v1/b/vgnn/o/histograms%2Fnan_map_True%2Fnorm_True%2F8_buckets_3_bands%2F60%2FBailey_48%2F2016%2F7-8.npy?alt=media: No such object: vgnn/histograms/nan_map_True/norm_True/8_buckets_3_bands/60/Bailey_48/2016/7-8.npy: ('Request failed with status code', 404, 'Expected one of', <HTTPStatus.OK: 200>, <HTTPStatus.PARTIAL_CONTENT: 206>)"
     ]
    }
   ],
   "source": [
    "client = storage.Client()\n",
    "bucket = client.get_bucket(BUCKET)\n",
    "hist_blob = bucket.blob(file_name)\n",
    "content = hist_blob.download_as_bytes()\n",
    "binary_data = io.BytesIO(content)\n",
    "array = np.load(binary_data)"
   ]
  },
  {
   "cell_type": "code",
   "execution_count": 20,
   "id": "8c79f65a-dc4f-4046-8689-ff31708baf00",
   "metadata": {
    "tags": []
   },
   "outputs": [
    {
     "data": {
      "text/plain": [
       "array([    0,    13,    23,   660,  5679, 11719,  7287,  1266,     0,\n",
       "          19,    22,  1045,  7486, 12781,  4855,   488,     0,    15,\n",
       "          19,    95,  2379,  8653, 11293,  3763])"
      ]
     },
     "execution_count": 20,
     "metadata": {},
     "output_type": "execute_result"
    }
   ],
   "source": [
    "array"
   ]
  },
  {
   "cell_type": "code",
   "execution_count": 7,
   "id": "e9bcd8c3-6127-4e56-b858-23e5d2ffe1ac",
   "metadata": {
    "tags": []
   },
   "outputs": [
    {
     "ename": "ValueError",
     "evalue": "cannot reshape array of size 24 into shape (12,32)",
     "output_type": "error",
     "traceback": [
      "\u001b[0;31m---------------------------------------------------------------------------\u001b[0m",
      "\u001b[0;31mValueError\u001b[0m                                Traceback (most recent call last)",
      "Cell \u001b[0;32mIn[7], line 1\u001b[0m\n\u001b[0;32m----> 1\u001b[0m lstm_hist \u001b[38;5;241m=\u001b[39m \u001b[43marray\u001b[49m\u001b[38;5;241;43m.\u001b[39;49m\u001b[43mreshape\u001b[49m\u001b[43m(\u001b[49m\u001b[38;5;28;43mlen\u001b[39;49m\u001b[43m(\u001b[49m\u001b[43mHIST_BINS_LIST\u001b[49m\u001b[43m)\u001b[49m\u001b[43m,\u001b[49m\u001b[43mNUM_BINS\u001b[49m\u001b[43m)\u001b[49m\n\u001b[1;32m      2\u001b[0m lstm_hist\n",
      "\u001b[0;31mValueError\u001b[0m: cannot reshape array of size 24 into shape (12,32)"
     ]
    }
   ],
   "source": [
    "lstm_hist = array.reshape(len(HIST_BINS_LIST),NUM_BINS)\n",
    "lstm_hist"
   ]
  },
  {
   "cell_type": "code",
   "execution_count": 8,
   "id": "c4f6e876-f7ff-4308-8df9-1d85269ba35c",
   "metadata": {
    "tags": []
   },
   "outputs": [
    {
     "ename": "NameError",
     "evalue": "name 'lstm_hist' is not defined",
     "output_type": "error",
     "traceback": [
      "\u001b[0;31m---------------------------------------------------------------------------\u001b[0m",
      "\u001b[0;31mNameError\u001b[0m                                 Traceback (most recent call last)",
      "Cell \u001b[0;32mIn[8], line 1\u001b[0m\n\u001b[0;32m----> 1\u001b[0m \u001b[38;5;28;01mfor\u001b[39;00m y \u001b[38;5;129;01min\u001b[39;00m \u001b[43mlstm_hist\u001b[49m:\n\u001b[1;32m      2\u001b[0m     plt\u001b[38;5;241m.\u001b[39mplot(y)\n\u001b[1;32m      3\u001b[0m plt\u001b[38;5;241m.\u001b[39mshow()\n",
      "\u001b[0;31mNameError\u001b[0m: name 'lstm_hist' is not defined"
     ]
    }
   ],
   "source": [
    "for y in lstm_hist:\n",
    "    plt.plot(y)\n",
    "plt.show()"
   ]
  },
  {
   "cell_type": "code",
   "execution_count": 9,
   "id": "c67bd073-b0de-4fa2-af75-d39d768c1285",
   "metadata": {
    "tags": []
   },
   "outputs": [
    {
     "data": {
      "text/plain": [
       "(3, 8)"
      ]
     },
     "execution_count": 9,
     "metadata": {},
     "output_type": "execute_result"
    }
   ],
   "source": [
    "lstm_hist.shape"
   ]
  },
  {
   "cell_type": "code",
   "execution_count": 21,
   "id": "82599b45-3dc3-46a1-9607-3376249efe3f",
   "metadata": {
    "tags": []
   },
   "outputs": [],
   "source": [
    "skip_nan = True\n",
    "normalise = True\n",
    "idx = 0\n",
    "bins = HIST_BINS_LIST[idx]\n",
    "blob_name = image_name + \".tif\"\n",
    "storage_client = storage.Client()\n",
    "blob = storage_client.bucket(BUCKET).blob(blob_name)\n",
    "band = SELECTED_BANDS[idx]\n",
    "with blob.open(\"rb\") as f:\n",
    "    with rasterio.open(f) as src:\n",
    "\n",
    "        data = src.read(band).flatten()\n",
    "        na_mask = np.isnan(data)\n",
    "\n",
    "        if skip_nan == False:\n",
    "            data[na_mask] = 0.0\n",
    "            valid_data = data\n",
    "        else:\n",
    "            valid_data = data[~na_mask]\n",
    "\n",
    "        if normalise:\n",
    "            valid_data = valid_data / REFLECTANCE_CONST\n",
    "            bins = bins / REFLECTANCE_CONST\n",
    "\n",
    "        valid_max = np.max(valid_data)\n",
    "        valid_min = np.min(valid_data)\n",
    "\n",
    "        if valid_max > bins[-1]:\n",
    "            logging.warning(\n",
    "                f\"image: {blob_name}, band: {band}, {valid_max} value is larger than assumed possible values for this band: {bins[-1]}\"\n",
    "            )\n",
    "        elif valid_min < bins[0]:\n",
    "            logging.warning(\n",
    "                f\"image: {blob_name}, band: {band}, {valid_min} value is smaller than assumed possible values for this band {bins[0]}\"\n",
    "            )\n",
    "\n",
    "        if valid_data.size > 0:\n",
    "            total_sum = np.sum(valid_data)\n",
    "            total_count = valid_data.size\n",
    "            mean = total_sum / total_count\n",
    "            hist, _ = np.histogram(valid_data, bins=bins, density=False)\n",
    "        else:\n",
    "            logging.error(f\"image: {blob_name}, band: {band} has 0 valid pixels. Investigate\")\n",
    "            mean = np.nan\n",
    "            hist = np.zeros_like(\n",
    "                bins[:-1]\n",
    "            ) "
   ]
  },
  {
   "cell_type": "code",
   "execution_count": 22,
   "id": "ae3afaed-ac1a-4c41-86e3-75000e38bef0",
   "metadata": {
    "tags": []
   },
   "outputs": [
    {
     "data": {
      "text/plain": [
       "array([    0,     0,     0,     0,     0,     0,  2552, 15429,  6673,\n",
       "        1881,   162,    41,     8,     8,     8,     3,     1,     0,\n",
       "           0,     1,     0,     0,     0,     0,     0,     0,     0,\n",
       "           0,     0,     0,     0,     0])"
      ]
     },
     "execution_count": 22,
     "metadata": {},
     "output_type": "execute_result"
    }
   ],
   "source": [
    "hist"
   ]
  },
  {
   "cell_type": "code",
   "execution_count": 24,
   "id": "69f11e75-5579-40d2-b194-5c6157ab01d9",
   "metadata": {
    "tags": []
   },
   "outputs": [
    {
     "data": {
      "text/plain": [
       "array([0.00000000e+00, 0.00000000e+00, 0.00000000e+00, 0.00000000e+00,\n",
       "       0.00000000e+00, 0.00000000e+00, 9.53412784e-02, 5.76418725e-01,\n",
       "       2.49299511e-01, 7.02730975e-02, 6.05222849e-03, 1.53173684e-03,\n",
       "       2.98875481e-04, 2.98875481e-04, 2.98875481e-04, 1.12078305e-04,\n",
       "       3.73594351e-05, 0.00000000e+00, 0.00000000e+00, 3.73594351e-05,\n",
       "       0.00000000e+00, 0.00000000e+00, 0.00000000e+00, 0.00000000e+00,\n",
       "       0.00000000e+00, 0.00000000e+00, 0.00000000e+00, 0.00000000e+00,\n",
       "       0.00000000e+00, 0.00000000e+00, 0.00000000e+00, 0.00000000e+00])"
      ]
     },
     "execution_count": 24,
     "metadata": {},
     "output_type": "execute_result"
    }
   ],
   "source": [
    "hist / valid_data.size"
   ]
  },
  {
   "cell_type": "markdown",
   "id": "6e89fc47",
   "metadata": {},
   "source": [
    "#### List of histograms combined into one"
   ]
  },
  {
   "cell_type": "code",
   "execution_count": 2,
   "id": "2ecd880b",
   "metadata": {
    "tags": []
   },
   "outputs": [
    {
     "ename": "NameError",
     "evalue": "name 'storage' is not defined",
     "output_type": "error",
     "traceback": [
      "\u001b[0;31m---------------------------------------------------------------------------\u001b[0m",
      "\u001b[0;31mNameError\u001b[0m                                 Traceback (most recent call last)",
      "Cell \u001b[0;32mIn[2], line 5\u001b[0m\n\u001b[1;32m      1\u001b[0m file_names \u001b[38;5;241m=\u001b[39m [\u001b[38;5;124m\"\u001b[39m\u001b[38;5;124mhistograms/nan_map_True/norm_True/8_buckets_3_bands/60/Bailey_48/2016/5-6.npy\u001b[39m\u001b[38;5;124m\"\u001b[39m,\n\u001b[1;32m      2\u001b[0m              \u001b[38;5;124m\"\u001b[39m\u001b[38;5;124mhistograms/nan_map_True/norm_True/8_buckets_3_bands/60/Bailey_48/2016/7-8.npy\u001b[39m\u001b[38;5;124m\"\u001b[39m,\n\u001b[1;32m      3\u001b[0m              \u001b[38;5;124m\"\u001b[39m\u001b[38;5;124mhistograms/nan_map_True/norm_True/8_buckets_3_bands/60/Bailey_48/2016/9-10.npy\u001b[39m\u001b[38;5;124m\"\u001b[39m]\n\u001b[0;32m----> 5\u001b[0m client \u001b[38;5;241m=\u001b[39m \u001b[43mstorage\u001b[49m\u001b[38;5;241m.\u001b[39mClient()\n\u001b[1;32m      6\u001b[0m bucket \u001b[38;5;241m=\u001b[39m client\u001b[38;5;241m.\u001b[39mget_bucket(BUCKET)\n",
      "\u001b[0;31mNameError\u001b[0m: name 'storage' is not defined"
     ]
    }
   ],
   "source": [
    "file_names = [\"histograms/nan_map_True/norm_True/8_buckets_3_bands/60/Bailey_48/2016/5-6.npy\",\n",
    "             \"histograms/nan_map_True/norm_True/8_buckets_3_bands/60/Bailey_48/2016/7-8.npy\",\n",
    "             \"histograms/nan_map_True/norm_True/8_buckets_3_bands/60/Bailey_48/2016/9-10.npy\"]\n",
    "\n",
    "client = storage.Client()\n",
    "bucket = client.get_bucket(BUCKET)"
   ]
  },
  {
   "cell_type": "code",
   "execution_count": 10,
   "id": "332be329",
   "metadata": {},
   "outputs": [],
   "source": [
    "hist_per_blob = []\n",
    "\n",
    "for file_name in file_names:\n",
    "    hist_blob = bucket.blob(file_name)\n",
    "    content = hist_blob.download_as_bytes()\n",
    "    binary_data = io.BytesIO(content)\n",
    "    array = np.load(binary_data)\n",
    "    hist_per_blob.append(array)\n"
   ]
  },
  {
   "cell_type": "code",
   "execution_count": 1,
   "id": "17d5b933",
   "metadata": {
    "tags": []
   },
   "outputs": [
    {
     "ename": "NameError",
     "evalue": "name 'np' is not defined",
     "output_type": "error",
     "traceback": [
      "\u001b[0;31m---------------------------------------------------------------------------\u001b[0m",
      "\u001b[0;31mNameError\u001b[0m                                 Traceback (most recent call last)",
      "Cell \u001b[0;32mIn[1], line 1\u001b[0m\n\u001b[0;32m----> 1\u001b[0m hist_per_blob \u001b[38;5;241m=\u001b[39m \u001b[43mnp\u001b[49m\u001b[38;5;241m.\u001b[39marray(hist_per_blob)\n\u001b[1;32m      2\u001b[0m hist_per_blob\u001b[38;5;241m.\u001b[39mshape\n",
      "\u001b[0;31mNameError\u001b[0m: name 'np' is not defined"
     ]
    }
   ],
   "source": [
    "hist_per_blob = np.array(hist_per_blob)\n",
    "hist_per_blob.shape"
   ]
  },
  {
   "cell_type": "code",
   "execution_count": 17,
   "id": "9203ccf6",
   "metadata": {},
   "outputs": [
    {
     "data": {
      "text/plain": [
       "array([[    1,   117,   231,   832,  5365, 14727,  4987,   413,     2,\n",
       "          120,   428,  1928, 12437, 10440,  1238,   137,     2,   125,\n",
       "          460,  2036, 13586,  9566,   861,   122],\n",
       "       [    0,    13,    23,   660,  5679, 11719,  7287,  1266,     0,\n",
       "           19,    22,  1045,  7486, 12781,  4855,   488,     0,    15,\n",
       "           19,    95,  2379,  8653, 11293,  3763],\n",
       "       [    1,     3,  1898,  8255, 11133,  4814,   491,   105,     2,\n",
       "            3,  2078,  8476, 11367,  4334,   364,   112,     2,     1,\n",
       "          689,  5198, 10252,  8798,  1518,   192]], dtype=int64)"
      ]
     },
     "execution_count": 17,
     "metadata": {},
     "output_type": "execute_result"
    }
   ],
   "source": [
    "hist_per_blob\n"
   ]
  },
  {
   "cell_type": "code",
   "execution_count": 20,
   "id": "26685994",
   "metadata": {},
   "outputs": [
    {
     "data": {
      "text/plain": [
       "array([    2,   133,  2152,  9747, 22177, 31260, 12765,  1784,     4,\n",
       "         142,  2528, 11449, 31290, 27555,  6457,   737,     4,   141,\n",
       "        1168,  7329, 26217, 27017, 13672,  4077], dtype=int64)"
      ]
     },
     "execution_count": 20,
     "metadata": {},
     "output_type": "execute_result"
    }
   ],
   "source": [
    "# case when one histogram is split into multiple files\n",
    "np.sum(hist_per_blob, axis=0)"
   ]
  },
  {
   "cell_type": "markdown",
   "id": "2e71a747",
   "metadata": {},
   "source": [
    "### Numpy array to dataset"
   ]
  },
  {
   "cell_type": "markdown",
   "id": "2c3bf8ce",
   "metadata": {},
   "source": []
  }
 ],
 "metadata": {
  "environment": {
   "kernel": "conda-env-gdal_conda-gdal_conda",
   "name": "workbench-notebooks.m125",
   "type": "gcloud",
   "uri": "us-docker.pkg.dev/deeplearning-platform-release/gcr.io/workbench-notebooks:m125"
  },
  "kernelspec": {
   "display_name": "GDAL_kernel (Local)",
   "language": "python",
   "name": "conda-env-gdal_conda-gdal_conda"
  },
  "language_info": {
   "codemirror_mode": {
    "name": "ipython",
    "version": 3
   },
   "file_extension": ".py",
   "mimetype": "text/x-python",
   "name": "python",
   "nbconvert_exporter": "python",
   "pygments_lexer": "ipython3",
   "version": "3.13.0"
  }
 },
 "nbformat": 4,
 "nbformat_minor": 5
}
